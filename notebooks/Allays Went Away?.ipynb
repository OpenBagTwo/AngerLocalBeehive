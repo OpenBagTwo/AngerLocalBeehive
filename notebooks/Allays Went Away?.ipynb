{
 "cells": [
  {
   "cell_type": "markdown",
   "id": "c713b4fe-992f-40d8-84a3-7c13785c62cc",
   "metadata": {},
   "source": [
    "# Allays Went Away?\n",
    "\n",
    "I freed a pair of Allays. I checked--I didn't kill them. But I also can't find them anywhere. My guess is either they're hiding or a Pillager got 'em."
   ]
  },
  {
   "cell_type": "markdown",
   "id": "1168f43a-d9f1-4646-89b7-c830a9faf5cf",
   "metadata": {},
   "source": [
    "## Imports, Setup and Macros"
   ]
  },
  {
   "cell_type": "code",
   "execution_count": 41,
   "id": "744749c1-dbb5-4490-9919-956f476f72f3",
   "metadata": {},
   "outputs": [],
   "source": [
    "import json\n",
    "from os import environ\n",
    "from pathlib import Path\n",
    "from typing import Any, Collection, Dict\n",
    "\n",
    "import mutf8\n",
    "import pandas as pd\n",
    "from IPython.display import Markdown, display\n",
    "from nbt import nbt, region"
   ]
  },
  {
   "cell_type": "code",
   "execution_count": 42,
   "id": "c0358f20-d750-4765-baeb-2bf2c1a092f4",
   "metadata": {},
   "outputs": [],
   "source": [
    "def format_file_size(path: Path) -> str:\n",
    "    \"\"\"Print the size of the specified file in\n",
    "    human-readible form (KB / MB / GB)\n",
    "\n",
    "    Parameters\n",
    "    ----------\n",
    "    path : Path\n",
    "        The path to the file\n",
    "\n",
    "    Returns\n",
    "    -------\n",
    "    str\n",
    "        A prettily formatted file size\n",
    "\n",
    "    Notes\n",
    "    -----\n",
    "    I would be shocked if there isn't a utility already built\n",
    "    into the standard library to do this, but all I could find\n",
    "    via Googling was a bunch of recipes and examples\n",
    "    \"\"\"\n",
    "    size = path.stat().st_size  # in bytes\n",
    "    for unit in (\"B\", \"KB\", \"MB\", \"GB\"):\n",
    "        if size < 1024 / 2:\n",
    "            return f\"{size:.1f} {unit}\"\n",
    "        size = size / 1024\n",
    "    return f\"{size} TB\""
   ]
  },
  {
   "cell_type": "code",
   "execution_count": 43,
   "id": "0ae7c097-9dd2-473a-aded-54065d283371",
   "metadata": {},
   "outputs": [],
   "source": [
    "def summarize_keystore(keystore: Dict[str, Any]) -> None:\n",
    "    \"\"\"Display a summary of the contents of a key-value store\n",
    "\n",
    "    Parameters\n",
    "    ----------\n",
    "    keystore : dict\n",
    "        The keystore to summarize\n",
    "\n",
    "    Returns\n",
    "    -------\n",
    "    None\n",
    "    \"\"\"\n",
    "\n",
    "    def _summarize_keystore(keystore: Dict[str, Any]) -> str:\n",
    "        summary = \"\"\n",
    "        for k, v in keystore.items():\n",
    "            summary += f\"\\n - `{k}` : \"\n",
    "            if isinstance(v, (str, nbt.TAG_String)):\n",
    "                summary += f'`\"{v}\"`'\n",
    "            elif not isinstance(v, Collection):\n",
    "                summary += f\"`{str(v)}`\"\n",
    "            else:\n",
    "                length = len(v)\n",
    "                if 0 < length < 3:\n",
    "                    summary += \"\\n\"\n",
    "                    if not isinstance(v, Dict):\n",
    "                        v = {i: item for i, item in enumerate(v)}\n",
    "                    summary += \"\\n\".join(\n",
    "                        (f\"\\t{line}\" for line in _summarize_keystore(v).split(\"\\n\"))\n",
    "                    )\n",
    "                else:\n",
    "                    summary += f\"({len(v)} items)\"\n",
    "        return summary\n",
    "\n",
    "    display(Markdown(_summarize_keystore(keystore)))"
   ]
  },
  {
   "cell_type": "code",
   "execution_count": 44,
   "id": "f96e63f2-e71a-444d-88c4-89bd629d3cb1",
   "metadata": {},
   "outputs": [
    {
     "name": "stdout",
     "output_type": "stream",
     "text": [
      "- DIM-1 (folder)\n",
      "- DIM1 (folder)\n",
      "- advancements (folder)\n",
      "- data (folder)\n",
      "- datapacks (folder)\n",
      "- entities (folder)\n",
      "- icon.png (8.6 KB)\n",
      "- level.dat (14.7 KB)\n",
      "- level.dat_old (14.7 KB)\n",
      "- level11326231134829879582.dat (0.0 B)\n",
      "- level14927678268100607923.dat (0.0 B)\n",
      "- level1786655981796876926.dat (0.0 B)\n",
      "- level4463453738642305340.dat (0.0 B)\n",
      "- level6425531070021529407.dat (0.0 B)\n",
      "- level7443636089696258371.dat (0.0 B)\n",
      "- level8832581565660323154.dat (0.0 B)\n",
      "- playerdata (folder)\n",
      "- poi (folder)\n",
      "- region (folder)\n",
      "- serverconfig (folder)\n",
      "- session.lock (3.0 B)\n",
      "- stats (folder)\n"
     ]
    }
   ],
   "source": [
    "save_folder = Path(environ[\"SAVE_PATH\"])\n",
    "\n",
    "# make sure this is set correctly\n",
    "for path in sorted(save_folder.glob(\"*\")):\n",
    "    print(f\"- {path.name} ({'folder' if path.is_dir() else format_file_size(path)})\")"
   ]
  },
  {
   "cell_type": "markdown",
   "id": "6c2839db-d076-4b53-9e1d-e5ce3018109b",
   "metadata": {},
   "source": [
    "## Find The Allays"
   ]
  },
  {
   "cell_type": "code",
   "execution_count": 45,
   "id": "e862531e-293c-4dd5-bb86-4679e5faea27",
   "metadata": {},
   "outputs": [
    {
     "name": "stdout",
     "output_type": "stream",
     "text": [
      " - Found Allay at (3807, 66, -80)\n",
      " - Found Allay at (3900, 67, 105)\n",
      "CPU times: user 6 s, sys: 300 ms, total: 6.3 s\n",
      "Wall time: 6.31 s\n"
     ]
    }
   ],
   "source": [
    "%%time\n",
    "allays = []\n",
    "for path in (save_folder / \"entities\").glob(\"*\"):\n",
    "    region_data = region.RegionFile(path)\n",
    "    for chunk in region_data.iter_chunks():\n",
    "        for entity in chunk[\"Entities\"]:\n",
    "            if entity[\"id\"].value == \"minecraft:allay\":\n",
    "                position = \", \".join((str(int(coord.value)) for coord in entity[\"Pos\"]))\n",
    "                print(f\" - Found Allay at ({position})\")\n",
    "                allays.append(entity)"
   ]
  },
  {
   "cell_type": "markdown",
   "id": "8c1da355-d8bc-4a2c-96cf-47db1cef16dc",
   "metadata": {},
   "source": [
    "### Hrm. And where am I?"
   ]
  },
  {
   "cell_type": "code",
   "execution_count": 46,
   "id": "8a3be1b0-1fab-418b-a6cf-8f080a25bb74",
   "metadata": {},
   "outputs": [],
   "source": [
    "level_data = level = nbt.NBTFile(save_folder / \"level.dat\")"
   ]
  },
  {
   "cell_type": "code",
   "execution_count": 47,
   "id": "e988f789-d6ce-4123-a685-f973582733ab",
   "metadata": {},
   "outputs": [
    {
     "name": "stdout",
     "output_type": "stream",
     "text": [
      "(4086, 63, 49)\n"
     ]
    }
   ],
   "source": [
    "position = \", \".join(\n",
    "    (str(int(coord.value)) for coord in level[\"Data\"][\"Player\"][\"Pos\"])\n",
    ")\n",
    "print(f\"({position})\")"
   ]
  },
  {
   "cell_type": "markdown",
   "id": "64e33bc0-c80b-4cca-9064-e3edf831a4ab",
   "metadata": {},
   "source": [
    "Oh, okay. So they vamoosed right on out of there.\n",
    "\n",
    "Are they okay?"
   ]
  },
  {
   "cell_type": "code",
   "execution_count": 48,
   "id": "acdfadef-e885-4123-81f0-7d7dba96819b",
   "metadata": {},
   "outputs": [
    {
     "data": {
      "text/markdown": [
       "\n",
       " - `DeathTime` : `0`\n",
       " - `LeftHanded` : `0`\n",
       " - `OnGround` : `0`\n",
       " - `AbsorptionAmount` : `0.0`\n",
       " - `Attributes` : \n",
       "\t\n",
       "\t - `0` : \n",
       "\t\t\n",
       "\t\t - `0` : `\"Name\"`\n",
       "\t\t - `1` : `\"Base\"`\n",
       "\t - `1` : (3 items)\n",
       " - `Invulnerable` : `0`\n",
       " - `Brain` : \n",
       "\t\n",
       "\t - `0` : `\"memories\"`\n",
       " - `HandDropChances` : \n",
       "\t\n",
       "\t - `0` : `0.08500000089406967`\n",
       "\t - `1` : `0.08500000089406967`\n",
       " - `Rotation` : \n",
       "\t\n",
       "\t - `0` : `105.79444885253906`\n",
       "\t - `1` : `0.0`\n",
       " - `ArmorDropChances` : (4 items)\n",
       " - `HurtByTimestamp` : `0`\n",
       " - `ArmorItems` : (4 items)\n",
       " - `listener` : (4 items)\n",
       " - `Air` : `300`\n",
       " - `HandItems` : \n",
       "\t\n",
       "\t - `0` : (0 items)\n",
       "\t - `1` : (0 items)\n",
       " - `UUID` : (4 items)\n",
       " - `Inventory` : (0 items)\n",
       " - `FallDistance` : `0.0`\n",
       " - `NoGravity` : `1`\n",
       " - `id` : `\"minecraft:allay\"`\n",
       " - `Motion` : (3 items)\n",
       " - `Fire` : `-1`\n",
       " - `Pos` : (3 items)\n",
       " - `CanPickUpLoot` : `0`\n",
       " - `Health` : `20.0`\n",
       " - `HurtTime` : `0`\n",
       " - `FallFlying` : `0`\n",
       " - `PersistenceRequired` : `1`\n",
       " - `PortalCooldown` : `0`"
      ],
      "text/plain": [
       "<IPython.core.display.Markdown object>"
      ]
     },
     "metadata": {},
     "output_type": "display_data"
    }
   ],
   "source": [
    "summarize_keystore(allays[0])"
   ]
  },
  {
   "cell_type": "code",
   "execution_count": 49,
   "id": "c7a6c34e-c5ef-4d53-bbd9-f49b75b57621",
   "metadata": {},
   "outputs": [
    {
     "data": {
      "text/plain": [
       "0"
      ]
     },
     "execution_count": 49,
     "metadata": {},
     "output_type": "execute_result"
    }
   ],
   "source": [
    "allays[1][\"HurtTime\"].value"
   ]
  },
  {
   "cell_type": "code",
   "execution_count": 50,
   "id": "12f93d19-bf8f-4b1a-b049-1d3ace83329a",
   "metadata": {},
   "outputs": [
    {
     "data": {
      "text/plain": [
       "20.0"
      ]
     },
     "execution_count": 50,
     "metadata": {},
     "output_type": "execute_result"
    }
   ],
   "source": [
    "allays[1][\"Health\"].value"
   ]
  },
  {
   "cell_type": "markdown",
   "id": "287b9792-a02b-49cd-9516-6576253cd6d8",
   "metadata": {},
   "source": [
    "Hmm... full health. I wonder...\n",
    "\n",
    "## Could it be [IndyPets](https://www.curseforge.com/minecraft/mc-mods/indypets)?\n",
    "\n",
    "Looking at [the source code](https://github.com/Fourmisain/IndyPets/blob/e5d8f9f35fcc56585053ccb6fe1b6b2d5c985cdc/src/main/java/com/lizin5ths/indypets/mixin/TameableEntityMixin.java#L44-L47), I believe I'm looking for an NBT tag called \"AllowedToFollow\"... which I don't see, but maybe it's hidden somewhere?"
   ]
  },
  {
   "cell_type": "code",
   "execution_count": 51,
   "id": "fbf77e7b-97bb-4029-a651-35cd9b850844",
   "metadata": {},
   "outputs": [
    {
     "data": {
      "text/markdown": [
       "\n",
       " - `Name` : `\"minecraft:generic.movement_speed\"`\n",
       " - `Base` : `0.30000001192092896`"
      ],
      "text/plain": [
       "<IPython.core.display.Markdown object>"
      ]
     },
     "metadata": {},
     "output_type": "display_data"
    }
   ],
   "source": [
    "summarize_keystore(allays[0][\"Attributes\"][0])"
   ]
  },
  {
   "cell_type": "code",
   "execution_count": 52,
   "id": "b32c0fc6-649e-4105-9f94-6db549f56b11",
   "metadata": {},
   "outputs": [
    {
     "data": {
      "text/markdown": [
       "\n",
       " - `Name` : `\"minecraft:generic.follow_range\"`\n",
       " - `Modifiers` : \n",
       "\t\n",
       "\t - `0` : (4 items)\n",
       "\t - `1` : (4 items)\n",
       " - `Base` : `48.0`"
      ],
      "text/plain": [
       "<IPython.core.display.Markdown object>"
      ]
     },
     "metadata": {},
     "output_type": "display_data"
    }
   ],
   "source": [
    "summarize_keystore(allays[0][\"Attributes\"][1])"
   ]
  },
  {
   "cell_type": "markdown",
   "id": "2c029f80-9887-4c7c-b4f2-2f00380cc073",
   "metadata": {},
   "source": [
    "Well that's interesting... and I'm definitely not within 48m."
   ]
  },
  {
   "cell_type": "markdown",
   "id": "51f641df-23fa-49b9-9e67-ed6fcde95381",
   "metadata": {},
   "source": [
    "## Compare a Known Pet"
   ]
  },
  {
   "cell_type": "code",
   "execution_count": 53,
   "id": "628d51ef-c996-419e-8e65-69e605b9b1e2",
   "metadata": {},
   "outputs": [
    {
     "data": {
      "text/markdown": [
       "\n",
       " - `LoveCause` : (4 items)\n",
       " - `DeathTime` : `0`\n",
       " - `AllowedToFollow` : `0`\n",
       " - `LeftHanded` : `1`\n",
       " - `OnGround` : `1`\n",
       " - `AbsorptionAmount` : `0.0`\n",
       " - `Attributes` : (7 items)\n",
       " - `Invulnerable` : `0`\n",
       " - `Brain` : \n",
       "\t\n",
       "\t - `0` : `\"memories\"`\n",
       " - `Sitting` : `1`\n",
       " - `Owner` : (4 items)\n",
       " - `Age` : `0`\n",
       " - `HandDropChances` : \n",
       "\t\n",
       "\t - `0` : `0.08500000089406967`\n",
       "\t - `1` : `0.08500000089406967`\n",
       " - `ArmorDropChances` : (4 items)\n",
       " - `Rotation` : \n",
       "\t\n",
       "\t - `0` : `194.03622436523438`\n",
       "\t - `1` : `0.0`\n",
       " - `HurtByTimestamp` : `0`\n",
       " - `ForcedAge` : `0`\n",
       " - `CustomName` : `\"{\"text\":\"Datum\"}\"`\n",
       " - `ArmorItems` : (4 items)\n",
       " - `Air` : `300`\n",
       " - `HandItems` : \n",
       "\t\n",
       "\t - `0` : (0 items)\n",
       "\t - `1` : (0 items)\n",
       " - `UUID` : (4 items)\n",
       " - `CollarColor` : `1`\n",
       " - `InLove` : `0`\n",
       " - `FallDistance` : `0.0`\n",
       " - `id` : `\"minecraft:cat\"`\n",
       " - `Motion` : (3 items)\n",
       " - `Fire` : `-1`\n",
       " - `Pos` : (3 items)\n",
       " - `CanPickUpLoot` : `0`\n",
       " - `Health` : `10.0`\n",
       " - `HurtTime` : `0`\n",
       " - `FallFlying` : `0`\n",
       " - `PersistenceRequired` : `1`\n",
       " - `PortalCooldown` : `0`\n",
       " - `variant` : `\"minecraft:calico\"`"
      ],
      "text/plain": [
       "<IPython.core.display.Markdown object>"
      ]
     },
     "metadata": {},
     "output_type": "display_data"
    },
    {
     "name": "stdout",
     "output_type": "stream",
     "text": [
      "CPU times: user 5.66 s, sys: 276 ms, total: 5.93 s\n",
      "Wall time: 5.94 s\n"
     ]
    }
   ],
   "source": [
    "%%time\n",
    "for path in (save_folder / \"entities\").glob(\"*\"):\n",
    "    region_data = region.RegionFile(path)\n",
    "    for chunk in region_data.iter_chunks():\n",
    "        for entity in chunk[\"Entities\"]:\n",
    "            if entity[\"id\"].value == \"minecraft:cat\":\n",
    "                try:\n",
    "                    name = json.loads(entity[\"CustomName\"].value)[\"text\"]\n",
    "                    if name == \"Datum\":\n",
    "                        datum = entity\n",
    "                        break\n",
    "                except KeyError:\n",
    "                    pass\n",
    "\n",
    "        else:\n",
    "            continue\n",
    "    else:\n",
    "        continue\n",
    "summarize_keystore(datum)"
   ]
  },
  {
   "cell_type": "markdown",
   "id": "afe48132-75de-467e-9899-3868c88772bf",
   "metadata": {},
   "source": [
    "Okay, so my kitty _explicitly_ has an \"AllowedToFollow\" of `False`. Which, from [this line](https://github.com/Fourmisain/IndyPets/blob/e5d8f9f35fcc56585053ccb6fe1b6b2d5c985cdc/src/main/java/com/lizin5ths/indypets/mixin/FollowOwnerGoalMixin.java#L31-L32), means Datum shouldn't follow me around if I let him get up.\n",
    "\n",
    "So if this value is undefined for the Allay, it is _possible_ that [`NbtCompound.getBoolean(\"AllowedToFollow\")`](https://github.com/Fourmisain/IndyPets/blob/e5d8f9f35fcc56585053ccb6fe1b6b2d5c985cdc/src/main/java/com/lizin5ths/indypets/mixin/TameableEntityMixin.java#L46) returns `False` if the NBT data does not contain a value for \"AllowedToFollow\"... In any case, if I want to make _absolutely sure_ that Allays don't just run off on me going forward, [the blocklist](https://github.com/Fourmisain/IndyPets/blob/e5d8f9f35fcc56585053ccb6fe1b6b2d5c985cdc/src/main/java/com/lizin5ths/indypets/mixin/MobEntityMixin.java#L43-L44) seems like a safe way to do that."
   ]
  }
 ],
 "metadata": {
  "kernelspec": {
   "display_name": "Python 3 (ipykernel)",
   "language": "python",
   "name": "python3"
  },
  "language_info": {
   "codemirror_mode": {
    "name": "ipython",
    "version": 3
   },
   "file_extension": ".py",
   "mimetype": "text/x-python",
   "name": "python",
   "nbconvert_exporter": "python",
   "pygments_lexer": "ipython3",
   "version": "3.10.2"
  }
 },
 "nbformat": 4,
 "nbformat_minor": 5
}
