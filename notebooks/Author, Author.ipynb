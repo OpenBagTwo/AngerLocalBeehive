{
 "cells": [
  {
   "cell_type": "markdown",
   "id": "e97eb19e-14d2-4ab5-82b9-4f6c4d7a5d5f",
   "metadata": {},
   "source": [
    "# Modifying Book Data\n",
    "\n",
    "I wrote a book, but I want to attribute it to someone else."
   ]
  },
  {
   "cell_type": "code",
   "execution_count": 1,
   "id": "3541909f-9cb3-4a28-8c1f-717d279fb1a8",
   "metadata": {},
   "outputs": [],
   "source": [
    "import json\n",
    "from concurrent.futures import ProcessPoolExecutor, as_completed\n",
    "from os import environ\n",
    "from pathlib import Path\n",
    "from typing import Any, Collection, Dict\n",
    "\n",
    "import mutf8\n",
    "import pandas as pd\n",
    "from IPython.display import Markdown, display\n",
    "from nbt import nbt, region"
   ]
  },
  {
   "cell_type": "code",
   "execution_count": 2,
   "id": "27fb8e62-2a85-4d48-a102-df12a6a8a055",
   "metadata": {},
   "outputs": [],
   "source": [
    "save_folder = Path(environ[\"SAVE_PATH\"])"
   ]
  },
  {
   "cell_type": "code",
   "execution_count": 3,
   "id": "7e34ad90-4460-4985-afa6-8f5cc07951eb",
   "metadata": {},
   "outputs": [],
   "source": [
    "def summarize_keystore(keystore: Dict[str, Any]) -> None:\n",
    "    \"\"\"Display a summary of the contents of a key-value store\n",
    "\n",
    "    Parameters\n",
    "    ----------\n",
    "    keystore : dict\n",
    "        The keystore to summarize\n",
    "\n",
    "    Returns\n",
    "    -------\n",
    "    None\n",
    "    \"\"\"\n",
    "\n",
    "    def _summarize_keystore(keystore: Dict[str, Any]) -> str:\n",
    "        summary = \"\"\n",
    "        for k, v in keystore.items():\n",
    "            summary += f\"\\n - `{k}` : \"\n",
    "            if isinstance(v, (str, nbt.TAG_String)):\n",
    "                summary += f'`\"{v}\"`'\n",
    "            elif not isinstance(v, Collection):\n",
    "                summary += f\"`{str(v)}`\"\n",
    "            else:\n",
    "                length = len(v)\n",
    "                if 0 < length < 3:\n",
    "                    summary += \"\\n\"\n",
    "                    if not isinstance(v, Dict):\n",
    "                        v = {i: item for i, item in enumerate(v)}\n",
    "                    summary += \"\\n\".join(\n",
    "                        (f\"\\t{line}\" for line in _summarize_keystore(v).split(\"\\n\"))\n",
    "                    )\n",
    "                else:\n",
    "                    summary += f\"({len(v)} items)\"\n",
    "        return summary\n",
    "\n",
    "    display(Markdown(_summarize_keystore(keystore)))"
   ]
  },
  {
   "cell_type": "markdown",
   "id": "5d4bd826-15cd-46c6-bd40-80869f054809",
   "metadata": {},
   "source": [
    "## Get My Inventory\n",
    "\n",
    "Start by loading my player data"
   ]
  },
  {
   "cell_type": "code",
   "execution_count": 4,
   "id": "d7ede6b8-3126-47f6-85c4-564e16fcd416",
   "metadata": {},
   "outputs": [
    {
     "data": {
      "text/markdown": [
       "\n",
       " - `foodTickTimer` : `0`\n",
       " - `AbsorptionAmount` : `0.0`\n",
       " - `XpTotal` : `45566`\n",
       " - `SelectedItemSlot` : `0`\n",
       " - `playerGameType` : `1`\n",
       " - `SpawnX` : `-1402`\n",
       " - `Invulnerable` : `0`\n",
       " - `SpawnAngle` : `-111.461669921875`\n",
       " - `SpawnDimension` : `\"minecraft:overworld\"`\n",
       " - `Score` : `45566`\n",
       " - `attributes` : (21 items)\n",
       " - `Tags` : \n",
       "\t\n",
       "\t - `0` : `\"end_gravity\"`\n",
       "\t - `1` : `\"ch_east\"`\n",
       " - `UUID` : (4 items)\n",
       " - `XpLevel` : `64`\n",
       " - `Inventory` : (35 items)\n",
       " - `XpP` : `0.05496596544981003`\n",
       " - `foodLevel` : `20`\n",
       " - `LastDeathLocation` : \n",
       "\t\n",
       "\t - `0` : `\"pos\"`\n",
       "\t - `1` : `\"dimension\"`\n",
       " - `EnderItems` : (27 items)\n",
       " - `Motion` : (3 items)\n",
       " - `Fire` : `-20`\n",
       " - `foodExhaustionLevel` : `3.3714730739593506`\n",
       " - `seenCredits` : `1`\n",
       " - `DeathTime` : `0`\n",
       " - `recipeBook` : (10 items)\n",
       " - `OnGround` : `1`\n",
       " - `spawn_extra_particles_on_fall` : `0`\n",
       " - `Brain` : \n",
       "\t\n",
       "\t - `0` : `\"memories\"`\n",
       " - `Dimension` : `\"minecraft:the_end\"`\n",
       " - `abilities` : (7 items)\n",
       " - `Rotation` : \n",
       "\t\n",
       "\t - `0` : `6.558692455291748`\n",
       "\t - `1` : `34.042808532714844`\n",
       " - `HurtByTimestamp` : `88194`\n",
       " - `foodSaturationLevel` : `13.40000057220459`\n",
       " - `XpSeed` : `-367039716`\n",
       " - `Air` : `300`\n",
       " - `SpawnY` : `80`\n",
       " - `SpawnZ` : `-3983`\n",
       " - `DataVersion` : `4189`\n",
       " - `FallDistance` : `0.0`\n",
       " - `SleepTimer` : `0`\n",
       " - `FallFlying` : `0`\n",
       " - `warden_spawn_tracker` : (3 items)\n",
       " - `HurtTime` : `0`\n",
       " - `SpawnForced` : `0`\n",
       " - `Health` : `20.0`\n",
       " - `Pos` : (3 items)\n",
       " - `current_impulse_context_reset_grace_time` : `0`\n",
       " - `PortalCooldown` : `0`\n",
       " - `ignore_fall_damage_from_current_explosion` : `0`"
      ],
      "text/plain": [
       "<IPython.core.display.Markdown object>"
      ]
     },
     "metadata": {},
     "output_type": "display_data"
    }
   ],
   "source": [
    "my_data = nbt.NBTFile(\n",
    "    save_folder / \"playerdata\" / \"8bcf4ff6-07ab-4cdb-98d0-8fcfee524197.dat\"\n",
    ")\n",
    "summarize_keystore(my_data)"
   ]
  },
  {
   "cell_type": "code",
   "execution_count": 5,
   "id": "7bdf10bf-8553-4b7f-8fb1-4127c2e037a1",
   "metadata": {},
   "outputs": [
    {
     "data": {
      "text/markdown": [
       "\n",
       " - `count` : `1`\n",
       " - `Slot` : `0`\n",
       " - `components` : \n",
       "\t\n",
       "\t - `0` : `\"minecraft:written_book_content\"`\n",
       "\t - `1` : `\"minecraft:custom_model_data\"`\n",
       " - `id` : `\"minecraft:written_book\"`"
      ],
      "text/plain": [
       "<IPython.core.display.Markdown object>"
      ]
     },
     "metadata": {},
     "output_type": "display_data"
    }
   ],
   "source": [
    "summarize_keystore(my_data[\"Inventory\"][0])"
   ]
  },
  {
   "cell_type": "code",
   "execution_count": 6,
   "id": "42a20ec6-1210-490a-8276-5f2dcaf92e13",
   "metadata": {},
   "outputs": [
    {
     "data": {
      "text/markdown": [
       "\n",
       " - `pages` : (8 items)\n",
       " - `author` : `\"OpenBagTwo\"`\n",
       " - `title` : \n",
       "\t\n",
       "\t - `0` : `\"raw\"`\n",
       " - `resolved` : `1`"
      ],
      "text/plain": [
       "<IPython.core.display.Markdown object>"
      ]
     },
     "metadata": {},
     "output_type": "display_data"
    }
   ],
   "source": [
    "summarize_keystore(\n",
    "    my_data[\"Inventory\"][0][\"components\"][\"minecraft:written_book_content\"]\n",
    ")"
   ]
  },
  {
   "cell_type": "code",
   "execution_count": 7,
   "id": "364d1d7b-56b0-40d5-9966-7299ed2497cc",
   "metadata": {},
   "outputs": [],
   "source": [
    "my_data[\"Inventory\"][0][\"components\"][\"minecraft:written_book_content\"][\n",
    "    \"author\"\n",
    "].value = \"GumboTrafe\""
   ]
  },
  {
   "cell_type": "code",
   "execution_count": 8,
   "id": "d1f4da24-0933-493c-ad04-f96c72836c3b",
   "metadata": {},
   "outputs": [
    {
     "data": {
      "text/plain": [
       "'GumboTrafe'"
      ]
     },
     "execution_count": 8,
     "metadata": {},
     "output_type": "execute_result"
    }
   ],
   "source": [
    "my_data[\"Inventory\"][0][\"components\"][\"minecraft:written_book_content\"][\"author\"].value"
   ]
  },
  {
   "cell_type": "code",
   "execution_count": 9,
   "id": "418bfac1-2746-47d8-b810-97d11635d633",
   "metadata": {},
   "outputs": [],
   "source": [
    "my_data.write_file(\n",
    "    save_folder / \"playerdata\" / \"8bcf4ff6-07ab-4cdb-98d0-8fcfee524197.dat\"\n",
    ")"
   ]
  },
  {
   "cell_type": "markdown",
   "id": "ec76be4a-cd88-4d8d-b168-284f0941d611",
   "metadata": {},
   "source": [
    "That was easy!"
   ]
  },
  {
   "cell_type": "markdown",
   "id": "d986ca3e-fa57-4c04-984a-fbff1e420b29",
   "metadata": {},
   "source": [
    "### Let's do the backup file too\n",
    "\n",
    "Just to be sure"
   ]
  },
  {
   "cell_type": "code",
   "execution_count": 10,
   "id": "4fb0cb8f-e10d-4388-951c-0d0fd26c3903",
   "metadata": {},
   "outputs": [],
   "source": [
    "my_data = nbt.NBTFile(\n",
    "    save_folder / \"playerdata\" / \"8bcf4ff6-07ab-4cdb-98d0-8fcfee524197.dat\"\n",
    ")\n",
    "my_data[\"Inventory\"][0][\"components\"][\"minecraft:written_book_content\"][\n",
    "    \"author\"\n",
    "].value = \"GumboTrafe\"\n",
    "my_data.write_file(\n",
    "    save_folder / \"playerdata\" / \"8bcf4ff6-07ab-4cdb-98d0-8fcfee524197.dat_old\"\n",
    ")"
   ]
  },
  {
   "cell_type": "markdown",
   "id": "a7281b06-22e2-4716-96f7-235c1a2f4578",
   "metadata": {},
   "source": [
    "## That didn't work!\n",
    "\n",
    "No idea why. But in the end I did it with commands:\n",
    "\n",
    "1. First I dropped the book\n",
    "1. Then I ran the command:\n",
    "   ```mcfunction\n",
    "   /data get entity @n[type=item] Item.components.\"minecraft:written_book_content\".author\n",
    "   ```\n",
    "   to ensure I had the right target\n",
    "1. Then I modified the attribute via:\n",
    "    ```mcfunction\n",
    "   /data modify entity @n[type=item] Item.components.\"minecraft:written_book_content\".author set value \"Capt. Gumbo Trafe\"\n",
    "   ```\n",
    "1. And finally I picked up the book and verified the data change"
   ]
  },
  {
   "cell_type": "code",
   "execution_count": null,
   "id": "397ab1be-03de-4830-a1f8-f587000e0297",
   "metadata": {},
   "outputs": [],
   "source": []
  }
 ],
 "metadata": {
  "kernelspec": {
   "display_name": "Python 3 (ipykernel)",
   "language": "python",
   "name": "python3"
  },
  "language_info": {
   "codemirror_mode": {
    "name": "ipython",
    "version": 3
   },
   "file_extension": ".py",
   "mimetype": "text/x-python",
   "name": "python",
   "nbconvert_exporter": "python",
   "pygments_lexer": "ipython3",
   "version": "3.13.1"
  }
 },
 "nbformat": 4,
 "nbformat_minor": 5
}
