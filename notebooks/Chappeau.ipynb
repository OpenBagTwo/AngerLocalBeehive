{
 "cells": [
  {
   "cell_type": "markdown",
   "id": "d1602c53-e967-480c-8e08-1e11b15cef5f",
   "metadata": {},
   "source": [
    "# 3D Printer Datapack Generation\n",
    "\n",
    "[Over in this repo](https://github.com/OpenBagTwo/chappeau), I'm currently hard at work making a 3D printer datapack. How it works is that if give a hopper [a special name](https://github.com/OpenBagTwo/chappeau/blob/3a9e601b27c9f9a171dfdde2a5e0e9d7e1e4a7c6/Chappeau%20Datapack/data/chappeau/functions/second.mcfunction#L12), then place a glow item frame directly below it, then you can load that hopper with an item and a specially named piece of paper, and a custom version of that item will be placed in the item frame.\n",
    "\n",
    "The command is a pain in the toucans--as all of these commands are--so to avoid endless copy/paste, I'm just gonna script it."
   ]
  },
  {
   "cell_type": "markdown",
   "id": "31f8080f-3955-4b91-afc0-e3fd95e41a8b",
   "metadata": {},
   "source": [
    "## Enumerate All Custom Items"
   ]
  },
  {
   "cell_type": "markdown",
   "id": "c662d148-180e-4a1d-8602-707b4f9e4f7c",
   "metadata": {},
   "source": [
    "Pulling from [here](https://github.com/OpenBagTwo/chappeau/tree/3a9e601b27c9f9a171dfdde2a5e0e9d7e1e4a7c6#available-items)"
   ]
  },
  {
   "cell_type": "code",
   "execution_count": 1,
   "id": "8f759be5-fdc7-4d94-9756-d760209a6b4f",
   "metadata": {},
   "outputs": [],
   "source": [
    "custom_items: list[tuple[str, str, int]] = [\n",
    "    # name, base item, custom model data no.\n",
    "    (\"Aquarium Core\", \"carved_pumpkin\", 3),\n",
    "    (\"Fact Sphere\", \"carved_pumpkin\", 6),\n",
    "    (\"Morgan Freeman Core\", \"carved_pumpkin\", 4),\n",
    "    (\"Rick\", \"carved_pumpkin\", 7),\n",
    "    (\"Space Core\", \"carved_pumpkin\", 5),\n",
    "    (\"Wheatley\", \"carved_pumpkin\", 2),\n",
    "    (\"HIM\", \"carved_pumpkin\", 1),\n",
    "    (\"Infinity Armor Statue\", \"carved_pumpkin\", 1001),\n",
    "    (\"Infinity Armor Helmet\", \"carved_pumpkin\", 1002),\n",
    "    (\"Mini-Him\", \"brown_mushroom\", 1),\n",
    "    (\"Moonescent Pearl\", \"ender_pearl\", 1),\n",
    "    (\"Oddish\", \"grass\", 1),\n",
    "    (\"Shadow Dweller Mask\", \"carved_pumpkin\", 1000),\n",
    "    (\"Steam Deck\", \"poisonous_potato\", 1),\n",
    "]"
   ]
  },
  {
   "cell_type": "markdown",
   "id": "a0cb593f-b050-4ec9-828a-b23795ed611d",
   "metadata": {},
   "source": [
    "## Set the Command Template"
   ]
  },
  {
   "cell_type": "markdown",
   "id": "f126a5ac-9389-471d-864f-d6b843724014",
   "metadata": {},
   "source": [
    "From the prototype [here](https://github.com/OpenBagTwo/chappeau/blob/41fb32dad5f36f1d2c82d2eed74f0a5299cead72/Chappeau%20Datapack/data/chappeau/functions/squiddoprint.mcfunction):"
   ]
  },
  {
   "cell_type": "code",
   "execution_count": 2,
   "id": "c19372d1-10e9-495c-8192-8320dd7ebb7a",
   "metadata": {},
   "outputs": [],
   "source": [
    "template = r\"\"\"\n",
    "execute if block ~ ~1 ~ minecraft:hopper{Items:[{Slot:0b, id:\"minecraft:{base_item}\"}, {Slot:1b, id:\"minecraft:paper\", tag:{display: {Name: '{\"text\":\"{tokenized}.gcode\"}'}}}]} run data modify entity @e[type=minecraft:glow_item_frame, distance=0..1, limit=1] Item set value {id:\"minecraft:{base_item}\", tag:{CustomModelData:{custom_model_num}, display:{Name:'{\"text\":\"{name}\"}'}}, Count:1b}\n",
    "execute if block ~ ~1 ~ minecraft:hopper{Items:[{Slot:0b, id:\"minecraft:{base_item}\"}, {Slot:1b, id:\"minecraft:paper\", tag:{display: {Name: '{\"text\":\"{tokenized}.gcode\"}'}}}]} run data modify block ~ ~1 ~ Items[{Slot:0b}] merge value {Count:0b} \n",
    "\"\"\""
   ]
  },
  {
   "cell_type": "code",
   "execution_count": 3,
   "id": "5744cdf2-629c-417d-9ea7-dac4cbe7142f",
   "metadata": {},
   "outputs": [],
   "source": [
    "def tokenize(display_name: str) -> str:\n",
    "    \"\"\"Convert a display name into a suitable filename\n",
    "\n",
    "    Parameters\n",
    "    ----------\n",
    "    display_name : str\n",
    "        The original string\n",
    "\n",
    "    Returns\n",
    "    -------\n",
    "    str\n",
    "        The tokenized version of the name (all lowercase, spaces replaced with underscores)\n",
    "\n",
    "    Examples\n",
    "    --------\n",
    "    >>> tokenize(\"Steam Deck\")\n",
    "    steam_deck\n",
    "    \"\"\"\n",
    "    return display_name.lower().replace(\" \", \"_\")"
   ]
  },
  {
   "cell_type": "code",
   "execution_count": 4,
   "id": "da7a4f82-087a-49c6-8a5f-87576375e17f",
   "metadata": {},
   "outputs": [],
   "source": [
    "commands = []\n",
    "\n",
    "for name, base_item, custom_model_num in custom_items:\n",
    "    commands.append(\n",
    "        # can't use str.format because of all of the other curly brackets\n",
    "        template.replace(\"{name}\", name)\n",
    "        .replace(\"{base_item}\", base_item)\n",
    "        .replace(\"{custom_model_num}\", str(custom_model_num))\n",
    "        .replace(\"{tokenized}\", tokenize(name))\n",
    "    )"
   ]
  },
  {
   "cell_type": "markdown",
   "id": "e9308cce-f652-41d4-90d3-10ac5e0ebbcc",
   "metadata": {},
   "source": [
    "## Print for exporting"
   ]
  },
  {
   "cell_type": "code",
   "execution_count": 5,
   "id": "5d359e26-2d19-418c-a667-eda75a0a06b0",
   "metadata": {},
   "outputs": [],
   "source": [
    "from IPython.display import Markdown, display"
   ]
  },
  {
   "cell_type": "code",
   "execution_count": 6,
   "id": "cd362131-7078-4e00-aaef-93adddc985e3",
   "metadata": {},
   "outputs": [
    {
     "data": {
      "text/markdown": [
       "```\n",
       "\n",
       "execute if block ~ ~1 ~ minecraft:hopper{Items:[{Slot:0b, id:\"minecraft:carved_pumpkin\"}, {Slot:1b, id:\"minecraft:paper\", tag:{display: {Name: '{\"text\":\"aquarium_core.gcode\"}'}}}]} run data modify entity @e[type=minecraft:glow_item_frame, distance=0..1, limit=1] Item set value {id:\"minecraft:carved_pumpkin\", tag:{CustomModelData:3, display:{Name:'{\"text\":\"Aquarium Core\"}'}}, Count:1b}\n",
       "execute if block ~ ~1 ~ minecraft:hopper{Items:[{Slot:0b, id:\"minecraft:carved_pumpkin\"}, {Slot:1b, id:\"minecraft:paper\", tag:{display: {Name: '{\"text\":\"aquarium_core.gcode\"}'}}}]} run data modify block ~ ~1 ~ Items[{Slot:0b}] merge value {Count:0b} \n",
       "\n",
       "execute if block ~ ~1 ~ minecraft:hopper{Items:[{Slot:0b, id:\"minecraft:carved_pumpkin\"}, {Slot:1b, id:\"minecraft:paper\", tag:{display: {Name: '{\"text\":\"fact_sphere.gcode\"}'}}}]} run data modify entity @e[type=minecraft:glow_item_frame, distance=0..1, limit=1] Item set value {id:\"minecraft:carved_pumpkin\", tag:{CustomModelData:6, display:{Name:'{\"text\":\"Fact Sphere\"}'}}, Count:1b}\n",
       "execute if block ~ ~1 ~ minecraft:hopper{Items:[{Slot:0b, id:\"minecraft:carved_pumpkin\"}, {Slot:1b, id:\"minecraft:paper\", tag:{display: {Name: '{\"text\":\"fact_sphere.gcode\"}'}}}]} run data modify block ~ ~1 ~ Items[{Slot:0b}] merge value {Count:0b} \n",
       "\n",
       "execute if block ~ ~1 ~ minecraft:hopper{Items:[{Slot:0b, id:\"minecraft:carved_pumpkin\"}, {Slot:1b, id:\"minecraft:paper\", tag:{display: {Name: '{\"text\":\"morgan_freeman_core.gcode\"}'}}}]} run data modify entity @e[type=minecraft:glow_item_frame, distance=0..1, limit=1] Item set value {id:\"minecraft:carved_pumpkin\", tag:{CustomModelData:4, display:{Name:'{\"text\":\"Morgan Freeman Core\"}'}}, Count:1b}\n",
       "execute if block ~ ~1 ~ minecraft:hopper{Items:[{Slot:0b, id:\"minecraft:carved_pumpkin\"}, {Slot:1b, id:\"minecraft:paper\", tag:{display: {Name: '{\"text\":\"morgan_freeman_core.gcode\"}'}}}]} run data modify block ~ ~1 ~ Items[{Slot:0b}] merge value {Count:0b} \n",
       "\n",
       "execute if block ~ ~1 ~ minecraft:hopper{Items:[{Slot:0b, id:\"minecraft:carved_pumpkin\"}, {Slot:1b, id:\"minecraft:paper\", tag:{display: {Name: '{\"text\":\"rick.gcode\"}'}}}]} run data modify entity @e[type=minecraft:glow_item_frame, distance=0..1, limit=1] Item set value {id:\"minecraft:carved_pumpkin\", tag:{CustomModelData:7, display:{Name:'{\"text\":\"Rick\"}'}}, Count:1b}\n",
       "execute if block ~ ~1 ~ minecraft:hopper{Items:[{Slot:0b, id:\"minecraft:carved_pumpkin\"}, {Slot:1b, id:\"minecraft:paper\", tag:{display: {Name: '{\"text\":\"rick.gcode\"}'}}}]} run data modify block ~ ~1 ~ Items[{Slot:0b}] merge value {Count:0b} \n",
       "\n",
       "execute if block ~ ~1 ~ minecraft:hopper{Items:[{Slot:0b, id:\"minecraft:carved_pumpkin\"}, {Slot:1b, id:\"minecraft:paper\", tag:{display: {Name: '{\"text\":\"space_core.gcode\"}'}}}]} run data modify entity @e[type=minecraft:glow_item_frame, distance=0..1, limit=1] Item set value {id:\"minecraft:carved_pumpkin\", tag:{CustomModelData:5, display:{Name:'{\"text\":\"Space Core\"}'}}, Count:1b}\n",
       "execute if block ~ ~1 ~ minecraft:hopper{Items:[{Slot:0b, id:\"minecraft:carved_pumpkin\"}, {Slot:1b, id:\"minecraft:paper\", tag:{display: {Name: '{\"text\":\"space_core.gcode\"}'}}}]} run data modify block ~ ~1 ~ Items[{Slot:0b}] merge value {Count:0b} \n",
       "\n",
       "execute if block ~ ~1 ~ minecraft:hopper{Items:[{Slot:0b, id:\"minecraft:carved_pumpkin\"}, {Slot:1b, id:\"minecraft:paper\", tag:{display: {Name: '{\"text\":\"wheatley.gcode\"}'}}}]} run data modify entity @e[type=minecraft:glow_item_frame, distance=0..1, limit=1] Item set value {id:\"minecraft:carved_pumpkin\", tag:{CustomModelData:2, display:{Name:'{\"text\":\"Wheatley\"}'}}, Count:1b}\n",
       "execute if block ~ ~1 ~ minecraft:hopper{Items:[{Slot:0b, id:\"minecraft:carved_pumpkin\"}, {Slot:1b, id:\"minecraft:paper\", tag:{display: {Name: '{\"text\":\"wheatley.gcode\"}'}}}]} run data modify block ~ ~1 ~ Items[{Slot:0b}] merge value {Count:0b} \n",
       "\n",
       "execute if block ~ ~1 ~ minecraft:hopper{Items:[{Slot:0b, id:\"minecraft:carved_pumpkin\"}, {Slot:1b, id:\"minecraft:paper\", tag:{display: {Name: '{\"text\":\"him.gcode\"}'}}}]} run data modify entity @e[type=minecraft:glow_item_frame, distance=0..1, limit=1] Item set value {id:\"minecraft:carved_pumpkin\", tag:{CustomModelData:1, display:{Name:'{\"text\":\"HIM\"}'}}, Count:1b}\n",
       "execute if block ~ ~1 ~ minecraft:hopper{Items:[{Slot:0b, id:\"minecraft:carved_pumpkin\"}, {Slot:1b, id:\"minecraft:paper\", tag:{display: {Name: '{\"text\":\"him.gcode\"}'}}}]} run data modify block ~ ~1 ~ Items[{Slot:0b}] merge value {Count:0b} \n",
       "\n",
       "execute if block ~ ~1 ~ minecraft:hopper{Items:[{Slot:0b, id:\"minecraft:carved_pumpkin\"}, {Slot:1b, id:\"minecraft:paper\", tag:{display: {Name: '{\"text\":\"infinity_armor_statue.gcode\"}'}}}]} run data modify entity @e[type=minecraft:glow_item_frame, distance=0..1, limit=1] Item set value {id:\"minecraft:carved_pumpkin\", tag:{CustomModelData:1001, display:{Name:'{\"text\":\"Infinity Armor Statue\"}'}}, Count:1b}\n",
       "execute if block ~ ~1 ~ minecraft:hopper{Items:[{Slot:0b, id:\"minecraft:carved_pumpkin\"}, {Slot:1b, id:\"minecraft:paper\", tag:{display: {Name: '{\"text\":\"infinity_armor_statue.gcode\"}'}}}]} run data modify block ~ ~1 ~ Items[{Slot:0b}] merge value {Count:0b} \n",
       "\n",
       "execute if block ~ ~1 ~ minecraft:hopper{Items:[{Slot:0b, id:\"minecraft:carved_pumpkin\"}, {Slot:1b, id:\"minecraft:paper\", tag:{display: {Name: '{\"text\":\"infinity_armor_helmet.gcode\"}'}}}]} run data modify entity @e[type=minecraft:glow_item_frame, distance=0..1, limit=1] Item set value {id:\"minecraft:carved_pumpkin\", tag:{CustomModelData:1002, display:{Name:'{\"text\":\"Infinity Armor Helmet\"}'}}, Count:1b}\n",
       "execute if block ~ ~1 ~ minecraft:hopper{Items:[{Slot:0b, id:\"minecraft:carved_pumpkin\"}, {Slot:1b, id:\"minecraft:paper\", tag:{display: {Name: '{\"text\":\"infinity_armor_helmet.gcode\"}'}}}]} run data modify block ~ ~1 ~ Items[{Slot:0b}] merge value {Count:0b} \n",
       "\n",
       "execute if block ~ ~1 ~ minecraft:hopper{Items:[{Slot:0b, id:\"minecraft:brown_mushroom\"}, {Slot:1b, id:\"minecraft:paper\", tag:{display: {Name: '{\"text\":\"mini-him.gcode\"}'}}}]} run data modify entity @e[type=minecraft:glow_item_frame, distance=0..1, limit=1] Item set value {id:\"minecraft:brown_mushroom\", tag:{CustomModelData:1, display:{Name:'{\"text\":\"Mini-Him\"}'}}, Count:1b}\n",
       "execute if block ~ ~1 ~ minecraft:hopper{Items:[{Slot:0b, id:\"minecraft:brown_mushroom\"}, {Slot:1b, id:\"minecraft:paper\", tag:{display: {Name: '{\"text\":\"mini-him.gcode\"}'}}}]} run data modify block ~ ~1 ~ Items[{Slot:0b}] merge value {Count:0b} \n",
       "\n",
       "execute if block ~ ~1 ~ minecraft:hopper{Items:[{Slot:0b, id:\"minecraft:ender_pearl\"}, {Slot:1b, id:\"minecraft:paper\", tag:{display: {Name: '{\"text\":\"moonescent_pearl.gcode\"}'}}}]} run data modify entity @e[type=minecraft:glow_item_frame, distance=0..1, limit=1] Item set value {id:\"minecraft:ender_pearl\", tag:{CustomModelData:1, display:{Name:'{\"text\":\"Moonescent Pearl\"}'}}, Count:1b}\n",
       "execute if block ~ ~1 ~ minecraft:hopper{Items:[{Slot:0b, id:\"minecraft:ender_pearl\"}, {Slot:1b, id:\"minecraft:paper\", tag:{display: {Name: '{\"text\":\"moonescent_pearl.gcode\"}'}}}]} run data modify block ~ ~1 ~ Items[{Slot:0b}] merge value {Count:0b} \n",
       "\n",
       "execute if block ~ ~1 ~ minecraft:hopper{Items:[{Slot:0b, id:\"minecraft:grass\"}, {Slot:1b, id:\"minecraft:paper\", tag:{display: {Name: '{\"text\":\"oddish.gcode\"}'}}}]} run data modify entity @e[type=minecraft:glow_item_frame, distance=0..1, limit=1] Item set value {id:\"minecraft:grass\", tag:{CustomModelData:1, display:{Name:'{\"text\":\"Oddish\"}'}}, Count:1b}\n",
       "execute if block ~ ~1 ~ minecraft:hopper{Items:[{Slot:0b, id:\"minecraft:grass\"}, {Slot:1b, id:\"minecraft:paper\", tag:{display: {Name: '{\"text\":\"oddish.gcode\"}'}}}]} run data modify block ~ ~1 ~ Items[{Slot:0b}] merge value {Count:0b} \n",
       "\n",
       "execute if block ~ ~1 ~ minecraft:hopper{Items:[{Slot:0b, id:\"minecraft:carved_pumpkin\"}, {Slot:1b, id:\"minecraft:paper\", tag:{display: {Name: '{\"text\":\"shadow_dweller_mask.gcode\"}'}}}]} run data modify entity @e[type=minecraft:glow_item_frame, distance=0..1, limit=1] Item set value {id:\"minecraft:carved_pumpkin\", tag:{CustomModelData:1000, display:{Name:'{\"text\":\"Shadow Dweller Mask\"}'}}, Count:1b}\n",
       "execute if block ~ ~1 ~ minecraft:hopper{Items:[{Slot:0b, id:\"minecraft:carved_pumpkin\"}, {Slot:1b, id:\"minecraft:paper\", tag:{display: {Name: '{\"text\":\"shadow_dweller_mask.gcode\"}'}}}]} run data modify block ~ ~1 ~ Items[{Slot:0b}] merge value {Count:0b} \n",
       "\n",
       "execute if block ~ ~1 ~ minecraft:hopper{Items:[{Slot:0b, id:\"minecraft:poisonous_potato\"}, {Slot:1b, id:\"minecraft:paper\", tag:{display: {Name: '{\"text\":\"steam_deck.gcode\"}'}}}]} run data modify entity @e[type=minecraft:glow_item_frame, distance=0..1, limit=1] Item set value {id:\"minecraft:poisonous_potato\", tag:{CustomModelData:1, display:{Name:'{\"text\":\"Steam Deck\"}'}}, Count:1b}\n",
       "execute if block ~ ~1 ~ minecraft:hopper{Items:[{Slot:0b, id:\"minecraft:poisonous_potato\"}, {Slot:1b, id:\"minecraft:paper\", tag:{display: {Name: '{\"text\":\"steam_deck.gcode\"}'}}}]} run data modify block ~ ~1 ~ Items[{Slot:0b}] merge value {Count:0b} \n",
       "\n",
       "```"
      ],
      "text/plain": [
       "<IPython.core.display.Markdown object>"
      ]
     },
     "metadata": {},
     "output_type": "display_data"
    }
   ],
   "source": [
    "display(Markdown(\"```\\n\" + \"\".join(commands) + \"\\n```\"))"
   ]
  }
 ],
 "metadata": {
  "kernelspec": {
   "display_name": "Python 3 (ipykernel)",
   "language": "python",
   "name": "python3"
  },
  "language_info": {
   "codemirror_mode": {
    "name": "ipython",
    "version": 3
   },
   "file_extension": ".py",
   "mimetype": "text/x-python",
   "name": "python",
   "nbconvert_exporter": "python",
   "pygments_lexer": "ipython3",
   "version": "3.10.6"
  }
 },
 "nbformat": 4,
 "nbformat_minor": 5
}
