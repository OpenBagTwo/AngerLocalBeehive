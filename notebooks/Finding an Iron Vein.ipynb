{
 "cells": [
  {
   "cell_type": "markdown",
   "id": "7bd98279-6569-46bf-a2bc-1fbf2dd24625",
   "metadata": {},
   "source": [
    "# Cheesing Iron Hunting\n",
    "\n",
    "I'm building a stupid expensive item sorter, and I've already gone through, like, three stacks of iron blocks. I just want to find one of those iron veins and be done with it, and I can totally live with cheesing it by sifting through block data."
   ]
  },
  {
   "cell_type": "markdown",
   "id": "679058e1-d9b8-45bd-ad12-df3c80e39d22",
   "metadata": {},
   "source": [
    "## Imports, Setup and Macros"
   ]
  },
  {
   "cell_type": "code",
   "execution_count": 1,
   "id": "b82da203-1efd-4041-8198-38f5c7b384ec",
   "metadata": {},
   "outputs": [],
   "source": [
    "import json\n",
    "from collections import Counter\n",
    "from os import environ\n",
    "from pathlib import Path\n",
    "from typing import Any, Collection, Dict, List\n",
    "\n",
    "import mutf8\n",
    "import pandas as pd\n",
    "from IPython.display import Markdown, display\n",
    "from nbt import nbt, region"
   ]
  },
  {
   "cell_type": "code",
   "execution_count": 2,
   "id": "fce1961a-bb6b-4133-aed3-eb6d37904506",
   "metadata": {},
   "outputs": [],
   "source": [
    "def format_file_size(path: Path) -> str:\n",
    "    \"\"\"Print the size of the specified file in\n",
    "    human-readible form (KB / MB / GB)\n",
    "\n",
    "    Parameters\n",
    "    ----------\n",
    "    path : Path\n",
    "        The path to the file\n",
    "\n",
    "    Returns\n",
    "    -------\n",
    "    str\n",
    "        A prettily formatted file size\n",
    "\n",
    "    Notes\n",
    "    -----\n",
    "    I would be shocked if there isn't a utility already built\n",
    "    into the standard library to do this, but all I could find\n",
    "    via Googling was a bunch of recipes and examples\n",
    "    \"\"\"\n",
    "    size = path.stat().st_size  # in bytes\n",
    "    for unit in (\"B\", \"KB\", \"MB\", \"GB\"):\n",
    "        if size < 1024 / 2:\n",
    "            return f\"{size:.1f} {unit}\"\n",
    "        size = size / 1024\n",
    "    return f\"{size} TB\""
   ]
  },
  {
   "cell_type": "code",
   "execution_count": 3,
   "id": "cb8420ae-69ed-4319-a9bc-e6c00b052791",
   "metadata": {},
   "outputs": [],
   "source": [
    "def summarize_keystore(keystore: Dict[str, Any]) -> None:\n",
    "    \"\"\"Display a summary of the contents of a key-value store\n",
    "\n",
    "    Parameters\n",
    "    ----------\n",
    "    keystore : dict\n",
    "        The keystore to summarize\n",
    "\n",
    "    Returns\n",
    "    -------\n",
    "    None\n",
    "    \"\"\"\n",
    "\n",
    "    def _summarize_keystore(keystore: Dict[str, Any]) -> str:\n",
    "        summary = \"\"\n",
    "        for k, v in keystore.items():\n",
    "            summary += f\"\\n - `{k}` : \"\n",
    "            if isinstance(v, (str, nbt.TAG_String)):\n",
    "                summary += f'`\"{v}\"`'\n",
    "            elif not isinstance(v, Collection):\n",
    "                summary += f\"`{str(v)}`\"\n",
    "            else:\n",
    "                length = len(v)\n",
    "                if 0 < length < 3:\n",
    "                    summary += \"\\n\"\n",
    "                    if not isinstance(v, Dict):\n",
    "                        v = {i: item for i, item in enumerate(v)}\n",
    "                    summary += \"\\n\".join(\n",
    "                        (f\"\\t{line}\" for line in _summarize_keystore(v).split(\"\\n\"))\n",
    "                    )\n",
    "                else:\n",
    "                    summary += f\"({len(v)} items)\"\n",
    "        return summary\n",
    "\n",
    "    display(Markdown(_summarize_keystore(keystore)))"
   ]
  },
  {
   "cell_type": "code",
   "execution_count": 4,
   "id": "25f329bf-ee97-476b-a362-7eeba2af1340",
   "metadata": {
    "tags": []
   },
   "outputs": [
    {
     "name": "stdout",
     "output_type": "stream",
     "text": [
      "- DIM-1 (folder)\n",
      "- DIM1 (folder)\n",
      "- advancements (folder)\n",
      "- data (folder)\n",
      "- datapacks (folder)\n",
      "- entities (folder)\n",
      "- icon.png (8.6 KB)\n",
      "- level.dat (12.0 KB)\n",
      "- level.dat_old (12.0 KB)\n",
      "- level11326231134829879582.dat (0.0 B)\n",
      "- level14927678268100607923.dat (0.0 B)\n",
      "- level1786655981796876926.dat (0.0 B)\n",
      "- level4463453738642305340.dat (0.0 B)\n",
      "- level6425531070021529407.dat (0.0 B)\n",
      "- level7443636089696258371.dat (0.0 B)\n",
      "- level8832581565660323154.dat (0.0 B)\n",
      "- playerdata (folder)\n",
      "- poi (folder)\n",
      "- region (folder)\n",
      "- serverconfig (folder)\n",
      "- session.lock (3.0 B)\n",
      "- stats (folder)\n"
     ]
    }
   ],
   "source": [
    "save_folder = Path(environ[\"SAVE_PATH\"])\n",
    "\n",
    "# make sure this is set correctly\n",
    "for path in sorted(save_folder.glob(\"*\")):\n",
    "    print(f\"- {path.name} ({'folder' if path.is_dir() else format_file_size(path)})\")"
   ]
  },
  {
   "cell_type": "markdown",
   "id": "778a7b3d-f2a1-408d-86f2-458b914a2e6e",
   "metadata": {},
   "source": [
    "## Start with the Region Folder"
   ]
  },
  {
   "cell_type": "code",
   "execution_count": 5,
   "id": "4bd6167e-d500-4ec2-a2f2-3cfa9c82d64c",
   "metadata": {},
   "outputs": [
    {
     "name": "stdout",
     "output_type": "stream",
     "text": [
      "- r.-1.-1.mca (9.3 MB)\n",
      "- r.-1.-10.mca (9.3 MB)\n",
      "- r.-1.-11.mca (9.2 MB)\n",
      "- r.-1.-12.mca (10.0 MB)\n",
      "- r.-1.-13.mca (10.5 MB)\n",
      "- r.-1.-14.mca (0.5 MB)\n",
      "- r.-1.-2.mca (9.1 MB)\n",
      "- r.-1.-3.mca (9.4 MB)\n",
      "- r.-1.-4.mca (10.2 MB)\n",
      "- r.-1.-5.mca (10.0 MB)\n",
      "... 381 more\n"
     ]
    }
   ],
   "source": [
    "all_region_files = sorted((save_folder / \"region\").glob(\"*\"))\n",
    "for path in all_region_files[:10]:\n",
    "    print(f\"- {path.name} ({'folder' if path.is_dir() else format_file_size(path)})\")\n",
    "print(f\"... {len(all_region_files) - 10} more\")"
   ]
  },
  {
   "cell_type": "markdown",
   "id": "faa536e0-7af1-40ae-9663-fd1404afdadc",
   "metadata": {},
   "source": [
    "Let's inspect the first of these files"
   ]
  },
  {
   "cell_type": "code",
   "execution_count": 6,
   "id": "85dab163-4655-4130-9fed-95d93683ac32",
   "metadata": {},
   "outputs": [
    {
     "data": {
      "text/markdown": [
       "\n",
       " - `Status` : `\"full\"`\n",
       " - `zPos` : `-32`\n",
       " - `block_entities` : (0 items)\n",
       " - `yPos` : `-4`\n",
       " - `LastUpdate` : `18728329`\n",
       " - `structures` : \n",
       "\t\n",
       "\t - `0` : `\"References\"`\n",
       "\t - `1` : `\"starts\"`\n",
       " - `InhabitedTime` : `692`\n",
       " - `xPos` : `-32`\n",
       " - `Heightmaps` : (4 items)\n",
       " - `sections` : (24 items)\n",
       " - `isLightOn` : `1`\n",
       " - `block_ticks` : (0 items)\n",
       " - `PostProcessing` : (24 items)\n",
       " - `DataVersion` : `2865`\n",
       " - `fluid_ticks` : (11 items)"
      ],
      "text/plain": [
       "<IPython.core.display.Markdown object>"
      ]
     },
     "metadata": {},
     "output_type": "display_data"
    }
   ],
   "source": [
    "region_data = region.RegionFile(all_region_files[0])\n",
    "first_chunk = next(region_data.iter_chunks())\n",
    "summarize_keystore(first_chunk)"
   ]
  },
  {
   "cell_type": "markdown",
   "id": "354ee5c5-ad6e-4f56-8c49-d23e67d60a1e",
   "metadata": {},
   "source": [
    "Hmm... sections?"
   ]
  },
  {
   "cell_type": "code",
   "execution_count": 7,
   "id": "9db90a78-eccd-46c9-8b0e-417a91dce205",
   "metadata": {},
   "outputs": [
    {
     "data": {
      "text/markdown": [
       "\n",
       " - `block_states` : \n",
       "\t\n",
       "\t - `0` : `\"data\"`\n",
       "\t - `1` : `\"palette\"`\n",
       " - `biomes` : \n",
       "\t\n",
       "\t - `0` : `\"palette\"`\n",
       " - `BlockLight` : (2048 items)\n",
       " - `Y` : `-4`"
      ],
      "text/plain": [
       "<IPython.core.display.Markdown object>"
      ]
     },
     "metadata": {},
     "output_type": "display_data"
    }
   ],
   "source": [
    "summarize_keystore(first_chunk[\"sections\"][0])"
   ]
  },
  {
   "cell_type": "markdown",
   "id": "3c0f5cba-e083-4585-8ea5-a57912dd10f2",
   "metadata": {},
   "source": [
    "Yep this is it. If I processed what I read correctly, the way this works is that the set of unique blocks in a chunk (section) are encoded as the \"palette\" and then the \"data\" just says which block from the palette is in which place."
   ]
  },
  {
   "cell_type": "code",
   "execution_count": 8,
   "id": "fac4c08e-d9e8-4e8b-8944-96e827e0d122",
   "metadata": {},
   "outputs": [
    {
     "data": {
      "text/markdown": [
       "\n",
       " - `Name` : `\"minecraft:bedrock\"`"
      ],
      "text/plain": [
       "<IPython.core.display.Markdown object>"
      ]
     },
     "metadata": {},
     "output_type": "display_data"
    }
   ],
   "source": [
    "summarize_keystore(first_chunk[\"sections\"][0][\"block_states\"][\"palette\"][0])"
   ]
  },
  {
   "cell_type": "markdown",
   "id": "ae2a4bce-0763-44c1-9ead-ac1452805dbf",
   "metadata": {},
   "source": [
    "So, real quick: that \"Y = -4\" business--no bedrock is generating at -4. Like with chunk xPos / yPos, we're gonna have to multiply that by 16."
   ]
  },
  {
   "cell_type": "code",
   "execution_count": 9,
   "id": "1a83800d-508f-4472-9070-da2581a47dea",
   "metadata": {},
   "outputs": [
    {
     "data": {
      "text/plain": [
       "[minecraft:bedrock,\n",
       " minecraft:deepslate,\n",
       " minecraft:tuff,\n",
       " minecraft:deepslate_iron_ore,\n",
       " minecraft:lava,\n",
       " minecraft:deepslate_diamond_ore,\n",
       " minecraft:deepslate_redstone_ore,\n",
       " minecraft:gravel,\n",
       " minecraft:deepslate_gold_ore]"
      ]
     },
     "execution_count": 9,
     "metadata": {},
     "output_type": "execute_result"
    }
   ],
   "source": [
    "[block[\"Name\"] for block in first_chunk[\"sections\"][0][\"block_states\"][\"palette\"]]"
   ]
  },
  {
   "cell_type": "markdown",
   "id": "657eaca1-75e3-4f5c-a6e4-be543452a986",
   "metadata": {},
   "source": [
    "Haha, this randomly selected chunklet has iron ore (_and diamonds!_) and might even be part of a vein. But the dead giveaway isn't the iron ore--it's the iron blocks, so I'd rather keep hunting."
   ]
  },
  {
   "cell_type": "code",
   "execution_count": 10,
   "id": "6a9046d8-eaa2-42a0-a0ad-dbd38fc4b160",
   "metadata": {},
   "outputs": [],
   "source": [
    "for section in first_chunk[\"sections\"]:\n",
    "    if \"minecraft:raw_iron_block\" in [\n",
    "        str(block[\"Name\"]) for block in section[\"block_states\"][\"palette\"]\n",
    "    ]:\n",
    "        print(f\"Found raw iron in section y={section['Y'].value * 16}\")\n",
    "        break"
   ]
  },
  {
   "cell_type": "markdown",
   "id": "92ea5fff-a4ad-4d84-9547-ca7ecb207df3",
   "metadata": {},
   "source": [
    "Well can't expect to find one in the very first chunk..."
   ]
  },
  {
   "cell_type": "code",
   "execution_count": 11,
   "id": "ff7b817a-8d89-4db4-8e75-66c4b78cf1a3",
   "metadata": {},
   "outputs": [
    {
     "name": "stdout",
     "output_type": "stream",
     "text": [
      "Found raw iron somewhere around (-464, -32, -304)\n",
      "CPU times: user 474 ms, sys: 841 µs, total: 475 ms\n",
      "Wall time: 480 ms\n"
     ]
    }
   ],
   "source": [
    "%%time\n",
    "for chunk in region_data.iter_chunks():\n",
    "    for section in chunk[\"sections\"]:\n",
    "        if \"minecraft:raw_iron_block\" in [\n",
    "            str(block[\"Name\"]) for block in section[\"block_states\"][\"palette\"]\n",
    "        ]:\n",
    "            print(\n",
    "                \"Found raw iron somewhere around\"\n",
    "                f\" ({chunk['xPos'].value * 16},\"\n",
    "                f\" {section['Y'].value * 16},\"\n",
    "                f\" {chunk['zPos'].value * 16})\"\n",
    "            )\n",
    "            break\n",
    "    else:\n",
    "        continue\n",
    "    break"
   ]
  },
  {
   "cell_type": "markdown",
   "id": "3c81ce27-ff5a-460e-8613-c6517e1f742c",
   "metadata": {},
   "source": [
    "Oh wow that was quick. Let's see how many blocks of raw iron are in this chunklet."
   ]
  },
  {
   "cell_type": "code",
   "execution_count": 12,
   "id": "a1ad5f81-110f-4796-b127-985a9341191d",
   "metadata": {},
   "outputs": [
    {
     "data": {
      "text/plain": [
       "['minecraft:deepslate',\n",
       " 'minecraft:tuff',\n",
       " 'minecraft:deepslate_iron_ore',\n",
       " 'minecraft:air',\n",
       " 'minecraft:raw_iron_block',\n",
       " 'minecraft:deepslate_gold_ore',\n",
       " 'minecraft:gravel',\n",
       " 'minecraft:deepslate_lapis_ore']"
      ]
     },
     "execution_count": 12,
     "metadata": {},
     "output_type": "execute_result"
    }
   ],
   "source": [
    "[str(block[\"Name\"]) for block in section[\"block_states\"][\"palette\"]]"
   ]
  },
  {
   "cell_type": "code",
   "execution_count": 13,
   "id": "6178e204-b388-4774-b626-70c73e19153f",
   "metadata": {},
   "outputs": [
    {
     "data": {
      "text/plain": [
       "256"
      ]
     },
     "execution_count": 13,
     "metadata": {},
     "output_type": "execute_result"
    }
   ],
   "source": [
    "len([v for v in section[\"block_states\"][\"data\"]])"
   ]
  },
  {
   "cell_type": "code",
   "execution_count": 14,
   "id": "b0813c6c-a0a8-4733-b166-eb3e768ea6e9",
   "metadata": {},
   "outputs": [
    {
     "data": {
      "text/plain": [
       "[1103806595072, 4580179968, 4563468288, 0, 0, 0, 0, 0, 0, 0]"
      ]
     },
     "execution_count": 14,
     "metadata": {},
     "output_type": "execute_result"
    }
   ],
   "source": [
    "[v for v in section[\"block_states\"][\"data\"]][:10]"
   ]
  },
  {
   "cell_type": "markdown",
   "id": "4802e38e-fa95-49b1-88a1-a8d8b36735cc",
   "metadata": {},
   "source": [
    "Okay, I expected these to be, like, the indices in the palette, but it turns out they're\n",
    "> 4096 indices pointing to the palette, stored in an array of 64-bit integers"
   ]
  },
  {
   "cell_type": "markdown",
   "id": "6fc21839-c924-45cc-a0ce-7fae0ea048e6",
   "metadata": {},
   "source": [
    "Okay, so first hint is that since this array is only 256 long, each must contain the data for 16 blocks."
   ]
  },
  {
   "cell_type": "code",
   "execution_count": 15,
   "id": "170dc0ff-42d1-4ba5-be8b-a96fe4d8149d",
   "metadata": {},
   "outputs": [],
   "source": [
    "def split_block_value(value: int) -> List[int]:\n",
    "    \"\"\"Split a 64-bit int into 16x 4-bit ints\n",
    "\n",
    "    Parameters\n",
    "    ----------\n",
    "    value: 64-bit int\n",
    "        The int to split\n",
    "\n",
    "    Returns\n",
    "    -------\n",
    "    list of 16x 4-bit ints\n",
    "    \"\"\"\n",
    "    small_ints = []\n",
    "    for _ in range(16):\n",
    "        value, remainder = divmod(value, 2**4)\n",
    "        small_ints.insert(0, remainder)\n",
    "    return small_ints"
   ]
  },
  {
   "cell_type": "markdown",
   "id": "fe2d85a0-20ae-493a-9c27-3286d51f41b6",
   "metadata": {},
   "source": [
    "Okay, so if I did this correctly, every single value in this section should be 0-7 (since the palette was 8-long)."
   ]
  },
  {
   "cell_type": "code",
   "execution_count": 16,
   "id": "19419fbc-100c-4388-9478-d2e0d8f619a3",
   "metadata": {},
   "outputs": [],
   "source": [
    "split_blocks = sum([split_block_value(v) for v in section[\"block_states\"][\"data\"]], [])"
   ]
  },
  {
   "cell_type": "code",
   "execution_count": 17,
   "id": "58cb9d4a-ca63-40a2-b980-598c57bf3237",
   "metadata": {},
   "outputs": [
    {
     "data": {
      "text/plain": [
       "4096"
      ]
     },
     "execution_count": 17,
     "metadata": {},
     "output_type": "execute_result"
    }
   ],
   "source": [
    "len(split_blocks)"
   ]
  },
  {
   "cell_type": "code",
   "execution_count": 18,
   "id": "3aa08695-6cc4-41af-b651-f023ff7ceee4",
   "metadata": {},
   "outputs": [
    {
     "data": {
      "text/plain": [
       "Counter({0: 3525, 1: 193, 2: 10, 3: 204, 4: 1, 5: 12, 6: 147, 7: 4})"
      ]
     },
     "execution_count": 18,
     "metadata": {},
     "output_type": "execute_result"
    }
   ],
   "source": [
    "Counter(split_blocks)"
   ]
  },
  {
   "cell_type": "markdown",
   "id": "3a3e9ea1-1faa-4ccb-8caa-b5f869e26a2c",
   "metadata": {},
   "source": [
    "Nice!"
   ]
  },
  {
   "cell_type": "markdown",
   "id": "8db68978-08a2-4be6-bade-269f3d9e1033",
   "metadata": {},
   "source": [
    "And--kinda as expected--there's just one raw iron block in this section."
   ]
  },
  {
   "cell_type": "markdown",
   "id": "25fca4ce-927f-4118-a967-870db377353d",
   "metadata": {},
   "source": [
    "## Now can I find anything closer?"
   ]
  },
  {
   "cell_type": "markdown",
   "id": "267eee12-30dd-4abf-890a-7f2fee3d36a3",
   "metadata": {},
   "source": [
    "I mean, this being near (0,0) is pretty cool and all, but I'm way out... um... where am I again?"
   ]
  },
  {
   "cell_type": "code",
   "execution_count": 19,
   "id": "20fb6b76-d119-449b-86d9-ee6cd580dc07",
   "metadata": {},
   "outputs": [
    {
     "data": {
      "text/plain": [
       "(-1169.524564075365, -58.0, -4292.300000011921)"
      ]
     },
     "execution_count": 19,
     "metadata": {},
     "output_type": "execute_result"
    }
   ],
   "source": [
    "coords = tuple(\n",
    "    float(str(coord))\n",
    "    for coord in nbt.NBTFile(save_folder / \"level.dat\")[\"Data\"][\"Player\"][\"Pos\"]\n",
    ")\n",
    "coords"
   ]
  },
  {
   "cell_type": "markdown",
   "id": "8dd1cf84-e97c-4d50-903d-a5218ce272d2",
   "metadata": {},
   "source": [
    "Okay, so that would put me in region..."
   ]
  },
  {
   "cell_type": "code",
   "execution_count": 20,
   "id": "3ce3b1f3-e622-4d5b-977a-857172937842",
   "metadata": {},
   "outputs": [
    {
     "data": {
      "text/plain": [
       "'r.-3.-9.mca'"
      ]
     },
     "execution_count": 20,
     "metadata": {},
     "output_type": "execute_result"
    }
   ],
   "source": [
    "region_filename = f\"r.{int(coords[0] // 512 )}.{int(coords[2] // 512)}.mca\"\n",
    "region_filename"
   ]
  },
  {
   "cell_type": "code",
   "execution_count": 21,
   "id": "3fa0d08a-0486-4a4d-9445-932a16439ec3",
   "metadata": {},
   "outputs": [
    {
     "name": "stdout",
     "output_type": "stream",
     "text": [
      "Found raw iron somewhere around (-1328, -64, -4400)\n",
      "CPU times: user 1.65 s, sys: 15.8 ms, total: 1.67 s\n",
      "Wall time: 1.68 s\n"
     ]
    }
   ],
   "source": [
    "%%time\n",
    "region_data = region.RegionFile(save_folder / \"region\" / region_filename)\n",
    "for chunk in region_data.iter_chunks():\n",
    "    for section in chunk[\"sections\"]:\n",
    "        if \"minecraft:raw_iron_block\" in [\n",
    "            str(block[\"Name\"]) for block in section[\"block_states\"][\"palette\"]\n",
    "        ]:\n",
    "            print(\n",
    "                \"Found raw iron somewhere around\"\n",
    "                f\" ({chunk['xPos'].value * 16},\"\n",
    "                f\" {section['Y'].value * 16},\"\n",
    "                f\" {chunk['zPos'].value * 16})\"\n",
    "            )\n",
    "            break\n",
    "    else:\n",
    "        continue\n",
    "    break"
   ]
  },
  {
   "cell_type": "markdown",
   "id": "2e92875a-e027-4298-82b7-8e01449812b3",
   "metadata": {},
   "source": [
    "## Could I narrow that down a bit?\n",
    "\n",
    "So I've found part of an iron ore vein somewhere in the 16x16x16 cube starting at (-1328, -64, -4400), but that's a pretty big cube.\n",
    "\n",
    "Luckily, veins are supposed to be pretty darn big.\n",
    "\n",
    "It would be one thing if I were looking for diamonds or ancient debris (soon...) but I'm just trying to find an area that's generally worth searching.\n",
    "\n",
    "So I'm not going to bother trying to track that down any more than just noting the composition of that chunklet:"
   ]
  },
  {
   "cell_type": "code",
   "execution_count": 22,
   "id": "241e91f3-d9a0-4db7-b2f7-58c3bfb52f88",
   "metadata": {},
   "outputs": [
    {
     "data": {
      "text/plain": [
       "{'minecraft:bedrock': 767,\n",
       " 'minecraft:tuff': 489,\n",
       " 'minecraft:deepslate': 2698,\n",
       " 'minecraft:deepslate_diamond_ore': 2,\n",
       " 'minecraft:deepslate_iron_ore': 11,\n",
       " 'minecraft:deepslate_gold_ore': 9,\n",
       " 'minecraft:deepslate_redstone_ore': 15,\n",
       " 'minecraft:deepslate_lapis_ore': 4,\n",
       " 'minecraft:raw_iron_block': 1,\n",
       " 'minecraft:smooth_basalt': 48,\n",
       " 'minecraft:calcite': 33,\n",
       " 'minecraft:budding_amethyst': 1,\n",
       " 'minecraft:amethyst_block': 8,\n",
       " 'minecraft:gravel': 10}"
      ]
     },
     "execution_count": 22,
     "metadata": {},
     "output_type": "execute_result"
    }
   ],
   "source": [
    "palette = [str(block[\"Name\"]) for block in section[\"block_states\"][\"palette\"]]\n",
    "split_blocks = sum([split_block_value(v) for v in section[\"block_states\"][\"data\"]], [])\n",
    "{palette[k]: v for k, v in Counter(split_blocks).items()}"
   ]
  },
  {
   "cell_type": "markdown",
   "id": "479c93f5-2ac4-4efe-b262-c3189dfcc8ca",
   "metadata": {},
   "source": [
    "So:\n",
    "- not exposed to the air\n",
    "- but right around a geode\n",
    "\n",
    "This is going to be awesome"
   ]
  }
 ],
 "metadata": {
  "kernelspec": {
   "display_name": "Python 3 (ipykernel)",
   "language": "python",
   "name": "python3"
  },
  "language_info": {
   "codemirror_mode": {
    "name": "ipython",
    "version": 3
   },
   "file_extension": ".py",
   "mimetype": "text/x-python",
   "name": "python",
   "nbconvert_exporter": "python",
   "pygments_lexer": "ipython3",
   "version": "3.10.2"
  }
 },
 "nbformat": 4,
 "nbformat_minor": 5
}
