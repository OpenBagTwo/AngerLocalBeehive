{
 "cells": [
  {
   "cell_type": "markdown",
   "id": "da621115-6de2-4fc3-a0ac-33ec640f01a8",
   "metadata": {},
   "source": [
    "# Building a Resource Pack Generator\n",
    "\n",
    "I'm developing a mod called [FoxNap](https://github.com/OpenBagTwo/FoxNap/) which provides the player with custom musical instruments and music discs. The \"killer app\" of this mod, besides making all custom items avaialble in survival via villager trades, is that rather than provide a library of music discs, the user can just set the number of music discs to however many they want, and then the mod will dynamically create registrations for that many discs. From there, it's up to the _client_ (read: player) to provide the tracks themselves via a resource pack. Practically what that means is:\n",
    "- if you're playing single-player, you can add whatever copyrighted music you want to play in your own personal game\n",
    "- if you're a content creator, you can populate the tracks with your own royalty-free music selections\n",
    "- if you play on a server, you can populate the tracks with the music that _you_ have the rights to use while your friend populates the tracks with the music that _they_ have the rights to use\n",
    "- regardless of the situation, you can _swap resource packs_ as the mood strikes, to swap out your music library.\n",
    "\n",
    "This functionality is there now--the issue is that creating a resource pack from scratch is tedious work, and that's even assuming you've already got everything ready as mono oggs.\n",
    "\n",
    "So what I'm going to be building out now is a series of steps that will:\n",
    "\n",
    "1. Convert a mp3, wav, flac or _any_ [`ffmpeg`](https://ffmpeg.org/)-compatible audio format to the correct ogg format\n",
    "1. Create a custom music disc item texture\n",
    "1. Populate that disc into a new or existing resource pack, complete with language file entries \n",
    "\n",
    "Once I've got the mechanics down, the next step will be creating a cross-platform (I'm gonna have to create a Windows VM 🤢) stand-alone binary (possibly with a _graphical user interface_ 🤮) for distribution with the mod. But that's beyond the scope of this notebook."
   ]
  },
  {
   "cell_type": "markdown",
   "id": "804d6d2f-f13d-4f84-bda0-8ded999d032f",
   "metadata": {},
   "source": [
    "## Imports and Setup"
   ]
  },
  {
   "cell_type": "code",
   "execution_count": 1,
   "id": "fe7f413b-bd79-407a-b435-3b1534771e14",
   "metadata": {},
   "outputs": [],
   "source": [
    "# reserved for typing imports"
   ]
  },
  {
   "cell_type": "code",
   "execution_count": 2,
   "id": "0b640aaa-d806-407c-9c38-af1c4546898b",
   "metadata": {},
   "outputs": [],
   "source": [
    "import json\n",
    "import os\n",
    "import subprocess\n",
    "from pathlib import Path\n",
    "\n",
    "import ffmpeg\n",
    "from IPython.display import Markdown, display\n",
    "from PIL import Image"
   ]
  },
  {
   "cell_type": "code",
   "execution_count": 3,
   "id": "1607d354-b755-4259-b6ed-8e4e0ec55385",
   "metadata": {},
   "outputs": [],
   "source": [
    "assets_folder = Path(\"..\") / \"_static\" / \"foxnap_rp\""
   ]
  },
  {
   "cell_type": "markdown",
   "id": "85a386c6-7b37-421a-a108-90aa2f9fe38d",
   "metadata": {},
   "source": [
    "## Converting audio with ffmpeg-python"
   ]
  },
  {
   "cell_type": "markdown",
   "id": "f6332b46-3a1c-45b0-88ab-df9afa708777",
   "metadata": {},
   "source": [
    "The conversion process I've been using thusfar involves calling `ffmpeg` from the command line:\n",
    "\n",
    "```bash\n",
    "$ ffmpeg -i some_music.mp3 -c:a libvorbis -ac 1 -map a some_music.ogg\n",
    "```\n",
    "\n",
    "and I could just keep doing that directly via `subprocess`. But there's also [this handy wrapper](https://github.com/kkroening/ffmpeg-python) I found for ffmpeg, and letting someone else handle the system calls is much more my jam."
   ]
  },
  {
   "cell_type": "markdown",
   "id": "2e731d7e-44c3-443e-9a30-feeab6a864b4",
   "metadata": {},
   "source": [
    "The track I'll be working with is [\"Higher\" by Tobu](https://www.youtube.com/watch?v=blA7epJJaR4), which:\n",
    "* slaps\n",
    "* [is available for free download](https://tobu.io/Higher/download)\n",
    "* is licensed extremely permissively\n",
    "* contains album art embedded in the mp3, which I'll talk more about in a sec"
   ]
  },
  {
   "cell_type": "markdown",
   "id": "c31da83c-f431-4236-85be-999aebc4dc57",
   "metadata": {},
   "source": [
    "But to start, let's load the track."
   ]
  },
  {
   "cell_type": "code",
   "execution_count": 4,
   "id": "430c011f-ca37-4fba-b597-575882ed7e97",
   "metadata": {},
   "outputs": [],
   "source": [
    "higher = ffmpeg.input(os.fspath(assets_folder / \"Tobu - Higher.mp3\"))"
   ]
  },
  {
   "cell_type": "markdown",
   "id": "a4f36735-b992-4960-97c4-6a0275aff7f7",
   "metadata": {},
   "source": [
    "Since I'm not doing any filters, this should be pretty straightforward. And what I love about this library is that it gives me a really easy way to preview the command I'm about to run."
   ]
  },
  {
   "cell_type": "code",
   "execution_count": 5,
   "id": "f94d215a-fa82-46f4-98da-176874eba3b9",
   "metadata": {},
   "outputs": [
    {
     "name": "stdout",
     "output_type": "stream",
     "text": [
      "['ffmpeg', '-i', '../_static/foxnap_rp/Tobu - Higher.mp3', '-map', '0:a', '-ac', '1', '-acodec', 'libvorbis', 'higher.ogg']\n"
     ]
    }
   ],
   "source": [
    "print(higher.audio.output(\"higher.ogg\", acodec=\"libvorbis\", ac=1).compile())"
   ]
  },
  {
   "cell_type": "markdown",
   "id": "1b0cd855-6feb-49c5-a94f-74c25215791c",
   "metadata": {},
   "source": [
    "I'm following my nose reading their docs and [examples](https://github.com/kkroening/ffmpeg-python/blob/f3079726fae7b7b71e4175f79c5eeaddc1d205fb/examples/README.md), so I hope this is right, but I guess I'll find out in a second. "
   ]
  },
  {
   "cell_type": "code",
   "execution_count": 6,
   "id": "f834979f-cbd2-4c74-bc6a-d95138f88c52",
   "metadata": {},
   "outputs": [
    {
     "name": "stderr",
     "output_type": "stream",
     "text": [
      "ffmpeg version 5.1.1 Copyright (c) 2000-2022 the FFmpeg developers\n",
      "  built with gcc 10.4.0 (conda-forge gcc 10.4.0-16)\n",
      "  configuration: --prefix=/home/conda/feedstock_root/build_artifacts/ffmpeg_1662055168074/_h_env_placehold_placehold_placehold_placehold_placehold_placehold_placehold_placehold_placehold_placehold_placehold_placehold_placehold_placehold_placehold_placehold_placehold_placehold_plac --cc=/home/conda/feedstock_root/build_artifacts/ffmpeg_1662055168074/_build_env/bin/x86_64-conda-linux-gnu-cc --cxx=/home/conda/feedstock_root/build_artifacts/ffmpeg_1662055168074/_build_env/bin/x86_64-conda-linux-gnu-c++ --nm=/home/conda/feedstock_root/build_artifacts/ffmpeg_1662055168074/_build_env/bin/x86_64-conda-linux-gnu-nm --ar=/home/conda/feedstock_root/build_artifacts/ffmpeg_1662055168074/_build_env/bin/x86_64-conda-linux-gnu-ar --disable-doc --disable-openssl --enable-demuxer=dash --enable-hardcoded-tables --enable-libfreetype --enable-libfontconfig --enable-libopenh264 --enable-gnutls --enable-libmp3lame --enable-libvpx --enable-pthreads --enable-vaapi --enable-gpl --enable-libx264 --enable-libx265 --enable-libaom --enable-libsvtav1 --enable-libxml2 --enable-pic --enable-shared --disable-static --enable-version3 --enable-zlib --pkg-config=/home/conda/feedstock_root/build_artifacts/ffmpeg_1662055168074/_build_env/bin/pkg-config\n",
      "  libavutil      57. 28.100 / 57. 28.100\n",
      "  libavcodec     59. 37.100 / 59. 37.100\n",
      "  libavformat    59. 27.100 / 59. 27.100\n",
      "  libavdevice    59.  7.100 / 59.  7.100\n",
      "  libavfilter     8. 44.100 /  8. 44.100\n",
      "  libswscale      6.  7.100 /  6.  7.100\n",
      "  libswresample   4.  7.100 /  4.  7.100\n",
      "  libpostproc    56.  6.100 / 56.  6.100\n",
      "[mp3 @ 0x55726853b9c0] Estimating duration from bitrate, this may be inaccurate\n",
      "Input #0, mp3, from '../_static/foxnap_rp/Tobu - Higher.mp3':\n",
      "  Metadata:\n",
      "    TBPM            : 130\n",
      "    genre           : Progressive House\n",
      "    title           : Higher\n",
      "    artist          : Tobu\n",
      "    comment         : \n",
      "    composer        : Tobu\n",
      "    date            : 2013\n",
      "  Duration: 00:03:33.42, start: 0.000000, bitrate: 324 kb/s\n",
      "  Stream #0:0: Audio: mp3, 44100 Hz, stereo, fltp, 320 kb/s\n",
      "  Stream #0:1: Video: mjpeg (Baseline), yuvj444p(pc, bt470bg/unknown/unknown), 500x500 [SAR 100:100 DAR 1:1], 90k tbr, 90k tbn (attached pic)\n",
      "    Metadata:\n",
      "      comment         : Cover (front)\n",
      "Unknown encoder 'libvorbis'\n"
     ]
    },
    {
     "ename": "Error",
     "evalue": "ffmpeg error (see stderr output for detail)",
     "output_type": "error",
     "traceback": [
      "\u001b[0;31m---------------------------------------------------------------------------\u001b[0m",
      "\u001b[0;31mError\u001b[0m                                     Traceback (most recent call last)",
      "Input \u001b[0;32mIn [6]\u001b[0m, in \u001b[0;36m<cell line: 1>\u001b[0;34m()\u001b[0m\n\u001b[0;32m----> 1\u001b[0m \u001b[43mhigher\u001b[49m\u001b[38;5;241;43m.\u001b[39;49m\u001b[43maudio\u001b[49m\u001b[38;5;241;43m.\u001b[39;49m\u001b[43moutput\u001b[49m\u001b[43m(\u001b[49m\u001b[38;5;124;43m\"\u001b[39;49m\u001b[38;5;124;43mhigher.ogg\u001b[39;49m\u001b[38;5;124;43m\"\u001b[39;49m\u001b[43m,\u001b[49m\u001b[43m \u001b[49m\u001b[43macodec\u001b[49m\u001b[38;5;241;43m=\u001b[39;49m\u001b[38;5;124;43m\"\u001b[39;49m\u001b[38;5;124;43mlibvorbis\u001b[39;49m\u001b[38;5;124;43m\"\u001b[39;49m\u001b[43m,\u001b[49m\u001b[43m \u001b[49m\u001b[43mac\u001b[49m\u001b[38;5;241;43m=\u001b[39;49m\u001b[38;5;241;43m1\u001b[39;49m\u001b[43m)\u001b[49m\u001b[38;5;241;43m.\u001b[39;49m\u001b[43moverwrite_output\u001b[49m\u001b[43m(\u001b[49m\u001b[43m)\u001b[49m\u001b[38;5;241;43m.\u001b[39;49m\u001b[43mrun\u001b[49m\u001b[43m(\u001b[49m\u001b[43m)\u001b[49m\n",
      "File \u001b[0;32m/main/.mambaforge/envs/beehive/lib/python3.10/site-packages/ffmpeg/_run.py:325\u001b[0m, in \u001b[0;36mrun\u001b[0;34m(stream_spec, cmd, capture_stdout, capture_stderr, input, quiet, overwrite_output)\u001b[0m\n\u001b[1;32m    323\u001b[0m retcode \u001b[38;5;241m=\u001b[39m process\u001b[38;5;241m.\u001b[39mpoll()\n\u001b[1;32m    324\u001b[0m \u001b[38;5;28;01mif\u001b[39;00m retcode:\n\u001b[0;32m--> 325\u001b[0m     \u001b[38;5;28;01mraise\u001b[39;00m Error(\u001b[38;5;124m'\u001b[39m\u001b[38;5;124mffmpeg\u001b[39m\u001b[38;5;124m'\u001b[39m, out, err)\n\u001b[1;32m    326\u001b[0m \u001b[38;5;28;01mreturn\u001b[39;00m out, err\n",
      "\u001b[0;31mError\u001b[0m: ffmpeg error (see stderr output for detail)"
     ]
    }
   ],
   "source": [
    "higher.audio.output(\"higher.ogg\", acodec=\"libvorbis\", ac=1).overwrite_output().run()"
   ]
  },
  {
   "cell_type": "markdown",
   "id": "1eddade3-7f02-494b-b297-d3e7044c90a1",
   "metadata": {},
   "source": [
    "Huh. So I'm using a `conda` build of `ffmpeg` in the hopes of easily building a cross-platform app... but it doesn't look like that build ships with libvorbis support:"
   ]
  },
  {
   "cell_type": "code",
   "execution_count": 7,
   "id": "a0251c9a-4b8e-4971-a15c-170269d28080",
   "metadata": {},
   "outputs": [
    {
     "name": "stdout",
     "output_type": "stream",
     "text": [
      "Encoders:\n",
      " V..... = Video\n",
      " A..... = Audio\n",
      " S..... = Subtitle\n",
      " .F.... = Frame-level multithreading\n",
      " ..S... = Slice-level multithreading\n",
      " ...X.. = Codec is experimental\n",
      " ....B. = Supports draw_horiz_band\n",
      " .....D = Supports direct rendering method 1\n",
      " ------\n",
      " V....D a64multi             Multicolor charset for Commodore 64 (codec a64_multi)\n",
      " V....D a64multi5            Multicolor charset for Commodore 64, extended with 5th color (colram) (codec a64_multi5)\n",
      " V..... alias_pix            Alias/Wavefront PIX image\n",
      " V..... amv                  AMV Video\n",
      " V....D apng                 APNG (Animated Portable Network Graphics) image\n",
      " V..... asv1                 ASUS V1\n",
      " V..... asv2                 ASUS V2\n",
      " V....D libaom-av1           libaom AV1 (codec av1)\n",
      " V..... libsvtav1            SVT-AV1(Scalable Video Technology for AV1) encoder (codec av1)\n",
      " V....D avrp                 Avid 1:1 10-bit RGB Packer\n",
      " V..X.D avui                 Avid Meridien Uncompressed\n",
      " V....D ayuv                 Uncompressed packed MS 4:4:4:4\n",
      " VF...D bitpacked            Bitpacked\n",
      " V....D bmp                  BMP (Windows and OS/2 bitmap)\n",
      " VF.... cfhd                 GoPro CineForm HD\n",
      " V..... cinepak              Cinepak\n",
      " V....D cljr                 Cirrus Logic AccuPak\n",
      " V.S..D vc2                  SMPTE VC-2 (codec dirac)\n",
      " VFS..D dnxhd                VC3/DNxHD\n",
      " V....D dpx                  DPX (Digital Picture Exchange) image\n",
      " VFS..D dvvideo              DV (Digital Video)\n",
      " VF...D exr                  OpenEXR image\n",
      " V.S... ffv1                 FFmpeg video codec #1\n",
      " VF.... ffvhuff              Huffyuv FFmpeg variant\n",
      " V....D fits                 Flexible Image Transport System\n",
      " V..... flashsv              Flash Screen Video\n",
      " V..... flashsv2             Flash Screen Video Version 2\n",
      " V..... flv                  FLV / Sorenson Spark / Sorenson H.263 (Flash Video) (codec flv1)\n",
      " V..... gif                  GIF (Graphics Interchange Format)\n",
      " V..... h261                 H.261\n",
      " V..... h263                 H.263 / H.263-1996\n",
      " V.S... h263p                H.263+ / H.263-1998 / H.263 version 2\n",
      " V....D libx264              libx264 H.264 / AVC / MPEG-4 AVC / MPEG-4 part 10 (codec h264)\n",
      " V....D libx264rgb           libx264 H.264 / AVC / MPEG-4 AVC / MPEG-4 part 10 RGB (codec h264)\n",
      " V....D libopenh264          OpenH264 H.264 / AVC / MPEG-4 AVC / MPEG-4 part 10 (codec h264)\n",
      " V....D h264_nvenc           NVIDIA NVENC H.264 encoder (codec h264)\n",
      " V....D h264_vaapi           H.264/AVC (VAAPI) (codec h264)\n",
      " V....D libx265              libx265 H.265 / HEVC (codec hevc)\n",
      " V....D hevc_nvenc           NVIDIA NVENC hevc encoder (codec hevc)\n",
      " V....D hevc_vaapi           H.265/HEVC (VAAPI) (codec hevc)\n",
      " VF.... huffyuv              Huffyuv / HuffYUV\n",
      " V..... jpeg2000             JPEG 2000\n",
      " VF...D jpegls               JPEG-LS\n",
      " VF.... ljpeg                Lossless JPEG\n",
      " VF.... magicyuv             MagicYUV video\n",
      " VFS... mjpeg                MJPEG (Motion JPEG)\n",
      " V....D mjpeg_vaapi          MJPEG (VAAPI) (codec mjpeg)\n",
      " V.S... mpeg1video           MPEG-1 video\n",
      " V.S... mpeg2video           MPEG-2 video\n",
      " V....D mpeg2_vaapi          MPEG-2 (VAAPI) (codec mpeg2video)\n",
      " V.S... mpeg4                MPEG-4 part 2\n",
      " V..... msmpeg4v2            MPEG-4 part 2 Microsoft variant version 2\n",
      " V..... msmpeg4              MPEG-4 part 2 Microsoft variant version 3 (codec msmpeg4v3)\n",
      " V..... msvideo1             Microsoft Video-1\n",
      " V....D pam                  PAM (Portable AnyMap) image\n",
      " V....D pbm                  PBM (Portable BitMap) image\n",
      " V..... pcx                  PC Paintbrush PCX image\n",
      " V....D pfm                  PFM (Portable FloatMap) image\n",
      " V....D pgm                  PGM (Portable GrayMap) image\n",
      " V....D pgmyuv               PGMYUV (Portable GrayMap YUV) image\n",
      " V....D phm                  PHM (Portable HalfFloatMap) image\n",
      " VF.... png                  PNG (Portable Network Graphics) image\n",
      " V....D ppm                  PPM (Portable PixelMap) image\n",
      " VF.... prores               Apple ProRes\n",
      " VF.... prores_aw            Apple ProRes (codec prores)\n",
      " VFS... prores_ks            Apple ProRes (iCodec Pro) (codec prores)\n",
      " VF.... qoi                  QOI (Quite OK Image format) image\n",
      " V..... qtrle                QuickTime Animation (RLE) video\n",
      " V....D r10k                 AJA Kona 10-bit RGB Codec\n",
      " V....D r210                 Uncompressed RGB 10-bit\n",
      " VF...D rawvideo             raw video\n",
      " V..... roqvideo             id RoQ video (codec roq)\n",
      " V..... rpza                 QuickTime video (RPZA)\n",
      " V..... rv10                 RealVideo 1.0\n",
      " V..... rv20                 RealVideo 2.0\n",
      " V..... sgi                  SGI image\n",
      " V..... smc                  QuickTime Graphics (SMC)\n",
      " V..... snow                 Snow\n",
      " V..... speedhq              NewTek SpeedHQ\n",
      " V..... sunrast              Sun Rasterfile image\n",
      " V..... svq1                 Sorenson Vector Quantizer 1 / Sorenson Video 1 / SVQ1\n",
      " V..... targa                Truevision Targa image\n",
      " VF.... tiff                 TIFF image\n",
      " VF.... utvideo              Ut Video\n",
      " VF...D v210                 Uncompressed 4:2:2 10-bit\n",
      " V....D v308                 Uncompressed packed 4:4:4\n",
      " V....D v408                 Uncompressed packed QT 4:4:4:4\n",
      " V....D v410                 Uncompressed 4:4:4 10-bit\n",
      " V.S..D vbn                  Vizrt Binary Image\n",
      " V....D libvpx               libvpx VP8 (codec vp8)\n",
      " V....D vp8_vaapi            VP8 (VAAPI) (codec vp8)\n",
      " V....D libvpx-vp9           libvpx VP9 (codec vp9)\n",
      " V....D vp9_vaapi            VP9 (VAAPI) (codec vp9)\n",
      " V..... wmv1                 Windows Media Video 7\n",
      " V..... wmv2                 Windows Media Video 8\n",
      " V..... wrapped_avframe      AVFrame to AVPacket passthrough\n",
      " V..... xbm                  XBM (X BitMap) image\n",
      " V....D xface                X-face image\n",
      " V....D xwd                  XWD (X Window Dump) image\n",
      " V....D y41p                 Uncompressed YUV 4:1:1 12-bit\n",
      " V....D yuv4                 Uncompressed packed 4:2:0\n",
      " VF.... zlib                 LCL (LossLess Codec Library) ZLIB\n",
      " V....D zmbv                 Zip Motion Blocks Video\n",
      " A..... aac                  AAC (Advanced Audio Coding)\n",
      " A....D ac3                  ATSC A/52A (AC-3)\n",
      " A....D ac3_fixed            ATSC A/52A (AC-3) (codec ac3)\n",
      " A....D adpcm_adx            SEGA CRI ADX ADPCM\n",
      " A....D adpcm_argo           ADPCM Argonaut Games\n",
      " A....D g722                 G.722 ADPCM (codec adpcm_g722)\n",
      " A....D g726                 G.726 ADPCM (codec adpcm_g726)\n",
      " A....D g726le               G.726 little endian ADPCM (\"right-justified\") (codec adpcm_g726le)\n",
      " A....D adpcm_ima_alp        ADPCM IMA High Voltage Software ALP\n",
      " A....D adpcm_ima_amv        ADPCM IMA AMV\n",
      " A....D adpcm_ima_apm        ADPCM IMA Ubisoft APM\n",
      " A....D adpcm_ima_qt         ADPCM IMA QuickTime\n",
      " A....D adpcm_ima_ssi        ADPCM IMA Simon & Schuster Interactive\n",
      " A....D adpcm_ima_wav        ADPCM IMA WAV\n",
      " A....D adpcm_ima_ws         ADPCM IMA Westwood\n",
      " A....D adpcm_ms             ADPCM Microsoft\n",
      " A....D adpcm_swf            ADPCM Shockwave Flash\n",
      " A....D adpcm_yamaha         ADPCM Yamaha\n",
      " A..... alac                 ALAC (Apple Lossless Audio Codec)\n",
      " A....D aptx                 aptX (Audio Processing Technology for Bluetooth)\n",
      " A....D aptx_hd              aptX HD (Audio Processing Technology for Bluetooth)\n",
      " A....D comfortnoise         RFC 3389 comfort noise generator\n",
      " A....D dfpwm                DFPWM1a audio\n",
      " A..X.D dca                  DCA (DTS Coherent Acoustics) (codec dts)\n",
      " A....D eac3                 ATSC A/52 E-AC-3\n",
      " A....D flac                 FLAC (Free Lossless Audio Codec)\n",
      " A....D g723_1               G.723.1\n",
      " A..X.. mlp                  MLP (Meridian Lossless Packing)\n",
      " A..... mp2                  MP2 (MPEG audio layer 2)\n",
      " A..... mp2fixed             MP2 fixed point (MPEG audio layer 2) (codec mp2)\n",
      " A....D libmp3lame           libmp3lame MP3 (MPEG audio layer 3) (codec mp3)\n",
      " A....D nellymoser           Nellymoser Asao\n",
      " A..X.. opus                 Opus\n",
      " A....D pcm_alaw             PCM A-law / G.711 A-law\n",
      " A....D pcm_bluray           PCM signed 16|20|24-bit big-endian for Blu-ray media\n",
      " A....D pcm_dvd              PCM signed 16|20|24-bit big-endian for DVD media\n",
      " A....D pcm_f32be            PCM 32-bit floating point big-endian\n",
      " A....D pcm_f32le            PCM 32-bit floating point little-endian\n",
      " A....D pcm_f64be            PCM 64-bit floating point big-endian\n",
      " A....D pcm_f64le            PCM 64-bit floating point little-endian\n",
      " A....D pcm_mulaw            PCM mu-law / G.711 mu-law\n",
      " A....D pcm_s16be            PCM signed 16-bit big-endian\n",
      " A....D pcm_s16be_planar     PCM signed 16-bit big-endian planar\n",
      " A....D pcm_s16le            PCM signed 16-bit little-endian\n",
      " A....D pcm_s16le_planar     PCM signed 16-bit little-endian planar\n",
      " A....D pcm_s24be            PCM signed 24-bit big-endian\n",
      " A....D pcm_s24daud          PCM D-Cinema audio signed 24-bit\n",
      " A....D pcm_s24le            PCM signed 24-bit little-endian\n",
      " A....D pcm_s24le_planar     PCM signed 24-bit little-endian planar\n",
      " A....D pcm_s32be            PCM signed 32-bit big-endian\n",
      " A....D pcm_s32le            PCM signed 32-bit little-endian\n",
      " A....D pcm_s32le_planar     PCM signed 32-bit little-endian planar\n",
      " A....D pcm_s64be            PCM signed 64-bit big-endian\n",
      " A....D pcm_s64le            PCM signed 64-bit little-endian\n",
      " A....D pcm_s8               PCM signed 8-bit\n",
      " A....D pcm_s8_planar        PCM signed 8-bit planar\n",
      " A....D pcm_u16be            PCM unsigned 16-bit big-endian\n",
      " A....D pcm_u16le            PCM unsigned 16-bit little-endian\n",
      " A....D pcm_u24be            PCM unsigned 24-bit big-endian\n",
      " A....D pcm_u24le            PCM unsigned 24-bit little-endian\n",
      " A....D pcm_u32be            PCM unsigned 32-bit big-endian\n",
      " A....D pcm_u32le            PCM unsigned 32-bit little-endian\n",
      " A....D pcm_u8               PCM unsigned 8-bit\n",
      " A....D pcm_vidc             PCM Archimedes VIDC\n",
      " A....D real_144             RealAudio 1.0 (14.4K) (codec ra_144)\n",
      " A....D roq_dpcm             id RoQ DPCM\n",
      " A..X.D s302m                SMPTE 302M\n",
      " A....D sbc                  SBC (low-complexity subband codec)\n",
      " A..X.. sonic                Sonic\n",
      " A..X.. sonicls              Sonic lossless\n",
      " A..X.. truehd               TrueHD\n",
      " A..... tta                  TTA (True Audio)\n",
      " A..X.. vorbis               Vorbis\n",
      " A..... wavpack              WavPack\n",
      " A..... wmav1                Windows Media Audio 1\n",
      " A..... wmav2                Windows Media Audio 2\n",
      " S..... ssa                  ASS (Advanced SubStation Alpha) subtitle (codec ass)\n",
      " S..... ass                  ASS (Advanced SubStation Alpha) subtitle\n",
      " S..... dvbsub               DVB subtitles (codec dvb_subtitle)\n",
      " S..... dvdsub               DVD subtitles (codec dvd_subtitle)\n",
      " S..... mov_text             3GPP Timed Text subtitle\n",
      " S..... srt                  SubRip subtitle (codec subrip)\n",
      " S..... subrip               SubRip subtitle\n",
      " S..... text                 Raw text subtitle\n",
      " S..... ttml                 TTML subtitle\n",
      " S..... webvtt               WebVTT subtitle\n",
      " S..... xsub                 DivX subtitles (XSUB)\n"
     ]
    },
    {
     "name": "stderr",
     "output_type": "stream",
     "text": [
      "ffmpeg version 5.1.1 Copyright (c) 2000-2022 the FFmpeg developers\n",
      "  built with gcc 10.4.0 (conda-forge gcc 10.4.0-16)\n",
      "  configuration: --prefix=/home/conda/feedstock_root/build_artifacts/ffmpeg_1662055168074/_h_env_placehold_placehold_placehold_placehold_placehold_placehold_placehold_placehold_placehold_placehold_placehold_placehold_placehold_placehold_placehold_placehold_placehold_placehold_plac --cc=/home/conda/feedstock_root/build_artifacts/ffmpeg_1662055168074/_build_env/bin/x86_64-conda-linux-gnu-cc --cxx=/home/conda/feedstock_root/build_artifacts/ffmpeg_1662055168074/_build_env/bin/x86_64-conda-linux-gnu-c++ --nm=/home/conda/feedstock_root/build_artifacts/ffmpeg_1662055168074/_build_env/bin/x86_64-conda-linux-gnu-nm --ar=/home/conda/feedstock_root/build_artifacts/ffmpeg_1662055168074/_build_env/bin/x86_64-conda-linux-gnu-ar --disable-doc --disable-openssl --enable-demuxer=dash --enable-hardcoded-tables --enable-libfreetype --enable-libfontconfig --enable-libopenh264 --enable-gnutls --enable-libmp3lame --enable-libvpx --enable-pthreads --enable-vaapi --enable-gpl --enable-libx264 --enable-libx265 --enable-libaom --enable-libsvtav1 --enable-libxml2 --enable-pic --enable-shared --disable-static --enable-version3 --enable-zlib --pkg-config=/home/conda/feedstock_root/build_artifacts/ffmpeg_1662055168074/_build_env/bin/pkg-config\n",
      "  libavutil      57. 28.100 / 57. 28.100\n",
      "  libavcodec     59. 37.100 / 59. 37.100\n",
      "  libavformat    59. 27.100 / 59. 27.100\n",
      "  libavdevice    59.  7.100 / 59.  7.100\n",
      "  libavfilter     8. 44.100 /  8. 44.100\n",
      "  libswscale      6.  7.100 /  6.  7.100\n",
      "  libswresample   4.  7.100 /  4.  7.100\n",
      "  libpostproc    56.  6.100 / 56.  6.100\n"
     ]
    },
    {
     "data": {
      "text/plain": [
       "CompletedProcess(args=['ffmpeg', '-encoders'], returncode=0)"
      ]
     },
     "execution_count": 7,
     "metadata": {},
     "output_type": "execute_result"
    }
   ],
   "source": [
    "subprocess.run([\"ffmpeg\", \"-encoders\"])"
   ]
  },
  {
   "cell_type": "markdown",
   "id": "7bc16b9d-f888-4dbc-9420-a83fa93b8944",
   "metadata": {},
   "source": [
    "It has _vorbis_ but not _libvorbis_, and [vorbis is experimental](https://trac.ffmpeg.org/wiki/TheoraVorbisEncodingGuide).\n",
    "\n",
    "That being said, it's experimental because:\n",
    "\n",
    "> native FFmpeg Vorbis audio encoder (`-codec:a vorbis -strict experimental`)... does not provide comparable quality to libvorbis\n",
    "\n",
    "which is probably fine for these purposes."
   ]
  },
  {
   "cell_type": "code",
   "execution_count": 8,
   "id": "10587382-1d73-47a4-a6f4-0e9e1ac54d95",
   "metadata": {},
   "outputs": [
    {
     "name": "stderr",
     "output_type": "stream",
     "text": [
      "ffmpeg version 5.1.1 Copyright (c) 2000-2022 the FFmpeg developers\n",
      "  built with gcc 10.4.0 (conda-forge gcc 10.4.0-16)\n",
      "  configuration: --prefix=/home/conda/feedstock_root/build_artifacts/ffmpeg_1662055168074/_h_env_placehold_placehold_placehold_placehold_placehold_placehold_placehold_placehold_placehold_placehold_placehold_placehold_placehold_placehold_placehold_placehold_placehold_placehold_plac --cc=/home/conda/feedstock_root/build_artifacts/ffmpeg_1662055168074/_build_env/bin/x86_64-conda-linux-gnu-cc --cxx=/home/conda/feedstock_root/build_artifacts/ffmpeg_1662055168074/_build_env/bin/x86_64-conda-linux-gnu-c++ --nm=/home/conda/feedstock_root/build_artifacts/ffmpeg_1662055168074/_build_env/bin/x86_64-conda-linux-gnu-nm --ar=/home/conda/feedstock_root/build_artifacts/ffmpeg_1662055168074/_build_env/bin/x86_64-conda-linux-gnu-ar --disable-doc --disable-openssl --enable-demuxer=dash --enable-hardcoded-tables --enable-libfreetype --enable-libfontconfig --enable-libopenh264 --enable-gnutls --enable-libmp3lame --enable-libvpx --enable-pthreads --enable-vaapi --enable-gpl --enable-libx264 --enable-libx265 --enable-libaom --enable-libsvtav1 --enable-libxml2 --enable-pic --enable-shared --disable-static --enable-version3 --enable-zlib --pkg-config=/home/conda/feedstock_root/build_artifacts/ffmpeg_1662055168074/_build_env/bin/pkg-config\n",
      "  libavutil      57. 28.100 / 57. 28.100\n",
      "  libavcodec     59. 37.100 / 59. 37.100\n",
      "  libavformat    59. 27.100 / 59. 27.100\n",
      "  libavdevice    59.  7.100 / 59.  7.100\n",
      "  libavfilter     8. 44.100 /  8. 44.100\n",
      "  libswscale      6.  7.100 /  6.  7.100\n",
      "  libswresample   4.  7.100 /  4.  7.100\n",
      "  libpostproc    56.  6.100 / 56.  6.100\n",
      "[mp3 @ 0x557491cafa40] Estimating duration from bitrate, this may be inaccurate\n",
      "Input #0, mp3, from '../_static/foxnap_rp/Tobu - Higher.mp3':\n",
      "  Metadata:\n",
      "    TBPM            : 130\n",
      "    genre           : Progressive House\n",
      "    title           : Higher\n",
      "    artist          : Tobu\n",
      "    comment         : \n",
      "    composer        : Tobu\n",
      "    date            : 2013\n",
      "  Duration: 00:03:33.42, start: 0.000000, bitrate: 324 kb/s\n",
      "  Stream #0:0: Audio: mp3, 44100 Hz, stereo, fltp, 320 kb/s\n",
      "  Stream #0:1: Video: mjpeg (Baseline), yuvj444p(pc, bt470bg/unknown/unknown), 500x500 [SAR 100:100 DAR 1:1], 90k tbr, 90k tbn (attached pic)\n",
      "    Metadata:\n",
      "      comment         : Cover (front)\n",
      "Stream mapping:\n",
      "  Stream #0:0 -> #0:0 (mp3 (mp3float) -> vorbis (native))\n",
      "Press [q] to stop, [?] for help\n",
      "[vorbis @ 0x557491ce4c00] Current FFmpeg Vorbis encoder only supports 2 channels.\n",
      "Error initializing output stream 0:0 -- Error while opening encoder for output stream #0:0 - maybe incorrect parameters such as bit_rate, rate, width or height\n",
      "Conversion failed!\n"
     ]
    },
    {
     "ename": "Error",
     "evalue": "ffmpeg error (see stderr output for detail)",
     "output_type": "error",
     "traceback": [
      "\u001b[0;31m---------------------------------------------------------------------------\u001b[0m",
      "\u001b[0;31mError\u001b[0m                                     Traceback (most recent call last)",
      "Input \u001b[0;32mIn [8]\u001b[0m, in \u001b[0;36m<cell line: 1>\u001b[0;34m()\u001b[0m\n\u001b[0;32m----> 1\u001b[0m \u001b[43mhigher\u001b[49m\u001b[38;5;241;43m.\u001b[39;49m\u001b[43maudio\u001b[49m\u001b[38;5;241;43m.\u001b[39;49m\u001b[43moutput\u001b[49m\u001b[43m(\u001b[49m\u001b[38;5;124;43m\"\u001b[39;49m\u001b[38;5;124;43mhigher.ogg\u001b[39;49m\u001b[38;5;124;43m\"\u001b[39;49m\u001b[43m,\u001b[49m\u001b[43m \u001b[49m\u001b[43macodec\u001b[49m\u001b[38;5;241;43m=\u001b[39;49m\u001b[38;5;124;43m\"\u001b[39;49m\u001b[38;5;124;43mvorbis\u001b[39;49m\u001b[38;5;124;43m\"\u001b[39;49m\u001b[43m,\u001b[49m\u001b[43m \u001b[49m\u001b[43mac\u001b[49m\u001b[38;5;241;43m=\u001b[39;49m\u001b[38;5;241;43m1\u001b[39;49m\u001b[43m,\u001b[49m\u001b[43m \u001b[49m\u001b[43mstrict\u001b[49m\u001b[38;5;241;43m=\u001b[39;49m\u001b[38;5;124;43m\"\u001b[39;49m\u001b[38;5;124;43mexperimental\u001b[39;49m\u001b[38;5;124;43m\"\u001b[39;49m\u001b[43m)\u001b[49m\u001b[38;5;241;43m.\u001b[39;49m\u001b[43moverwrite_output\u001b[49m\u001b[43m(\u001b[49m\u001b[43m)\u001b[49m\u001b[38;5;241;43m.\u001b[39;49m\u001b[43mrun\u001b[49m\u001b[43m(\u001b[49m\u001b[43m)\u001b[49m\n",
      "File \u001b[0;32m/main/.mambaforge/envs/beehive/lib/python3.10/site-packages/ffmpeg/_run.py:325\u001b[0m, in \u001b[0;36mrun\u001b[0;34m(stream_spec, cmd, capture_stdout, capture_stderr, input, quiet, overwrite_output)\u001b[0m\n\u001b[1;32m    323\u001b[0m retcode \u001b[38;5;241m=\u001b[39m process\u001b[38;5;241m.\u001b[39mpoll()\n\u001b[1;32m    324\u001b[0m \u001b[38;5;28;01mif\u001b[39;00m retcode:\n\u001b[0;32m--> 325\u001b[0m     \u001b[38;5;28;01mraise\u001b[39;00m Error(\u001b[38;5;124m'\u001b[39m\u001b[38;5;124mffmpeg\u001b[39m\u001b[38;5;124m'\u001b[39m, out, err)\n\u001b[1;32m    326\u001b[0m \u001b[38;5;28;01mreturn\u001b[39;00m out, err\n",
      "\u001b[0;31mError\u001b[0m: ffmpeg error (see stderr output for detail)"
     ]
    }
   ],
   "source": [
    "higher.audio.output(\n",
    "    \"higher.ogg\", acodec=\"vorbis\", ac=1, strict=\"experimental\"\n",
    ").overwrite_output().run()"
   ]
  },
  {
   "cell_type": "markdown",
   "id": "d5fcc950-a71c-4f0f-9e45-656d0fa66a2f",
   "metadata": {},
   "source": [
    ">  Current FFmpeg Vorbis encoder only supports 2 channels\n",
    "\n",
    "Okay, well that's a dealbreaker then."
   ]
  },
  {
   "cell_type": "code",
   "execution_count": null,
   "id": "b50a2aea-7faa-4979-8a74-b8f357091a05",
   "metadata": {},
   "outputs": [],
   "source": []
  }
 ],
 "metadata": {
  "kernelspec": {
   "display_name": "Python 3 (ipykernel)",
   "language": "python",
   "name": "python3"
  },
  "language_info": {
   "codemirror_mode": {
    "name": "ipython",
    "version": 3
   },
   "file_extension": ".py",
   "mimetype": "text/x-python",
   "name": "python",
   "nbconvert_exporter": "python",
   "pygments_lexer": "ipython3",
   "version": "3.10.6"
  }
 },
 "nbformat": 4,
 "nbformat_minor": 5
}
