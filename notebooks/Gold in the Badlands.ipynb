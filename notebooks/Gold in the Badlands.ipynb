{
 "cells": [
  {
   "cell_type": "markdown",
   "id": "b51d8400-534a-4f3e-ae2c-1d6791ba0907",
   "metadata": {},
   "source": [
    "# There's Gold in Them Hills... right?\n",
    "\n",
    "It's time for a little bit of Minecraft Myth Busting, as X would say.\n",
    "\n",
    "Allegedly, gold is much easier to find in the Badlands with a uniform density from y=32 up to y=256\n",
    "\n",
    "![ore distribution 1.18-1.20.1](../_static/ore_chart.png)\n",
    "\n",
    "but at higher y-levels, most of the badlands is made up of terracotta, and I've never seen any type of ore in the middle of terracotta. So should you _really_ be digging into the hearts of mountains to look for gold? Or are you better off searching at, say, y~40?"
   ]
  },
  {
   "cell_type": "markdown",
   "id": "483d33a1-66e7-4995-91d0-22b436806908",
   "metadata": {},
   "source": [
    "## Creating a Test World\n",
    "\n",
    "Rather than analyze one of my existing worlds, I chose to create a new one from scratch, first using [chunkbase to find a world with a good-sized badland](https://www.chunkbase.com/apps/seed-map#-1099639228980812746), then generating that world in a vanilla Minecraft 1.20 instance, teleporting to the center of the badlands,\n",
    "\n",
    "![Badland to the bone](../_static/badlands.png)\n",
    "\n",
    "letting the chunks generate, then using [MCA Selector](https://github.com/Querz/mcaselector) to trim out all the non-badlands biomes.\n",
    "\n",
    "I also teleported to (0, 128, 0) in the nether to generate some nether chunks for comparison."
   ]
  },
  {
   "cell_type": "markdown",
   "id": "38793bc8-8977-4f9f-b6cf-6bd45297313d",
   "metadata": {},
   "source": [
    "## Imports, Setup and Macros"
   ]
  },
  {
   "cell_type": "code",
   "execution_count": 1,
   "id": "e684fc88-d493-4dab-8025-d8f336e0a9cc",
   "metadata": {
    "tags": []
   },
   "outputs": [],
   "source": [
    "import json\n",
    "from collections import Counter, defaultdict\n",
    "from os import environ\n",
    "from pathlib import Path\n",
    "from typing import Any, Collection, Dict, List, Tuple\n",
    "\n",
    "import matplotlib.pyplot as plt\n",
    "import mutf8\n",
    "import pandas as pd\n",
    "from IPython.display import Markdown, display\n",
    "from nbt import nbt, region\n",
    "from nbt.chunk import AnvilChunk"
   ]
  },
  {
   "cell_type": "code",
   "execution_count": 2,
   "id": "61f7db01-c738-458e-b43f-092754ceda60",
   "metadata": {
    "tags": []
   },
   "outputs": [],
   "source": [
    "save_folder = Path(environ[\"SAVE_PATH\"])"
   ]
  },
  {
   "cell_type": "code",
   "execution_count": 3,
   "id": "3b2ae68c-58d2-4b2b-8ebd-60e7eafd857d",
   "metadata": {
    "tags": []
   },
   "outputs": [],
   "source": [
    "def summarize_keystore(keystore: Dict[str, Any]) -> None:\n",
    "    \"\"\"Display a summary of the contents of a key-value store\n",
    "\n",
    "    Parameters\n",
    "    ----------\n",
    "    keystore : dict\n",
    "        The keystore to summarize\n",
    "\n",
    "    Returns\n",
    "    -------\n",
    "    None\n",
    "    \"\"\"\n",
    "\n",
    "    def _summarize_keystore(keystore: Dict[str, Any]) -> str:\n",
    "        summary = \"\"\n",
    "        for k, v in keystore.items():\n",
    "            summary += f\"\\n - `{k}` : \"\n",
    "            if isinstance(v, (str, nbt.TAG_String)):\n",
    "                summary += f'`\"{v}\"`'\n",
    "            elif not isinstance(v, Collection):\n",
    "                summary += f\"`{str(v)}`\"\n",
    "            else:\n",
    "                length = len(v)\n",
    "                if 0 < length < 3:\n",
    "                    summary += \"\\n\"\n",
    "                    if not isinstance(v, Dict):\n",
    "                        v = {i: item for i, item in enumerate(v)}\n",
    "                    summary += \"\\n\".join(\n",
    "                        (f\"\\t{line}\" for line in _summarize_keystore(v).split(\"\\n\"))\n",
    "                    )\n",
    "                else:\n",
    "                    summary += f\"({len(v)} items)\"\n",
    "        return summary\n",
    "\n",
    "    display(Markdown(_summarize_keystore(keystore)))"
   ]
  },
  {
   "cell_type": "code",
   "execution_count": 4,
   "id": "9f4e179f-11db-4135-ba96-4ba47bf44b88",
   "metadata": {
    "tags": []
   },
   "outputs": [],
   "source": [
    "def split_block_value(value: int) -> List[int]:\n",
    "    \"\"\"Split a 64-bit int into 16x 4-bit ints\n",
    "\n",
    "    Parameters\n",
    "    ----------\n",
    "    value: 64-bit int\n",
    "        The int to split\n",
    "\n",
    "    Returns\n",
    "    -------\n",
    "    list of 16x 4-bit ints\n",
    "    \"\"\"\n",
    "    small_ints: List[int] = []\n",
    "    for _ in range(16):\n",
    "        value, remainder = divmod(value, 2**4)\n",
    "        small_ints.insert(0, remainder)\n",
    "    return small_ints"
   ]
  },
  {
   "cell_type": "code",
   "execution_count": 5,
   "id": "1b7afab2-f0f8-4e50-9810-ef619014bf01",
   "metadata": {},
   "outputs": [],
   "source": [
    "def get_region_and_chunk(\n",
    "    coords: tuple[int, int, int]\n",
    ") -> tuple[tuple[int, int], tuple[int, int, int]]:\n",
    "    \"\"\"Given a set of coordinates return the corresponding\n",
    "    region file and chunk\n",
    "\n",
    "    Parameters\n",
    "    ----------\n",
    "    (int, int, int)\n",
    "        The block coordinates\n",
    "\n",
    "    Returns\n",
    "    -------\n",
    "    str\n",
    "        The region index\n",
    "    (int, int, int)\n",
    "        The chunk index (including y-sliced sub-chunk)\n",
    "    \"\"\"\n",
    "    chunk: tuple[int, int, int] = tuple(coord // 16 for coord in coords)  # type: ignore\n",
    "    region = (chunk[0] // 32, chunk[2] // 32)\n",
    "    return region, chunk"
   ]
  },
  {
   "cell_type": "markdown",
   "id": "cb79140c-8e11-4c95-a030-61984aa4e261",
   "metadata": {},
   "source": [
    "## Chunk Contents\n",
    "\n",
    "Cribbing from the [Iron Vein finding notebook](Finding%20an%20Iron%20Vein.ipynb), the name of the game is combing through each chunklet and finding the ones *containing* the blocks we want, then finding out *how many* such blocks are in that chunklet."
   ]
  },
  {
   "cell_type": "code",
   "execution_count": 6,
   "id": "e5e2102b-6ae9-45bf-9b18-201c07c9cd20",
   "metadata": {},
   "outputs": [
    {
     "data": {
      "image/png": "[encoded data removed]",
      "text/plain": [
       "<Figure size 640x480 with 1 Axes>"
      ]
     },
     "metadata": {},
     "output_type": "display_data"
    },
    {
     "name": "stdout",
     "output_type": "stream",
     "text": [
      "CPU times: user 1 s, sys: 124 ms, total: 1.12 s\n",
      "Wall time: 1 s\n"
     ]
    }
   ],
   "source": [
    "%%time\n",
    "n_chunks = 0\n",
    "gold_chunklets: dict[int, list[nbt.TAG_Compound]] = defaultdict(list)\n",
    "for region_file in sorted((save_folder / \"region\").glob(\"*\")):\n",
    "    if region_file.name == \"r.0.0.mca\":\n",
    "        continue\n",
    "    region_data = region.RegionFile(region_file)\n",
    "    for chunk in region_data.iter_chunks():\n",
    "        n_chunks += 1\n",
    "        for section in chunk[\"sections\"]:\n",
    "            # explicitly ignoring deepslate gold ore\n",
    "            if \"minecraft:gold_ore\" in [\n",
    "                block[\"Name\"].value for block in section[\"block_states\"][\"palette\"]\n",
    "            ]:\n",
    "                gold_chunklets[section[\"Y\"].value * 16].append(section)\n",
    "\n",
    "fig, ax = plt.subplots()\n",
    "ax.barh(\n",
    "    *zip(*((y, len(chunklets)) for y, chunklets in gold_chunklets.items())),\n",
    "    height=15,\n",
    "    align=\"edge\",\n",
    ")\n",
    "ax.set_title(\"Number of chunklets containing gold ore\")\n",
    "ax.set_ylabel(\"Y level\")\n",
    "ax.set_xlabel(\"Number of Chunklets\")\n",
    "plt.show(fig)"
   ]
  },
  {
   "cell_type": "markdown",
   "id": "eabac608-ff11-4059-92c8-b4e4915451b9",
   "metadata": {
    "tags": []
   },
   "source": [
    "Now let's convert that to total ore."
   ]
  },
  {
   "cell_type": "code",
   "execution_count": 7,
   "id": "bb4b0fdf-7789-4e60-9998-b3a1fa4dea75",
   "metadata": {
    "tags": []
   },
   "outputs": [
    {
     "data": {
      "image/png": "[encoded data removed]",
      "text/plain": [
       "<Figure size 640x480 with 1 Axes>"
      ]
     },
     "metadata": {},
     "output_type": "display_data"
    },
    {
     "name": "stdout",
     "output_type": "stream",
     "text": [
      "CPU times: user 2.52 s, sys: 103 ms, total: 2.62 s\n",
      "Wall time: 2.5 s\n"
     ]
    }
   ],
   "source": [
    "%%time\n",
    "gold_count: dict[int, int] = {}\n",
    "for y, chunklets in gold_chunklets.items():\n",
    "    ore_count = 0\n",
    "    for chunklet in chunklets:\n",
    "        palette: list[str] = [\n",
    "            block[\"Name\"].value for block in chunklet[\"block_states\"][\"palette\"]\n",
    "        ]\n",
    "        ore_idx = palette.index(\"minecraft:gold_ore\")\n",
    "        block_counts = Counter(\n",
    "            sum(\n",
    "                [split_block_value(v) for v in chunklet[\"block_states\"][\"data\"]],\n",
    "                [],\n",
    "            )\n",
    "        )\n",
    "        ore_count += block_counts.get(ore_idx, 0)\n",
    "    gold_count[y] = ore_count\n",
    "\n",
    "fig, ax = plt.subplots()\n",
    "ax.barh(\n",
    "    *zip(*gold_count.items()),\n",
    "    height=15,\n",
    "    align=\"edge\",\n",
    ")\n",
    "ax.set_title(\"Gold Ore Incidence\")\n",
    "ax.set_ylabel(\"Y level\")\n",
    "ax.set_xlabel(\"Number of Gold Ore Blocks\")\n",
    "ax.ticklabel_format(axis=\"x\", style=\"sci\", scilimits=(-4, 4))\n",
    "plt.show(fig)"
   ]
  },
  {
   "cell_type": "markdown",
   "id": "14dd53fe-a2cd-466b-860c-0d5617e072d6",
   "metadata": {},
   "source": [
    "So in terms of _absolute_ quantity of ores, you're actually better off mining at y=48-64, which is interesting!"
   ]
  },
  {
   "cell_type": "markdown",
   "id": "14558ab5-4c5d-4e4c-93c9-54c82a287621",
   "metadata": {},
   "source": [
    "## Normalized Counts\n",
    "\n",
    "But what about if we subtract air, water, etc and look at percentage of _mineable_ blocks?"
   ]
  },
  {
   "cell_type": "code",
   "execution_count": 8,
   "id": "79ffab37-39b0-493b-beb6-da795d9ae8f6",
   "metadata": {
    "tags": []
   },
   "outputs": [],
   "source": [
    "# blockz: set[str] = set()\n",
    "# for region_file in sorted((save_folder / \"region\").glob(\"*\")):\n",
    "#     region_data = region.RegionFile(region_file)\n",
    "#     for chunk in region_data.iter_chunks():\n",
    "#         n_chunks += 1\n",
    "#         for section in chunk[\"sections\"]:\n",
    "#             blockz.update( [\n",
    "#                 block[\"Name\"].value for block in section[\"block_states\"][\"palette\"]\n",
    "#             ])\n",
    "# blockz"
   ]
  },
  {
   "cell_type": "code",
   "execution_count": 9,
   "id": "07f26ef9-b29b-4b51-93d4-d78497b26478",
   "metadata": {
    "tags": []
   },
   "outputs": [
    {
     "data": {
      "image/png": "[encoded data removed]",
      "text/plain": [
       "<Figure size 640x480 with 1 Axes>"
      ]
     },
     "metadata": {},
     "output_type": "display_data"
    },
    {
     "name": "stdout",
     "output_type": "stream",
     "text": [
      "CPU times: user 8.84 s, sys: 121 ms, total: 8.96 s\n",
      "Wall time: 8.85 s\n"
     ]
    }
   ],
   "source": [
    "%%time\n",
    "\n",
    "gold_count = defaultdict(int)\n",
    "denominator: dict[int, int] = defaultdict(int)\n",
    "for region_file in sorted((save_folder / \"region\").glob(\"*\")):\n",
    "    if region_file.name == \"r.0.0.mca\":\n",
    "        continue\n",
    "    region_data = region.RegionFile(region_file)\n",
    "    for chunk in region_data.iter_chunks():\n",
    "        for section in chunk[\"sections\"]:\n",
    "            if \"data\" not in section[\"block_states\"]:\n",
    "                # then it's all a single block,\n",
    "                # probably air or water\n",
    "                continue\n",
    "            block_counts = Counter(\n",
    "                sum(\n",
    "                    [split_block_value(v) for v in section[\"block_states\"][\"data\"]],\n",
    "                    [],\n",
    "                )\n",
    "            )\n",
    "            block_lookup: list[str] = [\n",
    "                block[\"Name\"].value for block in section[\"block_states\"][\"palette\"]\n",
    "            ]\n",
    "            ore_count = 0\n",
    "            mineable_block_count = 0\n",
    "            for i, count in block_counts.items():\n",
    "                if block_lookup[i] == \"minecraft:gold_ore\":\n",
    "                    # this could just be \"=\"\n",
    "                    ore_count += count\n",
    "                if block_lookup[i] not in (\n",
    "                    \"minecraft:air\",\n",
    "                    \"minecraft:water\",\n",
    "                    \"minecraft:lava\",\n",
    "                    \"minecraft:cave_air\",\n",
    "                    # there are actually a ton more \"non-full blocks\"\n",
    "                    # like torches, cobwebs and dandelions\n",
    "                    # but we'll assume those are rounding errors\n",
    "                ):\n",
    "                    mineable_block_count += count\n",
    "\n",
    "            gold_count[section[\"Y\"].value * 16] += ore_count\n",
    "            denominator[section[\"Y\"].value * 16] += mineable_block_count\n",
    "\n",
    "ys = sorted(gold_count.keys())\n",
    "pcts = [gold_count[y] / denominator[y] for y in ys]\n",
    "\n",
    "fig, ax = plt.subplots()\n",
    "ax.barh(\n",
    "    ys,\n",
    "    pcts,\n",
    "    height=15,\n",
    "    align=\"edge\",\n",
    ")\n",
    "ax.set_title(\"Gold Ore Percentage\")\n",
    "ax.set_ylabel(\"Y level\")\n",
    "ax.set_xlabel(\"Fraction of Blocks that are Gold Ore\")\n",
    "ax.ticklabel_format(axis=\"x\", style=\"sci\", scilimits=(-4, 4))\n",
    "plt.show(fig)"
   ]
  },
  {
   "cell_type": "markdown",
   "id": "74654df5-249a-4de8-a2c2-97d997fdc084",
   "metadata": {},
   "source": [
    "So even subtracting out the air (and water and lava) blocks, y=48-64 is the way to go! But I'm still skeptical that I'm supposed to be finding gold mixed in with terracotta. Does gold ore maybe only generate in areas without terracotta?"
   ]
  },
  {
   "cell_type": "code",
   "execution_count": 10,
   "id": "fea99907-af41-44b6-93e1-5a00569f5862",
   "metadata": {
    "tags": []
   },
   "outputs": [
    {
     "name": "stdout",
     "output_type": "stream",
     "text": [
      "CPU times: user 1.68 s, sys: 12.9 ms, total: 1.7 s\n",
      "Wall time: 1.7 s\n"
     ]
    }
   ],
   "source": [
    "%%time\n",
    "\n",
    "terracotta_to_gold_ratios: list[float] = []\n",
    "stone_to_gold_ratios: list[float] = []\n",
    "n = 0\n",
    "\n",
    "for region_file in sorted((save_folder / \"region\").glob(\"*\")):\n",
    "    if region_file.name == \"r.0.0.mca\":\n",
    "        continue\n",
    "    region_data = region.RegionFile(region_file)\n",
    "    for chunk in region_data.iter_chunks():\n",
    "        for section in chunk[\"sections\"]:\n",
    "            if \"data\" not in section[\"block_states\"]:\n",
    "                continue\n",
    "            if section[\"Y\"].value * 16 != 48:\n",
    "                continue\n",
    "            n += 1\n",
    "            block_counts = Counter(\n",
    "                sum(\n",
    "                    [split_block_value(v) for v in section[\"block_states\"][\"data\"]],\n",
    "                    [],\n",
    "                )\n",
    "            )\n",
    "            block_lookup = [\n",
    "                block[\"Name\"].value for block in section[\"block_states\"][\"palette\"]\n",
    "            ]\n",
    "            ore_count = 0\n",
    "            terracotta_count = 0\n",
    "            stone_count = 0\n",
    "            for i, count in block_counts.items():\n",
    "                if block_lookup[i] == \"minecraft:gold_ore\":\n",
    "                    # this could just be \"=\"\n",
    "                    ore_count += count\n",
    "                elif block_lookup[i] in (\n",
    "                    \"minecraft:stone\",\n",
    "                    \"minecraft:andesite\",\n",
    "                    \"minecraft:diorite\",\n",
    "                    \"minecraft:granite\",\n",
    "                ):\n",
    "                    stone_count += count\n",
    "                elif block_lookup[i].endswith(\"terracotta\"):\n",
    "                    terracotta_count += count\n",
    "            if ore_count == 0:\n",
    "                continue\n",
    "\n",
    "            terracotta_to_gold_ratios.append(terracotta_count / ore_count)\n",
    "            stone_to_gold_ratios.append(stone_count / ore_count)"
   ]
  },
  {
   "cell_type": "code",
   "execution_count": 11,
   "id": "eef71812-24be-4986-a4d8-c6e1eae58902",
   "metadata": {
    "tags": []
   },
   "outputs": [
    {
     "data": {
      "image/png": "[encoded data removed]",
      "text/plain": [
       "<Figure size 640x480 with 1 Axes>"
      ]
     },
     "metadata": {},
     "output_type": "display_data"
    }
   ],
   "source": [
    "fig, ax = plt.subplots()\n",
    "ax.boxplot(\n",
    "    (stone_to_gold_ratios, terracotta_to_gold_ratios),\n",
    "    vert=False,\n",
    "    labels=(\"stone\", \"terracotta\"),\n",
    ")\n",
    "ax.set_title(\"Gold Ratios\")\n",
    "ax.set_xlabel(\"Number of blocks per block of gold ore in chunklet\")\n",
    "ax.set_xscale(\"log\")\n",
    "plt.show(fig)"
   ]
  },
  {
   "cell_type": "markdown",
   "id": "68b9cc29-b39f-4c4a-9b0d-d369e5d7827e",
   "metadata": {},
   "source": [
    "Yeah, bingo--**gold does not generate within terracotta**, so if you're digging in terracotta, you're too high up."
   ]
  },
  {
   "cell_type": "markdown",
   "id": "14c3f852-8f3b-4d12-90f7-011f9fa23047",
   "metadata": {},
   "source": [
    "## Best y level?"
   ]
  },
  {
   "cell_type": "markdown",
   "id": "7a59e3ca-1f2c-41cc-acf0-45320445d02b",
   "metadata": {},
   "source": [
    "So far we've been working with 16-block-tall \"chunklets,\" which is good enough for a rough analysis, but it's not enough to tell us *precisely* which y-level to dig at to get gold. The reason is that the block data is just one 4096-length ($16^3$) array, with [nothing in the wiki](https://minecraft.fandom.com/wiki/Chunk_format#NBT_structure) saying how to convert from index to (x, y, z).\n",
    "\n",
    "Luckily, the [`nbt` library tells us how it's done](https://github.com/twoolie/NBT/blob/6f43e8758d66374807e5f31d23fe2c9dc1d996b0/nbt/chunk.py#L262-L266):\n",
    "\n",
    "> ```python\n",
    "> i = y * 256 + z * 16 + x\n",
    "> ```"
   ]
  },
  {
   "cell_type": "markdown",
   "id": "9e31dc7b-3c42-4527-9c59-0038f06eeec9",
   "metadata": {},
   "source": [
    "To test this, I've placed a unique block at coordinates (1, 2, 3):\n",
    "\n",
    "![Unit Test lol](../_static/fill_then_search.png)"
   ]
  },
  {
   "cell_type": "code",
   "execution_count": 12,
   "id": "63746aa1-e345-46df-ab1f-a88a0b5e24b1",
   "metadata": {},
   "outputs": [],
   "source": [
    "region_data = region.RegionFile(save_folder / \"region\" / \"r.0.0.mca\")\n",
    "chunk = region_data.get_chunk(0, 0)\n",
    "chunklet = chunk[\"sections\"][4]\n",
    "assert chunklet[\"Y\"].value == 0"
   ]
  },
  {
   "cell_type": "code",
   "execution_count": 13,
   "id": "21163a22-9cf8-41de-a639-ce195db848c4",
   "metadata": {
    "tags": []
   },
   "outputs": [
    {
     "data": {
      "text/plain": [
       "'minecraft:deepslate'"
      ]
     },
     "execution_count": 13,
     "metadata": {},
     "output_type": "execute_result"
    }
   ],
   "source": [
    "palette = [block[\"Name\"].value for block in chunklet[\"block_states\"][\"palette\"]]\n",
    "\n",
    "blocks: list[int] = sum(\n",
    "    [split_block_value(v) for v in chunklet[\"block_states\"][\"data\"]],\n",
    "    [],\n",
    ")\n",
    "\n",
    "palette[blocks[1 + 2 * 256 + 3 * 16]]"
   ]
  },
  {
   "cell_type": "markdown",
   "id": "b9253f2b-47ff-4533-8ff8-4f6f32a92106",
   "metadata": {},
   "source": [
    "That did... not work. Three possibilities:\n",
    "\n",
    "1. `split_block_values` is ordering the values backwards\n",
    "2. the _combining_ of the split block values is combining the sets of 16 backwards\n",
    "3. the reference code is wrong."
   ]
  },
  {
   "cell_type": "markdown",
   "id": "37a06ada-bc13-47dd-a3cd-30dd484c8171",
   "metadata": {},
   "source": [
    "Let's start with (2) (I feel like I must have had a good reason for writing the `split_block_value` macro the way I did?)"
   ]
  },
  {
   "cell_type": "code",
   "execution_count": 14,
   "id": "c3dcec62-cdbc-4a2b-bb01-e68cbe37ff5b",
   "metadata": {},
   "outputs": [
    {
     "data": {
      "text/plain": [
       "'minecraft:diorite'"
      ]
     },
     "execution_count": 14,
     "metadata": {},
     "output_type": "execute_result"
    }
   ],
   "source": [
    "blocks = sum(\n",
    "    reversed([split_block_value(v) for v in chunklet[\"block_states\"][\"data\"]]),\n",
    "    [],\n",
    ")\n",
    "\n",
    "palette[blocks[1 + 2 * 256 + 3 * 16]]"
   ]
  },
  {
   "cell_type": "markdown",
   "id": "39e5c14f-d06c-4618-ac36-3a0fe7bb8817",
   "metadata": {},
   "source": [
    "Darn. Well let's try reversing `split_block_value` then:"
   ]
  },
  {
   "cell_type": "code",
   "execution_count": 15,
   "id": "12537bc8-05de-4966-b5e2-d2da12b36fc9",
   "metadata": {},
   "outputs": [
    {
     "data": {
      "text/plain": [
       "'minecraft:stone'"
      ]
     },
     "execution_count": 15,
     "metadata": {},
     "output_type": "execute_result"
    }
   ],
   "source": [
    "blocks = sum(\n",
    "    [list(reversed(split_block_value(v))) for v in chunklet[\"block_states\"][\"data\"]],\n",
    "    [],\n",
    ")\n",
    "\n",
    "palette[blocks[1 + 2 * 256 + 3 * 16]]"
   ]
  },
  {
   "cell_type": "code",
   "execution_count": 16,
   "id": "3a4851d7-583a-4934-bec3-7952ecfd053a",
   "metadata": {},
   "outputs": [
    {
     "data": {
      "text/plain": [
       "'minecraft:deepslate_lapis_ore'"
      ]
     },
     "execution_count": 16,
     "metadata": {},
     "output_type": "execute_result"
    }
   ],
   "source": [
    "blocks = sum(\n",
    "    reversed(\n",
    "        [list(reversed(split_block_value(v))) for v in chunklet[\"block_states\"][\"data\"]]\n",
    "    ),\n",
    "    [],\n",
    ")\n",
    "\n",
    "palette[blocks[1 + 2 * 256 + 3 * 16]]"
   ]
  },
  {
   "cell_type": "markdown",
   "id": "3267c653-c9c4-4bf5-8d34-9f214584ce23",
   "metadata": {},
   "source": [
    "Struck out."
   ]
  },
  {
   "cell_type": "markdown",
   "id": "3e0b3dd0-deea-4d5a-8935-277d2f5309e8",
   "metadata": {},
   "source": [
    "But let's go backwards by starting with the index:"
   ]
  },
  {
   "cell_type": "code",
   "execution_count": 17,
   "id": "6b044d90-681f-44d6-aa1b-b0571e9535b2",
   "metadata": {},
   "outputs": [
    {
     "name": "stdout",
     "output_type": "stream",
     "text": [
      "[1494, 1814, 1825, 1841, 1857, 1867, 1883, 1894, 1899, 1910, 2177, 2187, 2203, 2214, 2219, 2225, 2230, 2241, 2267, 2534, 2539, 2545, 2550, 2561, 2587, 2598, 2603, 2865, 2907, 2918, 2923, 2929, 3748, 4110, 4441]\n"
     ]
    }
   ],
   "source": [
    "blocks = sum(\n",
    "    [split_block_value(v) for v in chunklet[\"block_states\"][\"data\"]],\n",
    "    [],\n",
    ")\n",
    "\n",
    "debris = [\n",
    "    i\n",
    "    for i, block in enumerate(blocks)\n",
    "    if block == palette.index(\"minecraft:ancient_debris\")\n",
    "]\n",
    "print(debris)"
   ]
  },
  {
   "cell_type": "markdown",
   "id": "7d295ed2-7431-4e9f-b96d-9434b17ae7fd",
   "metadata": {},
   "source": [
    "Wait... that's way more than one block of ancient debris."
   ]
  },
  {
   "cell_type": "code",
   "execution_count": 18,
   "id": "e8d8edbd-4674-48ce-917e-4a315d376248",
   "metadata": {},
   "outputs": [
    {
     "data": {
      "text/plain": [
       "{'minecraft:deepslate': 2113,\n",
       " 'minecraft:air': 749,\n",
       " 'minecraft:diorite': 811,\n",
       " 'minecraft:dirt': 18,\n",
       " 'minecraft:stone': 778,\n",
       " 'minecraft:ancient_debris': 35,\n",
       " 'minecraft:andesite': 51,\n",
       " 'minecraft:deepslate_copper_ore': 18,\n",
       " 'minecraft:deepslate_lapis_ore': 738,\n",
       " 'minecraft:pointed_dripstone': 22,\n",
       " 'minecraft:copper_ore': 26,\n",
       " 'minecraft:gravel': 21,\n",
       " 'minecraft:lapis_ore': 47,\n",
       " 'minecraft:dripstone_block': 21,\n",
       " 'minecraft:iron_ore': 8}"
      ]
     },
     "metadata": {},
     "output_type": "display_data"
    }
   ],
   "source": [
    "block_count: dict[str, int] = {}\n",
    "for idx, count in sorted(Counter(blocks).items()):\n",
    "    block_count[palette[idx]] = count\n",
    "display(block_count)"
   ]
  },
  {
   "cell_type": "markdown",
   "id": "526b0b2b-69c7-4110-8db2-86e0626cfb72",
   "metadata": {},
   "source": [
    "Yeah. There should not be **35** ancient debris in this chunk. Something has clearly gone horribly wrong."
   ]
  },
  {
   "cell_type": "markdown",
   "id": "68f90286-f1cb-4d18-bb85-b0331746873f",
   "metadata": {},
   "source": [
    "And it's not even like I could have gotten the bit-order wrong (big-endian vs. little-endian) because all that would do would be to swap around the palette indices, and *there isn't a single one* that has only a single block."
   ]
  },
  {
   "cell_type": "markdown",
   "id": "b11d1993-2d19-43a9-b721-15fc9113f99b",
   "metadata": {},
   "source": [
    "I also doubt there were **738** blocks of deepslate lapis ore in a single chunklet. Let's see what could be going on."
   ]
  },
  {
   "cell_type": "code",
   "execution_count": 24,
   "id": "94463c31-cf8b-4e9a-9f61-b29f5c726900",
   "metadata": {},
   "outputs": [
    {
     "data": {
      "text/plain": [
       "74309429319696384"
      ]
     },
     "execution_count": 24,
     "metadata": {},
     "output_type": "execute_result"
    }
   ],
   "source": [
    "chunklet[\"block_states\"][\"data\"][0]"
   ]
  },
  {
   "cell_type": "markdown",
   "id": "83bcc019-5b1a-4755-a9aa-2f0e862faff7",
   "metadata": {},
   "source": [
    "Is it possible that these are signed?"
   ]
  },
  {
   "cell_type": "code",
   "execution_count": 25,
   "id": "3c7d6296-9fc8-434e-96dc-5b5205af219a",
   "metadata": {},
   "outputs": [
    {
     "data": {
      "text/plain": [
       "0"
      ]
     },
     "execution_count": 25,
     "metadata": {},
     "output_type": "execute_result"
    }
   ],
   "source": [
    "min(chunklet[\"block_states\"][\"data\"])"
   ]
  },
  {
   "cell_type": "markdown",
   "id": "e318b411-5221-4f93-a712-67ac7a8bea28",
   "metadata": {},
   "source": [
    "no...\n",
    "\n",
    "But let's look at a higher-up chunklet where air should dominate (we don't want to go too high because if it's all air, then there won't be any block state data)."
   ]
  },
  {
   "cell_type": "code",
   "execution_count": 27,
   "id": "f6015728-cb31-4098-82f0-5d5b19aba52c",
   "metadata": {},
   "outputs": [
    {
     "name": "stdout",
     "output_type": "stream",
     "text": [
      "Analyzing the y=128 chunklet\n"
     ]
    },
    {
     "data": {
      "text/plain": [
       "{'minecraft:air': 4071, 'minecraft:oak_leaves': 1}"
      ]
     },
     "metadata": {},
     "output_type": "display_data"
    }
   ],
   "source": [
    "for chunklet in reversed(chunk[\"sections\"]):\n",
    "    if \"data\" not in chunklet[\"block_states\"]:\n",
    "        continue\n",
    "    break\n",
    "\n",
    "print(f\"Analyzing the y={chunklet['Y'].value * 16} chunklet\")\n",
    "\n",
    "palette = [block[\"Name\"].value for block in chunklet[\"block_states\"][\"palette\"]]\n",
    "blocks = sum(\n",
    "    [split_block_value(v) for v in chunklet[\"block_states\"][\"data\"]],\n",
    "    [],\n",
    ")\n",
    "block_count = {}\n",
    "for idx, count in sorted(Counter(blocks).items()):\n",
    "    block_count[palette[idx]] = count\n",
    "display(block_count)"
   ]
  },
  {
   "cell_type": "markdown",
   "id": "c0faff15-763a-4f9f-a597-a22312a1ada6",
   "metadata": {},
   "source": [
    "Yeah, so that checks out. Let's go one lower."
   ]
  },
  {
   "cell_type": "code",
   "execution_count": 28,
   "id": "ba73b366-b40f-469c-9b73-c80d46522967",
   "metadata": {},
   "outputs": [
    {
     "name": "stdout",
     "output_type": "stream",
     "text": [
      "Analyzing the y=112 chunklet\n"
     ]
    },
    {
     "data": {
      "text/plain": [
       "{'minecraft:air': 3215,\n",
       " 'minecraft:oak_leaves': 2,\n",
       " 'minecraft:oak_log': 1,\n",
       " 'minecraft:birch_leaves': 4,\n",
       " 'minecraft:dirt': 414,\n",
       " 'minecraft:birch_log': 1,\n",
       " 'minecraft:grass_block': 139,\n",
       " 'minecraft:stone': 7,\n",
       " 'minecraft:grass': 8}"
      ]
     },
     "metadata": {},
     "output_type": "display_data"
    }
   ],
   "source": [
    "chunklet = chunk[\"sections\"][11]\n",
    "print(f\"Analyzing the y={chunklet['Y'].value * 16} chunklet\")\n",
    "\n",
    "palette = [block[\"Name\"].value for block in chunklet[\"block_states\"][\"palette\"]]\n",
    "blocks = sum(\n",
    "    [split_block_value(v) for v in chunklet[\"block_states\"][\"data\"]],\n",
    "    [],\n",
    ")\n",
    "block_count = {}\n",
    "for idx, count in sorted(Counter(blocks).items()):\n",
    "    block_count[palette[idx]] = count\n",
    "display(block_count)"
   ]
  },
  {
   "cell_type": "markdown",
   "id": "ad430c58-b993-4dc1-9c39-c8df0146e8b4",
   "metadata": {},
   "source": [
    "Still about the distribution I'd expect.\n",
    "\n",
    "Going to the very bottom:"
   ]
  },
  {
   "cell_type": "code",
   "execution_count": 34,
   "id": "712a0f08-55a1-45f6-8e44-b59bd9283363",
   "metadata": {},
   "outputs": [
    {
     "name": "stdout",
     "output_type": "stream",
     "text": [
      "Analyzing the y=-64 chunklet\n"
     ]
    },
    {
     "data": {
      "text/plain": [
       "{'minecraft:bedrock': 768,\n",
       " 'minecraft:deepslate': 2833,\n",
       " 'minecraft:tuff': 466,\n",
       " 'minecraft:deepslate_redstone_ore': 19,\n",
       " 'minecraft:air': 2,\n",
       " 'minecraft:deepslate_gold_ore': 8}"
      ]
     },
     "metadata": {},
     "output_type": "display_data"
    }
   ],
   "source": [
    "chunklet = chunk[\"sections\"][0]\n",
    "print(f\"Analyzing the y={chunklet['Y'].value * 16} chunklet\")\n",
    "\n",
    "palette = [block[\"Name\"].value for block in chunklet[\"block_states\"][\"palette\"]]\n",
    "blocks = sum(\n",
    "    [split_block_value(v) for v in chunklet[\"block_states\"][\"data\"]],\n",
    "    [],\n",
    ")\n",
    "block_count = {}\n",
    "for idx, count in sorted(Counter(blocks).items()):\n",
    "    block_count[palette[idx]] = count\n",
    "display(block_count)"
   ]
  },
  {
   "cell_type": "markdown",
   "id": "6ca88e71-446c-445f-999f-66cd0ab37947",
   "metadata": {},
   "source": [
    "Yeah, I mean--sad no diamonds, but this looks correct."
   ]
  },
  {
   "cell_type": "code",
   "execution_count": null,
   "id": "bdfa3eee-7a6d-4d32-a3c6-d3eda36b8149",
   "metadata": {},
   "outputs": [],
   "source": []
  }
 ],
 "metadata": {
  "kernelspec": {
   "display_name": "Python 3 (ipykernel)",
   "language": "python",
   "name": "python3"
  },
  "language_info": {
   "codemirror_mode": {
    "name": "ipython",
    "version": 3
   },
   "file_extension": ".py",
   "mimetype": "text/x-python",
   "name": "python",
   "nbconvert_exporter": "python",
   "pygments_lexer": "ipython3",
   "version": "3.11.4"
  }
 },
 "nbformat": 4,
 "nbformat_minor": 5
}
