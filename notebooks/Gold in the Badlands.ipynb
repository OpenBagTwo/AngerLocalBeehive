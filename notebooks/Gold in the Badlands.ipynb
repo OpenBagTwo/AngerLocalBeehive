{
 "cells": [
  {
   "cell_type": "markdown",
   "id": "b51d8400-534a-4f3e-ae2c-1d6791ba0907",
   "metadata": {},
   "source": [
    "# There's Gold in Them Hills... right?\n",
    "\n",
    "It's time for a little bit of Minecraft Myth Busting, as X would say.\n",
    "\n",
    "Allegedly, gold is much easier to find in the Badlands with a uniform density from y=32 up to y=256\n",
    "\n",
    "![ore distribution 1.18-1.20.1](../_static/ore_chart.png)\n",
    "\n",
    "but at higher y-levels, most of the badlands is made up of terracotta, and I've never seen any type of ore in the middle of terracotta. So should you _really_ be digging into the hearts of mountains to look for gold? Or are you better off searching at, say, y~40?"
   ]
  },
  {
   "cell_type": "markdown",
   "id": "483d33a1-66e7-4995-91d0-22b436806908",
   "metadata": {},
   "source": [
    "## Creating a Test World\n",
    "\n",
    "Rather than analyze one of my existing worlds, I chose to create a new one from scratch, first using [chunkbase to find a world with a good-sized badland](https://www.chunkbase.com/apps/seed-map#-1099639228980812746), then generating that world in a vanilla Minecraft 1.20 instance, teleporting to the center of the badlands,\n",
    "\n",
    "![Badland to the bone](../_static/badlands.png)\n",
    "\n",
    "letting the chunks generate, then using [MCA Selector](https://github.com/Querz/mcaselector) to trim out all the non-badlands biomes.\n",
    "\n",
    "I also teleported to (0, 128, 0) in the nether to generate some nether chunks for comparison."
   ]
  },
  {
   "cell_type": "markdown",
   "id": "38793bc8-8977-4f9f-b6cf-6bd45297313d",
   "metadata": {},
   "source": [
    "## Imports, Setup and Macros"
   ]
  },
  {
   "cell_type": "code",
   "execution_count": 1,
   "id": "e684fc88-d493-4dab-8025-d8f336e0a9cc",
   "metadata": {
    "tags": []
   },
   "outputs": [],
   "source": [
    "import json\n",
    "from collections import Counter, defaultdict\n",
    "from os import environ\n",
    "from pathlib import Path\n",
    "from typing import Any, Collection, Dict, List, Tuple\n",
    "\n",
    "import matplotlib.pyplot as plt\n",
    "import mutf8\n",
    "import pandas as pd\n",
    "from IPython.display import Markdown, display\n",
    "from nbt import nbt, region"
   ]
  },
  {
   "cell_type": "code",
   "execution_count": 2,
   "id": "61f7db01-c738-458e-b43f-092754ceda60",
   "metadata": {
    "tags": []
   },
   "outputs": [],
   "source": [
    "save_folder = Path(environ[\"SAVE_PATH\"])"
   ]
  },
  {
   "cell_type": "code",
   "execution_count": 3,
   "id": "3b2ae68c-58d2-4b2b-8ebd-60e7eafd857d",
   "metadata": {
    "tags": []
   },
   "outputs": [],
   "source": [
    "def summarize_keystore(keystore: Dict[str, Any]) -> None:\n",
    "    \"\"\"Display a summary of the contents of a key-value store\n",
    "\n",
    "    Parameters\n",
    "    ----------\n",
    "    keystore : dict\n",
    "        The keystore to summarize\n",
    "\n",
    "    Returns\n",
    "    -------\n",
    "    None\n",
    "    \"\"\"\n",
    "\n",
    "    def _summarize_keystore(keystore: Dict[str, Any]) -> str:\n",
    "        summary = \"\"\n",
    "        for k, v in keystore.items():\n",
    "            summary += f\"\\n - `{k}` : \"\n",
    "            if isinstance(v, (str, nbt.TAG_String)):\n",
    "                summary += f'`\"{v}\"`'\n",
    "            elif not isinstance(v, Collection):\n",
    "                summary += f\"`{str(v)}`\"\n",
    "            else:\n",
    "                length = len(v)\n",
    "                if 0 < length < 3:\n",
    "                    summary += \"\\n\"\n",
    "                    if not isinstance(v, Dict):\n",
    "                        v = {i: item for i, item in enumerate(v)}\n",
    "                    summary += \"\\n\".join(\n",
    "                        (f\"\\t{line}\" for line in _summarize_keystore(v).split(\"\\n\"))\n",
    "                    )\n",
    "                else:\n",
    "                    summary += f\"({len(v)} items)\"\n",
    "        return summary\n",
    "\n",
    "    display(Markdown(_summarize_keystore(keystore)))"
   ]
  },
  {
   "cell_type": "code",
   "execution_count": 4,
   "id": "9f4e179f-11db-4135-ba96-4ba47bf44b88",
   "metadata": {
    "tags": []
   },
   "outputs": [],
   "source": [
    "def split_block_value(value: int) -> List[int]:\n",
    "    \"\"\"Split a 64-bit int into 16x 4-bit ints\n",
    "\n",
    "    Parameters\n",
    "    ----------\n",
    "    value: 64-bit int\n",
    "        The int to split\n",
    "\n",
    "    Returns\n",
    "    -------\n",
    "    list of 16x 4-bit ints\n",
    "    \"\"\"\n",
    "    small_ints: List[int] = []\n",
    "    for _ in range(16):\n",
    "        value, remainder = divmod(value, 2**4)\n",
    "        small_ints.insert(0, remainder)\n",
    "    return small_ints"
   ]
  },
  {
   "cell_type": "code",
   "execution_count": 5,
   "id": "1b7afab2-f0f8-4e50-9810-ef619014bf01",
   "metadata": {},
   "outputs": [],
   "source": [
    "def get_region_and_chunk(\n",
    "    coords: tuple[int, int, int]\n",
    ") -> tuple[tuple[int, int], tuple[int, int, int]]:\n",
    "    \"\"\"Given a set of coordinates return the corresponding\n",
    "    region file and chunk\n",
    "\n",
    "    Parameters\n",
    "    ----------\n",
    "    (int, int, int)\n",
    "        The block coordinates\n",
    "\n",
    "    Returns\n",
    "    -------\n",
    "    str\n",
    "        The region index\n",
    "    (int, int, int)\n",
    "        The chunk index (including y-sliced sub-chunk)\n",
    "    \"\"\"\n",
    "    chunk: tuple[int, int, int] = tuple(coord // 16 for coord in coords)  # type: ignore\n",
    "    region = (chunk[0] // 32, chunk[2] // 32)\n",
    "    return region, chunk"
   ]
  },
  {
   "cell_type": "markdown",
   "id": "cb79140c-8e11-4c95-a030-61984aa4e261",
   "metadata": {},
   "source": [
    "## Chunk Contents\n",
    "\n",
    "Cribbing from the [Iron Vein finding notebook](Finding%20an%20Iron%20Vein.ipynb), the name of the game is combing through each chunklet and finding the ones *containing* the blocks we want, then finding out *how many* such blocks are in that chunklet."
   ]
  },
  {
   "cell_type": "code",
   "execution_count": 6,
   "id": "e5e2102b-6ae9-45bf-9b18-201c07c9cd20",
   "metadata": {},
   "outputs": [
    {
     "data": {
      "image/png": "[encoded data removed]",
      "text/plain": [
       "<Figure size 640x480 with 1 Axes>"
      ]
     },
     "metadata": {},
     "output_type": "display_data"
    },
    {
     "name": "stdout",
     "output_type": "stream",
     "text": [
      "CPU times: user 1.47 s, sys: 158 ms, total: 1.62 s\n",
      "Wall time: 1.48 s\n"
     ]
    }
   ],
   "source": [
    "%%time\n",
    "n_chunks = 0\n",
    "gold_chunklets: dict[int, list[nbt.TAG_Compound]] = defaultdict(list)\n",
    "for region_file in sorted((save_folder / \"region\").glob(\"*\")):\n",
    "    if region_file.name == \"r.0.0.mca\":\n",
    "        continue\n",
    "    region_data = region.RegionFile(region_file)\n",
    "    for chunk in region_data.iter_chunks():\n",
    "        n_chunks += 1\n",
    "        for section in chunk[\"sections\"]:\n",
    "            # explicitly ignoring deepslate gold ore\n",
    "            if \"minecraft:gold_ore\" in [\n",
    "                block[\"Name\"].value for block in section[\"block_states\"][\"palette\"]\n",
    "            ]:\n",
    "                gold_chunklets[section[\"Y\"].value * 16].append(section)\n",
    "\n",
    "fig, ax = plt.subplots()\n",
    "ax.barh(\n",
    "    *zip(*((y, len(chunklets)) for y, chunklets in gold_chunklets.items())),\n",
    "    height=15,\n",
    "    align=\"edge\",\n",
    ")\n",
    "ax.set_title(\"Number of chunklets containing gold ore\")\n",
    "ax.set_ylabel(\"Y level\")\n",
    "ax.set_xlabel(\"Number of Chunklets\")\n",
    "plt.show(fig)"
   ]
  },
  {
   "cell_type": "markdown",
   "id": "eabac608-ff11-4059-92c8-b4e4915451b9",
   "metadata": {
    "tags": []
   },
   "source": [
    "Now let's convert that to total ore."
   ]
  },
  {
   "cell_type": "code",
   "execution_count": 7,
   "id": "bb4b0fdf-7789-4e60-9998-b3a1fa4dea75",
   "metadata": {
    "tags": []
   },
   "outputs": [
    {
     "data": {
      "image/png": "[encoded data removed]",
      "text/plain": [
       "<Figure size 640x480 with 1 Axes>"
      ]
     },
     "metadata": {},
     "output_type": "display_data"
    },
    {
     "name": "stdout",
     "output_type": "stream",
     "text": [
      "CPU times: user 3.5 s, sys: 122 ms, total: 3.62 s\n",
      "Wall time: 3.48 s\n"
     ]
    }
   ],
   "source": [
    "%%time\n",
    "gold_count: dict[int, int] = {}\n",
    "for y, chunklets in gold_chunklets.items():\n",
    "    ore_count = 0\n",
    "    for chunklet in chunklets:\n",
    "        palette: list[str] = [\n",
    "            block[\"Name\"].value for block in chunklet[\"block_states\"][\"palette\"]\n",
    "        ]\n",
    "        ore_idx = palette.index(\"minecraft:gold_ore\")\n",
    "        block_counts = Counter(\n",
    "            sum(\n",
    "                [split_block_value(v) for v in chunklet[\"block_states\"][\"data\"]],\n",
    "                [],\n",
    "            )\n",
    "        )\n",
    "        ore_count += block_counts.get(ore_idx, 0)\n",
    "    gold_count[y] = ore_count\n",
    "\n",
    "fig, ax = plt.subplots()\n",
    "ax.barh(\n",
    "    *zip(*gold_count.items()),\n",
    "    height=15,\n",
    "    align=\"edge\",\n",
    ")\n",
    "ax.set_title(\"Gold Ore Incidence\")\n",
    "ax.set_ylabel(\"Y level\")\n",
    "ax.set_xlabel(\"Number of Gold Ore Blocks\")\n",
    "ax.ticklabel_format(axis=\"x\", style=\"sci\", scilimits=(-4, 4))\n",
    "plt.show(fig)"
   ]
  },
  {
   "cell_type": "markdown",
   "id": "14dd53fe-a2cd-466b-860c-0d5617e072d6",
   "metadata": {},
   "source": [
    "So in terms of _absolute_ quantity of ores, you're actually better off mining at y=48-64, which is interesting!"
   ]
  },
  {
   "cell_type": "markdown",
   "id": "14558ab5-4c5d-4e4c-93c9-54c82a287621",
   "metadata": {},
   "source": [
    "## Normalized Counts\n",
    "\n",
    "But what about if we subtract air, water, etc and look at percentage of _mineable_ blocks?"
   ]
  },
  {
   "cell_type": "code",
   "execution_count": 8,
   "id": "79ffab37-39b0-493b-beb6-da795d9ae8f6",
   "metadata": {
    "tags": []
   },
   "outputs": [],
   "source": [
    "# blockz: set[str] = set()\n",
    "# for region_file in sorted((save_folder / \"region\").glob(\"*\")):\n",
    "#     region_data = region.RegionFile(region_file)\n",
    "#     for chunk in region_data.iter_chunks():\n",
    "#         n_chunks += 1\n",
    "#         for section in chunk[\"sections\"]:\n",
    "#             blockz.update( [\n",
    "#                 block[\"Name\"].value for block in section[\"block_states\"][\"palette\"]\n",
    "#             ])\n",
    "# blockz"
   ]
  },
  {
   "cell_type": "code",
   "execution_count": 9,
   "id": "07f26ef9-b29b-4b51-93d4-d78497b26478",
   "metadata": {
    "tags": []
   },
   "outputs": [
    {
     "data": {
      "image/png": "[encoded data removed]",
      "text/plain": [
       "<Figure size 640x480 with 1 Axes>"
      ]
     },
     "metadata": {},
     "output_type": "display_data"
    },
    {
     "name": "stdout",
     "output_type": "stream",
     "text": [
      "CPU times: user 13.2 s, sys: 141 ms, total: 13.4 s\n",
      "Wall time: 13.2 s\n"
     ]
    }
   ],
   "source": [
    "%%time\n",
    "\n",
    "gold_count = defaultdict(int)\n",
    "denominator: dict[int, int] = defaultdict(int)\n",
    "for region_file in sorted((save_folder / \"region\").glob(\"*\")):\n",
    "    if region_file.name == \"r.0.0.mca\":\n",
    "        continue\n",
    "    region_data = region.RegionFile(region_file)\n",
    "    for chunk in region_data.iter_chunks():\n",
    "        for section in chunk[\"sections\"]:\n",
    "            if \"data\" not in section[\"block_states\"]:\n",
    "                # then it's all a single block,\n",
    "                # probably air or water\n",
    "                continue\n",
    "            block_counts = Counter(\n",
    "                sum(\n",
    "                    [split_block_value(v) for v in section[\"block_states\"][\"data\"]],\n",
    "                    [],\n",
    "                )\n",
    "            )\n",
    "            block_lookup: list[str] = [\n",
    "                block[\"Name\"].value for block in section[\"block_states\"][\"palette\"]\n",
    "            ]\n",
    "            ore_count = 0\n",
    "            mineable_block_count = 0\n",
    "            for i, count in block_counts.items():\n",
    "                if block_lookup[i] == \"minecraft:gold_ore\":\n",
    "                    # this could just be \"=\"\n",
    "                    ore_count += count\n",
    "                if block_lookup[i] not in (\n",
    "                    \"minecraft:air\",\n",
    "                    \"minecraft:water\",\n",
    "                    \"minecraft:lava\",\n",
    "                    # there are actually a ton more \"non-full blocks\"\n",
    "                    # like torches, cobwebs and dandelions\n",
    "                    # but we'll assume those are rounding errors\n",
    "                ):\n",
    "                    mineable_block_count += count\n",
    "\n",
    "            gold_count[section[\"Y\"].value * 16] += ore_count\n",
    "            denominator[section[\"Y\"].value * 16] += mineable_block_count\n",
    "\n",
    "ys = sorted(gold_count.keys())\n",
    "pcts = [gold_count[y] / denominator[y] for y in ys]\n",
    "\n",
    "fig, ax = plt.subplots()\n",
    "ax.barh(\n",
    "    ys,\n",
    "    pcts,\n",
    "    height=15,\n",
    "    align=\"edge\",\n",
    ")\n",
    "ax.set_title(\"Gold Ore Percentage\")\n",
    "ax.set_ylabel(\"Y level\")\n",
    "ax.set_xlabel(\"Fraction of Blocks that are Gold Ore\")\n",
    "ax.ticklabel_format(axis=\"x\", style=\"sci\", scilimits=(-4, 4))\n",
    "plt.show(fig)"
   ]
  },
  {
   "cell_type": "markdown",
   "id": "74654df5-249a-4de8-a2c2-97d997fdc084",
   "metadata": {},
   "source": [
    "So even subtracting out the air (and water and lava) blocks, y=48-64 is the way to go! But I'm still skeptical that I'm supposed to be finding gold mixed in with terracotta. Does gold ore maybe only generate in areas without terracotta?"
   ]
  },
  {
   "cell_type": "code",
   "execution_count": 10,
   "id": "fea99907-af41-44b6-93e1-5a00569f5862",
   "metadata": {
    "tags": []
   },
   "outputs": [
    {
     "name": "stdout",
     "output_type": "stream",
     "text": [
      "CPU times: user 2.47 s, sys: 4 ms, total: 2.48 s\n",
      "Wall time: 2.48 s\n"
     ]
    }
   ],
   "source": [
    "%%time\n",
    "\n",
    "terracotta_to_gold_ratios: list[float] = []\n",
    "stone_to_gold_ratios: list[float] = []\n",
    "n = 0\n",
    "\n",
    "for region_file in sorted((save_folder / \"region\").glob(\"*\")):\n",
    "    if region_file.name == \"r.0.0.mca\":\n",
    "        continue\n",
    "    region_data = region.RegionFile(region_file)\n",
    "    for chunk in region_data.iter_chunks():\n",
    "        for section in chunk[\"sections\"]:\n",
    "            if \"data\" not in section[\"block_states\"]:\n",
    "                continue\n",
    "            if section[\"Y\"].value * 16 != 48:\n",
    "                continue\n",
    "            n += 1\n",
    "            block_counts = Counter(\n",
    "                sum(\n",
    "                    [split_block_value(v) for v in section[\"block_states\"][\"data\"]],\n",
    "                    [],\n",
    "                )\n",
    "            )\n",
    "            block_lookup = [\n",
    "                block[\"Name\"].value for block in section[\"block_states\"][\"palette\"]\n",
    "            ]\n",
    "            ore_count = 0\n",
    "            terracotta_count = 0\n",
    "            stone_count = 0\n",
    "            for i, count in block_counts.items():\n",
    "                if block_lookup[i] == \"minecraft:gold_ore\":\n",
    "                    # this could just be \"=\"\n",
    "                    ore_count += count\n",
    "                elif block_lookup[i] in (\n",
    "                    \"minecraft:stone\",\n",
    "                    \"minecraft:andesite\",\n",
    "                    \"minecraft:diorite\",\n",
    "                    \"minecraft:granite\",\n",
    "                ):\n",
    "                    stone_count += count\n",
    "                elif block_lookup[i].endswith(\"terracotta\"):\n",
    "                    terracotta_count += count\n",
    "            if ore_count == 0:\n",
    "                continue\n",
    "\n",
    "            terracotta_to_gold_ratios.append(terracotta_count / ore_count)\n",
    "            stone_to_gold_ratios.append(stone_count / ore_count)"
   ]
  },
  {
   "cell_type": "code",
   "execution_count": 11,
   "id": "eef71812-24be-4986-a4d8-c6e1eae58902",
   "metadata": {
    "tags": []
   },
   "outputs": [
    {
     "data": {
      "image/png": "[encoded data removed]",
      "text/plain": [
       "<Figure size 640x480 with 1 Axes>"
      ]
     },
     "metadata": {},
     "output_type": "display_data"
    }
   ],
   "source": [
    "fig, ax = plt.subplots()\n",
    "ax.boxplot(\n",
    "    (stone_to_gold_ratios, terracotta_to_gold_ratios),\n",
    "    vert=False,\n",
    "    labels=(\"stone\", \"terracotta\"),\n",
    ")\n",
    "ax.set_title(\"Gold Ratios\")\n",
    "ax.set_xlabel(\"Number of blocks per block of gold ore in chunklet\")\n",
    "ax.set_xscale(\"log\")\n",
    "plt.show(fig)"
   ]
  },
  {
   "cell_type": "markdown",
   "id": "68b9cc29-b39f-4c4a-9b0d-d369e5d7827e",
   "metadata": {},
   "source": [
    "Yeah, bingo--**gold does not generate within terracotta**, so if you're digging in terracotta, you're too high up."
   ]
  },
  {
   "cell_type": "markdown",
   "id": "14c3f852-8f3b-4d12-90f7-011f9fa23047",
   "metadata": {},
   "source": [
    "## Best y level?"
   ]
  },
  {
   "cell_type": "markdown",
   "id": "7a59e3ca-1f2c-41cc-acf0-45320445d02b",
   "metadata": {},
   "source": [
    "So far we've been working with 16-block-tall \"chunklets,\" which is good enough for a rough analysis, but it's not enough to tell us *precisely* which y-level to dig at to get gold. The reason is that the block data is just one 4096-length ($16^3$) array, with [nothing in the wiki](https://minecraft.fandom.com/wiki/Chunk_format#NBT_structure) saying how to convert from index to (x, y, z).\n",
    "\n",
    "But we should probably be able to figure it out emprically."
   ]
  },
  {
   "cell_type": "markdown",
   "id": "40a0a7e7-439c-4800-ada8-6565bf9d7c2e",
   "metadata": {},
   "source": [
    "First, let's take a random chunklet and get the indices of some gold ore blocks."
   ]
  },
  {
   "cell_type": "code",
   "execution_count": 12,
   "id": "46b2e959-f2a5-436e-921c-83e76d5e853c",
   "metadata": {
    "tags": []
   },
   "outputs": [
    {
     "name": "stdout",
     "output_type": "stream",
     "text": [
      "Found a chunklet with 38 gold blocks with corner at (-1536, 48, -512)\n",
      "CPU times: user 10.4 ms, sys: 4.11 ms, total: 14.5 ms\n",
      "Wall time: 13.3 ms\n"
     ]
    }
   ],
   "source": [
    "%%time\n",
    "for region_file in sorted((save_folder / \"region\").glob(\"*\")):\n",
    "    if region_file.name == \"r.0.0.mca\":\n",
    "        continue\n",
    "    region_data = region.RegionFile(region_file)\n",
    "    for chunk in region_data.iter_chunks():\n",
    "        for section in chunk[\"sections\"]:\n",
    "            if \"data\" not in section[\"block_states\"]:\n",
    "                continue\n",
    "            if section[\"Y\"].value * 16 != 48:\n",
    "                continue\n",
    "            palette = [\n",
    "                block[\"Name\"].value for block in section[\"block_states\"][\"palette\"]\n",
    "            ]\n",
    "            if \"minecraft:gold_ore\" not in palette:\n",
    "                continue\n",
    "            gold_idx = palette.index(\"minecraft:gold_ore\")\n",
    "            indices = [\n",
    "                i\n",
    "                for i, idx in enumerate(\n",
    "                    sum(\n",
    "                        [split_block_value(v) for v in section[\"block_states\"][\"data\"]],\n",
    "                        [],\n",
    "                    )\n",
    "                )\n",
    "                if idx == gold_idx\n",
    "            ]\n",
    "            if len(indices) == 0:\n",
    "                continue\n",
    "            break\n",
    "        else:\n",
    "            continue\n",
    "        break\n",
    "    else:\n",
    "        continue\n",
    "    break\n",
    "chunklet_coords = (\n",
    "    chunk[\"xPos\"].value * 16,\n",
    "    section[\"Y\"].value * 16,\n",
    "    chunk[\"zPos\"].value * 16,\n",
    ")\n",
    "print(\n",
    "    f\"Found a chunklet with {len(indices)} gold blocks\"\n",
    "    f\" with corner at {chunklet_coords}\"\n",
    ")"
   ]
  },
  {
   "cell_type": "markdown",
   "id": "a6da62eb-be3a-4d28-82b4-47877abf5c3f",
   "metadata": {},
   "source": [
    "Let's look at the first one:"
   ]
  },
  {
   "cell_type": "code",
   "execution_count": 13,
   "id": "82056863-8c08-489e-b11f-4fcd9b351f46",
   "metadata": {
    "tags": []
   },
   "outputs": [],
   "source": [
    "def split_into_coords(idx: int) -> tuple[int, int, int]:\n",
    "    \"\"\"Convert an index into three coordinates.\n",
    "    We don't yet know which coordinate is which.\n",
    "\n",
    "    Parameters\n",
    "    ----------\n",
    "    idx : int\n",
    "        A number between 0 and 4095 (inclusive)\n",
    "\n",
    "    Returns\n",
    "    -------\n",
    "    (int, int, int) tuple\n",
    "        The three coordinate values separated.\n",
    "    \"\"\"\n",
    "    coord_1, remainder = divmod(idx, 16 * 16)\n",
    "    coord_2, remainder = divmod(remainder, 16)\n",
    "    return (coord_1, coord_2, remainder)\n",
    "\n",
    "\n",
    "def print_possible_coordinates(idx: int, chunklet_corner: tuple[int, int, int]) -> None:\n",
    "    \"\"\"Print all six possible coordinates corresponding to a given index\n",
    "\n",
    "    Parameters\n",
    "    ----------\n",
    "    idx : int\n",
    "        A number between 0 and 4095 (inclusive)\n",
    "\n",
    "    Returns\n",
    "    -------\n",
    "    None\n",
    "    \"\"\"\n",
    "    coord = split_into_coords(idx)\n",
    "    print(\n",
    "        \"(x, y, z)\",\n",
    "        \"->\",\n",
    "        (\n",
    "            chunklet_corner[0] + coord[0],\n",
    "            chunklet_corner[1] + coord[1],\n",
    "            chunklet_corner[2] + coord[2],\n",
    "        ),\n",
    "    )\n",
    "    print(\n",
    "        \"(x, z, y)\",\n",
    "        \"->\",\n",
    "        (\n",
    "            chunklet_corner[0] + coord[0],\n",
    "            chunklet_corner[1] + coord[2],\n",
    "            chunklet_corner[2] + coord[1],\n",
    "        ),\n",
    "    )\n",
    "    print(\n",
    "        \"(y, x, z)\",\n",
    "        \"->\",\n",
    "        (\n",
    "            chunklet_corner[0] + coord[1],\n",
    "            chunklet_corner[1] + coord[0],\n",
    "            chunklet_corner[2] + coord[2],\n",
    "        ),\n",
    "    )\n",
    "    print(\n",
    "        \"(y, z, x)\",\n",
    "        \"->\",\n",
    "        (\n",
    "            chunklet_corner[0] + coord[1],\n",
    "            chunklet_corner[1] + coord[2],\n",
    "            chunklet_corner[2] + coord[0],\n",
    "        ),\n",
    "    )\n",
    "    print(\n",
    "        \"(z, x, y)\",\n",
    "        \"->\",\n",
    "        (\n",
    "            chunklet_corner[0] + coord[2],\n",
    "            chunklet_corner[1] + coord[0],\n",
    "            chunklet_corner[2] + coord[1],\n",
    "        ),\n",
    "    )\n",
    "    print(\n",
    "        \"(z, y, x)\",\n",
    "        \"->\",\n",
    "        (\n",
    "            chunklet_corner[0] + coord[2],\n",
    "            chunklet_corner[1] + coord[1],\n",
    "            chunklet_corner[2] + coord[0],\n",
    "        ),\n",
    "    )"
   ]
  },
  {
   "cell_type": "code",
   "execution_count": 14,
   "id": "b0c35b21-cf38-4a20-b42d-400305191cff",
   "metadata": {
    "tags": []
   },
   "outputs": [
    {
     "name": "stdout",
     "output_type": "stream",
     "text": [
      "(x, y, z) -> (-1532, 57, -512)\n",
      "(x, z, y) -> (-1532, 48, -503)\n",
      "(y, x, z) -> (-1527, 52, -512)\n",
      "(y, z, x) -> (-1527, 48, -508)\n",
      "(z, x, y) -> (-1536, 52, -503)\n",
      "(z, y, x) -> (-1536, 57, -508)\n"
     ]
    }
   ],
   "source": [
    "print_possible_coordinates(indices[0], chunklet_coords)"
   ]
  },
  {
   "cell_type": "markdown",
   "id": "60fca6cc-9c52-43cf-a5ac-ee9f290a3867",
   "metadata": {},
   "source": [
    "Now we just load up the game and see what we see."
   ]
  },
  {
   "cell_type": "markdown",
   "id": "1e63d5ce-0a44-4980-8625-d50bf62e0083",
   "metadata": {},
   "source": [
    "***A few minutes later...***\n",
    "\n",
    "I tied to `/clone` each of these blocks to my postion and ended up with *literally* nothing but stone.\n",
    "\n",
    "But I thought of a better idea:\n",
    "\n",
    "![Galaxy Brain](../_static/fill_then_search.png)"
   ]
  },
  {
   "cell_type": "code",
   "execution_count": 15,
   "id": "06d7e118-6447-43a7-9f52-907e83cfc03f",
   "metadata": {
    "tags": []
   },
   "outputs": [
    {
     "data": {
      "text/plain": [
       "((0, 0), (0, 0, 0))"
      ]
     },
     "execution_count": 15,
     "metadata": {},
     "output_type": "execute_result"
    }
   ],
   "source": [
    "get_region_and_chunk((1, 2, 3))"
   ]
  },
  {
   "cell_type": "code",
   "execution_count": 16,
   "id": "dd74370d-5cfe-4ef6-8eab-1fa422d88daa",
   "metadata": {
    "tags": []
   },
   "outputs": [],
   "source": [
    "region_data = region.RegionFile(save_folder / \"region\" / \"r.0.0.mca\")"
   ]
  },
  {
   "cell_type": "code",
   "execution_count": 17,
   "id": "68536c59-c3e7-4fa4-b776-1377c534fefd",
   "metadata": {
    "tags": []
   },
   "outputs": [],
   "source": [
    "chunk = region_data.get_chunk(0, 0)"
   ]
  },
  {
   "cell_type": "code",
   "execution_count": 18,
   "id": "438ffe2b-59eb-46b1-972c-f2b24a266431",
   "metadata": {
    "tags": []
   },
   "outputs": [],
   "source": [
    "chunklet = chunk[\"sections\"][4]\n",
    "assert chunklet[\"Y\"].value == 0"
   ]
  },
  {
   "cell_type": "code",
   "execution_count": 19,
   "id": "21163a22-9cf8-41de-a639-ce195db848c4",
   "metadata": {
    "tags": []
   },
   "outputs": [
    {
     "name": "stdout",
     "output_type": "stream",
     "text": [
      "The ancient debris is at index 297\n"
     ]
    }
   ],
   "source": [
    "palette = [block[\"Name\"].value for block in chunklet[\"block_states\"][\"palette\"]]\n",
    "\n",
    "debris_idx = palette.index(\"minecraft:ancient_debris\")\n",
    "indices = [\n",
    "    i\n",
    "    for i, idx in enumerate(\n",
    "        sum(\n",
    "            [split_block_value(v) for v in section[\"block_states\"][\"data\"]],\n",
    "            [],\n",
    "        )\n",
    "    )\n",
    "    if idx == debris_idx\n",
    "]\n",
    "print(f\"The ancient debris is at index {indices[0]}\")"
   ]
  },
  {
   "cell_type": "code",
   "execution_count": 20,
   "id": "403a9c17-2921-475f-b4bb-c7a12c0cba45",
   "metadata": {
    "tags": []
   },
   "outputs": [
    {
     "name": "stdout",
     "output_type": "stream",
     "text": [
      "(x, y, z) -> (1, 2, 9)\n",
      "(x, z, y) -> (1, 9, 2)\n",
      "(y, x, z) -> (2, 1, 9)\n",
      "(y, z, x) -> (2, 9, 1)\n",
      "(z, x, y) -> (9, 1, 2)\n",
      "(z, y, x) -> (9, 2, 1)\n"
     ]
    }
   ],
   "source": [
    "print_possible_coordinates(indices[0], (0, 0, 0))"
   ]
  },
  {
   "cell_type": "markdown",
   "id": "7acea21c-ffb5-486e-9afb-676115d01d4b",
   "metadata": {},
   "source": [
    "In what universe does *that* make sense?"
   ]
  },
  {
   "cell_type": "markdown",
   "id": "2792103d-9112-4bfe-8460-f216f4d3d519",
   "metadata": {},
   "source": [
    "#### But the important bit\n",
    "\n",
    "is that the middle value is the y-value which... honestly, is pretty surprising (I would have expected it to be the most or least significant value)"
   ]
  },
  {
   "cell_type": "markdown",
   "id": "f7e2cd35-8916-4e58-b1c7-407478ada255",
   "metadata": {},
   "source": [
    "### Redoing by y-level"
   ]
  },
  {
   "cell_type": "code",
   "execution_count": 21,
   "id": "7005d07c-1717-4eb2-bf36-e01af64396c4",
   "metadata": {
    "tags": []
   },
   "outputs": [
    {
     "data": {
      "image/png": "[encoded data removed]",
      "text/plain": [
       "<Figure size 640x480 with 2 Axes>"
      ]
     },
     "metadata": {},
     "output_type": "display_data"
    },
    {
     "name": "stdout",
     "output_type": "stream",
     "text": [
      "CPU times: user 26.3 s, sys: 153 ms, total: 26.4 s\n",
      "Wall time: 26.2 s\n"
     ]
    }
   ],
   "source": [
    "%%time\n",
    "gold_count = defaultdict(int)\n",
    "denominator = defaultdict(int)\n",
    "for region_file in sorted((save_folder / \"region\").glob(\"*\")):\n",
    "    if region_file.name == \"r.0.0.mca\":\n",
    "        continue\n",
    "    region_data = region.RegionFile(region_file)\n",
    "    for chunk in region_data.iter_chunks():\n",
    "        for section in chunk[\"sections\"]:\n",
    "            if \"data\" not in section[\"block_states\"]:\n",
    "                continue\n",
    "\n",
    "            block_lookup = [\n",
    "                block[\"Name\"].value for block in section[\"block_states\"][\"palette\"]\n",
    "            ]\n",
    "            for idx, i in enumerate(\n",
    "                sum(\n",
    "                    [split_block_value(v) for v in section[\"block_states\"][\"data\"]],\n",
    "                    [],\n",
    "                )\n",
    "            ):\n",
    "                y = section[\"Y\"].value * 16 + (idx // 16 % 16)\n",
    "\n",
    "                if block_lookup[i] == \"minecraft:gold_ore\":\n",
    "                    # this could just be \"=\"\n",
    "                    gold_count[y] += 1\n",
    "\n",
    "                if block_lookup[i] not in (\n",
    "                    \"minecraft:air\",\n",
    "                    \"minecraft:water\",\n",
    "                    \"minecraft:lava\",\n",
    "                ):\n",
    "                    denominator[y] += 1\n",
    "\n",
    "\n",
    "ys = sorted(gold_count.keys())\n",
    "pcts = [gold_count[y] / denominator[y] for y in ys]\n",
    "\n",
    "fig, axs = plt.subplots(2, 1)\n",
    "axs[0].barh(\n",
    "    ys,\n",
    "    gold_count.values(),\n",
    "    height=0.9,\n",
    "    align=\"center\",\n",
    ")\n",
    "axs[0].set_title(\"Gold Ore Block Count\")\n",
    "axs[0].set_ylabel(\"Y level\")\n",
    "axs[0].set_xlabel(\"Number of Gold Ore Blocks\")\n",
    "axs[0].ticklabel_format(axis=\"x\", style=\"sci\", scilimits=(-4, 4))\n",
    "\n",
    "axs[1].barh(\n",
    "    ys,\n",
    "    pcts,\n",
    "    height=0.9,\n",
    "    align=\"center\",\n",
    ")\n",
    "axs[1].set_title(\"Gold Ore Percentage\")\n",
    "axs[1].set_ylabel(\"Y level\")\n",
    "axs[1].set_xlabel(\"Fraction of Blocks that are Gold Ore\")\n",
    "axs[1].ticklabel_format(axis=\"x\", style=\"sci\", scilimits=(-4, 4))\n",
    "fig.tight_layout()\n",
    "plt.show(fig)"
   ]
  },
  {
   "cell_type": "markdown",
   "id": "6f44d5dc-8ae5-480c-aafb-03747acdc5f4",
   "metadata": {},
   "source": [
    "That's a lot messier than I would have expected. Given that my method is already failing to extract z, this is giving me very little faith that I'm getting y correct either."
   ]
  },
  {
   "cell_type": "code",
   "execution_count": null,
   "id": "0b6aea65-8f22-4a41-b31a-1f9f93e6cd26",
   "metadata": {},
   "outputs": [],
   "source": []
  }
 ],
 "metadata": {
  "kernelspec": {
   "display_name": "Python 3 (ipykernel)",
   "language": "python",
   "name": "python3"
  },
  "language_info": {
   "codemirror_mode": {
    "name": "ipython",
    "version": 3
   },
   "file_extension": ".py",
   "mimetype": "text/x-python",
   "name": "python",
   "nbconvert_exporter": "python",
   "pygments_lexer": "ipython3",
   "version": "3.11.0"
  }
 },
 "nbformat": 4,
 "nbformat_minor": 5
}
