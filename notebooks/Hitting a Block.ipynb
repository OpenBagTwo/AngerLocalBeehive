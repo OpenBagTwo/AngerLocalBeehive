{
 "cells": [
  {
   "cell_type": "markdown",
   "id": "6c4784c5-f6b0-4486-b044-39934335ffb5",
   "metadata": {},
   "source": [
    "# I'm Blocked\n",
    "\n",
    "In performing my [Gold in the Badlands](https://github.com/OpenBagTwo/AngerLocalBeehive/blob/f849268a0854b7216b846bc08f6538cd8dc2f047/notebooks/Gold%20in%20the%20Badlands.ipynb) analysis, the block counts were just not making sense. So I've created a sparkling new superflat world to see if maybe it's an issue with just that world or if something is legitimately broken in the `nbt` library.\n",
    "\n",
    "In this superflat world, I have placed two blocks:\n",
    "1. A block of ancient debris at (1, 2, 3)\n",
    "2. A block of gilded blackstone at (4, 5, 6)"
   ]
  },
  {
   "cell_type": "markdown",
   "id": "dfbbebe3-968b-4162-a863-15086f89a8e1",
   "metadata": {},
   "source": [
    "## Imports, Setup and Macros"
   ]
  },
  {
   "cell_type": "code",
   "execution_count": 1,
   "id": "2d08e0bf-9da3-4f06-a6f0-b9311cf1bfae",
   "metadata": {},
   "outputs": [],
   "source": [
    "import json\n",
    "from collections import Counter, defaultdict\n",
    "from os import environ\n",
    "from pathlib import Path\n",
    "from typing import Any, Collection, Dict, List, Tuple\n",
    "\n",
    "import matplotlib.pyplot as plt\n",
    "import mutf8\n",
    "import pandas as pd\n",
    "from IPython.display import Markdown, display\n",
    "from nbt import nbt, region"
   ]
  },
  {
   "cell_type": "code",
   "execution_count": 2,
   "id": "34484263-b0b8-4d58-968b-a67925716ba3",
   "metadata": {},
   "outputs": [],
   "source": [
    "save_folder = Path(environ[\"SAVE_PATH\"])"
   ]
  },
  {
   "cell_type": "code",
   "execution_count": 3,
   "id": "c92cb055-3e9c-4732-8de4-22c24e38dcd7",
   "metadata": {},
   "outputs": [],
   "source": [
    "def summarize_keystore(keystore: Dict[str, Any]) -> None:\n",
    "    \"\"\"Display a summary of the contents of a key-value store\n",
    "\n",
    "    Parameters\n",
    "    ----------\n",
    "    keystore : dict\n",
    "        The keystore to summarize\n",
    "\n",
    "    Returns\n",
    "    -------\n",
    "    None\n",
    "    \"\"\"\n",
    "\n",
    "    def _summarize_keystore(keystore: Dict[str, Any]) -> str:\n",
    "        summary = \"\"\n",
    "        for k, v in keystore.items():\n",
    "            summary += f\"\\n - `{k}` : \"\n",
    "            if isinstance(v, (str, nbt.TAG_String)):\n",
    "                summary += f'`\"{v}\"`'\n",
    "            elif not isinstance(v, Collection):\n",
    "                summary += f\"`{str(v)}`\"\n",
    "            else:\n",
    "                length = len(v)\n",
    "                if 0 < length < 3:\n",
    "                    summary += \"\\n\"\n",
    "                    if not isinstance(v, Dict):\n",
    "                        v = {i: item for i, item in enumerate(v)}\n",
    "                    summary += \"\\n\".join(\n",
    "                        (f\"\\t{line}\" for line in _summarize_keystore(v).split(\"\\n\"))\n",
    "                    )\n",
    "                else:\n",
    "                    summary += f\"({len(v)} items)\"\n",
    "        return summary\n",
    "\n",
    "    display(Markdown(_summarize_keystore(keystore)))"
   ]
  },
  {
   "cell_type": "code",
   "execution_count": 4,
   "id": "5095e2e8-8091-4995-a214-94e80b32c682",
   "metadata": {},
   "outputs": [],
   "source": [
    "def split_block_value(value: int) -> List[int]:\n",
    "    \"\"\"Split a 64-bit int into 16x 4-bit ints\n",
    "\n",
    "    Parameters\n",
    "    ----------\n",
    "    value: 64-bit int\n",
    "        The int to split\n",
    "\n",
    "    Returns\n",
    "    -------\n",
    "    list of 16x 4-bit ints\n",
    "    \"\"\"\n",
    "    small_ints: List[int] = []\n",
    "    for _ in range(16):\n",
    "        value, remainder = divmod(value, 2**4)\n",
    "        small_ints.insert(0, remainder)\n",
    "    return small_ints"
   ]
  },
  {
   "cell_type": "code",
   "execution_count": 9,
   "id": "6334544f-d953-4bff-b96b-4c703c806a20",
   "metadata": {},
   "outputs": [],
   "source": [
    "def split_into_coords(idx: int) -> tuple[int, int, int]:\n",
    "    \"\"\"Convert an index into three coordinates.\n",
    "    We don't yet know which coordinate is which.\n",
    "\n",
    "    Parameters\n",
    "    ----------\n",
    "    idx : int\n",
    "        A number between 0 and 4095 (inclusive)\n",
    "\n",
    "    Returns\n",
    "    -------\n",
    "    (int, int, int) tuple\n",
    "        The three coordinate values separated.\n",
    "    \"\"\"\n",
    "    coord_1, remainder = divmod(idx, 16 * 16)\n",
    "    coord_2, remainder = divmod(remainder, 16)\n",
    "    return (coord_1, coord_2, remainder)"
   ]
  },
  {
   "cell_type": "code",
   "execution_count": 5,
   "id": "a30f6dd3-28b3-4c15-a4bd-66048a400816",
   "metadata": {},
   "outputs": [],
   "source": [
    "region_data = region.RegionFile(save_folder / \"region\" / \"r.0.0.mca\")\n",
    "chunk = region_data.get_chunk(0, 0)\n",
    "chunklet = chunk[\"sections\"][4]\n",
    "assert chunklet[\"Y\"].value == 0"
   ]
  },
  {
   "cell_type": "code",
   "execution_count": 6,
   "id": "3e7724b4-ff3c-4e5e-9803-d4ce9aed79ff",
   "metadata": {},
   "outputs": [
    {
     "data": {
      "text/plain": [
       "{'minecraft:deepslate': 256,\n",
       " 'minecraft:stone': 1278,\n",
       " 'minecraft:ancient_debris': 1,\n",
       " 'minecraft:gilded_blackstone': 1,\n",
       " 'minecraft:dirt': 1280,\n",
       " 'minecraft:gravel': 1280}"
      ]
     },
     "metadata": {},
     "output_type": "display_data"
    }
   ],
   "source": [
    "palette = [block[\"Name\"].value for block in chunklet[\"block_states\"][\"palette\"]]\n",
    "blocks: list[int] = sum(\n",
    "    [split_block_value(v) for v in chunklet[\"block_states\"][\"data\"]],\n",
    "    [],\n",
    ")\n",
    "block_count = {}\n",
    "for idx, count in sorted(Counter(blocks).items()):\n",
    "    block_count[palette[idx]] = count\n",
    "display(block_count)"
   ]
  },
  {
   "cell_type": "markdown",
   "id": "8f1c0e01-cf28-47c2-8f51-28068d02ca8e",
   "metadata": {},
   "source": [
    "Okay, well here it's working--it must have just been an issue with that world. Let's now try to get the coordinates of these placed blocks."
   ]
  },
  {
   "cell_type": "code",
   "execution_count": 11,
   "id": "ffbe0c60-be3a-4386-b526-bde8b3998ce0",
   "metadata": {},
   "outputs": [
    {
     "name": "stdout",
     "output_type": "stream",
     "text": [
      "574 1387\n"
     ]
    }
   ],
   "source": [
    "debris_idx = blocks.index(palette.index(\"minecraft:ancient_debris\"))\n",
    "gilded_idx = blocks.index(palette.index(\"minecraft:gilded_blackstone\"))\n",
    "print(debris_idx, gilded_idx)"
   ]
  },
  {
   "cell_type": "markdown",
   "id": "6c1ca688-cb52-4bfa-88a7-7db3a9bbd659",
   "metadata": {},
   "source": [
    "Now let's split those out into the three 4-bit values that should give us the coordinates."
   ]
  },
  {
   "cell_type": "code",
   "execution_count": 13,
   "id": "3e074707-c95b-4f16-840e-b36dcf5702f2",
   "metadata": {},
   "outputs": [
    {
     "name": "stdout",
     "output_type": "stream",
     "text": [
      "(2, 3, 14) (5, 6, 11)\n"
     ]
    }
   ],
   "source": [
    "debris_coords = split_into_coords(debris_idx)\n",
    "gilded_coords = split_into_coords(gilded_idx)\n",
    "print(debris_coords, gilded_coords)"
   ]
  },
  {
   "cell_type": "markdown",
   "id": "c6a74608-d3bb-4b0b-ab5b-4e977b9cbaec",
   "metadata": {},
   "source": [
    "So I think what this is speaking to is that if I reverse the `split_block_value` direction, then the coordinates are in the form (y, z, x)"
   ]
  },
  {
   "cell_type": "code",
   "execution_count": 14,
   "id": "c9276fc3-8153-4f33-99e6-608f1f055d6f",
   "metadata": {},
   "outputs": [
    {
     "name": "stdout",
     "output_type": "stream",
     "text": [
      "561 -> (2, 3, 1)\n",
      "1380 -> (5, 6, 4)\n"
     ]
    }
   ],
   "source": [
    "blocks = sum(\n",
    "    [list(reversed(split_block_value(v))) for v in chunklet[\"block_states\"][\"data\"]],\n",
    "    [],\n",
    ")\n",
    "debris_idx = blocks.index(palette.index(\"minecraft:ancient_debris\"))\n",
    "gilded_idx = blocks.index(palette.index(\"minecraft:gilded_blackstone\"))\n",
    "debris_coords = split_into_coords(debris_idx)\n",
    "gilded_coords = split_into_coords(gilded_idx)\n",
    "print(debris_idx, \"->\", debris_coords)\n",
    "print(gilded_idx, \"->\", gilded_coords)"
   ]
  },
  {
   "cell_type": "markdown",
   "id": "d7c0d67c-3799-435f-a259-5d1d32559769",
   "metadata": {},
   "source": [
    "That's it."
   ]
  }
 ],
 "metadata": {
  "kernelspec": {
   "display_name": "Python 3 (ipykernel)",
   "language": "python",
   "name": "python3"
  },
  "language_info": {
   "codemirror_mode": {
    "name": "ipython",
    "version": 3
   },
   "file_extension": ".py",
   "mimetype": "text/x-python",
   "name": "python",
   "nbconvert_exporter": "python",
   "pygments_lexer": "ipython3",
   "version": "3.11.4"
  }
 },
 "nbformat": 4,
 "nbformat_minor": 5
}
