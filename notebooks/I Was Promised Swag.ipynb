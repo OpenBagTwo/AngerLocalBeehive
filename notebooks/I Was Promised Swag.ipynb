{
 "cells": [
  {
   "cell_type": "markdown",
   "id": "0269a574-8f49-46c8-b855-b2dc9a3c0870",
   "metadata": {},
   "source": [
    "# Where's that Buried Chest?"
   ]
  },
  {
   "cell_type": "markdown",
   "id": "fab23dc6-1116-49d0-ad4e-d0924a7e6e68",
   "metadata": {},
   "source": [
    "I found not one but **two** buried treasure maps, both pointing to the same spot. Chunkbase confirms there should be swag here (and that's true across all versions that this world has existed). But I literally dug down to bedrock and found bupkiss. **Where's my booty?**"
   ]
  },
  {
   "cell_type": "markdown",
   "id": "fd475698-d703-44c9-bec2-247964153dc7",
   "metadata": {},
   "source": [
    "## Imports, Setup and Macros"
   ]
  },
  {
   "cell_type": "code",
   "execution_count": 1,
   "id": "1806523a-b0f4-45ac-9c33-85dc54461e1b",
   "metadata": {},
   "outputs": [],
   "source": [
    "import json\n",
    "from collections import Counter\n",
    "from os import environ\n",
    "from pathlib import Path\n",
    "from typing import Any, Collection, Dict, List, Tuple\n",
    "\n",
    "import mutf8\n",
    "import pandas as pd\n",
    "from IPython.display import Markdown, display\n",
    "from nbt import nbt, region"
   ]
  },
  {
   "cell_type": "code",
   "execution_count": 2,
   "id": "9c14ed4c-d4e8-4141-8620-fa76070f2e7f",
   "metadata": {},
   "outputs": [],
   "source": [
    "def format_file_size(path: Path) -> str:\n",
    "    \"\"\"Print the size of the specified file in\n",
    "    human-readible form (KB / MB / GB)\n",
    "\n",
    "    Parameters\n",
    "    ----------\n",
    "    path : Path\n",
    "        The path to the file\n",
    "\n",
    "    Returns\n",
    "    -------\n",
    "    str\n",
    "        A prettily formatted file size\n",
    "\n",
    "    Notes\n",
    "    -----\n",
    "    I would be shocked if there isn't a utility already built\n",
    "    into the standard library to do this, but all I could find\n",
    "    via Googling was a bunch of recipes and examples\n",
    "    \"\"\"\n",
    "    size = path.stat().st_size  # in bytes\n",
    "    for unit in (\"B\", \"KB\", \"MB\", \"GB\"):\n",
    "        if size < 1024 / 2:\n",
    "            return f\"{size:.1f} {unit}\"\n",
    "        size = size / 1024\n",
    "    return f\"{size} TB\""
   ]
  },
  {
   "cell_type": "code",
   "execution_count": 3,
   "id": "d1e65f9c-d37c-4e98-b361-d632d5dd4f9a",
   "metadata": {},
   "outputs": [],
   "source": [
    "def summarize_keystore(keystore: Dict[str, Any]) -> None:\n",
    "    \"\"\"Display a summary of the contents of a key-value store\n",
    "\n",
    "    Parameters\n",
    "    ----------\n",
    "    keystore : dict\n",
    "        The keystore to summarize\n",
    "\n",
    "    Returns\n",
    "    -------\n",
    "    None\n",
    "    \"\"\"\n",
    "\n",
    "    def _summarize_keystore(keystore: Dict[str, Any]) -> str:\n",
    "        summary = \"\"\n",
    "        for k, v in keystore.items():\n",
    "            summary += f\"\\n - `{k}` : \"\n",
    "            if isinstance(v, (str, nbt.TAG_String)):\n",
    "                summary += f'`\"{v}\"`'\n",
    "            elif not isinstance(v, Collection):\n",
    "                summary += f\"`{str(v)}`\"\n",
    "            else:\n",
    "                length = len(v)\n",
    "                if 0 < length < 3:\n",
    "                    summary += \"\\n\"\n",
    "                    if not isinstance(v, Dict):\n",
    "                        v = {i: item for i, item in enumerate(v)}\n",
    "                    summary += \"\\n\".join(\n",
    "                        (f\"\\t{line}\" for line in _summarize_keystore(v).split(\"\\n\"))\n",
    "                    )\n",
    "                else:\n",
    "                    summary += f\"({len(v)} items)\"\n",
    "        return summary\n",
    "\n",
    "    display(Markdown(_summarize_keystore(keystore)))"
   ]
  },
  {
   "cell_type": "code",
   "execution_count": 4,
   "id": "aee97775-cde9-4c16-879a-4532d4504ebf",
   "metadata": {
    "tags": []
   },
   "outputs": [
    {
     "name": "stdout",
     "output_type": "stream",
     "text": [
      "- DIM-1 (folder)\n",
      "- DIM1 (folder)\n",
      "- advancements (folder)\n",
      "- data (folder)\n",
      "- datapacks (folder)\n",
      "- entities (folder)\n",
      "- icon.png (8.6 KB)\n",
      "- level.dat (15.9 KB)\n",
      "- level.dat_old (15.9 KB)\n",
      "- level11326231134829879582.dat (0.0 B)\n",
      "- level14927678268100607923.dat (0.0 B)\n",
      "- level1786655981796876926.dat (0.0 B)\n",
      "- level4463453738642305340.dat (0.0 B)\n",
      "- level6425531070021529407.dat (0.0 B)\n",
      "- level7443636089696258371.dat (0.0 B)\n",
      "- level8832581565660323154.dat (0.0 B)\n",
      "- playerdata (folder)\n",
      "- poi (folder)\n",
      "- region (folder)\n",
      "- serverconfig (folder)\n",
      "- session.lock (3.0 B)\n",
      "- stats (folder)\n"
     ]
    }
   ],
   "source": [
    "save_folder = Path(environ[\"SAVE_PATH\"])\n",
    "\n",
    "# make sure this is set correctly\n",
    "for path in sorted(save_folder.glob(\"*\")):\n",
    "    print(f\"- {path.name} ({'folder' if path.is_dir() else format_file_size(path)})\")"
   ]
  },
  {
   "cell_type": "markdown",
   "id": "388883eb-16bb-43d3-9f5f-300303275439",
   "metadata": {},
   "source": [
    "### My coordinates"
   ]
  },
  {
   "cell_type": "code",
   "execution_count": 5,
   "id": "740a9693-129e-431d-a050-38e22fa6f67e",
   "metadata": {},
   "outputs": [],
   "source": [
    "x, z = (-1783, -4391)"
   ]
  },
  {
   "cell_type": "code",
   "execution_count": 6,
   "id": "4a1e6b60-8a45-4963-95d6-5e5f2b129cca",
   "metadata": {},
   "outputs": [
    {
     "data": {
      "text/plain": [
       "(-112, -275)"
      ]
     },
     "execution_count": 6,
     "metadata": {},
     "output_type": "execute_result"
    }
   ],
   "source": [
    "chunk_number = (x // 16, z // 16)\n",
    "chunk_number"
   ]
  },
  {
   "cell_type": "code",
   "execution_count": 7,
   "id": "59c88180-a013-408e-bb72-7d078df8d7fb",
   "metadata": {},
   "outputs": [
    {
     "data": {
      "text/plain": [
       "(-4, -9)"
      ]
     },
     "execution_count": 7,
     "metadata": {},
     "output_type": "execute_result"
    }
   ],
   "source": [
    "region_index = (chunk_number[0] // 32, chunk_number[1] // 32)\n",
    "region_index"
   ]
  },
  {
   "cell_type": "code",
   "execution_count": 8,
   "id": "b298a91e-3b20-4eed-acbb-7ef144ee11ba",
   "metadata": {},
   "outputs": [
    {
     "data": {
      "text/plain": [
       "(16, 13)"
      ]
     },
     "execution_count": 8,
     "metadata": {},
     "output_type": "execute_result"
    }
   ],
   "source": [
    "chunk_index = (chunk_number[0] % 32, chunk_number[1] % 32)\n",
    "chunk_index"
   ]
  },
  {
   "cell_type": "markdown",
   "id": "cd419b52-fa80-44cb-a3fb-75347feb6409",
   "metadata": {
    "tags": []
   },
   "source": [
    "## Load up the Chunk Data"
   ]
  },
  {
   "cell_type": "code",
   "execution_count": 9,
   "id": "502271cd-e56a-4cf8-b1b4-a7474c3ee9c2",
   "metadata": {},
   "outputs": [],
   "source": [
    "region_file = region.RegionFile(\n",
    "    save_folder / \"region\" / \"r.{}.{}.mca\".format(*region_index)\n",
    ")"
   ]
  },
  {
   "cell_type": "code",
   "execution_count": 10,
   "id": "bb9ff98b-737c-4436-80a8-fb16584881f6",
   "metadata": {},
   "outputs": [
    {
     "data": {
      "text/markdown": [
       "\n",
       " - `xPos` : `-112`\n",
       " - `yPos` : `-4`\n",
       " - `block_ticks` : (0 items)\n",
       " - `isLightOn` : `1`\n",
       " - `InhabitedTime` : `50631`\n",
       " - `sections` : (24 items)\n",
       " - `zPos` : `-275`\n",
       " - `blending_data` : \n",
       "\t\n",
       "\t - `0` : `\"max_section\"`\n",
       "\t - `1` : `\"min_section\"`\n",
       " - `PostProcessing` : (24 items)\n",
       " - `Status` : `\"full\"`\n",
       " - `DataVersion` : `3105`\n",
       " - `structures` : \n",
       "\t\n",
       "\t - `0` : `\"References\"`\n",
       "\t - `1` : `\"starts\"`\n",
       " - `fluid_ticks` : (0 items)\n",
       " - `Heightmaps` : (4 items)\n",
       " - `block_entities` : (0 items)\n",
       " - `LastUpdate` : `41297046`"
      ],
      "text/plain": [
       "<IPython.core.display.Markdown object>"
      ]
     },
     "metadata": {},
     "output_type": "display_data"
    }
   ],
   "source": [
    "chunk_data = region_file.get_chunk(*chunk_index)\n",
    "summarize_keystore(chunk_data)"
   ]
  },
  {
   "cell_type": "code",
   "execution_count": 11,
   "id": "052cbf01-815d-4e9d-ba3d-d591c5a10141",
   "metadata": {},
   "outputs": [
    {
     "data": {
      "text/markdown": [
       "\n",
       " - `minecraft:buried_treasure` : \n",
       "\t\n",
       "\t - `0` : `-1176821039216`\n",
       " - `minecraft:mineshaft` : \n",
       "\t\n",
       "\t - `0` : `-1176821039216`"
      ],
      "text/plain": [
       "<IPython.core.display.Markdown object>"
      ]
     },
     "metadata": {},
     "output_type": "display_data"
    }
   ],
   "source": [
    "summarize_keystore(chunk_data[\"structures\"][\"References\"])"
   ]
  },
  {
   "cell_type": "markdown",
   "id": "0e33a490-6a35-4af8-a1f9-24611475b63b",
   "metadata": {},
   "source": [
    "**It's there!!!!**\n",
    "\n",
    "(and yes, I already found that mineshalf, lol)"
   ]
  },
  {
   "cell_type": "code",
   "execution_count": 12,
   "id": "ac919430-aa29-4791-adde-cae20ea27b25",
   "metadata": {},
   "outputs": [
    {
     "data": {
      "text/markdown": [
       "\n",
       " - `minecraft:buried_treasure` : (5 items)\n",
       " - `minecraft:mineshaft` : (5 items)"
      ],
      "text/plain": [
       "<IPython.core.display.Markdown object>"
      ]
     },
     "metadata": {},
     "output_type": "display_data"
    }
   ],
   "source": [
    "summarize_keystore(chunk_data[\"structures\"][\"starts\"])"
   ]
  },
  {
   "cell_type": "code",
   "execution_count": 13,
   "id": "6c7b48d1-d2f5-498f-b7a2-4fe4559018d4",
   "metadata": {},
   "outputs": [
    {
     "data": {
      "text/markdown": [
       "\n",
       " - `Children` : \n",
       "\t\n",
       "\t - `0` : (4 items)\n",
       " - `references` : `0`\n",
       " - `ChunkZ` : `-275`\n",
       " - `id` : `\"minecraft:buried_treasure\"`\n",
       " - `ChunkX` : `-112`"
      ],
      "text/plain": [
       "<IPython.core.display.Markdown object>"
      ]
     },
     "metadata": {},
     "output_type": "display_data"
    }
   ],
   "source": [
    "summarize_keystore(chunk_data[\"structures\"][\"starts\"][0])"
   ]
  },
  {
   "cell_type": "markdown",
   "id": "f89ec179-60b4-4feb-b7e5-6b4259d07642",
   "metadata": {},
   "source": [
    "Okay, well I'm in the right chunk. I already knew that."
   ]
  },
  {
   "cell_type": "code",
   "execution_count": 14,
   "id": "71b0da2d-739f-4c1c-944e-2eccd2487568",
   "metadata": {},
   "outputs": [
    {
     "data": {
      "text/markdown": [
       "\n",
       " - `BB` : (6 items)\n",
       " - `id` : `\"minecraft:btp\"`\n",
       " - `O` : `-1`\n",
       " - `GD` : `0`"
      ],
      "text/plain": [
       "<IPython.core.display.Markdown object>"
      ]
     },
     "metadata": {},
     "output_type": "display_data"
    }
   ],
   "source": [
    "summarize_keystore(chunk_data[\"structures\"][\"starts\"][0][\"Children\"][0])"
   ]
  },
  {
   "cell_type": "markdown",
   "id": "9f19a19b-a585-4cbb-9bad-a6f950ee86e9",
   "metadata": {},
   "source": [
    "No idea what that \"btp\" is."
   ]
  },
  {
   "cell_type": "code",
   "execution_count": 15,
   "id": "208579b2-b218-4921-ad25-40d2b7f9d0f8",
   "metadata": {},
   "outputs": [
    {
     "name": "stdout",
     "output_type": "stream",
     "text": [
      "[-1783, 57, -4391, -1783, 57, -4391]\n"
     ]
    }
   ],
   "source": [
    "print(chunk_data[\"structures\"][\"starts\"][0][\"Children\"][0][\"BB\"])"
   ]
  },
  {
   "cell_type": "markdown",
   "id": "ecebb589-737c-471d-945c-a4a6d0d019a4",
   "metadata": {},
   "source": [
    "I guess \"BB\" is some sort of boundaries?"
   ]
  },
  {
   "cell_type": "markdown",
   "id": "8a928852-8ffd-4b77-9217-2a6dd77b8fff",
   "metadata": {},
   "source": [
    "Dude, I looked there. And you can even see:"
   ]
  },
  {
   "cell_type": "code",
   "execution_count": 16,
   "id": "6643d016-9e99-431a-8a98-1e990107568f",
   "metadata": {},
   "outputs": [
    {
     "name": "stdout",
     "output_type": "stream",
     "text": [
      "[]\n"
     ]
    }
   ],
   "source": [
    "print(chunk_data[\"block_entities\"])"
   ]
  },
  {
   "cell_type": "markdown",
   "id": "70894839-bfc6-4ecc-9905-0ea13cdccfe5",
   "metadata": {},
   "source": [
    "I guess it's possible I alrealy grabbed it and then... reset the chunk? But that somehow didn't restore the chest?\n",
    "\n",
    "Idk. And in any case, I guess I'm glad at least I can stop looking."
   ]
  },
  {
   "cell_type": "code",
   "execution_count": null,
   "id": "02952030-d1ed-48d0-b1e1-60d5d73540c7",
   "metadata": {},
   "outputs": [],
   "source": []
  }
 ],
 "metadata": {
  "kernelspec": {
   "display_name": "Python 3 (ipykernel)",
   "language": "python",
   "name": "python3"
  },
  "language_info": {
   "codemirror_mode": {
    "name": "ipython",
    "version": 3
   },
   "file_extension": ".py",
   "mimetype": "text/x-python",
   "name": "python",
   "nbconvert_exporter": "python",
   "pygments_lexer": "ipython3",
   "version": "3.10.2"
  }
 },
 "nbformat": 4,
 "nbformat_minor": 5
}
