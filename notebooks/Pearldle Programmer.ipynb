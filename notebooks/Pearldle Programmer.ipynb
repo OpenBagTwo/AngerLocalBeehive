{
 "cells": [
  {
   "cell_type": "markdown",
   "id": "151038a6-7be8-42b7-8479-98c2753c201d",
   "metadata": {},
   "source": [
    "# Programming Pearldle for Perpetual Play\n",
    "\n",
    "One of the most bittersweet moments of getting my hand on the world download was playing the _very final week_ of Pearldle, aka Dye-Duction ~~Especially since I washed and only got it after six guesses 😭~~.\n",
    "\n",
    "And while Pearl left clear instructions to allow people to set new word for friends and family, that leaves those of us lonely folk who play single-player high-and-dry.\n",
    "\n",
    "It's too bad that there's no way to set items in a container's inventory programmatically..."
   ]
  },
  {
   "cell_type": "markdown",
   "id": "22215cda-0c5f-4080-ba10-28bf14502f53",
   "metadata": {},
   "source": [
    "## Prep work\n",
    "\n",
    "In my copy of the world download, I went into Pearldle and wrote down the coordinates of the letter chest and the hoppers that need to be set. They are:\n",
    "\n",
    "| Container | x | y | z |\n",
    "| --- | --- | --- | --- |\n",
    "| Letter Chest | 575 | 58 | 148 |\n",
    "| Step 2 Letter 1 Hopper (41 items) | 571 | 56 | 158 |\n",
    "| Step 2 Letter 2 Hopper (41 items) | 571 | 56 | 157 |\n",
    "| Step 2 Letter 3 Hopper (41 items) | 571 | 56 | 156 |\n",
    "| Step 2 Letter 4 Hopper (41 items) | 571 | 56 | 155 |\n",
    "| Step 2 Letter 5 Hopper (41 items) | 571 | 56 | 154 |\n",
    "| Step 2 Letter 1 Hopper (1 items) | 571 | 55 | 158 |\n",
    "| Step 2 Letter 2 Hopper (1 items) | 571 | 55 | 157 |\n",
    "| Step 2 Letter 3 Hopper (1 items) | 571 | 55 | 156 |\n",
    "| Step 2 Letter 4 Hopper (1 items) | 571 | 55 | 155 |\n",
    "| Step 2 Letter 5 Hopper (1 items) | 571 | 55 | 154 |\n",
    "| Step 3 Letter 1 Hopper (41 items) | 556 | 56 | 158 |\n",
    "| Step 3 Letter 2 Hopper (41 items) | 556 | 56 | 157 |\n",
    "| Step 3 Letter 3 Hopper (41 items) | 556 | 56 | 156 |\n",
    "| Step 3 Letter 4 Hopper (41 items) | 556 | 56 | 155 |\n",
    "| Step 3 Letter 5 Hopper (41 items) | 556 | 56 | 154 |\n",
    "| Step 3 Letter 1 Hopper (1 items) | 556 | 55 | 158 |\n",
    "| Step 3 Letter 2 Hopper (1 items) | 556 | 55 | 157 |\n",
    "| Step 3 Letter 3 Hopper (1 items) | 556 | 55 | 156 |\n",
    "| Step 3 Letter 4 Hopper (1 items) | 556 | 55 | 155 |\n",
    "| Step 3 Letter 5 Hopper (1 items) | 556 | 55 | 154 |"
   ]
  },
  {
   "cell_type": "markdown",
   "id": "43ad136a-d35c-49d7-9e9b-593f08c0f7ab",
   "metadata": {},
   "source": [
    "I also need a Wordle dictionary. Any old list of five-letter words won't work because it'll contain plurals and scientific terms that are absolutely no fun to play. There are lists of past answers, word lists used by popular wordle clones and even the original list of 2,315 words selected by Josh Wardle. But there are copyright and distribution implications, so... why won't I go with something a little bit more personal? Pearl's very own list of past words?\n",
    "\n",
    "Those can be culled from the book found in Chat's lectern at `(594, 60, 154)`\n",
    "\n",
    "Note that:\n",
    "- Chat lost a few times and didn't have that week's answer recorded\n",
    "- But Pearl also wouldn't have let chat play an invalid word, so _any guesses_ are fair game."
   ]
  },
  {
   "cell_type": "markdown",
   "id": "3ba30948-9e43-415e-b535-b82703a19972",
   "metadata": {},
   "source": [
    "## Setup and Macros"
   ]
  },
  {
   "cell_type": "code",
   "execution_count": 1,
   "id": "afa0fc80-3102-4e4a-8669-6d95022190ed",
   "metadata": {},
   "outputs": [],
   "source": [
    "import copy\n",
    "import json\n",
    "import random\n",
    "from collections import Counter\n",
    "from collections.abc import Collection\n",
    "from functools import partial\n",
    "from os import environ\n",
    "from pathlib import Path\n",
    "from typing import Any\n",
    "\n",
    "import mutf8\n",
    "import pandas as pd\n",
    "from IPython.display import Markdown, display\n",
    "from nbt import nbt, region"
   ]
  },
  {
   "cell_type": "code",
   "execution_count": 2,
   "id": "41cb7589-21e4-4894-a114-37f230d973ce",
   "metadata": {},
   "outputs": [],
   "source": [
    "def format_file_size(path: Path) -> str:\n",
    "    \"\"\"Print the size of the specified file in\n",
    "    human-readible form (KB / MB / GB)\n",
    "\n",
    "    Parameters\n",
    "    ----------\n",
    "    path : Path\n",
    "        The path to the file\n",
    "\n",
    "    Returns\n",
    "    -------\n",
    "    str\n",
    "        A prettily formatted file size\n",
    "\n",
    "    Notes\n",
    "    -----\n",
    "    I would be shocked if there isn't a utility already built\n",
    "    into the standard library to do this, but all I could find\n",
    "    via Googling was a bunch of recipes and examples\n",
    "    \"\"\"\n",
    "    size: float = path.stat().st_size  # in bytes\n",
    "    for unit in (\"B\", \"KB\", \"MB\", \"GB\"):\n",
    "        if size < 1024 / 2:\n",
    "            return f\"{size:.1f} {unit}\"\n",
    "        size /= 1024\n",
    "    return f\"{size} TB\""
   ]
  },
  {
   "cell_type": "code",
   "execution_count": 3,
   "id": "3de7df8e-478c-4bbd-96e8-7490e3c9ec12",
   "metadata": {},
   "outputs": [],
   "source": [
    "def summarize_keystore(keystore: dict[str, Any]) -> None:\n",
    "    \"\"\"Display a summary of the contents of a key-value store\n",
    "\n",
    "    Parameters\n",
    "    ----------\n",
    "    keystore : dict\n",
    "        The keystore to summarize\n",
    "\n",
    "    Returns\n",
    "    -------\n",
    "    None\n",
    "    \"\"\"\n",
    "\n",
    "    def _summarize_keystore(keystore: dict[str, Any]) -> str:\n",
    "        summary = \"\"\n",
    "        for k, v in keystore.items():\n",
    "            summary += f\"\\n - `{k}` : \"\n",
    "            if isinstance(v, (str, nbt.TAG_String)):\n",
    "                summary += f'`\"{v}\"`'\n",
    "            elif not isinstance(v, Collection):\n",
    "                summary += f\"`{str(v)}`\"\n",
    "            else:\n",
    "                length = len(v)\n",
    "                if 0 < length < 3:\n",
    "                    summary += \"\\n\"\n",
    "                    if not isinstance(v, dict):\n",
    "                        v = {i: item for i, item in enumerate(v)}\n",
    "                    summary += \"\\n\".join(\n",
    "                        (f\"\\t{line}\" for line in _summarize_keystore(v).split(\"\\n\"))\n",
    "                    )\n",
    "                else:\n",
    "                    summary += f\"({len(v)} items)\"\n",
    "        return summary\n",
    "\n",
    "    display(Markdown(_summarize_keystore(keystore)))"
   ]
  },
  {
   "cell_type": "code",
   "execution_count": 4,
   "id": "a31d277e-75d6-4f9a-9e57-5b92eeebb32f",
   "metadata": {},
   "outputs": [
    {
     "name": "stdout",
     "output_type": "stream",
     "text": [
      "- DIM-1 (folder)\n",
      "- DIM1 (folder)\n",
      "- advancements (folder)\n",
      "- audio_player_data (folder)\n",
      "- carpet-fixes.conf (22.0 B)\n",
      "- carpet.conf (57.0 B)\n",
      "- data (folder)\n",
      "- datapacks (folder)\n",
      "- entities (folder)\n",
      "- icon.png (9.0 KB)\n",
      "- level.dat (3.3 KB)\n",
      "- level.dat_old (3.3 KB)\n",
      "- playerdata (folder)\n",
      "- poi (folder)\n",
      "- region (folder)\n",
      "- resources.zip (34.0 MB)\n",
      "- scripts (folder)\n",
      "- session.lock (3.0 B)\n",
      "- stats (folder)\n"
     ]
    }
   ],
   "source": [
    "save_folder = Path(environ[\"SAVE_PATH\"])\n",
    "\n",
    "# make sure this is set correctly\n",
    "for path in sorted(save_folder.glob(\"*\")):\n",
    "    print(f\"- {path.name} ({'folder' if path.is_dir() else format_file_size(path)})\")"
   ]
  },
  {
   "cell_type": "markdown",
   "id": "17c8e1a3-8b4e-4d93-8bad-84345b17983d",
   "metadata": {},
   "source": [
    "### Load the region file"
   ]
  },
  {
   "cell_type": "markdown",
   "id": "03f478e8-57da-41be-9e1b-7341162591f1",
   "metadata": {},
   "source": [
    "Peardle doesn't straddle a region boundary (thank God) so everything is contained within `r.1.0.mca`"
   ]
  },
  {
   "cell_type": "code",
   "execution_count": 5,
   "id": "48fd1b85-8772-48be-87f2-3582a502b6ac",
   "metadata": {},
   "outputs": [],
   "source": [
    "region_data = region.RegionFile(save_folder / \"region\" / \"r.1.0.mca\")\n",
    "region_start = (512, 0)"
   ]
  },
  {
   "cell_type": "markdown",
   "id": "5ce5d95f-fd65-4c50-bf79-2f53ec6275c9",
   "metadata": {},
   "source": [
    "## Let's look at a letter"
   ]
  },
  {
   "cell_type": "code",
   "execution_count": 6,
   "id": "1b049d79-16f6-453b-a0fd-558f01f372f2",
   "metadata": {},
   "outputs": [
    {
     "data": {
      "text/markdown": [
       "\n",
       " - `z` : `148`\n",
       " - `x` : `575`\n",
       " - `id` : `\"minecraft:chest\"`\n",
       " - `y` : `58`\n",
       " - `Items` : (26 items)\n",
       " - `keepPacked` : `0`\n",
       " - `components` : (0 items)"
      ],
      "text/plain": [
       "<IPython.core.display.Markdown object>"
      ]
     },
     "metadata": {},
     "output_type": "display_data"
    }
   ],
   "source": [
    "letter_chest_pos = (575, 58, 148)\n",
    "chunk = region_data.get_chunk(\n",
    "    (letter_chest_pos[0] - region_start[0]) // 16,\n",
    "    (letter_chest_pos[2] - region_start[1]) // 16,\n",
    ")\n",
    "for entity in chunk[\"block_entities\"]:\n",
    "    if (entity[\"x\"].value, entity[\"y\"].value, entity[\"z\"].value) == letter_chest_pos:\n",
    "        assert entity[\"id\"].value == \"minecraft:chest\"\n",
    "        letter_chest = entity\n",
    "        break\n",
    "else:\n",
    "    raise RuntimeError(\"Could not find letter chest\")\n",
    "\n",
    "summarize_keystore(letter_chest)"
   ]
  },
  {
   "cell_type": "markdown",
   "id": "195ffc13-5ba5-495d-8025-820cf5c78412",
   "metadata": {},
   "source": [
    "Good. We have all 26 letters in this chest."
   ]
  },
  {
   "cell_type": "code",
   "execution_count": 7,
   "id": "34a42db9-2a7a-4f10-9c8b-fcddd5424c17",
   "metadata": {},
   "outputs": [
    {
     "data": {
      "text/markdown": [
       "\n",
       " - `Slot` : `0`\n",
       " - `id` : `\"minecraft:orange_dye\"`\n",
       " - `count` : `6`\n",
       " - `components` : (3 items)"
      ],
      "text/plain": [
       "<IPython.core.display.Markdown object>"
      ]
     },
     "metadata": {},
     "output_type": "display_data"
    }
   ],
   "source": [
    "summarize_keystore(letter_chest[\"Items\"][0])"
   ]
  },
  {
   "cell_type": "code",
   "execution_count": 8,
   "id": "3094fda2-0a03-4a91-b45d-82fb0de9791f",
   "metadata": {},
   "outputs": [
    {
     "data": {
      "text/markdown": [
       "\n",
       " - `minecraft:custom_name` : `\"R\"`\n",
       " - `minecraft:custom_model_data` : \n",
       "\t\n",
       "\t - `0` : `\"floats\"`\n",
       " - `minecraft:custom_data` : \n",
       "\t\n",
       "\t - `0` : `\"CustomRoleplayData\"`"
      ],
      "text/plain": [
       "<IPython.core.display.Markdown object>"
      ]
     },
     "metadata": {},
     "output_type": "display_data"
    }
   ],
   "source": [
    "summarize_keystore(letter_chest[\"Items\"][0][\"components\"])"
   ]
  },
  {
   "cell_type": "markdown",
   "id": "cc87a94d-d5cd-4124-bd9a-14a95834791a",
   "metadata": {},
   "source": [
    "From here, we can build up a map of letters to their slots."
   ]
  },
  {
   "cell_type": "code",
   "execution_count": 9,
   "id": "efe2762e-0958-43fe-bd9b-ba4edfe84ef2",
   "metadata": {},
   "outputs": [
    {
     "data": {
      "text/plain": [
       "{'R': 0,\n",
       " 'A': 1,\n",
       " 'C': 2,\n",
       " 'H': 3,\n",
       " 'Z': 4,\n",
       " 'W': 5,\n",
       " 'Y': 6,\n",
       " 'M': 7,\n",
       " 'P': 8,\n",
       " 'B': 9,\n",
       " 'Q': 10,\n",
       " 'F': 11,\n",
       " 'N': 12,\n",
       " 'K': 13,\n",
       " 'L': 14,\n",
       " 'X': 15,\n",
       " 'G': 16,\n",
       " 'S': 17,\n",
       " 'E': 18,\n",
       " 'O': 19,\n",
       " 'T': 20,\n",
       " 'U': 21,\n",
       " 'J': 22,\n",
       " 'D': 23,\n",
       " 'I': 24,\n",
       " 'V': 25}"
      ]
     },
     "execution_count": 9,
     "metadata": {},
     "output_type": "execute_result"
    }
   ],
   "source": [
    "letter_map: dict[str, int] = {}\n",
    "for letter in letter_chest[\"Items\"]:\n",
    "    letter_map[letter[\"components\"][\"minecraft:custom_name\"].value] = letter[\n",
    "        \"Slot\"\n",
    "    ].value\n",
    "letter_map"
   ]
  },
  {
   "cell_type": "markdown",
   "id": "941290b8-2389-45e2-b2c3-d6e62fbc0b75",
   "metadata": {},
   "source": [
    "## Let's look at a hopper"
   ]
  },
  {
   "cell_type": "markdown",
   "id": "a8895627-93f8-4ade-83c7-2a8890705cac",
   "metadata": {},
   "source": [
    "***Warning!* Running cells beyond this point bay spoil the world download's Pearldle answer!! Read no further until you've played that game!!**"
   ]
  },
  {
   "cell_type": "code",
   "execution_count": 10,
   "id": "63f484a1-76c8-40c7-8395-e4c078b25789",
   "metadata": {},
   "outputs": [
    {
     "data": {
      "text/markdown": [
       "\n",
       " - `z` : `158`\n",
       " - `x` : `571`\n",
       " - `TransferCooldown` : `0`\n",
       " - `id` : `\"minecraft:hopper\"`\n",
       " - `y` : `56`\n",
       " - `Items` : (5 items)\n",
       " - `keepPacked` : `0`\n",
       " - `components` : (0 items)"
      ],
      "text/plain": [
       "<IPython.core.display.Markdown object>"
      ]
     },
     "metadata": {},
     "output_type": "display_data"
    }
   ],
   "source": [
    "hopper_pos = (571, 56, 158)\n",
    "chunk = region_data.get_chunk(\n",
    "    (hopper_pos[0] - region_start[0]) // 16, (hopper_pos[2] - region_start[1]) // 16\n",
    ")\n",
    "for entity in chunk[\"block_entities\"]:\n",
    "    if (entity[\"x\"].value, entity[\"y\"].value, entity[\"z\"].value) == hopper_pos:\n",
    "        assert entity[\"id\"].value == \"minecraft:hopper\"\n",
    "        hopper = entity\n",
    "        break\n",
    "else:\n",
    "    raise RuntimeError(\"Could not find hopper\")\n",
    "\n",
    "summarize_keystore(hopper)"
   ]
  },
  {
   "cell_type": "code",
   "execution_count": 11,
   "id": "fea82349-ac86-4be5-ba22-16a588310bab",
   "metadata": {},
   "outputs": [
    {
     "data": {
      "text/markdown": [
       "\n",
       " - `Slot` : `0`\n",
       " - `id` : `\"minecraft:peony\"`\n",
       " - `count` : `41`\n",
       " - `components` : (3 items)"
      ],
      "text/plain": [
       "<IPython.core.display.Markdown object>"
      ]
     },
     "metadata": {},
     "output_type": "display_data"
    }
   ],
   "source": [
    "summarize_keystore(hopper[\"Items\"][0])"
   ]
  },
  {
   "cell_type": "markdown",
   "id": "e16ef5eb-496d-47b2-b5aa-f44fc26df35c",
   "metadata": {},
   "source": [
    "Great! I have the right slot. Just to verify:"
   ]
  },
  {
   "cell_type": "code",
   "execution_count": null,
   "id": "db24cebd-545e-4ce2-ba85-5bff7c8e18c5",
   "metadata": {},
   "outputs": [],
   "source": [
    "final_pearldle = \"\"\n",
    "for hopper_num in range(5):\n",
    "    hopper_pos = (571, 56, 158 - hopper_num)\n",
    "    chunk = region_data.get_chunk(\n",
    "        (hopper_pos[0] - region_start[0]) // 16, (hopper_pos[2] - region_start[1]) // 16\n",
    "    )\n",
    "    for entity in chunk[\"block_entities\"]:\n",
    "        if (entity[\"x\"].value, entity[\"y\"].value, entity[\"z\"].value) == hopper_pos:\n",
    "            assert (\n",
    "                entity[\"id\"].value == \"minecraft:hopper\"\n",
    "            ), f\"Block entity at {hopper_pos} is not a hopper\"\n",
    "            assert (\n",
    "                entity[\"Items\"][0][\"count\"].value == 41\n",
    "            ), f\"Block entity at {hopper_pos} does not have 41 items in its first slot\"\n",
    "            hopper = entity\n",
    "            break\n",
    "    else:\n",
    "        raise RuntimeError(f\"Could not find hopper {hopper_num + 1}\")\n",
    "    final_pearldle += hopper[\"Items\"][0][\"components\"][\"minecraft:custom_name\"].value\n",
    "final_pearldle"
   ]
  },
  {
   "cell_type": "markdown",
   "id": "115e4dcd-851c-436b-8f64-97891f8262f3",
   "metadata": {},
   "source": [
    "Great! Now let's run this verifier across the other three sets of hoppers"
   ]
  },
  {
   "cell_type": "code",
   "execution_count": 13,
   "id": "710a2866-1f24-45b0-b545-869d4ade3afd",
   "metadata": {},
   "outputs": [],
   "source": [
    "answer = \"\"\n",
    "for hopper_num in range(5):\n",
    "    hopper_pos = (571, 55, 158 - hopper_num)\n",
    "    chunk = region_data.get_chunk(\n",
    "        (hopper_pos[0] - region_start[0]) // 16, (hopper_pos[2] - region_start[1]) // 16\n",
    "    )\n",
    "    for entity in chunk[\"block_entities\"]:\n",
    "        if (entity[\"x\"].value, entity[\"y\"].value, entity[\"z\"].value) == hopper_pos:\n",
    "            assert (\n",
    "                entity[\"id\"].value == \"minecraft:hopper\"\n",
    "            ), f\"Block entity at {hopper_pos} is not a hopper\"\n",
    "            assert (\n",
    "                entity[\"Items\"][0][\"count\"].value == 1\n",
    "            ), f\"Block entity at {hopper_pos} does not have 1 item in its first slot\"\n",
    "            hopper = entity\n",
    "            break\n",
    "    else:\n",
    "        raise RuntimeError(f\"Could not find hopper {hopper_num + 1}\")\n",
    "    answer += hopper[\"Items\"][0][\"components\"][\"minecraft:custom_name\"].value\n",
    "assert answer == final_pearldle"
   ]
  },
  {
   "cell_type": "code",
   "execution_count": 14,
   "id": "8dcaf29c-0386-4b19-ad72-ec614d183e33",
   "metadata": {},
   "outputs": [],
   "source": [
    "answer = \"\"\n",
    "for hopper_num in range(5):\n",
    "    hopper_pos = (556, 56, 158 - hopper_num)\n",
    "    chunk = region_data.get_chunk(\n",
    "        (hopper_pos[0] - region_start[0]) // 16, (hopper_pos[2] - region_start[1]) // 16\n",
    "    )\n",
    "    for entity in chunk[\"block_entities\"]:\n",
    "        if (entity[\"x\"].value, entity[\"y\"].value, entity[\"z\"].value) == hopper_pos:\n",
    "            assert (\n",
    "                entity[\"id\"].value == \"minecraft:hopper\"\n",
    "            ), f\"Block entity at {hopper_pos} is not a hopper\"\n",
    "            assert (\n",
    "                entity[\"Items\"][0][\"count\"].value == 41\n",
    "            ), f\"Block entity at {hopper_pos} does not have 41 item in its first slot\"\n",
    "            hopper = entity\n",
    "            break\n",
    "    else:\n",
    "        raise RuntimeError(f\"Could not find hopper {hopper_num + 1}\")\n",
    "    answer += hopper[\"Items\"][0][\"components\"][\"minecraft:custom_name\"].value\n",
    "assert answer == final_pearldle"
   ]
  },
  {
   "cell_type": "code",
   "execution_count": 15,
   "id": "f50b9f97-c632-45fa-b5a8-0c3421394809",
   "metadata": {},
   "outputs": [],
   "source": [
    "answer = \"\"\n",
    "for hopper_num in range(5):\n",
    "    hopper_pos = (556, 55, 158 - hopper_num)\n",
    "    chunk = region_data.get_chunk(\n",
    "        (hopper_pos[0] - region_start[0]) // 16, (hopper_pos[2] - region_start[1]) // 16\n",
    "    )\n",
    "    for entity in chunk[\"block_entities\"]:\n",
    "        if (entity[\"x\"].value, entity[\"y\"].value, entity[\"z\"].value) == hopper_pos:\n",
    "            assert (\n",
    "                entity[\"id\"].value == \"minecraft:hopper\"\n",
    "            ), f\"Block entity at {hopper_pos} is not a hopper\"\n",
    "            assert (\n",
    "                entity[\"Items\"][0][\"count\"].value == 1\n",
    "            ), f\"Block entity at {hopper_pos} does not have 1 item in its first slot\"\n",
    "            hopper = entity\n",
    "            break\n",
    "    else:\n",
    "        raise RuntimeError(f\"Could not find hopper {hopper_num + 1}\")\n",
    "    answer += hopper[\"Items\"][0][\"components\"][\"minecraft:custom_name\"].value\n",
    "assert answer == final_pearldle"
   ]
  },
  {
   "cell_type": "markdown",
   "id": "d48c8567-75f6-4054-a084-526be0451127",
   "metadata": {},
   "source": [
    "## Setting the word"
   ]
  },
  {
   "cell_type": "markdown",
   "id": "c7a766c4-e0f7-46f2-bd97-0eb0cffed010",
   "metadata": {},
   "source": [
    "So now if I wanted to set the word to \"PEARL\" I could do that by editing the chunk data directly."
   ]
  },
  {
   "cell_type": "code",
   "execution_count": 16,
   "id": "ae72a104-d306-4fca-a539-bc022c8c0fd6",
   "metadata": {},
   "outputs": [],
   "source": [
    "for hopper_num, letter in enumerate(\"PEARL\"):\n",
    "    letter_item = letter_chest[\"Items\"][letter_map[letter]]\n",
    "    assert letter_item[\"components\"][\"minecraft:custom_name\"].value == letter\n",
    "    for hopper_x in (571, 556):\n",
    "        for hopper_y, item_count in ((56, 41), (55, 1)):\n",
    "            hopper_pos = (hopper_x, hopper_y, 158 - hopper_num)\n",
    "            chunk = region_data.get_chunk(\n",
    "                (hopper_pos[0] - region_start[0]) // 16,\n",
    "                (hopper_pos[2] - region_start[1]) // 16,\n",
    "            )\n",
    "            for entity in chunk[\"block_entities\"]:\n",
    "                if (\n",
    "                    entity[\"x\"].value,\n",
    "                    entity[\"y\"].value,\n",
    "                    entity[\"z\"].value,\n",
    "                ) == hopper_pos:\n",
    "                    assert (\n",
    "                        entity[\"id\"].value == \"minecraft:hopper\"\n",
    "                    ), f\"Block entity at {hopper_pos} is not a hopper\"\n",
    "                    assert (\n",
    "                        entity[\"Items\"][0][\"count\"].value == item_count\n",
    "                    ), f\"Block entity at {hopper_pos} does not have the correct number of items its first slot\"\n",
    "                    hopper = entity\n",
    "                    break\n",
    "            else:\n",
    "                raise RuntimeError(f\"Could not find hopper at {hopper_pos}\")\n",
    "            paste_item = copy.deepcopy(letter_item)\n",
    "            paste_item[\"Slot\"].value = 0\n",
    "            paste_item[\"count\"].value = item_count\n",
    "            hopper[\"Items\"][0] = paste_item\n",
    "            # writing on each modification is silly and wasteful\n",
    "            # but it's better than wasting time on caching logic\n",
    "            region_data.write_chunk(chunk.loc.x, chunk.loc.z, chunk)"
   ]
  },
  {
   "cell_type": "markdown",
   "id": "864740e8-64ba-49ee-8503-9820f962dc1e",
   "metadata": {},
   "source": [
    "## Parsing the Word List"
   ]
  },
  {
   "cell_type": "code",
   "execution_count": 17,
   "id": "4d564305-b636-44e1-add8-c07c4af14b01",
   "metadata": {},
   "outputs": [],
   "source": [
    "lectern_pos = (594, 60, 154)\n",
    "chunk = region_data.get_chunk(\n",
    "    (lectern_pos[0] - region_start[0]) // 16, (lectern_pos[2] - region_start[1]) // 16\n",
    ")\n",
    "for entity in chunk[\"block_entities\"]:\n",
    "    if (entity[\"x\"].value, entity[\"y\"].value, entity[\"z\"].value) == lectern_pos:\n",
    "        assert entity[\"id\"].value == \"minecraft:lectern\"\n",
    "        lectern = entity\n",
    "        break\n",
    "else:\n",
    "    raise RuntimeError(\"Could not find lectern\")"
   ]
  },
  {
   "cell_type": "code",
   "execution_count": 18,
   "id": "db729a13-8b18-4f5e-811d-284f5ec0a9f7",
   "metadata": {},
   "outputs": [
    {
     "data": {
      "text/markdown": [
       "\n",
       " - `Page` : `0`\n",
       " - `z` : `154`\n",
       " - `x` : `594`\n",
       " - `Book` : (3 items)\n",
       " - `id` : `\"minecraft:lectern\"`\n",
       " - `y` : `60`\n",
       " - `keepPacked` : `0`\n",
       " - `components` : (0 items)"
      ],
      "text/plain": [
       "<IPython.core.display.Markdown object>"
      ]
     },
     "metadata": {},
     "output_type": "display_data"
    }
   ],
   "source": [
    "summarize_keystore(lectern)"
   ]
  },
  {
   "cell_type": "code",
   "execution_count": 19,
   "id": "2de960b7-8299-4cd3-9080-60cb7ace33e1",
   "metadata": {},
   "outputs": [
    {
     "data": {
      "text/markdown": [
       "\n",
       " - `id` : `\"minecraft:writable_book\"`\n",
       " - `count` : `1`\n",
       " - `components` : \n",
       "\t\n",
       "\t - `0` : `\"minecraft:writable_book_content\"`"
      ],
      "text/plain": [
       "<IPython.core.display.Markdown object>"
      ]
     },
     "metadata": {},
     "output_type": "display_data"
    }
   ],
   "source": [
    "summarize_keystore(lectern[\"Book\"])"
   ]
  },
  {
   "cell_type": "code",
   "execution_count": 20,
   "id": "95901b7a-240e-4905-a106-fed55002826a",
   "metadata": {},
   "outputs": [
    {
     "data": {
      "text/markdown": [
       "\n",
       " - `pages` : (56 items)"
      ],
      "text/plain": [
       "<IPython.core.display.Markdown object>"
      ]
     },
     "metadata": {},
     "output_type": "display_data"
    }
   ],
   "source": [
    "summarize_keystore(lectern[\"Book\"][\"components\"][\"minecraft:writable_book_content\"])"
   ]
  },
  {
   "cell_type": "code",
   "execution_count": 21,
   "id": "12fc5712-f583-4358-9972-da45811063b8",
   "metadata": {},
   "outputs": [
    {
     "data": {
      "text/markdown": [
       "\n",
       " - `raw` : `\"Phase 60\n",
       "\n",
       "Guesses: \n",
       "\n",
       "- \"`"
      ],
      "text/plain": [
       "<IPython.core.display.Markdown object>"
      ]
     },
     "metadata": {},
     "output_type": "display_data"
    }
   ],
   "source": [
    "summarize_keystore(\n",
    "    lectern[\"Book\"][\"components\"][\"minecraft:writable_book_content\"][\"pages\"][0]\n",
    ")"
   ]
  },
  {
   "cell_type": "markdown",
   "id": "1f389bf4-03b1-4f89-941d-082b2b4a099a",
   "metadata": {},
   "source": [
    "lol, I think that messed with the markdown"
   ]
  },
  {
   "cell_type": "code",
   "execution_count": 22,
   "id": "8a6f6bcc-422b-4a1d-8fcd-04c01f9a28ee",
   "metadata": {},
   "outputs": [
    {
     "data": {
      "text/plain": [
       "\"'Phase 60\\\\n\\\\nGuesses: \\\\n\\\\n- '\""
      ]
     },
     "execution_count": 22,
     "metadata": {},
     "output_type": "execute_result"
    }
   ],
   "source": [
    "repr(\n",
    "    lectern[\"Book\"][\"components\"][\"minecraft:writable_book_content\"][\"pages\"][0][\n",
    "        \"raw\"\n",
    "    ].value\n",
    ")"
   ]
  },
  {
   "cell_type": "markdown",
   "id": "1325e8b8-d15f-40cf-8b89-487e923c1766",
   "metadata": {},
   "source": [
    "Onto the next page"
   ]
  },
  {
   "cell_type": "code",
   "execution_count": 23,
   "id": "644c2c66-4987-4a05-a8e6-1244031e959e",
   "metadata": {},
   "outputs": [
    {
     "data": {
      "text/plain": [
       "\"'Week 1:\\\\nWon on guess 4/5\\\\n\\\\n\\\\n\\\\n'\""
      ]
     },
     "execution_count": 23,
     "metadata": {},
     "output_type": "execute_result"
    }
   ],
   "source": [
    "repr(\n",
    "    lectern[\"Book\"][\"components\"][\"minecraft:writable_book_content\"][\"pages\"][1][\n",
    "        \"raw\"\n",
    "    ].value\n",
    ")"
   ]
  },
  {
   "cell_type": "markdown",
   "id": "7ac4b365-f04a-4dba-835a-6428326a0728",
   "metadata": {},
   "source": [
    "Didn't record the guesses that week. Too bad."
   ]
  },
  {
   "cell_type": "code",
   "execution_count": 24,
   "id": "9e47c7d2-95f5-4d29-9fa5-fbd7c58c7994",
   "metadata": {},
   "outputs": [
    {
     "data": {
      "text/plain": [
       "\"'Week 3:\\\\n\\\\nGuesses: 4/5\\\\n\\\\n-Adieu\\\\n-Fauna\\\\n-Ultra\\\\n-*Yucca'\""
      ]
     },
     "execution_count": 24,
     "metadata": {},
     "output_type": "execute_result"
    }
   ],
   "source": [
    "repr(\n",
    "    lectern[\"Book\"][\"components\"][\"minecraft:writable_book_content\"][\"pages\"][2][\n",
    "        \"raw\"\n",
    "    ].value\n",
    ")"
   ]
  },
  {
   "cell_type": "markdown",
   "id": "67d60357-7a69-4f2c-b90d-facf9b63e162",
   "metadata": {},
   "source": [
    "Wow, Pearldle added repeated-letter functionality **way** earlier than I remembered."
   ]
  },
  {
   "cell_type": "markdown",
   "id": "4744824c-4818-41fa-942c-b7a56876026b",
   "metadata": {},
   "source": [
    "### Building up a parser\n",
    "\n",
    "Let's see how consistent Pearl was"
   ]
  },
  {
   "cell_type": "code",
   "execution_count": 25,
   "id": "d528823d-99ee-451a-918a-ca7c8cc537f4",
   "metadata": {},
   "outputs": [
    {
     "data": {
      "text/plain": [
       "['ADIEU', 'FAUNA', 'ULTRA', 'YUCCA']"
      ]
     },
     "execution_count": 25,
     "metadata": {},
     "output_type": "execute_result"
    }
   ],
   "source": [
    "def parse_guesses(page: str) -> list[str]:\n",
    "    \"\"\"Parse the valid Pearldle guesses out of\n",
    "    a page of a book\n",
    "\n",
    "    Parameters\n",
    "    ----------\n",
    "    page : str\n",
    "        The contents of that page of the book\n",
    "\n",
    "    Returns\n",
    "    -------\n",
    "    list of str\n",
    "        The five-letter words comprisings\n",
    "        the guesses on that page\n",
    "    \"\"\"\n",
    "    guesses = []\n",
    "    for line in page.split(\"\\n\"):\n",
    "        line = line.strip()\n",
    "        if len(line) == 0:\n",
    "            continue\n",
    "        if line.lower().startswith(\"week\"):\n",
    "            continue\n",
    "        if line.lower().startswith(\"guesses\"):\n",
    "            continue\n",
    "        line = line.replace(\"-\", \"\").replace(\"*\", \"\").strip()\n",
    "        if len(line) == 5:\n",
    "            guesses.append(line.upper())\n",
    "    return guesses\n",
    "\n",
    "\n",
    "parse_guesses(\n",
    "    lectern[\"Book\"][\"components\"][\"minecraft:writable_book_content\"][\"pages\"][2][\n",
    "        \"raw\"\n",
    "    ].value\n",
    ")"
   ]
  },
  {
   "cell_type": "code",
   "execution_count": 26,
   "id": "cc42641e-569e-4db6-9da4-ca569adc6a35",
   "metadata": {},
   "outputs": [
    {
     "name": "stdout",
     "output_type": "stream",
     "text": [
      "Parsed 182 words\n"
     ]
    },
    {
     "data": {
      "text/plain": [
       "['ABIDE',\n",
       " 'ADIEU',\n",
       " 'AFTER',\n",
       " 'ANKLE',\n",
       " 'ANVIL',\n",
       " 'AORTA',\n",
       " 'AUDIO',\n",
       " 'AWFUL',\n",
       " 'AWOKE',\n",
       " 'BACON',\n",
       " 'BEANS',\n",
       " 'BERET',\n",
       " 'BERRY',\n",
       " 'BINGO',\n",
       " 'BIRCH',\n",
       " 'BITES',\n",
       " 'BLADE',\n",
       " 'BLAZE',\n",
       " 'BLUNT',\n",
       " 'BOARD',\n",
       " 'BUGGY',\n",
       " 'CELLO',\n",
       " 'CHAIN',\n",
       " 'CHAOS',\n",
       " 'CHEAT',\n",
       " 'CHUTE',\n",
       " 'CLEAN',\n",
       " 'CLONE',\n",
       " 'CLUCK',\n",
       " 'COACH',\n",
       " 'COMET',\n",
       " 'COUGH',\n",
       " 'CRISP',\n",
       " 'CRUMB',\n",
       " 'DANCE',\n",
       " 'DISCO',\n",
       " 'DOZEN',\n",
       " 'DRINK',\n",
       " 'EERIE',\n",
       " 'EQUIP',\n",
       " 'ERASE',\n",
       " 'EXACT',\n",
       " 'FABLE',\n",
       " 'FAIRE',\n",
       " 'FANCY',\n",
       " 'FAUNA',\n",
       " 'FEMUR',\n",
       " 'FINAL',\n",
       " 'FLAIR',\n",
       " 'FLUFF',\n",
       " 'FLUTE',\n",
       " 'FRAME',\n",
       " 'GAYER',\n",
       " 'GHAST',\n",
       " 'GHOUL',\n",
       " 'GLEAM',\n",
       " 'GLUON',\n",
       " 'GLYPH',\n",
       " 'GRACE',\n",
       " 'GRIEF',\n",
       " 'HEARD',\n",
       " 'HEART',\n",
       " 'HIPPO',\n",
       " 'HOUSE',\n",
       " 'HYPER',\n",
       " 'ICONS',\n",
       " 'IDLED',\n",
       " 'IMPLY',\n",
       " 'IRATE',\n",
       " 'IRONY',\n",
       " 'JERKY',\n",
       " 'JIMMY',\n",
       " 'JOUST',\n",
       " 'JUICE',\n",
       " 'JUMBO',\n",
       " 'KAZOO',\n",
       " 'KIOSK',\n",
       " 'KNACK',\n",
       " 'LARRY',\n",
       " 'LEMUR',\n",
       " 'LIGHT',\n",
       " 'LINES',\n",
       " 'LIVES',\n",
       " 'LIVID',\n",
       " 'LOTUS',\n",
       " 'LOVED',\n",
       " 'LUCID',\n",
       " 'LUNAR',\n",
       " 'MANGO',\n",
       " 'MANOR',\n",
       " 'MATTE',\n",
       " 'MELON',\n",
       " 'MERCY',\n",
       " 'MERGE',\n",
       " 'METRO',\n",
       " 'MILKY',\n",
       " 'MINES',\n",
       " 'MONEY',\n",
       " 'MOUTH',\n",
       " 'MOVES',\n",
       " 'MULCH',\n",
       " 'MUSIC',\n",
       " 'NEIGH',\n",
       " 'NEXUS',\n",
       " 'NYLON',\n",
       " 'NYMPH',\n",
       " 'OCEAN',\n",
       " 'ONION',\n",
       " 'ORBIT',\n",
       " 'OTHER',\n",
       " 'OTTER',\n",
       " 'OUIJA',\n",
       " 'PANDA',\n",
       " 'PANIC',\n",
       " 'PARTY',\n",
       " 'PEACH',\n",
       " 'PEARL',\n",
       " 'PERRY',\n",
       " 'PESKY',\n",
       " 'PILED',\n",
       " 'PLUCK',\n",
       " 'PLUSH',\n",
       " 'PRIDE',\n",
       " 'PROUD',\n",
       " 'PSYCH',\n",
       " 'PYLON',\n",
       " 'QUALM',\n",
       " 'QUEER',\n",
       " 'QUILT',\n",
       " 'RESET',\n",
       " 'RHYME',\n",
       " 'RIGHT',\n",
       " 'RISKY',\n",
       " 'ROBIN',\n",
       " 'ROCKY',\n",
       " 'ROUND',\n",
       " 'RUGBY',\n",
       " 'RUSTY',\n",
       " 'SATYR',\n",
       " 'SHAKE',\n",
       " 'SHARP',\n",
       " 'SHINY',\n",
       " 'SLUMP',\n",
       " 'SMOKE',\n",
       " 'SNACK',\n",
       " 'SNAIL',\n",
       " 'SPACE',\n",
       " 'SPIKE',\n",
       " 'SPIRE',\n",
       " 'SPITE',\n",
       " 'STORY',\n",
       " 'SUPER',\n",
       " 'SWOOP',\n",
       " 'SWORE',\n",
       " 'TABBY',\n",
       " 'TACKY',\n",
       " 'TAFFY',\n",
       " 'TALLY',\n",
       " 'TEMPO',\n",
       " 'THYME',\n",
       " 'TRANS',\n",
       " 'TRIAL',\n",
       " 'TRILL',\n",
       " 'TULIP',\n",
       " 'TUMMY',\n",
       " 'ULTRA',\n",
       " 'UNCLE',\n",
       " 'UNITE',\n",
       " 'UPPER',\n",
       " 'USHER',\n",
       " 'UTTER',\n",
       " 'UVULA',\n",
       " 'VALOR',\n",
       " 'VOICE',\n",
       " 'WHOLE',\n",
       " 'WIMPY',\n",
       " 'WOMEN',\n",
       " 'WOVEN',\n",
       " 'YODEL',\n",
       " 'YUCCA',\n",
       " 'YUCKY',\n",
       " 'YUMMY']"
      ]
     },
     "execution_count": 26,
     "metadata": {},
     "output_type": "execute_result"
    }
   ],
   "source": [
    "all_guesses: set[str] = set()\n",
    "\n",
    "for page in lectern[\"Book\"][\"components\"][\"minecraft:writable_book_content\"][\"pages\"][\n",
    "    2:\n",
    "]:\n",
    "    all_guesses.update(parse_guesses(page[\"raw\"].value))\n",
    "word_list = sorted(all_guesses)\n",
    "print(f\"Parsed {len(word_list)} words\")\n",
    "word_list"
   ]
  },
  {
   "cell_type": "markdown",
   "id": "4e5b8e53-b71e-4cdf-a7d2-ecce4408cbe3",
   "metadata": {},
   "source": [
    "One hundred eighty-two words is not bad! I do need to manually remove some plurals, simple conjugations ~~and cheeky guesses~~ _(actually I can't bring myself to remove Larry, and if I'm leaving Larry, I gotta leave Perry)_"
   ]
  },
  {
   "cell_type": "code",
   "execution_count": 27,
   "id": "4206bcdd-55cb-47a8-b1f7-1d62fadbccf2",
   "metadata": {},
   "outputs": [
    {
     "name": "stdout",
     "output_type": "stream",
     "text": [
      "173 words remain\n"
     ]
    }
   ],
   "source": [
    "for invalid_word in (\n",
    "    \"BEANS\",\n",
    "    \"ICONS\",\n",
    "    \"IDLED\",\n",
    "    # \"LARRY\"\n",
    "    \"LINES\",\n",
    "    \"LIVES\",\n",
    "    \"LOVED\",\n",
    "    \"MINES\",\n",
    "    \"MOVES\",\n",
    "    \"PILED\",\n",
    "    # \"PERRY\",\n",
    "):\n",
    "    word_list.remove(invalid_word)\n",
    "print(f\"{len(word_list)} words remain\")"
   ]
  },
  {
   "cell_type": "markdown",
   "id": "afd81fcc-dfed-46da-965f-36cdbd428840",
   "metadata": {},
   "source": [
    "### Setting a New Word\n",
    "\n",
    "And now we can fully macro-fy the code to set a random Pearldle word"
   ]
  },
  {
   "cell_type": "code",
   "execution_count": 28,
   "id": "05154466-3665-4528-85b7-02a25db465c8",
   "metadata": {},
   "outputs": [],
   "source": [
    "for hopper_num, letter in enumerate(random.choice(word_list)):\n",
    "    letter_item = letter_chest[\"Items\"][letter_map[letter]]\n",
    "    assert letter_item[\"components\"][\"minecraft:custom_name\"].value == letter\n",
    "    for hopper_x in (571, 556):\n",
    "        for hopper_y, item_count in ((56, 41), (55, 1)):\n",
    "            hopper_pos = (hopper_x, hopper_y, 158 - hopper_num)\n",
    "            chunk = region_data.get_chunk(\n",
    "                (hopper_pos[0] - region_start[0]) // 16,\n",
    "                (hopper_pos[2] - region_start[1]) // 16,\n",
    "            )\n",
    "            for entity in chunk[\"block_entities\"]:\n",
    "                if (\n",
    "                    entity[\"x\"].value,\n",
    "                    entity[\"y\"].value,\n",
    "                    entity[\"z\"].value,\n",
    "                ) == hopper_pos:\n",
    "                    assert (\n",
    "                        entity[\"id\"].value == \"minecraft:hopper\"\n",
    "                    ), f\"Block entity at {hopper_pos} is not a hopper\"\n",
    "                    assert (\n",
    "                        entity[\"Items\"][0][\"count\"].value == item_count\n",
    "                    ), f\"Block entity at {hopper_pos} does not have the correct number of items its first slot\"\n",
    "                    hopper = entity\n",
    "                    break\n",
    "            else:\n",
    "                raise RuntimeError(f\"Could not find hopper at {hopper_pos}\")\n",
    "            paste_item = copy.deepcopy(letter_item)\n",
    "            paste_item[\"Slot\"].value = 0\n",
    "            paste_item[\"count\"].value = item_count\n",
    "            hopper[\"Items\"][0] = paste_item\n",
    "            # writing on each modification is silly and wasteful\n",
    "            # but it's better than wasting time on caching logic\n",
    "            region_data.write_chunk(chunk.loc.x, chunk.loc.z, chunk)"
   ]
  },
  {
   "cell_type": "markdown",
   "id": "36fc9549-f108-4048-b18a-722037aa8cc8",
   "metadata": {},
   "source": [
    "A word has been set, and I have **no idea** what it could be."
   ]
  },
  {
   "cell_type": "markdown",
   "id": "148c3048-45da-43aa-8fc0-8303be78461c",
   "metadata": {},
   "source": [
    "## Shouldn't This Be A Datapack?\n",
    "\n",
    "So at this point, I've provided anyone who wants with the tools needed to blindly randomize their pearldle. But to run this notebook end-to-end, you'll need a completely clean copy of the world (otherwise, at the very least, a bunch of assertions will fail). I could absolutely turn this into a standalone script—complete with the option to provide your own wordlist—and that would be great! But not everyone has Python preinstalled on their computer or enjoys running commands from the terminal.\n",
    "\n",
    "What would be _really_ nice is for folks to have a **datapack** that they can drop into their HC10 so they can run a command—say, `/trigger pearldle_randomize`—and have all of this done directly in-game. And I can help with that!"
   ]
  },
  {
   "cell_type": "markdown",
   "id": "0fe46ba2-941e-41e1-b71d-e95f2e362bb1",
   "metadata": {},
   "source": [
    "The elements of such a datapack are:\n",
    "1. Selecting a random number between 1 and the length of the word list (inclusive)\n",
    "1. Replacing the items in a container's slot with items from a different slot in a different container*\n",
    "1. Exposing a trigger for players to call\n",
    "\n",
    "**We could simply set the slot by hand, with components that match all the NBT, but with Minecraft changing how components and custom item data are stored between versions, I'd rather do a strict copy to ensure that the items will in fact stack with each other.*"
   ]
  },
  {
   "cell_type": "markdown",
   "id": "dc2d481b-7edb-42b2-bdfc-40f78e6cd423",
   "metadata": {},
   "source": [
    "### Setting the Letters to a Word\n",
    "\n",
    "We're going to start with the second part first. [The syntax for that](https://minecraft.wiki/w/Commands/item) is:\n",
    "\n",
    "```mcfunction\n",
    "item replace block <dstPos> container.0 from block <srcPos> container.<srcSlot>\n",
    "```\n",
    "\n",
    "And then we'll need to run an additional command to set the count to the correct value:\n",
    "\n",
    "```mcfunction\n",
    "data modify block 571 56 154 Items[{Slot:0b}] merge value {count:<count>}\n",
    "```"
   ]
  },
  {
   "cell_type": "markdown",
   "id": "e4ffe609-7dc1-4731-b96e-8f34f49f1387",
   "metadata": {},
   "source": [
    "So a script to set the word \"PEARL\" as the guess might look something like:"
   ]
  },
  {
   "cell_type": "code",
   "execution_count": 29,
   "id": "6c613fee-4464-4007-af4b-9367e9b61649",
   "metadata": {},
   "outputs": [
    {
     "name": "stdout",
     "output_type": "stream",
     "text": [
      "item replace block 571 56 158 container.0 from block 575 58 148 container.8\n",
      "data modify block 571 56 158 Items[{Slot:0b}] merge value {count:41}\n",
      "item replace block 571 55 158 container.0 from block 575 58 148 container.8\n",
      "data modify block 571 55 158 Items[{Slot:0b}] merge value {count:1}\n",
      "item replace block 556 56 158 container.0 from block 575 58 148 container.8\n",
      "data modify block 556 56 158 Items[{Slot:0b}] merge value {count:41}\n",
      "item replace block 556 55 158 container.0 from block 575 58 148 container.8\n",
      "data modify block 556 55 158 Items[{Slot:0b}] merge value {count:1}\n",
      "item replace block 571 56 157 container.0 from block 575 58 148 container.18\n",
      "data modify block 571 56 157 Items[{Slot:0b}] merge value {count:41}\n",
      "item replace block 571 55 157 container.0 from block 575 58 148 container.18\n",
      "data modify block 571 55 157 Items[{Slot:0b}] merge value {count:1}\n",
      "item replace block 556 56 157 container.0 from block 575 58 148 container.18\n",
      "data modify block 556 56 157 Items[{Slot:0b}] merge value {count:41}\n",
      "item replace block 556 55 157 container.0 from block 575 58 148 container.18\n",
      "data modify block 556 55 157 Items[{Slot:0b}] merge value {count:1}\n",
      "item replace block 571 56 156 container.0 from block 575 58 148 container.1\n",
      "data modify block 571 56 156 Items[{Slot:0b}] merge value {count:41}\n",
      "item replace block 571 55 156 container.0 from block 575 58 148 container.1\n",
      "data modify block 571 55 156 Items[{Slot:0b}] merge value {count:1}\n",
      "item replace block 556 56 156 container.0 from block 575 58 148 container.1\n",
      "data modify block 556 56 156 Items[{Slot:0b}] merge value {count:41}\n",
      "item replace block 556 55 156 container.0 from block 575 58 148 container.1\n",
      "data modify block 556 55 156 Items[{Slot:0b}] merge value {count:1}\n",
      "item replace block 571 56 155 container.0 from block 575 58 148 container.0\n",
      "data modify block 571 56 155 Items[{Slot:0b}] merge value {count:41}\n",
      "item replace block 571 55 155 container.0 from block 575 58 148 container.0\n",
      "data modify block 571 55 155 Items[{Slot:0b}] merge value {count:1}\n",
      "item replace block 556 56 155 container.0 from block 575 58 148 container.0\n",
      "data modify block 556 56 155 Items[{Slot:0b}] merge value {count:41}\n",
      "item replace block 556 55 155 container.0 from block 575 58 148 container.0\n",
      "data modify block 556 55 155 Items[{Slot:0b}] merge value {count:1}\n",
      "item replace block 571 56 154 container.0 from block 575 58 148 container.14\n",
      "data modify block 571 56 154 Items[{Slot:0b}] merge value {count:41}\n",
      "item replace block 571 55 154 container.0 from block 575 58 148 container.14\n",
      "data modify block 571 55 154 Items[{Slot:0b}] merge value {count:1}\n",
      "item replace block 556 56 154 container.0 from block 575 58 148 container.14\n",
      "data modify block 556 56 154 Items[{Slot:0b}] merge value {count:41}\n",
      "item replace block 556 55 154 container.0 from block 575 58 148 container.14\n",
      "data modify block 556 55 154 Items[{Slot:0b}] merge value {count:1}\n"
     ]
    }
   ],
   "source": [
    "for hopper_num, letter in enumerate(\"PEARL\"):\n",
    "    for hopper_x in (571, 556):\n",
    "        for hopper_y, item_count in ((56, 41), (55, 1)):\n",
    "            hopper_pos = (hopper_x, hopper_y, 158 - hopper_num)\n",
    "            print(\n",
    "                f\"item replace block {hopper_pos[0]} {hopper_pos[1]} {hopper_pos[2]} container.0\"\n",
    "                f\" from block {letter_chest_pos[0]} {letter_chest_pos[1]} {letter_chest_pos[2]}\"\n",
    "                f\" container.{letter_map[letter]}\"\n",
    "            )\n",
    "            print(\n",
    "                f\"data modify block {hopper_pos[0]} {hopper_pos[1]} {hopper_pos[2]}\"\n",
    "                \" Items[{Slot:0b}] merge value {count:%d}\" % item_count\n",
    "            )"
   ]
  },
  {
   "cell_type": "markdown",
   "id": "b918a225-1f05-42ca-89dc-6a326b2e8242",
   "metadata": {},
   "source": [
    "The only problem with the above is that the game pieces chest _really isn't_ the best place to be snagging letters from for a datapack, since every time you reset the game, letters are going to end up in different spots.\n",
    "\n",
    "Luckily, there are **barrels** of letters deep in the gubbins that players really shouldn't be messing with unless they're changing the word by hand (and even if they're doing that, they shouldn't be changing the locations of letters in those barrels)."
   ]
  },
  {
   "cell_type": "code",
   "execution_count": 30,
   "id": "512ae380-efc0-40c2-b440-65041e20e113",
   "metadata": {},
   "outputs": [
    {
     "data": {
      "text/plain": [
       "{'E': (579, 55, 168, 19),\n",
       " 'F': (579, 55, 168, 21),\n",
       " 'G': (579, 55, 168, 24),\n",
       " 'H': (579, 55, 168, 26),\n",
       " 'I': (579, 54, 167, 19),\n",
       " 'J': (579, 54, 167, 21),\n",
       " 'K': (579, 54, 167, 24),\n",
       " 'L': (579, 54, 167, 26),\n",
       " 'Y': (578, 54, 169, 19),\n",
       " 'Z': (578, 54, 169, 21),\n",
       " 'A': (579, 55, 167, 19),\n",
       " 'B': (579, 55, 167, 21),\n",
       " 'C': (579, 55, 167, 24),\n",
       " 'D': (579, 55, 167, 26),\n",
       " 'U': (577, 55, 169, 19),\n",
       " 'V': (577, 55, 169, 21),\n",
       " 'W': (577, 55, 169, 24),\n",
       " 'X': (577, 55, 169, 26),\n",
       " 'Q': (578, 55, 169, 19),\n",
       " 'R': (578, 55, 169, 21),\n",
       " 'S': (578, 55, 169, 24),\n",
       " 'T': (578, 55, 169, 26),\n",
       " 'M': (579, 54, 168, 19),\n",
       " 'N': (579, 54, 168, 21),\n",
       " 'O': (579, 54, 168, 24),\n",
       " 'P': (579, 54, 168, 26)}"
      ]
     },
     "execution_count": 30,
     "metadata": {},
     "output_type": "execute_result"
    }
   ],
   "source": [
    "letter_lookup: dict[str, tuple[int, int, int, int]] = {}\n",
    "barrel_chunk = region_data.get_chunk(4, 10)\n",
    "for entity in barrel_chunk[\"block_entities\"]:\n",
    "    if entity[\"id\"].value != \"minecraft:barrel\":\n",
    "        continue\n",
    "    for item in entity[\"Items\"]:\n",
    "        letter = item.get(\"components\", {}).get(\"minecraft:custom_name\", None)\n",
    "        if not letter:\n",
    "            continue\n",
    "        letter_lookup[letter.value] = (\n",
    "            entity[\"x\"].value,\n",
    "            entity[\"y\"].value,\n",
    "            entity[\"z\"].value,\n",
    "            item[\"Slot\"].value,\n",
    "        )\n",
    "assert len(letter_lookup) == 26, \"Looks like we're missing some letters\"\n",
    "letter_lookup"
   ]
  },
  {
   "cell_type": "markdown",
   "id": "0bfaedf6-e337-4596-9ea6-b330eb266fea",
   "metadata": {},
   "source": [
    "Cool, so this is the lookup we'll be using."
   ]
  },
  {
   "cell_type": "code",
   "execution_count": 31,
   "id": "8ad5bd69-9ec7-4b59-8e21-e83aaf379d9f",
   "metadata": {},
   "outputs": [
    {
     "data": {
      "text/markdown": [
       "```mcfunction\n",
       "item replace block 571 56 158 container.0 from block 579 54 168 container.26\n",
       "item replace block 571 55 158 container.0 from block 579 54 168 container.26\n",
       "item replace block 556 56 158 container.0 from block 579 54 168 container.26\n",
       "item replace block 556 55 158 container.0 from block 579 54 168 container.26\n",
       "item replace block 571 56 157 container.0 from block 579 55 168 container.19\n",
       "item replace block 571 55 157 container.0 from block 579 55 168 container.19\n",
       "item replace block 556 56 157 container.0 from block 579 55 168 container.19\n",
       "item replace block 556 55 157 container.0 from block 579 55 168 container.19\n",
       "item replace block 571 56 156 container.0 from block 579 55 167 container.19\n",
       "item replace block 571 55 156 container.0 from block 579 55 167 container.19\n",
       "item replace block 556 56 156 container.0 from block 579 55 167 container.19\n",
       "item replace block 556 55 156 container.0 from block 579 55 167 container.19\n",
       "item replace block 571 56 155 container.0 from block 578 55 169 container.21\n",
       "item replace block 571 55 155 container.0 from block 578 55 169 container.21\n",
       "item replace block 556 56 155 container.0 from block 578 55 169 container.21\n",
       "item replace block 556 55 155 container.0 from block 578 55 169 container.21\n",
       "item replace block 571 56 154 container.0 from block 579 54 167 container.26\n",
       "item replace block 571 55 154 container.0 from block 579 54 167 container.26\n",
       "item replace block 556 56 154 container.0 from block 579 54 167 container.26\n",
       "item replace block 556 55 154 container.0 from block 579 54 167 container.26\n",
       "```"
      ],
      "text/plain": [
       "<IPython.core.display.Markdown object>"
      ]
     },
     "metadata": {},
     "output_type": "display_data"
    }
   ],
   "source": [
    "def generate_commands_to_set_word(word: str) -> list[str]:\n",
    "    \"\"\"Generate a list of commands to set\n",
    "    Pearldle to a given word.\n",
    "\n",
    "    Parameters\n",
    "    ----------\n",
    "    word: str\n",
    "        A five-letter word to set as the Pearldle answer\n",
    "\n",
    "    Returns\n",
    "    -------\n",
    "    list of str\n",
    "        The commands to run to set Pearldle to that word\n",
    "    \"\"\"\n",
    "    assert len(word) == 5, f\"{word} is not a five letter word\"\n",
    "    commands: list[str] = []\n",
    "    for hopper_num, letter in enumerate(word):\n",
    "        for hopper_x in (571, 556):\n",
    "            for hopper_y in (56, 55):\n",
    "                hopper_pos = (hopper_x, hopper_y, 158 - hopper_num)\n",
    "                commands.append(\n",
    "                    f\"item replace block {hopper_pos[0]} {hopper_pos[1]} {hopper_pos[2]} container.0\"\n",
    "                    f\" from block {letter_lookup[letter][0]} {letter_lookup[letter][1]} {letter_lookup[letter][2]}\"\n",
    "                    f\" container.{letter_lookup[letter][3]}\"\n",
    "                )\n",
    "    return commands\n",
    "\n",
    "\n",
    "display(\n",
    "    Markdown(\n",
    "        \"```mcfunction\\n\" + \"\\n\".join(generate_commands_to_set_word(\"PEARL\")) + \"\\n```\"\n",
    "    )\n",
    ")"
   ]
  },
  {
   "cell_type": "markdown",
   "id": "67d9b33a-ff1b-4e88-8720-622b6876483d",
   "metadata": {},
   "source": [
    "I've taken out the count-modifiers, because those need to be set regardless of the word, so there's no sense duplicating those"
   ]
  },
  {
   "cell_type": "markdown",
   "id": "a68a1e7b-b182-4352-aa17-0dac740b1d66",
   "metadata": {},
   "source": [
    "### Selecting a Random Word\n",
    "\n",
    "There are two components of this:\n",
    "\n",
    "1. We'll need to generate a random number and store the result:\n",
    "   ```mcfunction\n",
    "   scoreboard players add @s pearlde_guessIndex 0\n",
    "   execute store result score @s pearlde_guessIndex run random value 1..<numWords>\n",
    "   ```\n",
    "2. We'll need to wrap each of the above commands in a conditional check:\n",
    "   ```mcfunction\n",
    "   execute if score @s pearldle_guessIndex matches <guessIndex> run ...\n",
    "   ```\n",
    "\n",
    "(the `@s`, by the way, can just be the player who triggered the command)"
   ]
  },
  {
   "cell_type": "markdown",
   "id": "b4787a47-7281-44b3-ba29-44b6de954c96",
   "metadata": {},
   "source": [
    "And thus, we should be able to generate the entire massive `mcfunction` file with a simple script:"
   ]
  },
  {
   "cell_type": "code",
   "execution_count": 32,
   "id": "8be1fb21-b417-4d09-8060-02f625e9bf18",
   "metadata": {},
   "outputs": [
    {
     "name": "stdout",
     "output_type": "stream",
     "text": [
      "Generated 3833 lines of commands\n"
     ]
    }
   ],
   "source": [
    "commands = [\n",
    "    \"scoreboard players add @s pearlde_guessIndex 0\",\n",
    "    f\"execute store result score @s pearlde_guessIndex run random value 1..{len(word_list)}\",\n",
    "]\n",
    "commands.extend([\"\"] * 2)\n",
    "\n",
    "for i, word in enumerate(word_list):\n",
    "    commands.append(f\"# {word}\")\n",
    "    for command in generate_commands_to_set_word(word):\n",
    "        commands.append(\n",
    "            f\"execute if score @s pearldle_guessIndex matches {i+1} run {command}\"\n",
    "        )\n",
    "    commands.append(\"\")\n",
    "\n",
    "commands.extend([\"\"] * 2)\n",
    "commands.append(\"# set proper counts\")\n",
    "for hopper_num in range(5):\n",
    "    for hopper_x in (571, 556):\n",
    "        for hopper_y, item_count in ((56, 41), (55, 1)):\n",
    "            hopper_pos = (hopper_x, hopper_y, 158 - hopper_num)\n",
    "            commands.append(\n",
    "                f\"data modify block {hopper_pos[0]} {hopper_pos[1]} {hopper_pos[2]}\"\n",
    "                \" Items[{Slot:0b}] merge value {count:%d}\" % item_count\n",
    "            )\n",
    "print(f\"Generated {len(commands)} lines of commands\")"
   ]
  },
  {
   "cell_type": "markdown",
   "id": "5db97e21-74ae-459a-911f-53a5ab131bf1",
   "metadata": {},
   "source": [
    "That's a big ole file, but from there, but that's it! Aside from that, it should all be cruft."
   ]
  },
  {
   "cell_type": "code",
   "execution_count": 33,
   "id": "9701d3ac-5d79-48cc-afc1-94a50466160f",
   "metadata": {},
   "outputs": [],
   "source": [
    "_ = Path(\"../../PerpetualPearldle/set_word.mcfunction\").write_text(\n",
    "    \"\\n\".join(commands + [\"\"])\n",
    ")"
   ]
  }
 ],
 "metadata": {
  "kernelspec": {
   "display_name": "Python 3 (ipykernel)",
   "language": "python",
   "name": "python3"
  },
  "language_info": {
   "codemirror_mode": {
    "name": "ipython",
    "version": 3
   },
   "file_extension": ".py",
   "mimetype": "text/x-python",
   "name": "python",
   "nbconvert_exporter": "python",
   "pygments_lexer": "ipython3",
   "version": "3.13.1"
  }
 },
 "nbformat": 4,
 "nbformat_minor": 5
}
