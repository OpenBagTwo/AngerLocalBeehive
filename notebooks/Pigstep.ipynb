{
 "cells": [
  {
   "cell_type": "markdown",
   "id": "c713b4fe-992f-40d8-84a3-7c13785c62cc",
   "metadata": {},
   "source": [
    "# Finding the Pigstep Disc\n",
    "\n",
    "I want that music disc. And I'm not above a little big of shenangians to find it."
   ]
  },
  {
   "cell_type": "markdown",
   "id": "1168f43a-d9f1-4646-89b7-c830a9faf5cf",
   "metadata": {},
   "source": [
    "## Imports, Setup and Macros"
   ]
  },
  {
   "cell_type": "code",
   "execution_count": 20,
   "id": "744749c1-dbb5-4490-9919-956f476f72f3",
   "metadata": {},
   "outputs": [],
   "source": [
    "import json\n",
    "from os import environ\n",
    "from pathlib import Path\n",
    "from typing import Any, Collection, Dict, Set\n",
    "\n",
    "import mutf8\n",
    "import pandas as pd\n",
    "from IPython.display import Markdown, display\n",
    "from nbt import nbt, region"
   ]
  },
  {
   "cell_type": "code",
   "execution_count": 2,
   "id": "c0358f20-d750-4765-baeb-2bf2c1a092f4",
   "metadata": {},
   "outputs": [],
   "source": [
    "def format_file_size(path: Path) -> str:\n",
    "    \"\"\"Print the size of the specified file in\n",
    "    human-readible form (KB / MB / GB)\n",
    "\n",
    "    Parameters\n",
    "    ----------\n",
    "    path : Path\n",
    "        The path to the file\n",
    "\n",
    "    Returns\n",
    "    -------\n",
    "    str\n",
    "        A prettily formatted file size\n",
    "\n",
    "    Notes\n",
    "    -----\n",
    "    I would be shocked if there isn't a utility already built\n",
    "    into the standard library to do this, but all I could find\n",
    "    via Googling was a bunch of recipes and examples\n",
    "    \"\"\"\n",
    "    size = path.stat().st_size  # in bytes\n",
    "    for unit in (\"B\", \"KB\", \"MB\", \"GB\"):\n",
    "        if size < 1024 / 2:\n",
    "            return f\"{size:.1f} {unit}\"\n",
    "        size = size / 1024\n",
    "    return f\"{size} TB\""
   ]
  },
  {
   "cell_type": "code",
   "execution_count": 3,
   "id": "0ae7c097-9dd2-473a-aded-54065d283371",
   "metadata": {},
   "outputs": [],
   "source": [
    "def summarize_keystore(keystore: Dict[str, Any]) -> None:\n",
    "    \"\"\"Display a summary of the contents of a key-value store\n",
    "\n",
    "    Parameters\n",
    "    ----------\n",
    "    keystore : dict\n",
    "        The keystore to summarize\n",
    "\n",
    "    Returns\n",
    "    -------\n",
    "    None\n",
    "    \"\"\"\n",
    "\n",
    "    def _summarize_keystore(keystore: Dict[str, Any]) -> str:\n",
    "        summary = \"\"\n",
    "        for k, v in keystore.items():\n",
    "            summary += f\"\\n - `{k}` : \"\n",
    "            if isinstance(v, (str, nbt.TAG_String)):\n",
    "                summary += f'`\"{v}\"`'\n",
    "            elif not isinstance(v, Collection):\n",
    "                summary += f\"`{str(v)}`\"\n",
    "            else:\n",
    "                length = len(v)\n",
    "                if 0 < length < 3:\n",
    "                    summary += \"\\n\"\n",
    "                    if not isinstance(v, Dict):\n",
    "                        v = {i: item for i, item in enumerate(v)}\n",
    "                    summary += \"\\n\".join(\n",
    "                        (f\"\\t{line}\" for line in _summarize_keystore(v).split(\"\\n\"))\n",
    "                    )\n",
    "                else:\n",
    "                    summary += f\"({len(v)} items)\"\n",
    "        return summary\n",
    "\n",
    "    display(Markdown(_summarize_keystore(keystore)))"
   ]
  },
  {
   "cell_type": "code",
   "execution_count": 4,
   "id": "f96e63f2-e71a-444d-88c4-89bd629d3cb1",
   "metadata": {},
   "outputs": [
    {
     "name": "stdout",
     "output_type": "stream",
     "text": [
      "- DIM-1 (folder)\n",
      "- DIM1 (folder)\n",
      "- advancements (folder)\n",
      "- data (folder)\n",
      "- datapacks (folder)\n",
      "- entities (folder)\n",
      "- icon.png (8.6 KB)\n",
      "- level.dat (12.3 KB)\n",
      "- level.dat_old (12.3 KB)\n",
      "- level11326231134829879582.dat (0.0 B)\n",
      "- level14927678268100607923.dat (0.0 B)\n",
      "- level1786655981796876926.dat (0.0 B)\n",
      "- level4463453738642305340.dat (0.0 B)\n",
      "- level6425531070021529407.dat (0.0 B)\n",
      "- level7443636089696258371.dat (0.0 B)\n",
      "- level8832581565660323154.dat (0.0 B)\n",
      "- playerdata (folder)\n",
      "- poi (folder)\n",
      "- region (folder)\n",
      "- serverconfig (folder)\n",
      "- session.lock (3.0 B)\n",
      "- stats (folder)\n"
     ]
    }
   ],
   "source": [
    "save_folder = Path(environ[\"SAVE_PATH\"])\n",
    "\n",
    "# make sure this is set correctly\n",
    "for path in sorted(save_folder.glob(\"*\")):\n",
    "    print(f\"- {path.name} ({'folder' if path.is_dir() else format_file_size(path)})\")"
   ]
  },
  {
   "cell_type": "code",
   "execution_count": 6,
   "id": "85062d1e-9539-4923-8aca-8ae44ba9f5e2",
   "metadata": {
    "jupyter": {
     "source_hidden": true
    },
    "tags": []
   },
   "outputs": [],
   "source": [
    "idiot = tuple(v for v in level[\"Data\"][\"Player\"][\"UUID\"])"
   ]
  },
  {
   "cell_type": "markdown",
   "id": "6c2839db-d076-4b53-9e1d-e5ce3018109b",
   "metadata": {
    "tags": []
   },
   "source": [
    "## What's in a Chest?\n",
    "\n",
    "Well I guess the first thing to do is to actually find a chest"
   ]
  },
  {
   "cell_type": "code",
   "execution_count": 7,
   "id": "d72216e8-e607-468a-9a8a-efd6d67064b2",
   "metadata": {},
   "outputs": [
    {
     "name": "stdout",
     "output_type": "stream",
     "text": [
      "- r.-5.-1.mca (3.9 MB)\n",
      "- r.-6.-1.mca (1.7 MB)\n",
      "- r.-2.-9.mca (0.9 MB)\n",
      "- r.-2.-11.mca (0.8 MB)\n",
      "- r.6.0.mca (0.8 MB)\n",
      "- r.-1.-12.mca (0.8 MB)\n",
      "- r.-3.-11.mca (0.8 MB)\n",
      "- r.3.-8.mca (0.8 MB)\n",
      "- r.-2.-12.mca (0.7 MB)\n",
      "- r.3.-2.mca (0.7 MB)\n",
      "... 250 more\n"
     ]
    }
   ],
   "source": [
    "all_entitiy_files = sorted(\n",
    "    (save_folder / \"entities\").glob(\"*\"), key=lambda path: -path.stat().st_size\n",
    ")\n",
    "for path in all_entitiy_files[:10]:\n",
    "    print(f\"- {path.name} ({'folder' if path.is_dir() else format_file_size(path)})\")\n",
    "print(f\"... {len(all_entitiy_files) - 10} more\")"
   ]
  },
  {
   "cell_type": "markdown",
   "id": "fb1c242a-48cf-4ca9-b796-2b8d21e8a7e5",
   "metadata": {},
   "source": [
    "Let's look at all the unique entity IDs in the largest chunk"
   ]
  },
  {
   "cell_type": "code",
   "execution_count": 21,
   "id": "88cdcdbd-0567-4776-8276-03e26b8e5add",
   "metadata": {},
   "outputs": [
    {
     "name": "stdout",
     "output_type": "stream",
     "text": [
      " - minecraft:wolf\n",
      " - minecraft:pig\n",
      " - minecraft:chicken\n",
      " - minecraft:zombie_villager\n",
      " - minecraft:creeper\n",
      " - minecraft:turtle\n",
      " - minecraft:enderman\n",
      " - minecraft:sheep\n",
      " - minecraft:rabbit\n",
      " - minecraft:chest_minecart\n",
      " - minecraft:iron_golem\n",
      " - minecraft:salmon\n",
      " - minecraft:fox\n",
      " - minecraft:llama\n",
      " - minecraft:villager\n",
      " - minecraft:cow\n",
      " - minecraft:bat\n",
      " - minecraft:squid\n",
      " - minecraft:falling_block\n",
      " - minecraft:zombie\n",
      " - minecraft:horse\n",
      " - minecraft:skeleton\n",
      " - minecraft:spider\n",
      " - minecraft:item\n",
      " - minecraft:glow_squid\n"
     ]
    }
   ],
   "source": [
    "largest_region = region.RegionFile(all_entitiy_files[0])\n",
    "\n",
    "entity_ids = set()  # type: Set[str]\n",
    "\n",
    "for chunk in largest_region.iter_chunks():\n",
    "    for entity in chunk[\"Entities\"]:\n",
    "        entity_ids.add(entity[\"id\"].value)\n",
    "for entity_id in entity_ids:\n",
    "    print(f\" - {entity_id}\")"
   ]
  },
  {
   "cell_type": "markdown",
   "id": "06262ec4-c3ab-4bb0-9e5a-16064efeb00f",
   "metadata": {},
   "source": [
    "Interesting that I *don't* see \"chest\" (but I do see \"chest_minecart\"). Let's dig deeper into the \"items\":"
   ]
  },
  {
   "cell_type": "code",
   "execution_count": 24,
   "id": "ed1938d8-75fc-4521-868c-4c1307863273",
   "metadata": {},
   "outputs": [
    {
     "data": {
      "text/markdown": [
       "\n",
       " - `Motion` : (3 items)\n",
       " - `Health` : `5`\n",
       " - `Invulnerable` : `0`\n",
       " - `Air` : `300`\n",
       " - `OnGround` : `0`\n",
       " - `PortalCooldown` : `0`\n",
       " - `Rotation` : \n",
       "\t\n",
       "\t - `0` : `119.47333526611328`\n",
       "\t - `1` : `0.0`\n",
       " - `FallDistance` : `0.0`\n",
       " - `Item` : \n",
       "\t\n",
       "\t - `0` : `\"id\"`\n",
       "\t - `1` : `\"Count\"`\n",
       " - `Pos` : (3 items)\n",
       " - `PickupDelay` : `0`\n",
       " - `Fire` : `0`\n",
       " - `id` : `\"minecraft:item\"`\n",
       " - `UUID` : (4 items)\n",
       " - `Age` : `5557`"
      ],
      "text/plain": [
       "<IPython.core.display.Markdown object>"
      ]
     },
     "metadata": {},
     "output_type": "display_data"
    }
   ],
   "source": [
    "for chunk in largest_region.iter_chunks():\n",
    "    for entity in chunk[\"Entities\"]:\n",
    "        if entity[\"id\"].value == \"minecraft:item\":\n",
    "            summarize_keystore(entity)\n",
    "            break\n",
    "    else:\n",
    "        continue\n",
    "    break"
   ]
  },
  {
   "cell_type": "code",
   "execution_count": 26,
   "id": "6efd6d1c-c5f6-47d0-b035-926c992456cc",
   "metadata": {},
   "outputs": [
    {
     "data": {
      "text/plain": [
       "minecraft:glow_ink_sac"
      ]
     },
     "execution_count": 26,
     "metadata": {},
     "output_type": "execute_result"
    }
   ],
   "source": [
    "entity[\"Item\"][\"id\"]"
   ]
  },
  {
   "cell_type": "markdown",
   "id": "96cbb2a1-89c4-48ea-9ec9-8f90f8b07960",
   "metadata": {},
   "source": [
    "Oh, yep. Something died."
   ]
  },
  {
   "cell_type": "code",
   "execution_count": 28,
   "id": "98e70369-cdaf-4a82-8dfe-df6f46413088",
   "metadata": {},
   "outputs": [
    {
     "name": "stdout",
     "output_type": "stream",
     "text": [
      " - minecraft:mutton\n",
      " - minecraft:white_wool\n",
      " - minecraft:egg\n",
      " - minecraft:glow_ink_sac\n"
     ]
    }
   ],
   "source": [
    "item_ids = set()  # type: Set[str]\n",
    "\n",
    "for chunk in largest_region.iter_chunks():\n",
    "    for entity in chunk[\"Entities\"]:\n",
    "        if entity[\"id\"].value == \"minecraft:item\":\n",
    "            item_ids.add(entity[\"Item\"][\"id\"].value)\n",
    "\n",
    "for item_id in item_ids:\n",
    "    print(f\" - {item_id}\")"
   ]
  },
  {
   "cell_type": "markdown",
   "id": "5a1a8518-6073-46f0-b147-23878dc2ba40",
   "metadata": {},
   "source": [
    "Yeah, so these are all drop items--I'm beginning to wonder whether chests can even be found in the entity files. But let's go ahead and be thorough:"
   ]
  },
  {
   "cell_type": "code",
   "execution_count": 31,
   "id": "a9154ba6-6e66-4b40-8a1b-7def01743b8e",
   "metadata": {},
   "outputs": [
    {
     "name": "stdout",
     "output_type": "stream",
     "text": [
      " - minecraft:elder_guardian\n",
      " - minecraft:wolf\n",
      " - minecraft:trident\n",
      " - minecraft:pig\n",
      " - minecraft:parrot\n",
      " - minecraft:trader_llama\n",
      " - minecraft:chicken\n",
      " - minecraft:zombie_villager\n",
      " - minecraft:creeper\n",
      " - minecraft:glow_item_frame\n",
      " - minecraft:mule\n",
      " - minecraft:mooshroom\n",
      " - minecraft:bee\n",
      " - minecraft:turtle\n",
      " - minecraft:enderman\n",
      " - minecraft:dolphin\n",
      " - minecraft:sheep\n",
      " - minecraft:rabbit\n",
      " - minecraft:chest_minecart\n",
      " - minecraft:iron_golem\n",
      " - minecraft:polar_bear\n",
      " - minecraft:salmon\n",
      " - minecraft:goat\n",
      " - minecraft:zombified_piglin\n",
      " - minecraft:slime\n",
      " - minecraft:cod\n",
      " - minecraft:fox\n",
      " - minecraft:drowned\n",
      " - minecraft:llama\n",
      " - minecraft:cat\n",
      " - minecraft:villager\n",
      " - minecraft:donkey\n",
      " - minecraft:cow\n",
      " - minecraft:item_frame\n",
      " - minecraft:bat\n",
      " - minecraft:arrow\n",
      " - minecraft:squid\n",
      " - minecraft:ocelot\n",
      " - minecraft:armor_stand\n",
      " - minecraft:falling_block\n",
      " - minecraft:zombie\n",
      " - minecraft:boat\n",
      " - minecraft:piglin\n",
      " - minecraft:horse\n",
      " - minecraft:wandering_trader\n",
      " - minecraft:snow_golem\n",
      " - minecraft:skeleton\n",
      " - minecraft:spider\n",
      " - minecraft:panda\n",
      " - minecraft:item\n",
      " - minecraft:witch\n",
      " - minecraft:hopper_minecart\n",
      " - minecraft:glow_squid\n",
      "CPU times: user 6.92 s, sys: 411 ms, total: 7.33 s\n",
      "Wall time: 8.31 s\n"
     ]
    }
   ],
   "source": [
    "%%time\n",
    "entity_ids = set()  # type: Set[str]\n",
    "\n",
    "for region_file in all_entitiy_files:\n",
    "    region_data = region.RegionFile(region_file)\n",
    "    for chunk in region_data.iter_chunks():\n",
    "        for entity in chunk[\"Entities\"]:\n",
    "            entity_ids.add(entity[\"id\"].value)\n",
    "for entity_id in entity_ids:\n",
    "    print(f\" - {entity_id}\")"
   ]
  },
  {
   "cell_type": "markdown",
   "id": "7db5f40a-a3dc-41f6-b116-27e39721c21a",
   "metadata": {},
   "source": [
    "Okay, so yeah, no chests here. We'll have to check the block data."
   ]
  },
  {
   "cell_type": "markdown",
   "id": "657ce8e3-ac6e-4015-9b91-96c1dde6471b",
   "metadata": {},
   "source": [
    "## Emphasis on the \"block\" part\n",
    "\n",
    "From [the wiki](https://minecraft.fandom.com/wiki/Chunk_format#Block_entity_format):\n",
    "\n",
    "> A block entity **(not related to entity)** is used by Minecraft to store information about a block that can't be stored in the block's block states. \n",
    "\n",
    "(emphasis mine)"
   ]
  },
  {
   "cell_type": "code",
   "execution_count": 33,
   "id": "bfffdbf5-553f-4055-a91b-b82118c8b45a",
   "metadata": {},
   "outputs": [
    {
     "name": "stdout",
     "output_type": "stream",
     "text": [
      "- r.-5.-1.mca (113.2 MB)\n",
      "- r.-6.-1.mca (45.1 MB)\n",
      "- r.-5.0.mca (27.4 MB)\n",
      "- r.-6.-2.mca (13.7 MB)\n",
      "- r.-5.-2.mca (12.3 MB)\n",
      "- r.-2.-12.mca (12.1 MB)\n",
      "- r.-2.-4.mca (12.0 MB)\n",
      "- r.-2.1.mca (11.8 MB)\n",
      "- r.-3.1.mca (11.7 MB)\n",
      "- r.-3.0.mca (11.3 MB)\n",
      "... 381 more\n"
     ]
    }
   ],
   "source": [
    "all_region_files = sorted(\n",
    "    (save_folder / \"region\").glob(\"*\"), key=lambda path: -path.stat().st_size\n",
    ")\n",
    "for path in all_region_files[:10]:\n",
    "    print(f\"- {path.name} ({'folder' if path.is_dir() else format_file_size(path)})\")\n",
    "print(f\"... {len(all_region_files) - 10} more\")"
   ]
  },
  {
   "cell_type": "code",
   "execution_count": 37,
   "id": "f42fff58-7fee-46ec-975b-c43f6e1b821d",
   "metadata": {},
   "outputs": [
    {
     "data": {
      "text/markdown": [
       "\n",
       " - `Status` : `\"full\"`\n",
       " - `zPos` : `-32`\n",
       " - `block_entities` : (0 items)\n",
       " - `yPos` : `-4`\n",
       " - `LastUpdate` : `12817424`\n",
       " - `structures` : \n",
       "\t\n",
       "\t - `0` : `\"References\"`\n",
       "\t - `1` : `\"starts\"`\n",
       " - `InhabitedTime` : `0`\n",
       " - `xPos` : `-160`\n",
       " - `Heightmaps` : (4 items)\n",
       " - `sections` : (24 items)\n",
       " - `isLightOn` : `1`\n",
       " - `block_ticks` : (187 items)\n",
       " - `PostProcessing` : (24 items)\n",
       " - `DataVersion` : `2865`\n",
       " - `fluid_ticks` : \n",
       "\t\n",
       "\t - `0` : (6 items)"
      ],
      "text/plain": [
       "<IPython.core.display.Markdown object>"
      ]
     },
     "metadata": {},
     "output_type": "display_data"
    }
   ],
   "source": [
    "largest_region = region.RegionFile(all_region_files[0])\n",
    "first_chunk = next(largest_region.iter_chunks())\n",
    "summarize_keystore(first_chunk)"
   ]
  },
  {
   "cell_type": "markdown",
   "id": "cb232aed-972c-459a-8e74-a4610d633b67",
   "metadata": {},
   "source": [
    "Oh hey, `block_entities`. Right there.\n",
    "\n",
    "Let's see what an example block entity looks like."
   ]
  },
  {
   "cell_type": "code",
   "execution_count": 39,
   "id": "1f7dcc4a-6b61-4c0e-924f-1cc756686fc1",
   "metadata": {},
   "outputs": [
    {
     "data": {
      "text/markdown": [
       "\n",
       " - `MaxNearbyEntities` : `6`\n",
       " - `RequiredPlayerRange` : `16`\n",
       " - `SpawnCount` : `4`\n",
       " - `SpawnData` : \n",
       "\t\n",
       "\t - `0` : `\"entity\"`\n",
       " - `MaxSpawnDelay` : `800`\n",
       " - `Delay` : `20`\n",
       " - `keepPacked` : `0`\n",
       " - `x` : `-2557`\n",
       " - `y` : `9`\n",
       " - `z` : `-439`\n",
       " - `id` : `\"minecraft:mob_spawner\"`\n",
       " - `SpawnRange` : `4`\n",
       " - `MinSpawnDelay` : `200`\n",
       " - `SpawnPotentials` : (0 items)"
      ],
      "text/plain": [
       "<IPython.core.display.Markdown object>"
      ]
     },
     "metadata": {},
     "output_type": "display_data"
    }
   ],
   "source": [
    "for chunk in largest_region.iter_chunks():\n",
    "    if len(chunk[\"block_entities\"]) > 0:\n",
    "        summarize_keystore(chunk[\"block_entities\"][0])\n",
    "        break"
   ]
  },
  {
   "cell_type": "markdown",
   "id": "e765fd3f-c241-4ead-aa7b-8f1c4703ad16",
   "metadata": {},
   "source": [
    "Okay, cool. And we have our \"id\" field."
   ]
  },
  {
   "cell_type": "code",
   "execution_count": 40,
   "id": "19509877-015e-4f86-a504-93d7b7ad1ea4",
   "metadata": {},
   "outputs": [
    {
     "name": "stdout",
     "output_type": "stream",
     "text": [
      " - minecraft:smoker\n",
      " - minecraft:brewing_stand\n",
      " - minecraft:ender_chest\n",
      " - minecraft:chest\n",
      " - minecraft:barrel\n",
      " - minecraft:banner\n",
      " - minecraft:furnace\n",
      " - minecraft:bed\n",
      " - minecraft:bell\n",
      " - minecraft:sign\n",
      " - minecraft:mob_spawner\n"
     ]
    }
   ],
   "source": [
    "entity_ids = set()  # type: Set[str]\n",
    "\n",
    "for chunk in largest_region.iter_chunks():\n",
    "    for entity in chunk[\"block_entities\"]:\n",
    "        entity_ids.add(entity[\"id\"].value)\n",
    "\n",
    "for entity_id in entity_ids:\n",
    "    print(f\" - {entity_id}\")"
   ]
  },
  {
   "cell_type": "markdown",
   "id": "ef148ad7-a47a-468d-ab0d-84778111c540",
   "metadata": {},
   "source": [
    "Yay we have chests!"
   ]
  },
  {
   "cell_type": "code",
   "execution_count": 41,
   "id": "01edd800-0629-4e90-8c21-792742173b09",
   "metadata": {},
   "outputs": [
    {
     "data": {
      "text/markdown": [
       "\n",
       " - `LootTable` : `\"minecraft:chests/simple_dungeon\"`\n",
       " - `keepPacked` : `0`\n",
       " - `x` : `-2541`\n",
       " - `y` : `-33`\n",
       " - `z` : `-506`\n",
       " - `id` : `\"minecraft:chest\"`\n",
       " - `LootTableSeed` : `442060047808683048`"
      ],
      "text/plain": [
       "<IPython.core.display.Markdown object>"
      ]
     },
     "metadata": {},
     "output_type": "display_data"
    }
   ],
   "source": [
    "for chunk in largest_region.iter_chunks():\n",
    "    for entity in chunk[\"block_entities\"]:\n",
    "        if entity[\"id\"].value == \"minecraft:chest\":\n",
    "            summarize_keystore(entity)\n",
    "            break\n",
    "    else:\n",
    "        continue\n",
    "    break"
   ]
  },
  {
   "cell_type": "markdown",
   "id": "480825a1-b8b5-420a-87e9-941ebcc1602b",
   "metadata": {},
   "source": [
    "Ah, I'd wondered about this, whether chests generate their loot on worldgen or when you open them.\n",
    "\n",
    "Unfortunately, **this answers my question: without being able to translate seed into contents, there is no way to find out in advance which chests contain which swag**."
   ]
  }
 ],
 "metadata": {
  "kernelspec": {
   "display_name": "Python 3 (ipykernel)",
   "language": "python",
   "name": "python3"
  },
  "language_info": {
   "codemirror_mode": {
    "name": "ipython",
    "version": 3
   },
   "file_extension": ".py",
   "mimetype": "text/x-python",
   "name": "python",
   "nbconvert_exporter": "python",
   "pygments_lexer": "ipython3",
   "version": "3.10.4"
  }
 },
 "nbformat": 4,
 "nbformat_minor": 5
}
