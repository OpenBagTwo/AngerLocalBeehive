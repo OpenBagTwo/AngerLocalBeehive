{
 "cells": [
  {
   "cell_type": "markdown",
   "id": "1639b2f8-0ec9-4fb5-ab08-d1242173216a",
   "metadata": {},
   "source": [
    "## Shearching for a Shkulk Shrkieaker"
   ]
  },
  {
   "cell_type": "markdown",
   "id": "86e86373-b7ef-4cac-8031-562738b4c8c2",
   "metadata": {},
   "source": [
    "I wanna know if there's a live Sculk Shrieker under my base (and if not I want to reset the chunklets under my base until I get one)"
   ]
  },
  {
   "cell_type": "markdown",
   "id": "a89c8973-be3e-483f-9e63-a3d2d5d7e158",
   "metadata": {},
   "source": [
    "## Imports, Setup and Macros"
   ]
  },
  {
   "cell_type": "code",
   "execution_count": 1,
   "id": "2e5005e3-9ff2-4f1a-a3f0-d87f93d5faec",
   "metadata": {},
   "outputs": [],
   "source": [
    "import json\n",
    "from collections import Counter\n",
    "from os import environ\n",
    "from pathlib import Path\n",
    "from typing import Any, Collection, Dict, List, Tuple\n",
    "\n",
    "import mutf8\n",
    "import pandas as pd\n",
    "from IPython.display import Markdown, display\n",
    "from nbt import nbt, region"
   ]
  },
  {
   "cell_type": "code",
   "execution_count": 2,
   "id": "523a1b37-52e5-4274-9c26-945f49839d52",
   "metadata": {},
   "outputs": [],
   "source": [
    "def format_file_size(path: Path) -> str:\n",
    "    \"\"\"Print the size of the specified file in\n",
    "    human-readible form (KB / MB / GB)\n",
    "\n",
    "    Parameters\n",
    "    ----------\n",
    "    path : Path\n",
    "        The path to the file\n",
    "\n",
    "    Returns\n",
    "    -------\n",
    "    str\n",
    "        A prettily formatted file size\n",
    "\n",
    "    Notes\n",
    "    -----\n",
    "    I would be shocked if there isn't a utility already built\n",
    "    into the standard library to do this, but all I could find\n",
    "    via Googling was a bunch of recipes and examples\n",
    "    \"\"\"\n",
    "    size: float = path.stat().st_size  # in bytes\n",
    "    for unit in (\"B\", \"KB\", \"MB\", \"GB\"):\n",
    "        if size < 1024 / 2:\n",
    "            return f\"{size:.1f} {unit}\"\n",
    "        size = size / 1024\n",
    "    return f\"{size} TB\""
   ]
  },
  {
   "cell_type": "code",
   "execution_count": 3,
   "id": "d4f2323c-1915-41c1-8c88-3abb4adbb40a",
   "metadata": {},
   "outputs": [],
   "source": [
    "def summarize_keystore(keystore: Dict[str, Any]) -> None:\n",
    "    \"\"\"Display a summary of the contents of a key-value store\n",
    "\n",
    "    Parameters\n",
    "    ----------\n",
    "    keystore : dict\n",
    "        The keystore to summarize\n",
    "\n",
    "    Returns\n",
    "    -------\n",
    "    None\n",
    "    \"\"\"\n",
    "\n",
    "    def _summarize_keystore(keystore: Dict[str, Any]) -> str:\n",
    "        summary = \"\"\n",
    "        for k, v in keystore.items():\n",
    "            summary += f\"\\n - `{k}` : \"\n",
    "            if isinstance(v, (str, nbt.TAG_String)):\n",
    "                summary += f'`\"{v}\"`'\n",
    "            elif not isinstance(v, Collection):\n",
    "                summary += f\"`{str(v)}`\"\n",
    "            else:\n",
    "                length = len(v)\n",
    "                if 0 < length < 3:\n",
    "                    summary += \"\\n\"\n",
    "                    if not isinstance(v, Dict):\n",
    "                        v = {i: item for i, item in enumerate(v)}\n",
    "                    summary += \"\\n\".join(\n",
    "                        (f\"\\t{line}\" for line in _summarize_keystore(v).split(\"\\n\"))\n",
    "                    )\n",
    "                else:\n",
    "                    summary += f\"({len(v)} items)\"\n",
    "        return summary\n",
    "\n",
    "    display(Markdown(_summarize_keystore(keystore)))"
   ]
  },
  {
   "cell_type": "code",
   "execution_count": 4,
   "id": "24671036-30bd-404a-976d-e93b02847fe6",
   "metadata": {
    "tags": []
   },
   "outputs": [
    {
     "name": "stdout",
     "output_type": "stream",
     "text": [
      "- DIM-1 (folder)\n",
      "- DIM1 (folder)\n",
      "- advancements (folder)\n",
      "- data (folder)\n",
      "- datapacks (folder)\n",
      "- entities (folder)\n",
      "- icon.png (8.6 KB)\n",
      "- level.dat (21.0 KB)\n",
      "- level.dat_old (21.0 KB)\n",
      "- level11326231134829879582.dat (0.0 B)\n",
      "- level14927678268100607923.dat (0.0 B)\n",
      "- level1786655981796876926.dat (0.0 B)\n",
      "- level4463453738642305340.dat (0.0 B)\n",
      "- level6425531070021529407.dat (0.0 B)\n",
      "- level7443636089696258371.dat (0.0 B)\n",
      "- level8832581565660323154.dat (0.0 B)\n",
      "- playerdata (folder)\n",
      "- poi (folder)\n",
      "- region (folder)\n",
      "- serverconfig (folder)\n",
      "- session.lock (3.0 B)\n",
      "- stats (folder)\n",
      "- worldgen_settings_export.json (1.5 KB)\n"
     ]
    }
   ],
   "source": [
    "save_folder = Path(environ[\"SAVE_PATH\"])\n",
    "\n",
    "# make sure this is set correctly\n",
    "for path in sorted(save_folder.glob(\"*\")):\n",
    "    print(f\"- {path.name} ({'folder' if path.is_dir() else format_file_size(path)})\")"
   ]
  },
  {
   "cell_type": "markdown",
   "id": "5297e241-54fc-4cf4-8cb1-80f4ed5eb911",
   "metadata": {},
   "source": [
    "## Search the Region Files\n",
    "\n",
    "I'm looking in the area bounded by (-1600, -4000) and (-1400, -3750)\n",
    "\n",
    "That's `r.-4.-8.mca` and `r.-3.-8.mca`"
   ]
  },
  {
   "cell_type": "code",
   "execution_count": 5,
   "id": "55052cee-7af8-4617-a1d1-21d558f54d90",
   "metadata": {},
   "outputs": [],
   "source": [
    "region_files = (\n",
    "    save_folder / \"region\" / \"r.-4.-8.mca\",\n",
    "    save_folder / \"region\" / \"r.-3.-8.mca\",\n",
    ")"
   ]
  },
  {
   "cell_type": "markdown",
   "id": "e56f9dbe-697a-4014-a939-b5b225c53ea8",
   "metadata": {},
   "source": [
    "In [the Pigstep search](Pigstep.ipynb) we dug into how block entities are handled in the chunk data, so let's start by seeing if we can find some Shkriekers listed as block entities."
   ]
  },
  {
   "cell_type": "code",
   "execution_count": 6,
   "id": "a8cf499f-e3a3-4248-8da5-63a7e1ffadf3",
   "metadata": {},
   "outputs": [
    {
     "name": "stdout",
     "output_type": "stream",
     "text": [
      "Found a shkrieker\n",
      "Found a shkrieker\n",
      "Found a shkrieker\n",
      "Found a shkrieker\n"
     ]
    }
   ],
   "source": [
    "shkriekers = []\n",
    "for region_file in region_files:\n",
    "    region_data = region.RegionFile(region_file)\n",
    "    for chunk in region_data.iter_chunks():\n",
    "        for entity in chunk[\"block_entities\"]:\n",
    "            if \"shrieker\" in entity[\"id\"].value.lower():\n",
    "                shkriekers.append(entity)\n",
    "                print(\"Found a shkrieker\")"
   ]
  },
  {
   "cell_type": "markdown",
   "id": "65f3cb27-7b60-49d4-8f9d-d8a472b19b69",
   "metadata": {},
   "source": [
    "Oh cool! Especially since I don't think I placed any harvested ones anywhere around my base."
   ]
  },
  {
   "cell_type": "code",
   "execution_count": 7,
   "id": "4c5a7a6f-f608-4dd9-96d6-94bb70677650",
   "metadata": {},
   "outputs": [
    {
     "data": {
      "text/markdown": [
       "\n",
       " - `listener` : (4 items)\n",
       " - `z` : `-3855`\n",
       " - `x` : `-1545`\n",
       " - `id` : `\"minecraft:sculk_shrieker\"`\n",
       " - `y` : `-51`\n",
       " - `keepPacked` : `0`\n",
       " - `warning_level` : `0`"
      ],
      "text/plain": [
       "<IPython.core.display.Markdown object>"
      ]
     },
     "metadata": {},
     "output_type": "display_data"
    }
   ],
   "source": [
    "summarize_keystore(shkriekers[0])"
   ]
  },
  {
   "cell_type": "markdown",
   "id": "c2d7030e-a06f-4765-9fcc-dc5bd99ab914",
   "metadata": {},
   "source": [
    "Hmm... well _I_ know this is live ('cuz I definitely didn't place anything at y=-51) but let's see if I can find the key in the data that reflects that. "
   ]
  },
  {
   "cell_type": "code",
   "execution_count": 8,
   "id": "15f3ed23-4c84-4f9c-b1c7-cebefedbe5b0",
   "metadata": {},
   "outputs": [
    {
     "data": {
      "text/markdown": [
       "\n",
       " - `source` : \n",
       "\t\n",
       "\t - `0` : `\"type\"`\n",
       "\t - `1` : `\"pos\"`\n",
       " - `range` : `8`\n",
       " - `event_distance` : `0.0`\n",
       " - `event_delay` : `0`"
      ],
      "text/plain": [
       "<IPython.core.display.Markdown object>"
      ]
     },
     "metadata": {},
     "output_type": "display_data"
    }
   ],
   "source": [
    "summarize_keystore(shkriekers[0][\"listener\"])"
   ]
  },
  {
   "cell_type": "code",
   "execution_count": 9,
   "id": "e3c619ce-393d-47bd-953a-8dfb74676831",
   "metadata": {},
   "outputs": [
    {
     "data": {
      "text/markdown": [
       "\n",
       " - `type` : `\"minecraft:block\"`\n",
       " - `pos` : (3 items)"
      ],
      "text/plain": [
       "<IPython.core.display.Markdown object>"
      ]
     },
     "metadata": {},
     "output_type": "display_data"
    }
   ],
   "source": [
    "summarize_keystore(shkriekers[0][\"listener\"][\"source\"])"
   ]
  },
  {
   "cell_type": "markdown",
   "id": "c834256d-dc0c-4482-af5e-29030ee634db",
   "metadata": {},
   "source": [
    "Aw, to heck with it. Let's just get the coords of the four shkriekers, and I can get to work on building a house (and bubble column) for a warden."
   ]
  },
  {
   "cell_type": "code",
   "execution_count": 10,
   "id": "704f257e-58e3-46fd-ae46-3a8cc0c502d8",
   "metadata": {},
   "outputs": [
    {
     "name": "stdout",
     "output_type": "stream",
     "text": [
      "Shkrieker at (-1545, -51, -3855)\n",
      "Shkrieker at (-1463, -41, -3970)\n",
      "Shkrieker at (-1469, -44, -3909)\n",
      "Shkrieker at (-1455, -54, -3885)\n"
     ]
    }
   ],
   "source": [
    "for shkrieker in shkriekers:\n",
    "    print(\"Shkrieker at\" f\" ({shkrieker['x']}, {shkrieker['y']}, {shkrieker['z']})\")"
   ]
  }
 ],
 "metadata": {
  "kernelspec": {
   "display_name": "Python 3 (ipykernel)",
   "language": "python",
   "name": "python3"
  },
  "language_info": {
   "codemirror_mode": {
    "name": "ipython",
    "version": 3
   },
   "file_extension": ".py",
   "mimetype": "text/x-python",
   "name": "python",
   "nbconvert_exporter": "python",
   "pygments_lexer": "ipython3",
   "version": "3.10.6"
  }
 },
 "nbformat": 4,
 "nbformat_minor": 5
}
