{
 "cells": [
  {
   "cell_type": "markdown",
   "id": "b51d8400-534a-4f3e-ae2c-1d6791ba0907",
   "metadata": {},
   "source": [
    "# Lack of Desert Wells? Seems sus...\n",
    "\n",
    "I've been completely unable to find any desert wells in my game, even using Chunkbase. So I'm just going to [comb my world](https://www.youtube.com/watch?v=UQ7TnQBSV00) for suspicious sand."
   ]
  },
  {
   "cell_type": "markdown",
   "id": "38793bc8-8977-4f9f-b6cf-6bd45297313d",
   "metadata": {},
   "source": [
    "## Imports, Setup and Macros"
   ]
  },
  {
   "cell_type": "code",
   "execution_count": 1,
   "id": "e684fc88-d493-4dab-8025-d8f336e0a9cc",
   "metadata": {
    "tags": []
   },
   "outputs": [],
   "source": [
    "import json\n",
    "from collections import Counter, defaultdict\n",
    "from concurrent.futures import ThreadPoolExecutor, as_completed\n",
    "from os import environ\n",
    "from pathlib import Path\n",
    "from typing import Any, Collection, Dict, List, Tuple\n",
    "\n",
    "import matplotlib.pyplot as plt\n",
    "import mutf8\n",
    "import pandas as pd\n",
    "from IPython.display import Markdown, display\n",
    "from nbt import nbt, region"
   ]
  },
  {
   "cell_type": "code",
   "execution_count": 2,
   "id": "61f7db01-c738-458e-b43f-092754ceda60",
   "metadata": {
    "tags": []
   },
   "outputs": [],
   "source": [
    "save_folder = Path(environ[\"SAVE_PATH\"])"
   ]
  },
  {
   "cell_type": "code",
   "execution_count": 3,
   "id": "3b2ae68c-58d2-4b2b-8ebd-60e7eafd857d",
   "metadata": {
    "tags": []
   },
   "outputs": [],
   "source": [
    "def summarize_keystore(keystore: Dict[str, Any]) -> None:\n",
    "    \"\"\"Display a summary of the contents of a key-value store\n",
    "\n",
    "    Parameters\n",
    "    ----------\n",
    "    keystore : dict\n",
    "        The keystore to summarize\n",
    "\n",
    "    Returns\n",
    "    -------\n",
    "    None\n",
    "    \"\"\"\n",
    "\n",
    "    def _summarize_keystore(keystore: Dict[str, Any]) -> str:\n",
    "        summary = \"\"\n",
    "        for k, v in keystore.items():\n",
    "            summary += f\"\\n - `{k}` : \"\n",
    "            if isinstance(v, (str, nbt.TAG_String)):\n",
    "                summary += f'`\"{v}\"`'\n",
    "            elif not isinstance(v, Collection):\n",
    "                summary += f\"`{str(v)}`\"\n",
    "            else:\n",
    "                length = len(v)\n",
    "                if 0 < length < 3:\n",
    "                    summary += \"\\n\"\n",
    "                    if not isinstance(v, Dict):\n",
    "                        v = {i: item for i, item in enumerate(v)}\n",
    "                    summary += \"\\n\".join(\n",
    "                        (f\"\\t{line}\" for line in _summarize_keystore(v).split(\"\\n\"))\n",
    "                    )\n",
    "                else:\n",
    "                    summary += f\"({len(v)} items)\"\n",
    "        return summary\n",
    "\n",
    "    display(Markdown(_summarize_keystore(keystore)))"
   ]
  },
  {
   "cell_type": "code",
   "execution_count": 4,
   "id": "9f4e179f-11db-4135-ba96-4ba47bf44b88",
   "metadata": {
    "tags": []
   },
   "outputs": [],
   "source": [
    "def split_block_value(value: int) -> List[int]:\n",
    "    \"\"\"Split a 64-bit int into 16x 4-bit ints\n",
    "\n",
    "    Parameters\n",
    "    ----------\n",
    "    value: 64-bit int\n",
    "        The int to split\n",
    "\n",
    "    Returns\n",
    "    -------\n",
    "    list of 16x 4-bit ints\n",
    "    \"\"\"\n",
    "    small_ints: List[int] = []\n",
    "    for _ in range(16):\n",
    "        value, remainder = divmod(value, 2**4)\n",
    "        small_ints.append(remainder)\n",
    "    return small_ints"
   ]
  },
  {
   "cell_type": "code",
   "execution_count": 5,
   "id": "1b7afab2-f0f8-4e50-9810-ef619014bf01",
   "metadata": {
    "tags": []
   },
   "outputs": [],
   "source": [
    "def get_region_and_chunk(\n",
    "    coords: tuple[int, int, int]\n",
    ") -> tuple[tuple[int, int], tuple[int, int, int]]:\n",
    "    \"\"\"Given a set of coordinates return the corresponding\n",
    "    region file and chunk\n",
    "\n",
    "    Parameters\n",
    "    ----------\n",
    "    (int, int, int)\n",
    "        The block coordinates\n",
    "\n",
    "    Returns\n",
    "    -------\n",
    "    str\n",
    "        The region index\n",
    "    (int, int, int)\n",
    "        The chunk index (including y-sliced sub-chunk)\n",
    "    \"\"\"\n",
    "    chunk: tuple[int, int, int] = tuple(coord // 16 for coord in coords)  # type: ignore\n",
    "    region = (chunk[0] // 32, chunk[2] // 32)\n",
    "    return region, chunk"
   ]
  },
  {
   "cell_type": "markdown",
   "id": "cb79140c-8e11-4c95-a030-61984aa4e261",
   "metadata": {},
   "source": [
    "## Chunk Contents\n",
    "\n",
    "I'm taking a similare approach to my [Iron Vein finding notebook](Finding%20an%20Iron%20Vein.ipynb), combing through each chunklet and finding the ones containing the block I want (suspicious sand)."
   ]
  },
  {
   "cell_type": "code",
   "execution_count": 6,
   "id": "8017dcfe-4307-4f58-82ef-1b33ecdb6e01",
   "metadata": {},
   "outputs": [],
   "source": [
    "def search_for_sand(path: Path) -> list[tuple[tuple[int, int, int], nbt.TAG_Compound]]:\n",
    "    sus_chunklets = []\n",
    "    try:\n",
    "        for chunk in region.RegionFile(path).iter_chunks():\n",
    "            for section in chunk[\"sections\"]:\n",
    "                if \"block_states\" not in section:\n",
    "                    continue\n",
    "                if \"minecraft:suspicious_sand\" in [\n",
    "                    block[\"Name\"].value for block in section[\"block_states\"][\"palette\"]\n",
    "                ]:\n",
    "                    coords = (\n",
    "                        chunk[\"xPos\"].value * 16,\n",
    "                        section[\"Y\"].value * 16,\n",
    "                        chunk[\"zPos\"].value * 16,\n",
    "                    )\n",
    "                    sus_chunklets.append((coords, section))\n",
    "                    # if len(sus_chunklets) <= 10:\n",
    "                    #     print(f\"Found sus sand somewhere around {coords}\")\n",
    "    except UnicodeDecodeError:\n",
    "        # nbt library can't handle unicode\n",
    "        print(\"Skipping\", path.name)\n",
    "    return sus_chunklets"
   ]
  },
  {
   "cell_type": "code",
   "execution_count": 7,
   "id": "17c390a6-41c9-49d9-9338-d759b3054ffb",
   "metadata": {},
   "outputs": [
    {
     "name": "stdout",
     "output_type": "stream",
     "text": [
      "Skipping r.-3.-8.mca\n",
      "Skipping r.-4.-8.mca\n",
      "Skipping r.0.-5.mca\n",
      "Found 256 chunklets with suspicious sand\n",
      "CPU times: user 9min 46s, sys: 32.6 s, total: 10min 19s\n",
      "Wall time: 9min 32s\n"
     ]
    }
   ],
   "source": [
    "%%time\n",
    "suspicious_sand_chunklets = []\n",
    "futures = []\n",
    "# can't use PPE because chunks can't be pickled\n",
    "with ThreadPoolExecutor(max_workers=7) as executor:\n",
    "    for path in sorted((save_folder / \"region\").glob(\"*\")):\n",
    "        futures.append(executor.submit(search_for_sand, path))\n",
    "\n",
    "for result in as_completed(futures):\n",
    "    suspicious_sand_chunklets.extend(result.result())\n",
    "\n",
    "print(f\"Found {len(suspicious_sand_chunklets)} chunklets with suspicious sand\")"
   ]
  },
  {
   "cell_type": "markdown",
   "id": "ae4b7e4b-ea0a-4710-bb6f-56d079b665eb",
   "metadata": {},
   "source": [
    "Not all of these will be desert wells, of course, but we can do some filtering by biome."
   ]
  },
  {
   "cell_type": "code",
   "execution_count": 8,
   "id": "39787771-57fe-4ec0-9fa8-f6b9acacc01d",
   "metadata": {},
   "outputs": [
    {
     "name": "stdout",
     "output_type": "stream",
     "text": [
      "Found 27 chunklets at least partially in the desert\n"
     ]
    }
   ],
   "source": [
    "desert_chunklets = []\n",
    "for coords, chunklet in suspicious_sand_chunklets:\n",
    "    if \"minecraft:desert\" in [biome.value for biome in chunklet[\"biomes\"][\"palette\"]]:\n",
    "        desert_chunklets.append((coords, chunklet))\n",
    "\n",
    "print(f\"Found {len(desert_chunklets)} chunklets at least partially in the desert\")"
   ]
  },
  {
   "cell_type": "markdown",
   "id": "28391e49-5fd8-49d3-92a2-a67a8aa9efe4",
   "metadata": {},
   "source": [
    "Welp, nothing left tol do but get out my comb."
   ]
  },
  {
   "cell_type": "code",
   "execution_count": 15,
   "id": "0c54b6b5-5f11-4147-b281-23fab5871845",
   "metadata": {
    "tags": []
   },
   "outputs": [],
   "source": [
    "with Path(\"sus_sand.txt\").open(\"w\") as f:\n",
    "    f.write(\"desert?, X, Y, Z\\n\")\n",
    "    for coord, chunklet in suspicious_sand_chunklets:\n",
    "        is_desert = \"minecraft:desert\" in [\n",
    "            biome.value for biome in chunklet[\"biomes\"][\"palette\"]\n",
    "        ]\n",
    "        f.write((\"Y\" if is_desert else \" \") + \", \" + str(coord)[1:-1] + \"\\n\")"
   ]
  },
  {
   "cell_type": "markdown",
   "id": "a5142275-a57a-43b5-bd14-831f17f2f362",
   "metadata": {},
   "source": [
    "## Soon...\n",
    "\n",
    "![Well would you look at that...](../_static/well.png)"
   ]
  },
  {
   "cell_type": "code",
   "execution_count": null,
   "id": "aecf70bb-09fd-4e14-a20e-66d3ac4e6a87",
   "metadata": {},
   "outputs": [],
   "source": []
  }
 ],
 "metadata": {
  "kernelspec": {
   "display_name": "Python 3 (ipykernel)",
   "language": "python",
   "name": "python3"
  },
  "language_info": {
   "codemirror_mode": {
    "name": "ipython",
    "version": 3
   },
   "file_extension": ".py",
   "mimetype": "text/x-python",
   "name": "python",
   "nbconvert_exporter": "python",
   "pygments_lexer": "ipython3",
   "version": "3.11.0"
  }
 },
 "nbformat": 4,
 "nbformat_minor": 5
}
