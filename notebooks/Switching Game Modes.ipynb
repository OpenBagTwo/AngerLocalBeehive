{
 "cells": [
  {
   "cell_type": "markdown",
   "id": "2c6df8f0-62c0-4b79-8a3a-cba7e808e355",
   "metadata": {},
   "source": [
    "# Switching (a Copy!) of My World to Creative Mode\n",
    "\n",
    "I'm planning out a Survival build, and I'm really unsure about the scale and the palette. I could prototype it in a superflat world  (like I did with my chest monster), but I really want to make sure that it works well in its surroundings. So I've made a copy, made a backup, deleted all the chunks that are outside of my immediate surroundings (because the save was getting massive!) and now I just have to swap the game mode in the NBT.\n",
    "\n",
    "(yes, I know the LAN trick, but I want to do it permanently)"
   ]
  },
  {
   "cell_type": "markdown",
   "id": "57ecaf74-0ab2-4a69-862b-d53bb1693c95",
   "metadata": {},
   "source": [
    "## Imports, Setup and Macros"
   ]
  },
  {
   "cell_type": "code",
   "execution_count": 1,
   "id": "3dbeedf9-e267-4562-8d6c-a8b8ce2e0f77",
   "metadata": {},
   "outputs": [],
   "source": [
    "import json\n",
    "from os import environ\n",
    "from pathlib import Path\n",
    "from typing import Any, Collection, Dict, Set\n",
    "\n",
    "import mutf8\n",
    "import pandas as pd\n",
    "from IPython.display import Markdown, display\n",
    "from nbt import nbt, region"
   ]
  },
  {
   "cell_type": "code",
   "execution_count": 4,
   "id": "ee10c14d-f3ff-4cb8-b575-1dd358e21197",
   "metadata": {},
   "outputs": [],
   "source": [
    "def format_file_size(path: Path) -> str:\n",
    "    \"\"\"Print the size of the specified file in\n",
    "    human-readible form (KB / MB / GB)\n",
    "\n",
    "    Parameters\n",
    "    ----------\n",
    "    path : Path\n",
    "        The path to the file\n",
    "\n",
    "    Returns\n",
    "    -------\n",
    "    str\n",
    "        A prettily formatted file size\n",
    "\n",
    "    Notes\n",
    "    -----\n",
    "    I would be shocked if there isn't a utility already built\n",
    "    into the standard library to do this, but all I could find\n",
    "    via Googling was a bunch of recipes and examples\n",
    "    \"\"\"\n",
    "    size: float = path.stat().st_size  # in bytes\n",
    "    for unit in (\"B\", \"KB\", \"MB\", \"GB\"):\n",
    "        if size < 1024 / 2:\n",
    "            return f\"{size:.1f} {unit}\"\n",
    "        size = size / 1024\n",
    "    return f\"{size} TB\""
   ]
  },
  {
   "cell_type": "code",
   "execution_count": 2,
   "id": "92ab6219-d4f0-41df-9862-dbed442465f0",
   "metadata": {},
   "outputs": [],
   "source": [
    "def summarize_keystore(keystore: Dict[str, Any]) -> None:\n",
    "    \"\"\"Display a summary of the contents of a key-value store\n",
    "\n",
    "    Parameters\n",
    "    ----------\n",
    "    keystore : dict\n",
    "        The keystore to summarize\n",
    "\n",
    "    Returns\n",
    "    -------\n",
    "    None\n",
    "    \"\"\"\n",
    "\n",
    "    def _summarize_keystore(keystore: Dict[str, Any]) -> str:\n",
    "        summary = \"\"\n",
    "        for k, v in keystore.items():\n",
    "            summary += f\"\\n - `{k}` : \"\n",
    "            if isinstance(v, (str, nbt.TAG_String)):\n",
    "                summary += f'`\"{v}\"`'\n",
    "            elif not isinstance(v, Collection):\n",
    "                summary += f\"`{str(v)}`\"\n",
    "            else:\n",
    "                length = len(v)\n",
    "                if 0 < length < 3:\n",
    "                    summary += \"\\n\"\n",
    "                    if not isinstance(v, Dict):\n",
    "                        v = {i: item for i, item in enumerate(v)}\n",
    "                    summary += \"\\n\".join(\n",
    "                        (f\"\\t{line}\" for line in _summarize_keystore(v).split(\"\\n\"))\n",
    "                    )\n",
    "                else:\n",
    "                    summary += f\"({len(v)} items)\"\n",
    "        return summary\n",
    "\n",
    "    display(Markdown(_summarize_keystore(keystore)))"
   ]
  },
  {
   "cell_type": "code",
   "execution_count": 5,
   "id": "78e4cacd-37c2-4b57-ab3c-73957879d4b3",
   "metadata": {},
   "outputs": [
    {
     "name": "stdout",
     "output_type": "stream",
     "text": [
      "- advancements (folder)\n",
      "- data (folder)\n",
      "- datapacks (folder)\n",
      "- entities (folder)\n",
      "- level.dat (12.6 KB)\n",
      "- level.dat_old (12.6 KB)\n",
      "- level11326231134829879582.dat (0.0 B)\n",
      "- level14927678268100607923.dat (0.0 B)\n",
      "- level1786655981796876926.dat (0.0 B)\n",
      "- level4463453738642305340.dat (0.0 B)\n",
      "- level6425531070021529407.dat (0.0 B)\n",
      "- level7443636089696258371.dat (0.0 B)\n",
      "- level8832581565660323154.dat (0.0 B)\n",
      "- playerdata (folder)\n",
      "- poi (folder)\n",
      "- region (folder)\n",
      "- serverconfig (folder)\n",
      "- session.lock (8.0 B)\n",
      "- stats (folder)\n"
     ]
    }
   ],
   "source": [
    "save_folder = Path(environ[\"SAVE_PATH\"])\n",
    "\n",
    "# make sure this is set correctly\n",
    "for path in sorted(save_folder.glob(\"*\")):\n",
    "    print(f\"- {path.name} ({'folder' if path.is_dir() else format_file_size(path)})\")"
   ]
  },
  {
   "cell_type": "markdown",
   "id": "aa89fd53-6816-4e0e-8bad-082249dfa928",
   "metadata": {},
   "source": [
    "## Load up the ole `level.dat`"
   ]
  },
  {
   "cell_type": "code",
   "execution_count": 6,
   "id": "3dddf808-9cb5-48ce-8068-4097555fd59e",
   "metadata": {},
   "outputs": [
    {
     "name": "stdout",
     "output_type": "stream",
     "text": [
      "CPU times: user 11.4 ms, sys: 0 ns, total: 11.4 ms\n",
      "Wall time: 10.5 ms\n"
     ]
    }
   ],
   "source": [
    "%%time\n",
    "level = nbt.NBTFile(save_folder / \"level.dat\")"
   ]
  },
  {
   "cell_type": "code",
   "execution_count": 7,
   "id": "bf403186-0987-48ff-91f0-ec096038df5f",
   "metadata": {},
   "outputs": [
    {
     "data": {
      "text/markdown": [
       "\n",
       " - `WanderingTraderSpawnChance` : `75`\n",
       " - `BorderCenterZ` : `0.0`\n",
       " - `Difficulty` : `3`\n",
       " - `BorderSizeLerpTime` : `0`\n",
       " - `raining` : `0`\n",
       " - `Time` : `29804685`\n",
       " - `GameType` : `0`\n",
       " - `ServerBrands` : \n",
       "\t\n",
       "\t - `0` : `\"forge\"`\n",
       "\t - `1` : `\"fabric\"`\n",
       " - `BorderCenterX` : `0.0`\n",
       " - `BorderDamagePerBlock` : `0.2`\n",
       " - `BorderWarningBlocks` : `5.0`\n",
       " - `WorldGenSettings` : (4 items)\n",
       " - `DragonFight` : (6 items)\n",
       " - `BorderSizeLerpTarget` : `59999968.0`\n",
       " - `Version` : (4 items)\n",
       " - `DayTime` : `39456864`\n",
       " - `initialized` : `1`\n",
       " - `WasModded` : `1`\n",
       " - `allowCommands` : `0`\n",
       " - `WanderingTraderSpawnDelay` : `16800`\n",
       " - `CustomBossEvents` : (0 items)\n",
       " - `GameRules` : (35 items)\n",
       " - `Player` : (44 items)\n",
       " - `SpawnY` : `68`\n",
       " - `rainTime` : `67187`\n",
       " - `thunderTime` : `107506`\n",
       " - `SpawnZ` : `144`\n",
       " - `hardcore` : `0`\n",
       " - `WanderingTraderId` : (4 items)\n",
       " - `DifficultyLocked` : `0`\n",
       " - `SpawnX` : `-592`\n",
       " - `clearWeatherTime` : `0`\n",
       " - `thundering` : `0`\n",
       " - `SpawnAngle` : `0.0`\n",
       " - `version` : `19133`\n",
       " - `BorderSafeZone` : `5.0`\n",
       " - `LastPlayed` : `1651020439121`\n",
       " - `BorderWarningTime` : `15.0`\n",
       " - `ScheduledEvents` : (14 items)\n",
       " - `LevelName` : `\"Esha Ness\"`\n",
       " - `BorderSize` : `59999968.0`\n",
       " - `DataVersion` : `2865`\n",
       " - `DataPacks` : \n",
       "\t\n",
       "\t - `0` : `\"Enabled\"`\n",
       "\t - `1` : `\"Disabled\"`"
      ],
      "text/plain": [
       "<IPython.core.display.Markdown object>"
      ]
     },
     "metadata": {},
     "output_type": "display_data"
    }
   ],
   "source": [
    "summarize_keystore(level[\"Data\"])"
   ]
  },
  {
   "cell_type": "markdown",
   "id": "2780bb35-7234-4aa7-bbf5-53eb14075690",
   "metadata": {},
   "source": [
    "First thing is I need to change the level name"
   ]
  },
  {
   "cell_type": "code",
   "execution_count": 8,
   "id": "05e64770-664e-4551-ba96-389175b400ca",
   "metadata": {},
   "outputs": [
    {
     "data": {
      "text/plain": [
       "nbt.nbt.TAG_String"
      ]
     },
     "execution_count": 8,
     "metadata": {},
     "output_type": "execute_result"
    }
   ],
   "source": [
    "type(level[\"Data\"][\"LevelName\"])"
   ]
  },
  {
   "cell_type": "code",
   "execution_count": 10,
   "id": "6c439642-3ee6-45e6-9550-6e99d4fb3d65",
   "metadata": {},
   "outputs": [],
   "source": [
    "level[\"Data\"][\"LevelName\"].value = \"Esha Ness (Creative)\""
   ]
  },
  {
   "cell_type": "markdown",
   "id": "d18b8cda-39fa-4189-a074-6492b1d4f9a7",
   "metadata": {},
   "source": [
    "Now, first thing that occurred to me was that I just needed to change `GameType` but [the wiki](https://minecraft.fandom.com/wiki/Java_Edition_level_format) says this field controls:\n",
    "\n",
    "> The default game mode for the singleplayer player when they initially spawn. 0 is Survival, 1 is Creative, 2 is Adventure, 3 is Spectator. **Note: Singleplayer worlds do not use this field to save which game mode the player is currently in.**\n",
    "\n",
    "That being said, `allowCommands` is exactly what I think it is:\n",
    "\n",
    "> 1 or 0 (true/false) - true if cheats are enabled.\n",
    "\n",
    "So I could just swap that to a 1 and use a command to change my game mode. Which I will do:"
   ]
  },
  {
   "cell_type": "code",
   "execution_count": 11,
   "id": "e2374a85-9ee8-4076-b567-747f78038292",
   "metadata": {},
   "outputs": [
    {
     "data": {
      "text/plain": [
       "nbt.nbt.TAG_Byte"
      ]
     },
     "execution_count": 11,
     "metadata": {},
     "output_type": "execute_result"
    }
   ],
   "source": [
    "type(level[\"Data\"][\"allowCommands\"])"
   ]
  },
  {
   "cell_type": "code",
   "execution_count": 12,
   "id": "9e301788-d106-4c97-875f-aae9bd542cd3",
   "metadata": {},
   "outputs": [
    {
     "data": {
      "text/plain": [
       "int"
      ]
     },
     "execution_count": 12,
     "metadata": {},
     "output_type": "execute_result"
    }
   ],
   "source": [
    "type(level[\"Data\"][\"allowCommands\"].value)"
   ]
  },
  {
   "cell_type": "code",
   "execution_count": 14,
   "id": "39383e16-8887-40ae-a7f0-6ce4a667bd9d",
   "metadata": {},
   "outputs": [],
   "source": [
    "level[\"Data\"][\"allowCommands\"].value = 1"
   ]
  },
  {
   "cell_type": "markdown",
   "id": "0b0dbc5f-f505-42da-acbc-4dc35b4c138d",
   "metadata": {},
   "source": [
    "But I still want to have a peek at `GameRules`"
   ]
  },
  {
   "cell_type": "code",
   "execution_count": 15,
   "id": "b742a4d7-137e-4166-bc27-7b451aaccbc5",
   "metadata": {},
   "outputs": [
    {
     "data": {
      "text/markdown": [
       "\n",
       " - `doFireTick` : `\"true\"`\n",
       " - `maxCommandChainLength` : `\"65536\"`\n",
       " - `fireDamage` : `\"true\"`\n",
       " - `reducedDebugInfo` : `\"false\"`\n",
       " - `disableElytraMovementCheck` : `\"false\"`\n",
       " - `announceAdvancements` : `\"true\"`\n",
       " - `drowningDamage` : `\"true\"`\n",
       " - `forgiveDeadPlayers` : `\"true\"`\n",
       " - `commandBlockOutput` : `\"true\"`\n",
       " - `maxEntityCramming` : `\"24\"`\n",
       " - `doMobSpawning` : `\"true\"`\n",
       " - `disableRaids` : `\"false\"`\n",
       " - `doWeatherCycle` : `\"true\"`\n",
       " - `doDaylightCycle` : `\"true\"`\n",
       " - `showDeathMessages` : `\"true\"`\n",
       " - `doTileDrops` : `\"true\"`\n",
       " - `universalAnger` : `\"false\"`\n",
       " - `playersSleepingPercentage` : `\"1\"`\n",
       " - `doInsomnia` : `\"true\"`\n",
       " - `doImmediateRespawn` : `\"false\"`\n",
       " - `naturalRegeneration` : `\"true\"`\n",
       " - `doMobLoot` : `\"true\"`\n",
       " - `fallDamage` : `\"true\"`\n",
       " - `keepInventory` : `\"false\"`\n",
       " - `doEntityDrops` : `\"true\"`\n",
       " - `doLimitedCrafting` : `\"false\"`\n",
       " - `mobGriefing` : `\"true\"`\n",
       " - `randomTickSpeed` : `\"3\"`\n",
       " - `spawnRadius` : `\"10\"`\n",
       " - `doTraderSpawning` : `\"true\"`\n",
       " - `freezeDamage` : `\"true\"`\n",
       " - `logAdminCommands` : `\"true\"`\n",
       " - `spectatorsGenerateChunks` : `\"true\"`\n",
       " - `sendCommandFeedback` : `\"true\"`\n",
       " - `doPatrolSpawning` : `\"true\"`"
      ],
      "text/plain": [
       "<IPython.core.display.Markdown object>"
      ]
     },
     "metadata": {},
     "output_type": "display_data"
    }
   ],
   "source": [
    "summarize_keystore(level[\"Data\"][\"GameRules\"])"
   ]
  },
  {
   "cell_type": "markdown",
   "id": "c0002c9e-5661-415e-8621-d274f8e7f8f5",
   "metadata": {},
   "source": [
    "It's not there! But wait--it wouldn't be, would it. It would be under..."
   ]
  },
  {
   "cell_type": "code",
   "execution_count": 16,
   "id": "09f94c15-5b17-4b90-9677-0c2c5c2a1e78",
   "metadata": {},
   "outputs": [
    {
     "data": {
      "text/markdown": [
       "\n",
       " - `Brain` : \n",
       "\t\n",
       "\t - `0` : `\"memories\"`\n",
       " - `HurtByTimestamp` : `10228`\n",
       " - `SleepTimer` : `0`\n",
       " - `SpawnForced` : `0`\n",
       " - `Attributes` : (6 items)\n",
       " - `Invulnerable` : `0`\n",
       " - `FallFlying` : `0`\n",
       " - `PortalCooldown` : `0`\n",
       " - `AbsorptionAmount` : `0.0`\n",
       " - `abilities` : (7 items)\n",
       " - `FallDistance` : `0.0`\n",
       " - `recipeBook` : (10 items)\n",
       " - `DeathTime` : `0`\n",
       " - `XpSeed` : `-1962982261`\n",
       " - `XpTotal` : `5199`\n",
       " - `UUID` : (4 items)\n",
       " - `playerGameType` : `0`\n",
       " - `SpawnDimension` : `\"minecraft:overworld\"`\n",
       " - `Tags` : \n",
       "\t\n",
       "\t - `0` : `\"ch_east\"`\n",
       " - `seenCredits` : `1`\n",
       " - `Motion` : (3 items)\n",
       " - `SpawnY` : `112`\n",
       " - `Health` : `20.0`\n",
       " - `SpawnZ` : `-3929`\n",
       " - `foodSaturationLevel` : `9.40000057220459`\n",
       " - `SpawnX` : `-1510`\n",
       " - `Air` : `300`\n",
       " - `OnGround` : `1`\n",
       " - `Dimension` : `\"minecraft:overworld\"`\n",
       " - `SpawnAngle` : `-144.38970947265625`\n",
       " - `Rotation` : \n",
       "\t\n",
       "\t - `0` : `-71.8480224609375`\n",
       "\t - `1` : `30.45000457763672`\n",
       " - `XpLevel` : `44`\n",
       " - `Score` : `5199`\n",
       " - `Pos` : (3 items)\n",
       " - `Fire` : `-20`\n",
       " - `XpP` : `0.13543184101581573`\n",
       " - `EnderItems` : (18 items)\n",
       " - `DataVersion` : `2865`\n",
       " - `foodLevel` : `20`\n",
       " - `foodExhaustionLevel` : `1.108359456062317`\n",
       " - `HurtTime` : `0`\n",
       " - `SelectedItemSlot` : `1`\n",
       " - `Inventory` : (16 items)\n",
       " - `foodTickTimer` : `0`"
      ],
      "text/plain": [
       "<IPython.core.display.Markdown object>"
      ]
     },
     "metadata": {},
     "output_type": "display_data"
    }
   ],
   "source": [
    "summarize_keystore(level[\"Data\"][\"Player\"])"
   ]
  },
  {
   "cell_type": "markdown",
   "id": "d55b4330-5387-4f85-8a3d-f6e87e740266",
   "metadata": {},
   "source": [
    "Bingo"
   ]
  },
  {
   "cell_type": "code",
   "execution_count": 17,
   "id": "d99731ed-792a-443d-9dba-3fb656530f1e",
   "metadata": {},
   "outputs": [],
   "source": [
    "level[\"Data\"][\"Player\"][\"playerGameType\"].value = 1"
   ]
  },
  {
   "cell_type": "markdown",
   "id": "c3579875-1082-4823-8c7c-909a8b6079ee",
   "metadata": {},
   "source": [
    "## That was Easy"
   ]
  },
  {
   "cell_type": "code",
   "execution_count": 18,
   "id": "1f854840-65bb-486b-a040-81b7d8f57d9f",
   "metadata": {},
   "outputs": [],
   "source": [
    "level.write_file(save_folder / \"level.dat\")"
   ]
  }
 ],
 "metadata": {
  "kernelspec": {
   "display_name": "Python 3 (ipykernel)",
   "language": "python",
   "name": "python3"
  },
  "language_info": {
   "codemirror_mode": {
    "name": "ipython",
    "version": 3
   },
   "file_extension": ".py",
   "mimetype": "text/x-python",
   "name": "python",
   "nbconvert_exporter": "python",
   "pygments_lexer": "ipython3",
   "version": "3.10.6"
  }
 },
 "nbformat": 4,
 "nbformat_minor": 5
}
