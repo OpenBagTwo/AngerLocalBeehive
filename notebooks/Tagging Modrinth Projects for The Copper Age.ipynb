{
 "cells": [
  {
   "cell_type": "markdown",
   "id": "007c337b-f65a-47ab-812b-e5af4e4ae178",
   "metadata": {},
   "source": [
    "# Updating My Projects on Modrinth"
   ]
  },
  {
   "cell_type": "code",
   "execution_count": 1,
   "id": "81ecce53-f877-4413-be8c-3260b355c331",
   "metadata": {},
   "outputs": [],
   "source": [
    "import json\n",
    "from os import environ\n",
    "\n",
    "import requests"
   ]
  },
  {
   "cell_type": "markdown",
   "id": "10571abc-8e53-41e5-a392-162f2b2f5679",
   "metadata": {},
   "source": [
    "Today's the day that Minecraft 1.21.9 releases, and, because I like to get ahead of these things, I've gone ahead and tested all my mods and datapacks against the release candidate, verified which existing versions still work, and created new builds for the projects that didn't. So the last step is going to be _tagging_ these versions as compatible, which is something I can't do in advance, because Modrinth (wisely!) doesn't allow you to tag your projects as compatible with a version that doesn't yet exist.\n",
    "\n",
    "So usually what happens when the new game drop drops (and Modrinth updates their API) is that I go through their website and tag everything. But while I'm doing that, Modrinth is getting slammed by a thousand modders doing the same thing. So today instead, I'll be doing everything programmatically through [Modrinth's lovely API.](https://docs.modrinth.com/api/)"
   ]
  },
  {
   "cell_type": "code",
   "execution_count": 2,
   "id": "6a0597ef-bfb0-4e3b-8835-80962f2dc00f",
   "metadata": {},
   "outputs": [],
   "source": [
    "base_url = \"https://api.modrinth.com/v2/\""
   ]
  },
  {
   "cell_type": "markdown",
   "id": "901d0ce7-1d4f-4734-8345-a1a6423f10f4",
   "metadata": {},
   "source": [
    "The two endpoints I'll be using are:\n",
    "- [`GET /version/{id}`](https://docs.modrinth.com/api/operations/getversion/), and\n",
    "- [`PATCH /version/{id}`](https://docs.modrinth.com/api/operations/modifyversion/)"
   ]
  },
  {
   "cell_type": "markdown",
   "id": "b2f2d394-6a6c-4e96-9344-ac83de42a3d7",
   "metadata": {},
   "source": [
    "To perform these operations (or, at least, `PATCH`), I'll need a Modrinth API token, which I've already encoded as an environment variable."
   ]
  },
  {
   "cell_type": "code",
   "execution_count": 3,
   "id": "f9cca8f7-afdc-4a0f-a470-84ac063ae3bf",
   "metadata": {},
   "outputs": [],
   "source": [
    "auth_token = environ[\"MODRINTH_TOKEN\"]\n",
    "header = {\"Authorization\": auth_token}"
   ]
  },
  {
   "cell_type": "markdown",
   "id": "97715f92-a99b-4565-bd18-104fb37e8737",
   "metadata": {},
   "source": [
    "Now let's use the requests library to check on the 1.21.9 version of [one of my projects](https://modrinth.com/datapack/give-it-the-beans). I can get the version ID from the Modrinth website (I _could_ do it [from the API](https://docs.modrinth.com/api/operations/getprojectversions/), but for that I'd need the project ID)\n",
    "\n",
    "![Where to find the version ID on Modrinth](../_static/modrinth_version_id.png)"
   ]
  },
  {
   "cell_type": "code",
   "execution_count": 4,
   "id": "0ca1c204-976d-4562-8e4f-ba12e1744219",
   "metadata": {},
   "outputs": [],
   "source": [
    "version_id = \"VosBpsMz\""
   ]
  },
  {
   "cell_type": "code",
   "execution_count": 5,
   "id": "a22765c1-a86b-41a6-b6c8-dec30cdff15b",
   "metadata": {},
   "outputs": [
    {
     "data": {
      "text/plain": [
       "'{\"game_versions\":[\"1.21.6\",\"1.21.7\",\"1.21.8\",\"1.21.9-rc1\"],\"loaders\":[\"datapack\"],\"id\":\"VosBpsMz\",\"project_id\":\"n6G3LgYm\",\"author_id\":\"DnpSkHuK\",\"featured\":false,\"name\":\"Adding 1.21.9 Compatibility\",\"version_number\":\"v25.09.25\",\"changelog\":\"Adds support for 1.21.9\",\"changelog_url\":null,\"date_published\":\"2025-09-25T19:11:44.323501Z\",\"downloads\":6,\"version_type\":\"release\",\"status\":\"listed\",\"requested_status\":null,\"files\":[{\"hashes\":{\"sha1\":\"9078ec032e03fef77742abb717d67d460483325f\",\"sha512\":\"968b83d61e8cf6f12efce149c087220b3928be2f2eeb8bca4a42aea487794e0f1d695db95843f3de08216f61c5e254041af237aa5b903842c67a478c96168277\"},\"url\":\"https://cdn.modrinth.com/data/n6G3LgYm/versions/VosBpsMz/Give%20It%20The%20Beans%20v25.09.25.zip\",\"filename\":\"Give It The Beans v25.09.25.zip\",\"primary\":true,\"size\":32717,\"file_type\":null}],\"dependencies\":[]}'"
      ]
     },
     "execution_count": 5,
     "metadata": {},
     "output_type": "execute_result"
    }
   ],
   "source": [
    "response = requests.get(base_url + f\"version/{version_id}\", headers=header)\n",
    "assert response.status_code == 200\n",
    "response.text"
   ]
  },
  {
   "cell_type": "markdown",
   "id": "91569dd4-36b4-4bdd-a01d-503395b937f6",
   "metadata": {},
   "source": [
    "This text is encoded as a JSON response, so to get the existing list of game versions is simple."
   ]
  },
  {
   "cell_type": "code",
   "execution_count": 6,
   "id": "e7f8372b-48e2-4d08-a73e-3a24075829de",
   "metadata": {},
   "outputs": [
    {
     "data": {
      "text/plain": [
       "['1.21.6', '1.21.7', '1.21.8', '1.21.9-rc1']"
      ]
     },
     "execution_count": 6,
     "metadata": {},
     "output_type": "execute_result"
    }
   ],
   "source": [
    "current_versions = json.loads(response.text)[\"game_versions\"]\n",
    "current_versions"
   ]
  },
  {
   "cell_type": "markdown",
   "id": "beecdcd6-0926-4ab1-983c-30050de614cc",
   "metadata": {},
   "source": [
    "And so to update this list, we can call:"
   ]
  },
  {
   "cell_type": "code",
   "execution_count": 7,
   "id": "1a3667e6-7a87-4fd0-bb06-1e5c8e2b0144",
   "metadata": {},
   "outputs": [
    {
     "data": {
      "text/plain": [
       "<Response [400]>"
      ]
     },
     "execution_count": 7,
     "metadata": {},
     "output_type": "execute_result"
    }
   ],
   "source": [
    "requests.patch(\n",
    "    base_url + f\"version/{version_id}\",\n",
    "    headers=header,\n",
    "    json={\"game_versions\": current_versions + [\"1.29\"]},\n",
    ")"
   ]
  },
  {
   "cell_type": "markdown",
   "id": "73a9aab0-8a48-4193-b218-756db7a6c57e",
   "metadata": {},
   "source": [
    "Oh no! But that doesn't work yet."
   ]
  },
  {
   "cell_type": "code",
   "execution_count": 8,
   "id": "7bc99251-5398-49d2-83bd-4df6df44c52c",
   "metadata": {},
   "outputs": [
    {
     "data": {
      "text/plain": [
       "'{\"error\":\"invalid_input\",\"description\":\"Invalid Input: Provided value \\'1.29\\' is not a valid variant for game_versions\"}'"
      ]
     },
     "execution_count": 8,
     "metadata": {},
     "output_type": "execute_result"
    }
   ],
   "source": [
    "_.text  # type: ignore"
   ]
  },
  {
   "cell_type": "markdown",
   "id": "00664e03-e63a-46ac-bc03-47548ca63c67",
   "metadata": {},
   "source": [
    "Because 1.21.9 has yet to drop.\n",
    "\n",
    "While we wait for the drop to drop, I'll go ahead and grab my list of versions that need tagging and transform the above into a macro."
   ]
  },
  {
   "cell_type": "code",
   "execution_count": 9,
   "id": "993a36df-e6e0-428d-a552-aa2290b133bb",
   "metadata": {},
   "outputs": [],
   "source": [
    "def tag_compatible(\n",
    "    version_id: str, game_version: str, rc_version: str | None = None\n",
    ") -> None:\n",
    "    \"\"\"\n",
    "    Tag a version as compatible with the specified Minecraft version\n",
    "\n",
    "    Parameters\n",
    "    ----------\n",
    "    version_id : str\n",
    "        The ID of the project version to tag\n",
    "    game_version: str\n",
    "        The version of Minecraft to add to the list of compatible tags\n",
    "    rc_version: str, optional\n",
    "        If specified, this method will first check to make sure that\n",
    "        the project version was already tagged as compatible with the\n",
    "        specified release candidate\n",
    "    \"\"\"\n",
    "    existing_versions = json.loads(\n",
    "        requests.get(base_url + f\"version/{version_id}\", headers=header).text\n",
    "    )[\"game_versions\"]\n",
    "    assert game_version not in existing_versions, \"Already tagged, nothing doing\"\n",
    "    if rc_version and rc_version not in existing_versions:\n",
    "        raise ValueError(\n",
    "            f\"{version_id} wasn't tagged compatible with {rc_version}.\"\n",
    "            \" Did you grab the wrong version ID?\"\n",
    "        )\n",
    "    response = requests.patch(\n",
    "        base_url + f\"version/{version_id}\",\n",
    "        headers=header,\n",
    "        json={\"game_versions\": existing_versions + [game_version]},\n",
    "    )\n",
    "    if response.status_code != 200:\n",
    "        raise ValueError(json.loads(response.text))"
   ]
  },
  {
   "cell_type": "code",
   "execution_count": null,
   "id": "cb182d83-acf6-4a78-84f1-dc8ecb020a4f",
   "metadata": {},
   "outputs": [],
   "source": [
    "for version_id in (\n",
    "    \"VosBpsMz\",\n",
    "    \"X1SpHSKP\",\n",
    "    \"bQUvQyqn\",\n",
    "    \"leuGnsE6\",\n",
    "    \"LiRID8kX\",\n",
    "    \"5QQyZPhN\",\n",
    "    \"Ez3QkH4m\",\n",
    "):\n",
    "    tag_compatible(version_id, \"1.21.9\", \"1.21.9-rc1\")"
   ]
  },
  {
   "cell_type": "markdown",
   "id": "09b4dea2-d7ca-4cd9-a649-251d76140717",
   "metadata": {},
   "source": [
    "And there we have it!"
   ]
  }
 ],
 "metadata": {
  "kernelspec": {
   "display_name": "Python 3 (ipykernel)",
   "language": "python",
   "name": "python3"
  },
  "language_info": {
   "codemirror_mode": {
    "name": "ipython",
    "version": 3
   },
   "file_extension": ".py",
   "mimetype": "text/x-python",
   "name": "python",
   "nbconvert_exporter": "python",
   "pygments_lexer": "ipython3",
   "version": "3.13.1"
  }
 },
 "nbformat": 4,
 "nbformat_minor": 5
}
