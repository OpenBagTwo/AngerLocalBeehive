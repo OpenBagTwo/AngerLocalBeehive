{
 "cells": [
  {
   "cell_type": "markdown",
   "id": "bd4e052a-c94e-4b43-97e4-9239f7112ec0",
   "metadata": {},
   "source": [
    "# Counting the Bodies\n",
    "\n",
    "My world recently suffered from a massive raid. From the logs, 43 villagers died. I also want to get a count of the Iron Golems who gave their lives to the cause."
   ]
  },
  {
   "cell_type": "code",
   "execution_count": 1,
   "id": "d667d257-8122-4b2d-87c1-eaeeb4c4387f",
   "metadata": {},
   "outputs": [],
   "source": [
    "import json\n",
    "from os import environ\n",
    "from pathlib import Path\n",
    "from typing import Any\n",
    "\n",
    "import mutf8\n",
    "import pandas as pd\n",
    "from IPython.display import Markdown, display\n",
    "from nbt import nbt, region"
   ]
  },
  {
   "cell_type": "code",
   "execution_count": 2,
   "id": "d87b56b8-cb46-4722-9b94-e480e82749dc",
   "metadata": {},
   "outputs": [],
   "source": [
    "worlds_folder = Path(environ[\"SAVES_PATH\"])"
   ]
  },
  {
   "cell_type": "code",
   "execution_count": 3,
   "id": "3753dd8c-0834-4660-8347-b11d9f891be3",
   "metadata": {},
   "outputs": [],
   "source": [
    "def find_iron_golem(path: Path) -> list[tuple[int, ...]]:\n",
    "    \"\"\"Find and return all iron golems in a given\n",
    "    entities file\n",
    "\n",
    "    Parameters\n",
    "    ----------\n",
    "    path : Path\n",
    "        The path to the entities file\n",
    "\n",
    "    Returns\n",
    "    -------\n",
    "    list of tuples\n",
    "        The locations of all found golems\n",
    "    \"\"\"\n",
    "    golems: list[tuple[int, ...]] = []\n",
    "    for chunk in region.RegionFile(path).iter_chunks():\n",
    "        for entity in chunk[\"Entities\"]:\n",
    "            if entity[\"id\"].value not in (\"minecraft:iron_golem\",):\n",
    "                continue\n",
    "            golems.append(\n",
    "                tuple(int(v.value) for i, v in enumerate(entity[\"Pos\"]) if i != 1)\n",
    "            )\n",
    "    return golems"
   ]
  },
  {
   "cell_type": "markdown",
   "id": "26cb65ab-095f-4827-898e-9e7e2b40ad62",
   "metadata": {},
   "source": [
    "## Before the Battle\n",
    "\n",
    "Investigating a backup from before the battle"
   ]
  },
  {
   "cell_type": "code",
   "execution_count": 4,
   "id": "ce13b5e7-3f6c-4613-92fa-092760f79904",
   "metadata": {},
   "outputs": [
    {
     "name": "stdout",
     "output_type": "stream",
     "text": [
      "Found 13 golems\n"
     ]
    }
   ],
   "source": [
    "entities_folder = worlds_folder / \"Reference\" / \"entities\"\n",
    "golems = []\n",
    "for filename in (\"r.-4.-8.mca\", \"r.-3.-8.mca\"):\n",
    "    golems.extend(find_iron_golem(entities_folder / filename))\n",
    "\n",
    "golems = [loc for loc in golems if -1568 < loc[0] < -1393 and -3859 < loc[-1] < -3646]\n",
    "print(f\"Found {len(golems)} golems\")"
   ]
  },
  {
   "cell_type": "markdown",
   "id": "f1490c82-6755-48e1-a18e-ce0d14489d5d",
   "metadata": {},
   "source": [
    "## After the Battle"
   ]
  },
  {
   "cell_type": "code",
   "execution_count": 5,
   "id": "2c310622-2ca3-473c-a1eb-39ec650d6752",
   "metadata": {},
   "outputs": [
    {
     "name": "stdout",
     "output_type": "stream",
     "text": [
      "Found 5 golems\n"
     ]
    }
   ],
   "source": [
    "entities_folder = worlds_folder / \"Esha Ness\" / \"entities\"\n",
    "golems = []\n",
    "for filename in (\"r.-4.-8.mca\", \"r.-3.-8.mca\"):\n",
    "    golems.extend(find_iron_golem(entities_folder / filename))\n",
    "\n",
    "golems = [loc for loc in golems if -1568 < loc[0] < -1393 and -3859 < loc[-1] < -3646]\n",
    "print(f\"Found {len(golems)} golems\")"
   ]
  },
  {
   "cell_type": "markdown",
   "id": "4d2a78d5-d5c3-450f-a19d-c83e433ca20f",
   "metadata": {},
   "source": [
    "RIP, my iron friends."
   ]
  },
  {
   "cell_type": "markdown",
   "id": "6126d210-b447-4d66-8206-62d65c0b5e1d",
   "metadata": {},
   "source": [
    "## Bonus: Did My Tamed Pillagers Get Into The Fight?\n",
    "\n",
    "They've got no weapons and shouldn't have been part of the raid."
   ]
  },
  {
   "cell_type": "code",
   "execution_count": 6,
   "id": "bdf3b6aa-877e-4a0e-87ce-4b792aa9d84d",
   "metadata": {},
   "outputs": [],
   "source": [
    "def get_name(entity: dict[str, Any]) -> str:\n",
    "    \"\"\"Return the name (or identifier) of an entity\n",
    "\n",
    "    Parameters\n",
    "    ----------\n",
    "    entity: dict\n",
    "        The entity of interest\n",
    "\n",
    "    Returns\n",
    "    -------\n",
    "    str\n",
    "        The name and ID (or just the ID) of the entity\n",
    "    \"\"\"\n",
    "    identifier = entity[\"id\"]\n",
    "\n",
    "    if \"CustomName\" not in entity.keys():\n",
    "        return str(identifier)\n",
    "    custom_name = json.loads(entity[\"CustomName\"].value)\n",
    "    try:\n",
    "        name = custom_name[\"text\"]  # 1.20.1-\n",
    "    except TypeError:\n",
    "        name = custom_name  # 1.20.3+\n",
    "    return f\"{name} ({identifier})\""
   ]
  },
  {
   "cell_type": "code",
   "execution_count": 7,
   "id": "94717eb4-62d8-4f81-b900-dbea5ee77549",
   "metadata": {},
   "outputs": [],
   "source": [
    "def find_illagers(path: Path) -> list[tuple[str, tuple[int, ...]]]:\n",
    "    \"\"\"Find and return all named villagers\n",
    "    in a given entities file\n",
    "\n",
    "    Parameters\n",
    "    ----------\n",
    "    path : Path\n",
    "        The path to the entities file\n",
    "\n",
    "    Returns\n",
    "    -------\n",
    "    list of dict\n",
    "        The attributes of all found villagers\n",
    "    \"\"\"\n",
    "    illagers = []\n",
    "    for chunk in region.RegionFile(path).iter_chunks():\n",
    "        for entity in chunk[\"Entities\"]:\n",
    "            if entity[\"id\"].value not in (\n",
    "                \"minecraft:pillager\",\n",
    "                \"minecraft:vindicator\",\n",
    "                \"minecraft:witch\",\n",
    "                \"minecraft:ravager\",\n",
    "                \"minecraft:evoker\",\n",
    "            ):\n",
    "                continue\n",
    "            illagers.append(\n",
    "                (get_name(entity), tuple(int(v.value) for v in entity[\"Pos\"]))\n",
    "            )\n",
    "    return illagers"
   ]
  },
  {
   "cell_type": "code",
   "execution_count": 8,
   "id": "de772039-6097-44ac-9f25-190e74e805fe",
   "metadata": {},
   "outputs": [
    {
     "name": "stdout",
     "output_type": "stream",
     "text": [
      "Harald (minecraft:pillager) at (-1499, 104, -3897)\n",
      "Ragnvald (minecraft:pillager) at (-1474, 101, -3880)\n"
     ]
    }
   ],
   "source": [
    "entities_folder = worlds_folder / \"Reference\" / \"entities\"\n",
    "illagers = []\n",
    "for filename in (\"r.-4.-8.mca\", \"r.-3.-8.mca\"):\n",
    "    illagers.extend(find_illagers(entities_folder / filename))\n",
    "\n",
    "illagers = [\n",
    "    (illager, loc)\n",
    "    for illager, loc in illagers\n",
    "    if -1632 < loc[0] < -1362 and -3900 < loc[-1] < -3646\n",
    "]\n",
    "for illager, loc in illagers:\n",
    "    print(f\"{illager} at {loc}\")"
   ]
  },
  {
   "cell_type": "code",
   "execution_count": 9,
   "id": "a7cff049-a2a6-4e2e-b42c-2feaa2a07f24",
   "metadata": {},
   "outputs": [
    {
     "name": "stdout",
     "output_type": "stream",
     "text": [
      "minecraft:pillager at (-1575, 62, -3701)\n",
      "Harald (minecraft:pillager) at (-1500, 104, -3898)\n",
      "Ragnvald (minecraft:pillager) at (-1475, 101, -3880)\n"
     ]
    }
   ],
   "source": [
    "entities_folder = worlds_folder / \"Esha Ness\" / \"entities\"\n",
    "illagers = []\n",
    "for filename in (\"r.-4.-8.mca\", \"r.-3.-8.mca\"):\n",
    "    illagers.extend(find_illagers(entities_folder / filename))\n",
    "\n",
    "illagers = [\n",
    "    (illager, loc)\n",
    "    for illager, loc in illagers\n",
    "    if -1632 < loc[0] < -1362 and -3900 < loc[-1] < -3646\n",
    "]\n",
    "for illager, loc in illagers:\n",
    "    print(f\"{illager} at {loc}\")"
   ]
  },
  {
   "cell_type": "markdown",
   "id": "9adb38ce-37ce-4006-a14f-1fc2cb15dc49",
   "metadata": {},
   "source": [
    "Well what do we have here?? The mysterious missing pillager from the last wave that we let timeout?"
   ]
  },
  {
   "cell_type": "code",
   "execution_count": null,
   "id": "c05c5098-59bb-4e75-85eb-ceb9c34552e2",
   "metadata": {},
   "outputs": [],
   "source": []
  }
 ],
 "metadata": {
  "kernelspec": {
   "display_name": "Python 3 (ipykernel)",
   "language": "python",
   "name": "python3"
  },
  "language_info": {
   "codemirror_mode": {
    "name": "ipython",
    "version": 3
   },
   "file_extension": ".py",
   "mimetype": "text/x-python",
   "name": "python",
   "nbconvert_exporter": "python",
   "pygments_lexer": "ipython3",
   "version": "3.13.1"
  }
 },
 "nbformat": 4,
 "nbformat_minor": 5
}
