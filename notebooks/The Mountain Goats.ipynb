{
 "cells": [
  {
   "cell_type": "markdown",
   "id": "4812b746-c6bd-4bdc-a821-e5ade79bfb5f",
   "metadata": {},
   "source": [
    "# Getting the Last Goat Horn\n",
    "\n",
    "I've gone a little goat crazy breeding goats on a mountain, but hey--I've got all but the last goat horn, so I'd say things are going pretty well.\n",
    "\n",
    "But now that it's been confirmed that each of any given goat's horns will produce the same sound, then that means the information encoding that must be embedded somewhere in the goat's data."
   ]
  },
  {
   "cell_type": "markdown",
   "id": "66892678-81a7-4091-a247-65b97c257a77",
   "metadata": {
    "tags": []
   },
   "source": [
    "## Imports, Setup and Macros"
   ]
  },
  {
   "cell_type": "code",
   "execution_count": 1,
   "id": "285da05b-e909-4308-b06b-792be8aac9df",
   "metadata": {},
   "outputs": [],
   "source": [
    "import json\n",
    "from collections import defaultdict\n",
    "from os import environ\n",
    "from pathlib import Path\n",
    "from typing import Any, Collection, Dict, Tuple\n",
    "\n",
    "import mutf8\n",
    "import pandas as pd\n",
    "from IPython.display import Markdown, display\n",
    "from nbt import nbt, region"
   ]
  },
  {
   "cell_type": "code",
   "execution_count": 2,
   "id": "096c45a6-0d00-409f-9ad2-5774c40900da",
   "metadata": {},
   "outputs": [],
   "source": [
    "def format_file_size(path: Path) -> str:\n",
    "    \"\"\"Print the size of the specified file in\n",
    "    human-readible form (KB / MB / GB)\n",
    "\n",
    "    Parameters\n",
    "    ----------\n",
    "    path : Path\n",
    "        The path to the file\n",
    "\n",
    "    Returns\n",
    "    -------\n",
    "    str\n",
    "        A prettily formatted file size\n",
    "\n",
    "    Notes\n",
    "    -----\n",
    "    I would be shocked if there isn't a utility already built\n",
    "    into the standard library to do this, but all I could find\n",
    "    via Googling was a bunch of recipes and examples\n",
    "    \"\"\"\n",
    "    size: float = path.stat().st_size  # in bytes\n",
    "    for unit in (\"B\", \"KB\", \"MB\", \"GB\"):\n",
    "        if size < 1024 / 2:\n",
    "            return f\"{size:.1f} {unit}\"\n",
    "        size = size / 1024\n",
    "    return f\"{size} TB\""
   ]
  },
  {
   "cell_type": "code",
   "execution_count": 3,
   "id": "a4c549d6-6e2b-44a8-8579-92698186659b",
   "metadata": {},
   "outputs": [],
   "source": [
    "def summarize_keystore(keystore: Dict[str, Any]) -> None:\n",
    "    \"\"\"Display a summary of the contents of a key-value store\n",
    "\n",
    "    Parameters\n",
    "    ----------\n",
    "    keystore : dict\n",
    "        The keystore to summarize\n",
    "\n",
    "    Returns\n",
    "    -------\n",
    "    None\n",
    "    \"\"\"\n",
    "\n",
    "    def _summarize_keystore(keystore: Dict[str, Any]) -> str:\n",
    "        summary = \"\"\n",
    "        for k, v in keystore.items():\n",
    "            summary += f\"\\n - `{k}` : \"\n",
    "            if isinstance(v, (str, nbt.TAG_String)):\n",
    "                summary += f'`\"{v}\"`'\n",
    "            elif not isinstance(v, Collection):\n",
    "                summary += f\"`{str(v)}`\"\n",
    "            else:\n",
    "                length = len(v)\n",
    "                if 0 < length < 3:\n",
    "                    summary += \"\\n\"\n",
    "                    if not isinstance(v, Dict):\n",
    "                        v = {i: item for i, item in enumerate(v)}\n",
    "                    summary += \"\\n\".join(\n",
    "                        (f\"\\t{line}\" for line in _summarize_keystore(v).split(\"\\n\"))\n",
    "                    )\n",
    "                else:\n",
    "                    summary += f\"({len(v)} items)\"\n",
    "        return summary\n",
    "\n",
    "    display(Markdown(_summarize_keystore(keystore)))"
   ]
  },
  {
   "cell_type": "code",
   "execution_count": 4,
   "id": "1636b749-b822-4488-b880-b467a62bdd2f",
   "metadata": {},
   "outputs": [
    {
     "name": "stdout",
     "output_type": "stream",
     "text": [
      "- DIM-1 (folder)\n",
      "- DIM1 (folder)\n",
      "- advancements (folder)\n",
      "- data (folder)\n",
      "- datapacks (folder)\n",
      "- entities (folder)\n",
      "- icon.png (8.6 KB)\n",
      "- level.dat (17.0 KB)\n",
      "- level.dat_old (17.0 KB)\n",
      "- level11326231134829879582.dat (0.0 B)\n",
      "- level14927678268100607923.dat (0.0 B)\n",
      "- level1786655981796876926.dat (0.0 B)\n",
      "- level4463453738642305340.dat (0.0 B)\n",
      "- level6425531070021529407.dat (0.0 B)\n",
      "- level7443636089696258371.dat (0.0 B)\n",
      "- level8832581565660323154.dat (0.0 B)\n",
      "- playerdata (folder)\n",
      "- poi (folder)\n",
      "- region (folder)\n",
      "- serverconfig (folder)\n",
      "- session.lock (3.0 B)\n",
      "- stats (folder)\n"
     ]
    }
   ],
   "source": [
    "save_folder = Path(environ[\"SAVE_PATH\"])\n",
    "\n",
    "# make sure this is set correctly\n",
    "for path in sorted(save_folder.glob(\"*\")):\n",
    "    print(f\"- {path.name} ({'folder' if path.is_dir() else format_file_size(path)})\")"
   ]
  },
  {
   "cell_type": "code",
   "execution_count": 5,
   "id": "876016d5-e2d6-457b-b7fc-cca8d726872a",
   "metadata": {},
   "outputs": [],
   "source": [
    "def get_chunk_and_region_from_position(\n",
    "    x: float, y: float | None = None, z: float = 0\n",
    ") -> Tuple[Path, Tuple[int, int]]:\n",
    "    \"\"\"Given a position, return the corresponding region file\n",
    "    and chunk\n",
    "\n",
    "    Parameters\n",
    "    ----------\n",
    "    x : int or float\n",
    "        The x coordinate\n",
    "    y :\n",
    "        This will be ignored but is provided to allow\n",
    "        for splatting a three-coordinate\n",
    "    z : int or float\n",
    "        The z coordinate\n",
    "\n",
    "    Returns\n",
    "    -------\n",
    "    Path\n",
    "        The path to the region file containing this coordinate\n",
    "    (int, int) tuple\n",
    "        The chunk index containing this coordinate\n",
    "    \"\"\"\n",
    "    chunk = (int(x // 16), int(z // 16))\n",
    "    region = (int(chunk[0] // 32), int(chunk[1] // 32))\n",
    "    return save_folder / \"region\" / \"r.{0}.{1}.mca\".format(*region), chunk"
   ]
  },
  {
   "cell_type": "code",
   "execution_count": 6,
   "id": "f4abadd9-4a86-486d-bba8-71dda0a60225",
   "metadata": {},
   "outputs": [
    {
     "data": {
      "text/markdown": [
       "I'm at coordinates (-6293, 213, -1383)"
      ],
      "text/plain": [
       "<IPython.core.display.Markdown object>"
      ]
     },
     "metadata": {},
     "output_type": "display_data"
    },
    {
     "data": {
      "text/markdown": [
       "and so should look through chunks (-406 – -381, -99 – -74)\n",
       "in region files:"
      ],
      "text/plain": [
       "<IPython.core.display.Markdown object>"
      ]
     },
     "metadata": {},
     "output_type": "display_data"
    },
    {
     "data": {
      "text/markdown": [
       "\n",
       "  - r.-13.-4.mca"
      ],
      "text/plain": [
       "<IPython.core.display.Markdown object>"
      ]
     },
     "metadata": {},
     "output_type": "display_data"
    },
    {
     "data": {
      "text/markdown": [
       "\n",
       "  - r.-12.-3.mca"
      ],
      "text/plain": [
       "<IPython.core.display.Markdown object>"
      ]
     },
     "metadata": {},
     "output_type": "display_data"
    },
    {
     "data": {
      "text/markdown": [
       "\n",
       "  - r.-12.-4.mca"
      ],
      "text/plain": [
       "<IPython.core.display.Markdown object>"
      ]
     },
     "metadata": {},
     "output_type": "display_data"
    },
    {
     "data": {
      "text/markdown": [
       "\n",
       "  - r.-13.-3.mca"
      ],
      "text/plain": [
       "<IPython.core.display.Markdown object>"
      ]
     },
     "metadata": {},
     "output_type": "display_data"
    }
   ],
   "source": [
    "level = nbt.NBTFile(save_folder / \"level.dat\")\n",
    "position = tuple(int(coord.value) for coord in level[\"Data\"][\"Player\"][\"Pos\"])\n",
    "neighborhood = [\n",
    "    get_chunk_and_region_from_position(*pos)\n",
    "    for pos in (\n",
    "        (position[0] - 200, position[1], position[2] - 200),\n",
    "        (position[0] - 200, position[1], position[2] + 200),\n",
    "        (position[0] + 200, position[1], position[2] - 200),\n",
    "        (position[0] + 200, position[1], position[2] + 200),\n",
    "    )\n",
    "]\n",
    "region_files = set(region for region, _ in neighborhood)\n",
    "\n",
    "display(Markdown(f\"I'm at coordinates {position}\"))\n",
    "display(\n",
    "    Markdown(\n",
    "        \"and so should look through chunks\"\n",
    "        f\" ({neighborhood[0][1][0]} – {neighborhood[3][1][0]},\"\n",
    "        f\" {neighborhood[0][1][1]} – {neighborhood[3][1][1]})\"\n",
    "        \"\\nin region files:\"\n",
    "    )\n",
    ")\n",
    "for region_file in region_files:\n",
    "    display(Markdown(f\"\\n  - {region_file.name}\"))"
   ]
  },
  {
   "cell_type": "markdown",
   "id": "e2e2ca58-5bad-4ce1-b153-887e82fe17e7",
   "metadata": {},
   "source": [
    "## Get a Goat"
   ]
  },
  {
   "cell_type": "code",
   "execution_count": 7,
   "id": "f6b4c041-6214-4a5c-8ae8-9e18fd2e9ff1",
   "metadata": {},
   "outputs": [
    {
     "data": {
      "text/markdown": [
       "\n",
       " - `Brain` : \n",
       "\t\n",
       "\t - `0` : `\"memories\"`\n",
       " - `HurtByTimestamp` : `0`\n",
       " - `Attributes` : \n",
       "\t\n",
       "\t - `0` : \n",
       "\t\t\n",
       "\t\t - `0` : `\"Base\"`\n",
       "\t\t - `1` : `\"Name\"`\n",
       "\t - `1` : \n",
       "\t\t\n",
       "\t\t - `0` : `\"Base\"`\n",
       "\t\t - `1` : `\"Name\"`\n",
       " - `Invulnerable` : `0`\n",
       " - `FallFlying` : `0`\n",
       " - `ForcedAge` : `4300`\n",
       " - `PortalCooldown` : `0`\n",
       " - `AbsorptionAmount` : `0.0`\n",
       " - `FallDistance` : `0.0`\n",
       " - `InLove` : `0`\n",
       " - `DeathTime` : `0`\n",
       " - `IsScreamingGoat` : `0`\n",
       " - `HandDropChances` : \n",
       "\t\n",
       "\t - `0` : `0.08500000089406967`\n",
       "\t - `1` : `0.08500000089406967`\n",
       " - `PersistenceRequired` : `0`\n",
       " - `id` : `\"minecraft:goat\"`\n",
       " - `UUID` : (4 items)\n",
       " - `Age` : `0`\n",
       " - `Motion` : (3 items)\n",
       " - `HasLeftHorn` : `0`\n",
       " - `HasRightHorn` : `0`\n",
       " - `Health` : `10.0`\n",
       " - `LeftHanded` : `0`\n",
       " - `Air` : `300`\n",
       " - `OnGround` : `1`\n",
       " - `Rotation` : \n",
       "\t\n",
       "\t - `0` : `255.92892456054688`\n",
       "\t - `1` : `0.0`\n",
       " - `HandItems` : \n",
       "\t\n",
       "\t - `0` : (0 items)\n",
       "\t - `1` : (0 items)\n",
       " - `ArmorDropChances` : (4 items)\n",
       " - `Pos` : (3 items)\n",
       " - `Fire` : `-1`\n",
       " - `ArmorItems` : (4 items)\n",
       " - `CanPickUpLoot` : `0`\n",
       " - `HurtTime` : `0`\n",
       " - `LoveCause` : (4 items)"
      ],
      "text/plain": [
       "<IPython.core.display.Markdown object>"
      ]
     },
     "metadata": {},
     "output_type": "display_data"
    }
   ],
   "source": [
    "for region_file in region_files:\n",
    "    entity_data = region.RegionFile(save_folder / \"entities\" / region_file.name)\n",
    "    for chunk in entity_data.iter_chunks():\n",
    "        if (\n",
    "            chunk[\"Position\"][0] < neighborhood[0][1][0]\n",
    "            or chunk[\"Position\"][0] > neighborhood[3][1][0]\n",
    "            or chunk[\"Position\"][1] < neighborhood[0][1][1]\n",
    "            or chunk[\"Position\"][1] > neighborhood[3][1][1]\n",
    "        ):\n",
    "            continue\n",
    "        for entity in chunk[\"Entities\"]:\n",
    "            if entity[\"id\"].value == \"minecraft:goat\":\n",
    "                goat = entity\n",
    "                summarize_keystore(goat)\n",
    "                break\n",
    "        else:\n",
    "            continue\n",
    "        break"
   ]
  },
  {
   "cell_type": "markdown",
   "id": "43e3af23-a688-4c3f-b79e-948795b0308e",
   "metadata": {},
   "source": [
    "Hmm... Attributes?"
   ]
  },
  {
   "cell_type": "code",
   "execution_count": 8,
   "id": "76939841-cc7d-4f9b-8d03-8b44195bf7c4",
   "metadata": {},
   "outputs": [
    {
     "data": {
      "text/markdown": [
       "\n",
       " - `Base` : `0.20000000298023224`\n",
       " - `Name` : `\"minecraft:generic.movement_speed\"`"
      ],
      "text/plain": [
       "<IPython.core.display.Markdown object>"
      ]
     },
     "metadata": {},
     "output_type": "display_data"
    },
    {
     "data": {
      "text/markdown": [
       "\n",
       " - `Base` : `2.0`\n",
       " - `Name` : `\"minecraft:generic.attack_damage\"`"
      ],
      "text/plain": [
       "<IPython.core.display.Markdown object>"
      ]
     },
     "metadata": {},
     "output_type": "display_data"
    }
   ],
   "source": [
    "for attribute in goat[\"Attributes\"]:\n",
    "    summarize_keystore(attribute)"
   ]
  },
  {
   "cell_type": "markdown",
   "id": "329ca288-2ebf-4085-826d-7f9b18d121f6",
   "metadata": {},
   "source": [
    "Nope. But why does a goat have \"armor items\"?"
   ]
  },
  {
   "cell_type": "code",
   "execution_count": 9,
   "id": "a3608cee-b43d-4530-a433-e2e25a84f72c",
   "metadata": {},
   "outputs": [
    {
     "data": {
      "text/markdown": [],
      "text/plain": [
       "<IPython.core.display.Markdown object>"
      ]
     },
     "metadata": {},
     "output_type": "display_data"
    },
    {
     "data": {
      "text/markdown": [],
      "text/plain": [
       "<IPython.core.display.Markdown object>"
      ]
     },
     "metadata": {},
     "output_type": "display_data"
    },
    {
     "data": {
      "text/markdown": [],
      "text/plain": [
       "<IPython.core.display.Markdown object>"
      ]
     },
     "metadata": {},
     "output_type": "display_data"
    },
    {
     "data": {
      "text/markdown": [],
      "text/plain": [
       "<IPython.core.display.Markdown object>"
      ]
     },
     "metadata": {},
     "output_type": "display_data"
    }
   ],
   "source": [
    "for attribute in goat[\"ArmorItems\"]:\n",
    "    summarize_keystore(attribute)"
   ]
  },
  {
   "cell_type": "markdown",
   "id": "18b221cb-95df-4889-a104-31215e128c85",
   "metadata": {},
   "source": [
    "I guess those are just placeholder spots?"
   ]
  },
  {
   "cell_type": "markdown",
   "id": "8db60ebb-7605-4f97-a702-d49de6e53eb1",
   "metadata": {},
   "source": [
    "Grasping at straws now:"
   ]
  },
  {
   "cell_type": "code",
   "execution_count": 10,
   "id": "5bbd01da-fd69-4eda-a134-c743537a8419",
   "metadata": {},
   "outputs": [
    {
     "data": {
      "text/markdown": [
       "\n",
       " - `minecraft:is_tempted` : \n",
       "\t\n",
       "\t - `0` : `\"value\"`\n",
       " - `minecraft:ram_cooldown_ticks` : \n",
       "\t\n",
       "\t - `0` : `\"value\"`\n",
       " - `minecraft:long_jump_cooling_down` : \n",
       "\t\n",
       "\t - `0` : `\"value\"`"
      ],
      "text/plain": [
       "<IPython.core.display.Markdown object>"
      ]
     },
     "metadata": {},
     "output_type": "display_data"
    }
   ],
   "source": [
    "summarize_keystore(goat[\"Brain\"][\"memories\"])"
   ]
  },
  {
   "cell_type": "markdown",
   "id": "b6b50e35-129a-479e-b421-3f1d819526ad",
   "metadata": {},
   "source": [
    "Let me check some more goats."
   ]
  },
  {
   "cell_type": "code",
   "execution_count": 11,
   "id": "a88b11f2-dade-4237-901f-0fb7aab16f54",
   "metadata": {},
   "outputs": [
    {
     "data": {
      "text/markdown": [
       "\n",
       " - `Brain` : \n",
       "\t\n",
       "\t - `0` : `\"memories\"`\n",
       " - `HurtByTimestamp` : `0`\n",
       " - `Attributes` : \n",
       "\t\n",
       "\t - `0` : \n",
       "\t\t\n",
       "\t\t - `0` : `\"Base\"`\n",
       "\t\t - `1` : `\"Name\"`\n",
       "\t - `1` : \n",
       "\t\t\n",
       "\t\t - `0` : `\"Base\"`\n",
       "\t\t - `1` : `\"Name\"`\n",
       " - `Invulnerable` : `0`\n",
       " - `FallFlying` : `0`\n",
       " - `ForcedAge` : `4300`\n",
       " - `PortalCooldown` : `0`\n",
       " - `AbsorptionAmount` : `0.0`\n",
       " - `FallDistance` : `0.0`\n",
       " - `InLove` : `0`\n",
       " - `DeathTime` : `0`\n",
       " - `IsScreamingGoat` : `0`\n",
       " - `HandDropChances` : \n",
       "\t\n",
       "\t - `0` : `0.08500000089406967`\n",
       "\t - `1` : `0.08500000089406967`\n",
       " - `PersistenceRequired` : `0`\n",
       " - `id` : `\"minecraft:goat\"`\n",
       " - `UUID` : (4 items)\n",
       " - `Age` : `0`\n",
       " - `Motion` : (3 items)\n",
       " - `HasLeftHorn` : `0`\n",
       " - `HasRightHorn` : `0`\n",
       " - `Health` : `10.0`\n",
       " - `LeftHanded` : `0`\n",
       " - `Air` : `300`\n",
       " - `OnGround` : `1`\n",
       " - `Rotation` : \n",
       "\t\n",
       "\t - `0` : `255.92892456054688`\n",
       "\t - `1` : `0.0`\n",
       " - `HandItems` : \n",
       "\t\n",
       "\t - `0` : (0 items)\n",
       "\t - `1` : (0 items)\n",
       " - `ArmorDropChances` : (4 items)\n",
       " - `Pos` : (3 items)\n",
       " - `Fire` : `-1`\n",
       " - `ArmorItems` : (4 items)\n",
       " - `CanPickUpLoot` : `0`\n",
       " - `HurtTime` : `0`\n",
       " - `LoveCause` : (4 items)"
      ],
      "text/plain": [
       "<IPython.core.display.Markdown object>"
      ]
     },
     "metadata": {},
     "output_type": "display_data"
    }
   ],
   "source": [
    "for region_file in region_files:\n",
    "    entity_data = region.RegionFile(save_folder / \"entities\" / region_file.name)\n",
    "    for chunk in entity_data.iter_chunks():\n",
    "        if (\n",
    "            chunk[\"Position\"][0] < neighborhood[0][1][0]\n",
    "            or chunk[\"Position\"][0] > neighborhood[3][1][0]\n",
    "            or chunk[\"Position\"][1] < neighborhood[0][1][1]\n",
    "            or chunk[\"Position\"][1] > neighborhood[3][1][1]\n",
    "        ):\n",
    "            continue\n",
    "        for entity in chunk[\"Entities\"]:\n",
    "            if entity[\"id\"].value == \"minecraft:goat\":\n",
    "                goat = entity\n",
    "                if goat[\"HasLeftHorn\"].value != 1:\n",
    "                    summarize_keystore(goat)\n",
    "                    break\n",
    "        else:\n",
    "            continue\n",
    "        break"
   ]
  },
  {
   "cell_type": "markdown",
   "id": "6811afde-70ca-4dd4-aaa5-10895089d1c7",
   "metadata": {},
   "source": [
    "Okay, so they can have different health values, but if that's how horn sound is determined, that's going to be a pain to decode."
   ]
  },
  {
   "cell_type": "code",
   "execution_count": 12,
   "id": "bfd64c37-10a4-4d48-8a07-0e2149a37f8d",
   "metadata": {},
   "outputs": [
    {
     "data": {
      "text/markdown": [
       "\n",
       " - `Brain` : \n",
       "\t\n",
       "\t - `0` : `\"memories\"`\n",
       " - `HurtByTimestamp` : `0`\n",
       " - `Attributes` : \n",
       "\t\n",
       "\t - `0` : \n",
       "\t\t\n",
       "\t\t - `0` : `\"Base\"`\n",
       "\t\t - `1` : `\"Name\"`\n",
       "\t - `1` : \n",
       "\t\t\n",
       "\t\t - `0` : `\"Base\"`\n",
       "\t\t - `1` : `\"Name\"`\n",
       " - `Invulnerable` : `0`\n",
       " - `FallFlying` : `0`\n",
       " - `ForcedAge` : `0`\n",
       " - `PortalCooldown` : `0`\n",
       " - `AbsorptionAmount` : `0.0`\n",
       " - `FallDistance` : `0.0`\n",
       " - `InLove` : `0`\n",
       " - `DeathTime` : `0`\n",
       " - `IsScreamingGoat` : `1`\n",
       " - `HandDropChances` : \n",
       "\t\n",
       "\t - `0` : `0.08500000089406967`\n",
       "\t - `1` : `0.08500000089406967`\n",
       " - `PersistenceRequired` : `0`\n",
       " - `id` : `\"minecraft:goat\"`\n",
       " - `UUID` : (4 items)\n",
       " - `Age` : `0`\n",
       " - `Motion` : (3 items)\n",
       " - `HasLeftHorn` : `0`\n",
       " - `HasRightHorn` : `1`\n",
       " - `Health` : `9.0`\n",
       " - `LeftHanded` : `0`\n",
       " - `Air` : `300`\n",
       " - `OnGround` : `1`\n",
       " - `Rotation` : \n",
       "\t\n",
       "\t - `0` : `43.822998046875`\n",
       "\t - `1` : `0.0`\n",
       " - `HandItems` : \n",
       "\t\n",
       "\t - `0` : (0 items)\n",
       "\t - `1` : (0 items)\n",
       " - `ArmorDropChances` : (4 items)\n",
       " - `Pos` : (3 items)\n",
       " - `Fire` : `-1`\n",
       " - `ArmorItems` : (4 items)\n",
       " - `CanPickUpLoot` : `0`\n",
       " - `HurtTime` : `0`"
      ],
      "text/plain": [
       "<IPython.core.display.Markdown object>"
      ]
     },
     "metadata": {},
     "output_type": "display_data"
    }
   ],
   "source": [
    "for region_file in region_files:\n",
    "    entity_data = region.RegionFile(save_folder / \"entities\" / region_file.name)\n",
    "    for chunk in entity_data.iter_chunks():\n",
    "        if (\n",
    "            chunk[\"Position\"][0] < neighborhood[0][1][0]\n",
    "            or chunk[\"Position\"][0] > neighborhood[3][1][0]\n",
    "            or chunk[\"Position\"][1] < neighborhood[0][1][1]\n",
    "            or chunk[\"Position\"][1] > neighborhood[3][1][1]\n",
    "        ):\n",
    "            continue\n",
    "        for entity in chunk[\"Entities\"]:\n",
    "            if entity[\"id\"].value == \"minecraft:goat\":\n",
    "                goat = entity\n",
    "                if goat[\"IsScreamingGoat\"].value == 1:\n",
    "                    summarize_keystore(goat)\n",
    "                    break\n",
    "        else:\n",
    "            continue\n",
    "        break"
   ]
  },
  {
   "cell_type": "markdown",
   "id": "6078ccd8-6577-4fd5-90ab-d31bc596ffaa",
   "metadata": {},
   "source": [
    "My hypothesis is that I think it's by determined by UUID. But even if it's by something else, it's clearly not going to be easily decipherable."
   ]
  },
  {
   "cell_type": "markdown",
   "id": "99ae0fa9-d72b-4d26-a7c6-dacf790ad8a3",
   "metadata": {},
   "source": [
    "## Well how many screaming goats are there?"
   ]
  },
  {
   "cell_type": "code",
   "execution_count": 13,
   "id": "c5a0f1ee-9abc-402a-abe3-96afd223d3cc",
   "metadata": {},
   "outputs": [
    {
     "data": {
      "text/markdown": [
       "8 / 99 are screaming"
      ],
      "text/plain": [
       "<IPython.core.display.Markdown object>"
      ]
     },
     "metadata": {},
     "output_type": "display_data"
    },
    {
     "data": {
      "text/markdown": [
       "There are 1 adults right now who could have the final horn."
      ],
      "text/plain": [
       "<IPython.core.display.Markdown object>"
      ]
     },
     "metadata": {},
     "output_type": "display_data"
    }
   ],
   "source": [
    "goats: Dict[str, int] = defaultdict(int)\n",
    "\n",
    "\n",
    "for region_file in region_files:\n",
    "    entity_data = region.RegionFile(save_folder / \"entities\" / region_file.name)\n",
    "    for chunk in entity_data.iter_chunks():\n",
    "        if (\n",
    "            chunk[\"Position\"][0] < neighborhood[0][1][0]\n",
    "            or chunk[\"Position\"][0] > neighborhood[3][1][0]\n",
    "            or chunk[\"Position\"][1] < neighborhood[0][1][1]\n",
    "            or chunk[\"Position\"][1] > neighborhood[3][1][1]\n",
    "        ):\n",
    "            continue\n",
    "        for entity in chunk[\"Entities\"]:\n",
    "            if entity[\"id\"].value == \"minecraft:goat\":\n",
    "                goat = entity\n",
    "                goats[\"n\"] += 1\n",
    "                if goat[\"Age\"].value != 0:\n",
    "                    goats[\"baby\"] += 1\n",
    "                if goat[\"IsScreamingGoat\"].value == 1:\n",
    "                    goats[\"screaming\"] += 1\n",
    "                    if (\n",
    "                        goat[\"Age\"].value == 0\n",
    "                        and goat[\"HasLeftHorn\"].value == 1\n",
    "                        and goat[\"HasRightHorn\"].value == 1\n",
    "                    ):\n",
    "                        goats[\"possible_dreams\"] += 1\n",
    "display(Markdown(f\"{goats['screaming']} / {goats['n']} are screaming\"))\n",
    "display(\n",
    "    Markdown(\n",
    "        f\"There are {goats['possible_dreams']} adults right now who could have the final horn.\"\n",
    "    )\n",
    ")"
   ]
  },
  {
   "cell_type": "markdown",
   "id": "d9d4f9de-b2f7-4694-9690-a502a9f1b050",
   "metadata": {},
   "source": [
    "Blergh."
   ]
  },
  {
   "cell_type": "code",
   "execution_count": null,
   "id": "f8251dee-9cd7-43a6-be20-6b495e498e3a",
   "metadata": {},
   "outputs": [],
   "source": []
  }
 ],
 "metadata": {
  "kernelspec": {
   "display_name": "Python 3 (ipykernel)",
   "language": "python",
   "name": "python3"
  },
  "language_info": {
   "codemirror_mode": {
    "name": "ipython",
    "version": 3
   },
   "file_extension": ".py",
   "mimetype": "text/x-python",
   "name": "python",
   "nbconvert_exporter": "python",
   "pygments_lexer": "ipython3",
   "version": "3.10.6"
  }
 },
 "nbformat": 4,
 "nbformat_minor": 5
}
