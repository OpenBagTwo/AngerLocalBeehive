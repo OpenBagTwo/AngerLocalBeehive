{
 "cells": [
  {
   "cell_type": "markdown",
   "id": "af08fd99-f8b6-4c52-a7a9-a767d054c4cb",
   "metadata": {},
   "source": [
    "# Finding Your Sign on the HC10 World Download\n",
    "\n",
    "So you donated to [Gamers Outreach](https://gamersoutreach.org/), or were part of [Joe Hills' Patreon](https://www.patreon.com/c/joehills/membership) and now that the world download is out, you want to pay a visit to your sign. How do you know where to go?"
   ]
  },
  {
   "cell_type": "code",
   "execution_count": 1,
   "id": "020a2013-312e-4d56-b2e8-f674a9e931a5",
   "metadata": {},
   "outputs": [],
   "source": [
    "import json\n",
    "import re\n",
    "from collections.abc import Collection\n",
    "from concurrent.futures import ProcessPoolExecutor, as_completed\n",
    "from functools import partial\n",
    "from os import environ\n",
    "from pathlib import Path\n",
    "from typing import Any\n",
    "\n",
    "import mutf8\n",
    "import pandas as pd\n",
    "from IPython.display import Markdown, display\n",
    "from nbt import nbt, region"
   ]
  },
  {
   "cell_type": "code",
   "execution_count": 2,
   "id": "0e1ede6b-2fe8-472d-aef3-5a8737497f75",
   "metadata": {},
   "outputs": [],
   "source": [
    "def format_file_size(path: Path) -> str:\n",
    "    \"\"\"Print the size of the specified file in\n",
    "    human-readible form (KB / MB / GB)\n",
    "\n",
    "    Parameters\n",
    "    ----------\n",
    "    path : Path\n",
    "        The path to the file\n",
    "\n",
    "    Returns\n",
    "    -------\n",
    "    str\n",
    "        A prettily formatted file size\n",
    "\n",
    "    Notes\n",
    "    -----\n",
    "    I would be shocked if there isn't a utility already built\n",
    "    into the standard library to do this, but all I could find\n",
    "    via Googling was a bunch of recipes and examples\n",
    "    \"\"\"\n",
    "    size: float = path.stat().st_size  # in bytes\n",
    "    for unit in (\"B\", \"KB\", \"MB\", \"GB\"):\n",
    "        if size < 1024 / 2:\n",
    "            return f\"{size:.1f} {unit}\"\n",
    "        size /= 1024\n",
    "    return f\"{size} TB\""
   ]
  },
  {
   "cell_type": "code",
   "execution_count": 3,
   "id": "636c7aca-b48e-4590-bb62-24f087740f3f",
   "metadata": {},
   "outputs": [],
   "source": [
    "def summarize_keystore(keystore: dict[str, Any]) -> None:\n",
    "    \"\"\"Display a summary of the contents of a key-value store\n",
    "\n",
    "    Parameters\n",
    "    ----------\n",
    "    keystore : dict\n",
    "        The keystore to summarize\n",
    "\n",
    "    Returns\n",
    "    -------\n",
    "    None\n",
    "    \"\"\"\n",
    "\n",
    "    def _summarize_keystore(keystore: dict[str, Any]) -> str:\n",
    "        summary = \"\"\n",
    "        for k, v in keystore.items():\n",
    "            summary += f\"\\n - `{k}` : \"\n",
    "            if isinstance(v, (str, nbt.TAG_String)):\n",
    "                summary += f'`\"{v}\"`'\n",
    "            elif not isinstance(v, Collection):\n",
    "                summary += f\"`{str(v)}`\"\n",
    "            else:\n",
    "                length = len(v)\n",
    "                if 0 < length < 3:\n",
    "                    summary += \"\\n\"\n",
    "                    if not isinstance(v, dict):\n",
    "                        v = {i: item for i, item in enumerate(v)}\n",
    "                    summary += \"\\n\".join(\n",
    "                        (f\"\\t{line}\" for line in _summarize_keystore(v).split(\"\\n\"))\n",
    "                    )\n",
    "                else:\n",
    "                    summary += f\"({len(v)} items)\"\n",
    "        return summary\n",
    "\n",
    "    display(Markdown(_summarize_keystore(keystore)))"
   ]
  },
  {
   "cell_type": "code",
   "execution_count": 4,
   "id": "d84559d0-3b1e-404c-82d8-5fe23bdd3881",
   "metadata": {},
   "outputs": [
    {
     "name": "stdout",
     "output_type": "stream",
     "text": [
      "- .git (folder)\n",
      "- .gitignore (1.0 B)\n",
      "- .gsb_manifest (110.0 B)\n",
      "- DIM-1 (folder)\n",
      "- DIM1 (folder)\n",
      "- advancements (folder)\n",
      "- audio_player_data (folder)\n",
      "- carpet-fixes.conf (22.0 B)\n",
      "- carpet.conf (57.0 B)\n",
      "- data (folder)\n",
      "- datapacks (folder)\n",
      "- entities (folder)\n",
      "- icon.png (9.0 KB)\n",
      "- level.dat (3.3 KB)\n",
      "- level.dat_old (3.3 KB)\n",
      "- playerdata (folder)\n",
      "- poi (folder)\n",
      "- region (folder)\n",
      "- resources.zip (34.0 MB)\n",
      "- scripts (folder)\n",
      "- session.lock (3.0 B)\n",
      "- stats (folder)\n"
     ]
    }
   ],
   "source": [
    "save_folder = Path(environ[\"SAVE_PATH\"])\n",
    "\n",
    "# make sure this is set correctly\n",
    "for path in sorted(save_folder.glob(\"*\")):\n",
    "    print(f\"- {path.name} ({'folder' if path.is_dir() else format_file_size(path)})\")"
   ]
  },
  {
   "cell_type": "markdown",
   "id": "78ff9e0e-29a1-476e-816e-b3a15b02b89b",
   "metadata": {},
   "source": [
    "## Find a Sign\n",
    "\n",
    "Signs are block entities. Let's have a look at one at random."
   ]
  },
  {
   "cell_type": "code",
   "execution_count": 5,
   "id": "623af324-2f38-4769-98ae-38d36be3e41d",
   "metadata": {},
   "outputs": [
    {
     "name": "stdout",
     "output_type": "stream",
     "text": [
      "- r.2.-1.mca (13.3 MB)\n",
      "- r.-2.-1.mca (13.3 MB)\n",
      "- r.-1.-1.mca (13.3 MB)\n",
      "- r.-2.0.mca (12.6 MB)\n",
      "- r.-4.-1.mca (12.2 MB)\n",
      "- r.0.0.mca (12.1 MB)\n",
      "- r.0.-6.mca (12.0 MB)\n",
      "- r.-3.-1.mca (11.7 MB)\n",
      "- r.-1.0.mca (11.7 MB)\n",
      "- r.-3.0.mca (11.5 MB)\n",
      "... 306 more\n"
     ]
    }
   ],
   "source": [
    "all_overworld_regions = sorted(\n",
    "    (save_folder / \"region\").glob(\"*\"), key=lambda path: -path.stat().st_size\n",
    ")\n",
    "all_nether_regions = sorted(\n",
    "    (save_folder / \"DIM-1\" / \"region\").glob(\"*\"), key=lambda path: -path.stat().st_size\n",
    ")\n",
    "all_end_regions = sorted(\n",
    "    (save_folder / \"DIM1\" / \"region\").glob(\"*\"), key=lambda path: -path.stat().st_size\n",
    ")\n",
    "all_region_files = all_overworld_regions + all_nether_regions + all_end_regions\n",
    "for path in all_region_files[:10]:\n",
    "    print(f\"- {path.name} ({'folder' if path.is_dir() else format_file_size(path)})\")\n",
    "print(f\"... {len(all_region_files) - 10} more\")"
   ]
  },
  {
   "cell_type": "code",
   "execution_count": 6,
   "id": "19ad6114-482d-4af3-bb76-627749f95a46",
   "metadata": {},
   "outputs": [
    {
     "data": {
      "text/markdown": [
       "\n",
       " - `z` : `-504`\n",
       " - `x` : `1235`\n",
       " - `is_waxed` : `0`\n",
       " - `id` : `\"minecraft:sign\"`\n",
       " - `y` : `38`\n",
       " - `front_text` : (3 items)\n",
       " - `keepPacked` : `0`\n",
       " - `components` : (0 items)\n",
       " - `back_text` : (3 items)"
      ],
      "text/plain": [
       "<IPython.core.display.Markdown object>"
      ]
     },
     "metadata": {},
     "output_type": "display_data"
    },
    {
     "name": "stdout",
     "output_type": "stream",
     "text": [
      "CPU times: user 466 ms, sys: 4.59 ms, total: 471 ms\n",
      "Wall time: 473 ms\n"
     ]
    }
   ],
   "source": [
    "%%time\n",
    "for path in all_region_files:\n",
    "    region_data = region.RegionFile(path)\n",
    "    for chunk in region_data.iter_chunks():\n",
    "        for entity in chunk[\"block_entities\"]:\n",
    "            if entity[\"id\"].value == \"minecraft:sign\":\n",
    "                break\n",
    "        else:\n",
    "            continue\n",
    "        break\n",
    "    else:\n",
    "        continue\n",
    "    break\n",
    "summarize_keystore(entity)"
   ]
  },
  {
   "cell_type": "markdown",
   "id": "794b53ab-6957-4daf-b3d1-41c12caf5fc3",
   "metadata": {},
   "source": [
    "Note that the block _entity_ is just a `minecraft:sign` and doesn't reflect the various wood types. This I knew from [some modding trauma.](https://github.com/OpenBagTwo/LighterEnd/blob/eb00e5b6edce191f954a1b09de351a94a71569ee/src/main/java/io/github/openbagtwo/lighterend/registries/LighterEndBlockEntities.java)"
   ]
  },
  {
   "cell_type": "markdown",
   "id": "6abda448-bdd1-4ac4-ba10-e116c1d737e6",
   "metadata": {},
   "source": [
    "Signs are double-sided now, so we should make sure to check both sides."
   ]
  },
  {
   "cell_type": "code",
   "execution_count": 7,
   "id": "3f4d2bc9-aa25-44f9-b0c1-c7baaa0b414b",
   "metadata": {},
   "outputs": [
    {
     "data": {
      "text/markdown": [
       "\n",
       " - `color` : `\"black\"`\n",
       " - `messages` : (4 items)\n",
       " - `has_glowing_text` : `0`"
      ],
      "text/plain": [
       "<IPython.core.display.Markdown object>"
      ]
     },
     "metadata": {},
     "output_type": "display_data"
    }
   ],
   "source": [
    "summarize_keystore(entity[\"front_text\"])"
   ]
  },
  {
   "cell_type": "code",
   "execution_count": 8,
   "id": "0dce95f1-73ef-4566-9ad1-6be80faa93e5",
   "metadata": {},
   "outputs": [
    {
     "data": {
      "text/plain": [
       "['', 'Spare', 'Armor', '']"
      ]
     },
     "execution_count": 8,
     "metadata": {},
     "output_type": "execute_result"
    }
   ],
   "source": [
    "[line.value for line in entity[\"front_text\"][\"messages\"]]"
   ]
  },
  {
   "cell_type": "markdown",
   "id": "33e59843-b339-483a-860c-bf97009aa912",
   "metadata": {},
   "source": [
    "Let's make sure that hanging signs follow the same format."
   ]
  },
  {
   "cell_type": "code",
   "execution_count": 9,
   "id": "3af964ad-607b-40a5-b3e4-68b7a48d3110",
   "metadata": {},
   "outputs": [
    {
     "data": {
      "text/markdown": [
       "\n",
       " - `z` : `-506`\n",
       " - `x` : `1234`\n",
       " - `is_waxed` : `0`\n",
       " - `id` : `\"minecraft:hanging_sign\"`\n",
       " - `y` : `38`\n",
       " - `front_text` : (3 items)\n",
       " - `keepPacked` : `0`\n",
       " - `components` : (0 items)\n",
       " - `back_text` : (3 items)"
      ],
      "text/plain": [
       "<IPython.core.display.Markdown object>"
      ]
     },
     "metadata": {},
     "output_type": "display_data"
    },
    {
     "name": "stdout",
     "output_type": "stream",
     "text": [
      "CPU times: user 465 ms, sys: 2.81 ms, total: 468 ms\n",
      "Wall time: 470 ms\n"
     ]
    }
   ],
   "source": [
    "%%time\n",
    "for path in all_region_files:\n",
    "    region_data = region.RegionFile(path)\n",
    "    for chunk in region_data.iter_chunks():\n",
    "        for entity in chunk[\"block_entities\"]:\n",
    "            if entity[\"id\"].value == \"minecraft:hanging_sign\":\n",
    "                break\n",
    "        else:\n",
    "            continue\n",
    "        break\n",
    "    else:\n",
    "        continue\n",
    "    break\n",
    "summarize_keystore(entity)"
   ]
  },
  {
   "cell_type": "code",
   "execution_count": 10,
   "id": "b9d4883b-fb50-40a7-9f1e-41cfb1b18750",
   "metadata": {},
   "outputs": [
    {
     "data": {
      "text/markdown": [
       "\n",
       " - `color` : `\"pink\"`\n",
       " - `messages` : (4 items)\n",
       " - `has_glowing_text` : `1`"
      ],
      "text/plain": [
       "<IPython.core.display.Markdown object>"
      ]
     },
     "metadata": {},
     "output_type": "display_data"
    }
   ],
   "source": [
    "summarize_keystore(entity[\"front_text\"])"
   ]
  },
  {
   "cell_type": "code",
   "execution_count": 11,
   "id": "24f77a36-ea45-4f57-971a-1d3eb1887004",
   "metadata": {},
   "outputs": [
    {
     "data": {
      "text/plain": [
       "['', 'Recovery', 'Armor', '']"
      ]
     },
     "execution_count": 11,
     "metadata": {},
     "output_type": "execute_result"
    }
   ],
   "source": [
    "[line.value for line in entity[\"front_text\"][\"messages\"]]"
   ]
  },
  {
   "cell_type": "code",
   "execution_count": 12,
   "id": "f8341535-05c4-4d3f-824c-4b0175c08f8d",
   "metadata": {},
   "outputs": [
    {
     "data": {
      "text/plain": [
       "nbt.nbt.TAG_Compound"
      ]
     },
     "execution_count": 12,
     "metadata": {},
     "output_type": "execute_result"
    }
   ],
   "source": [
    "type(entity)"
   ]
  },
  {
   "cell_type": "markdown",
   "id": "f2f09ae5-824d-4659-aebf-dc067afde18b",
   "metadata": {},
   "source": [
    "Cool. So we have enough to build out a data extractor."
   ]
  },
  {
   "cell_type": "code",
   "execution_count": 13,
   "id": "954ed129-b852-4a7b-8231-a32e0e710787",
   "metadata": {},
   "outputs": [],
   "source": [
    "def extract_text_from_sign(entity: nbt.TAG_Compound) -> list[str]:\n",
    "    \"\"\"Extract all text lines from a sign\n",
    "\n",
    "    Parameters\n",
    "    ----------\n",
    "    entity\n",
    "        The sign block entity\n",
    "\n",
    "    Returns\n",
    "    -------\n",
    "    list of str\n",
    "        The lines of text on that sign\n",
    "    \"\"\"\n",
    "    lines = []\n",
    "    for side in (\"front_text\", \"back_text\"):\n",
    "        for line in entity[side][\"messages\"]:\n",
    "            lines.append(line.value)\n",
    "    return lines"
   ]
  },
  {
   "cell_type": "code",
   "execution_count": 14,
   "id": "7961dd24-847d-4c38-9c83-d60bcff144ee",
   "metadata": {},
   "outputs": [],
   "source": [
    "def find_matching_signs(path: Path, pattern: str, case_sensitive: bool = True) -> None:\n",
    "    \"\"\"Find and report the locations of all signs matching the\n",
    "    given regular expression pattern within the specified\n",
    "    region file\n",
    "\n",
    "    Parameters\n",
    "    ----------\n",
    "    path : Path\n",
    "        The path of the region file to scan\n",
    "    pattern : str\n",
    "        The regex pattern to match\n",
    "    case_sensitive : bool, optional\n",
    "        Whether to match capitalization. Default is True\n",
    "        (match case exactly).\n",
    "\n",
    "    Returns\n",
    "    -------\n",
    "    None\n",
    "        Any matches are printed to stdout\n",
    "    \"\"\"\n",
    "    match path.parent.parent.name:\n",
    "        case \"DIM1\":\n",
    "            dim = \"The End\"\n",
    "        case \"DIM-1\":\n",
    "            dim = \"The Nether\"\n",
    "        case _:\n",
    "            dim = \"The Overworld\"\n",
    "    region_data = region.RegionFile(path)\n",
    "    for chunk in region_data.iter_chunks():\n",
    "        for entity in chunk[\"block_entities\"]:\n",
    "            if entity[\"id\"].value != \"minecraft:sign\":\n",
    "                continue\n",
    "\n",
    "            lines = extract_text_from_sign(entity)\n",
    "            for line in lines:\n",
    "                if re.match(\n",
    "                    pattern, line, re.NOFLAG if case_sensitive else re.IGNORECASE\n",
    "                ):\n",
    "                    coordinates = \"({}, {}, {})\".format(\n",
    "                        *[entity[coord].value for coord in \"xyz\"]\n",
    "                    )\n",
    "                    print(\n",
    "                        f\"Matching sign (text: \\\"{' '.join(lines)}\\\")\"\n",
    "                        f\" found at {coordinates} in {dim}\"\n",
    "                    )\n",
    "                    break"
   ]
  },
  {
   "cell_type": "markdown",
   "id": "726bb5c6-db9c-48a5-8fee-14995e30fe39",
   "metadata": {},
   "source": [
    "And so:"
   ]
  },
  {
   "cell_type": "code",
   "execution_count": 15,
   "id": "405691b5-f17f-4411-a242-7c12bfb50ff5",
   "metadata": {},
   "outputs": [
    {
     "name": "stdout",
     "output_type": "stream",
     "text": [
      "Matching sign (text: \" The Family Barlev     \") found at (72, 130, -273) in The Nether\n",
      "CPU times: user 69.6 ms, sys: 66.2 ms, total: 136 ms\n",
      "Wall time: 11.3 s\n"
     ]
    }
   ],
   "source": [
    "%%time\n",
    "with ProcessPoolExecutor(max_workers=24) as executor:\n",
    "    futures = []\n",
    "    for region_file_path in all_region_files:\n",
    "        futures.append(\n",
    "            executor.submit(\n",
    "                partial(\n",
    "                    find_matching_signs, pattern=r\".*barlev.*\", case_sensitive=False\n",
    "                ),\n",
    "                region_file_path,\n",
    "            )\n",
    "        )\n",
    "    for result in as_completed(futures):\n",
    "        pass"
   ]
  },
  {
   "cell_type": "markdown",
   "id": "8fdc3460-5d1a-4aec-9939-43b5a69a7900",
   "metadata": {},
   "source": [
    "## A quick `/tp` later"
   ]
  },
  {
   "cell_type": "markdown",
   "id": "2abeb2f9-ca5a-44d7-ae41-437484273796",
   "metadata": {},
   "source": [
    "![My sign is right where the script said it would be](../_static/sign.png)"
   ]
  },
  {
   "cell_type": "code",
   "execution_count": null,
   "id": "6c014ad6-8f5e-4a7f-9ae8-4dcbadbd4603",
   "metadata": {},
   "outputs": [],
   "source": []
  }
 ],
 "metadata": {
  "kernelspec": {
   "display_name": "Python 3 (ipykernel)",
   "language": "python",
   "name": "python3"
  },
  "language_info": {
   "codemirror_mode": {
    "name": "ipython",
    "version": 3
   },
   "file_extension": ".py",
   "mimetype": "text/x-python",
   "name": "python",
   "nbconvert_exporter": "python",
   "pygments_lexer": "ipython3",
   "version": "3.13.1"
  }
 },
 "nbformat": 4,
 "nbformat_minor": 5
}
