{
 "cells": [
  {
   "cell_type": "markdown",
   "id": "2fad11b3-9ab4-494f-9f94-ca206892cb11",
   "metadata": {},
   "source": [
    "# Finding Unused Trial Vaults\n",
    "\n",
    "Minecraft 1.21 has been out for a while now, and even though I don't generally go for combat, I've been having fun playing in the new Trial Chambers.\n",
    "\n",
    "I've been eschewing [Chunkbase](https://www.chunkbase.com/apps/seed-map) in favor of getting maps to the chambers legit using cartographers, even though it's a pain in the toucans since each villager is, in effect, single-use. Given that level of hassle, before ramping up a breeder setup, I figure I should be checking in with how efficiently I'm using the chambers I've already generated. That is: how many chambers that I've already explored _still have_ vaults that I haven't opened?"
   ]
  },
  {
   "cell_type": "markdown",
   "id": "cd305696-9080-409d-9eeb-52765214ed02",
   "metadata": {},
   "source": [
    "## Setup, Imports and Macros"
   ]
  },
  {
   "cell_type": "code",
   "execution_count": 1,
   "id": "66b62178-9071-4fb3-8434-bb84014186a9",
   "metadata": {},
   "outputs": [
    {
     "name": "stderr",
     "output_type": "stream",
     "text": [
      "/tmp/ipykernel_267338/1950360014.py:11: DeprecationWarning: \n",
      "Pyarrow will become a required dependency of pandas in the next major release of pandas (pandas 3.0),\n",
      "(to allow more performant data types, such as the Arrow string type, and better interoperability with other libraries)\n",
      "but was not found to be installed on your system.\n",
      "If this would cause problems for you,\n",
      "please provide us feedback at https://github.com/pandas-dev/pandas/issues/54466\n",
      "        \n",
      "  import pandas as pd\n"
     ]
    }
   ],
   "source": [
    "import json\n",
    "import re\n",
    "from collections import Counter, defaultdict\n",
    "from concurrent.futures import ProcessPoolExecutor, as_completed\n",
    "from os import environ\n",
    "from pathlib import Path\n",
    "from typing import Any, Collection, Iterable\n",
    "\n",
    "import matplotlib.pyplot as plt\n",
    "import mutf8\n",
    "import pandas as pd\n",
    "from IPython.display import Markdown, display\n",
    "from nbt import nbt, region"
   ]
  },
  {
   "cell_type": "code",
   "execution_count": 2,
   "id": "58b4e0e2-49aa-439d-830d-976b7b1c821d",
   "metadata": {},
   "outputs": [],
   "source": [
    "def summarize_keystore(keystore: dict[str, Any]) -> None:\n",
    "    \"\"\"Display a summary of the contents of a key-value store\n",
    "\n",
    "    Parameters\n",
    "    ----------\n",
    "    keystore : dict\n",
    "        The keystore to summarize\n",
    "\n",
    "    Returns\n",
    "    -------\n",
    "    None\n",
    "    \"\"\"\n",
    "\n",
    "    def _summarize_keystore(keystore: dict[str, Any]) -> str:\n",
    "        summary = \"\"\n",
    "        for k, v in keystore.items():\n",
    "            summary += f\"\\n - `{k}` : \"\n",
    "            if isinstance(v, (str, nbt.TAG_String)):\n",
    "                summary += f'`\"{v}\"`'\n",
    "            elif not isinstance(v, Collection):\n",
    "                summary += f\"`{str(v)}`\"\n",
    "            else:\n",
    "                length = len(v)\n",
    "                if 0 < length < 3:\n",
    "                    summary += \"\\n\"\n",
    "                    if not isinstance(v, dict):\n",
    "                        v = {i: item for i, item in enumerate(v)}\n",
    "                    summary += \"\\n\".join(\n",
    "                        (f\"\\t{line}\" for line in _summarize_keystore(v).split(\"\\n\"))\n",
    "                    )\n",
    "                else:\n",
    "                    summary += f\"({len(v)} items)\"\n",
    "        return summary\n",
    "\n",
    "    display(Markdown(_summarize_keystore(keystore)))"
   ]
  },
  {
   "cell_type": "code",
   "execution_count": 3,
   "id": "e8295e60-4df0-488d-bc94-e6245c0698cc",
   "metadata": {},
   "outputs": [],
   "source": [
    "save_folder = Path(environ[\"SAVE_PATH\"])\n",
    "assert save_folder.exists()\n",
    "region_files = sorted(\n",
    "    (save_folder / \"region\").glob(\"*.mca\"), key=lambda path: -path.stat().st_size\n",
    ")"
   ]
  },
  {
   "cell_type": "markdown",
   "id": "652001c9-02a5-4795-ba58-a8ef52074828",
   "metadata": {},
   "source": [
    "## Pull Up Some Vault Data\n",
    "\n",
    "We're going to start with one that I know exactly where it is.\n",
    "\n",
    "![BetterF3 of known vault](../_static/vault.png)\n",
    "\n",
    "I'm also calling it now: I'd be shocked if they're not considered \"block entities.\""
   ]
  },
  {
   "cell_type": "code",
   "execution_count": 4,
   "id": "1bef4417-d79e-4426-90a3-9d915deab6f4",
   "metadata": {},
   "outputs": [
    {
     "data": {
      "text/markdown": [
       "Types of block entities in chunk:\n",
       "  - minecraft:vault\n",
       "  - minecraft:mob_spawner"
      ],
      "text/plain": [
       "<IPython.core.display.Markdown object>"
      ]
     },
     "metadata": {},
     "output_type": "display_data"
    }
   ],
   "source": [
    "vaulty_chunk = region.RegionFile(save_folder / \"region\" / \"r.-4.-8.mca\").get_chunk(\n",
    "    2, 23\n",
    ")\n",
    "display(\n",
    "    Markdown(\n",
    "        \"Types of block entities in chunk:\\n\"\n",
    "        + \"\\n\".join(\n",
    "            {\n",
    "                \"  - {}\".format(entity[\"id\"].value)\n",
    "                for entity in vaulty_chunk[\"block_entities\"]\n",
    "            }\n",
    "        )\n",
    "    )\n",
    ")"
   ]
  },
  {
   "cell_type": "markdown",
   "id": "72535b54-2f41-4e50-8bb8-f0495e5f78e8",
   "metadata": {},
   "source": [
    "Cool cool."
   ]
  },
  {
   "cell_type": "code",
   "execution_count": 5,
   "id": "4d10ff65-c481-46a5-95c0-be3bc47699e2",
   "metadata": {},
   "outputs": [
    {
     "name": "stdout",
     "output_type": "stream",
     "text": [
      "There are 1 vaults in this chunk\n"
     ]
    }
   ],
   "source": [
    "vaults = [\n",
    "    entity\n",
    "    for entity in vaulty_chunk[\"block_entities\"]\n",
    "    if entity[\"id\"].value == \"minecraft:vault\"\n",
    "]\n",
    "print(f\"There are {len(vaults)} vaults in this chunk\")"
   ]
  },
  {
   "cell_type": "code",
   "execution_count": 6,
   "id": "42f6b836-bde8-4979-9537-97e1c393d2f1",
   "metadata": {},
   "outputs": [
    {
     "data": {
      "text/markdown": [
       "\n",
       " - `z` : `-3717`\n",
       " - `server_data` : \n",
       "\t\n",
       "\t - `0` : `\"state_updating_resumes_at\"`\n",
       "\t - `1` : `\"rewarded_players\"`\n",
       " - `x` : `-2007`\n",
       " - `config` : \n",
       "\t\n",
       "\t - `0` : `\"loot_table\"`\n",
       "\t - `1` : `\"key_item\"`\n",
       " - `id` : `\"minecraft:vault\"`\n",
       " - `y` : `-11`\n",
       " - `keepPacked` : `0`\n",
       " - `shared_data` : (0 items)"
      ],
      "text/plain": [
       "<IPython.core.display.Markdown object>"
      ]
     },
     "metadata": {},
     "output_type": "display_data"
    }
   ],
   "source": [
    "summarize_keystore(vaults[0])"
   ]
  },
  {
   "cell_type": "code",
   "execution_count": 7,
   "id": "ef563a43-7bed-490b-ba82-6f8cd46a4537",
   "metadata": {},
   "outputs": [
    {
     "data": {
      "text/plain": [
       "nbt.nbt.TAG_List"
      ]
     },
     "execution_count": 7,
     "metadata": {},
     "output_type": "execute_result"
    }
   ],
   "source": [
    "type(vaults[0][\"server_data\"][\"rewarded_players\"])"
   ]
  },
  {
   "cell_type": "code",
   "execution_count": 8,
   "id": "89c50c05-47d7-4b27-97cb-8367fe227fdd",
   "metadata": {},
   "outputs": [
    {
     "data": {
      "text/plain": [
       "nbt.nbt.TAG_Int_Array"
      ]
     },
     "execution_count": 8,
     "metadata": {},
     "output_type": "execute_result"
    }
   ],
   "source": [
    "type(vaults[0][\"server_data\"][\"rewarded_players\"][0])"
   ]
  },
  {
   "cell_type": "markdown",
   "id": "036f7906-4334-41f4-a773-ba6dad426a45",
   "metadata": {},
   "source": [
    "Okay, so \"is it used?\" is just storing my UUID. But also: this is a single-player world, and while I do open it to LAN to let my kid join me on adventures, they have (so far) not been interested in tackling a trial chamber, so the whole question of \"is it used?\" can be answered simply by asking, \"is `rewarded_players` empty?\""
   ]
  },
  {
   "cell_type": "code",
   "execution_count": 9,
   "id": "7329d150-57c1-45c3-94d9-c91626f08b0d",
   "metadata": {},
   "outputs": [],
   "source": [
    "def is_used(vault: nbt.TAG_Compound) -> bool:\n",
    "    \"\"\"Determine if a vault has been used\n",
    "\n",
    "    Parameters\n",
    "    ----------\n",
    "    vault : block entity\n",
    "        The block entity corresponding to the vault\n",
    "\n",
    "    Returns\n",
    "    -------\n",
    "    bool\n",
    "        True if this vault has rewarded a player,\n",
    "        False otherwise\n",
    "    \"\"\"\n",
    "    if \"rewarded_players\" not in vault[\"server_data\"]:\n",
    "        return False  # possibly YAGNI, but better safe\n",
    "    return len(vault[\"server_data\"][\"rewarded_players\"]) > 0"
   ]
  },
  {
   "cell_type": "markdown",
   "id": "3a1b8107-d82f-455a-8c4f-4c2267762666",
   "metadata": {},
   "source": [
    "### How can I tell if it's ominous?\n",
    "\n",
    "This should be front-and-center, given that `ominous=true/false` appears in F3. But looking at the data that's available..."
   ]
  },
  {
   "cell_type": "code",
   "execution_count": 10,
   "id": "71d3af08-4fcd-4604-97bd-cb9a3524adfe",
   "metadata": {},
   "outputs": [
    {
     "data": {
      "text/markdown": [
       "\n",
       " - `id` : `\"minecraft:ominous_trial_key\"`\n",
       " - `count` : `1`"
      ],
      "text/plain": [
       "<IPython.core.display.Markdown object>"
      ]
     },
     "metadata": {},
     "output_type": "display_data"
    }
   ],
   "source": [
    "summarize_keystore(vaults[0][\"config\"][\"key_item\"])"
   ]
  },
  {
   "cell_type": "markdown",
   "id": "bbecfb3a-3237-4840-9c95-4bba4d6084fd",
   "metadata": {},
   "source": [
    "The fact that this is configurable makes me wonder if you can generate a vault with an _arbitrary_ unlock item (which would be awesome), but for what I'm here for, my question is answered:"
   ]
  },
  {
   "cell_type": "code",
   "execution_count": 11,
   "id": "b48ed4ee-050c-42a5-b729-d5ea299e9964",
   "metadata": {},
   "outputs": [],
   "source": [
    "def is_ominous(vault: nbt.TAG_Compound) -> bool:\n",
    "    \"\"\"Determine if a vault is ominous\n",
    "\n",
    "    Parameters\n",
    "    ----------\n",
    "    vault : block entity\n",
    "        The block entity corresponding to the vault\n",
    "\n",
    "    Returns\n",
    "    -------\n",
    "    bool\n",
    "        True if it requires an ominous key to unlock,\n",
    "        False otherwise\n",
    "    \"\"\"\n",
    "    return vault[\"config\"][\"key_item\"][\"id\"].value == \"minecraft:ominous_trial_key\""
   ]
  },
  {
   "cell_type": "markdown",
   "id": "4c8d501c-abc2-46fa-990d-608f252d9aa1",
   "metadata": {},
   "source": [
    "## Search for Unused Vaults"
   ]
  },
  {
   "cell_type": "code",
   "execution_count": 12,
   "id": "55a69d48-608d-436b-a0db-64f6b2c9a641",
   "metadata": {},
   "outputs": [],
   "source": [
    "def find_vaults(region_file: Path) -> list[tuple[tuple[int, int, int], bool, bool]]:\n",
    "    \"\"\"Find all vaults in a region\n",
    "\n",
    "                                Parameters\n",
    "                                ----------\n",
    "                                region_file : Path\n",
    "                                    The region to search\n",
    "\n",
    "                                Returns\n",
    "                                -------\n",
    "                                list of tuples, where each element consists of:\n",
    "                                    - tuple of three ints: (x, y, z) coordinates of the vault\n",
    "    - bool: is the vault ominous?\n",
    "    - bool: has the vault been used?\n",
    "    \"\"\"\n",
    "    vaults = []\n",
    "    for chunk in region.RegionFile(region_file).iter_chunks():\n",
    "        for vault in chunk[\"block_entities\"]:\n",
    "            if vault[\"id\"].value != \"minecraft:vault\":\n",
    "                continue  # then it's not a vault\n",
    "            vaults.append(\n",
    "                (\n",
    "                    (vault[\"x\"].value, vault[\"y\"].value, vault[\"z\"].value),\n",
    "                    is_ominous(vault),\n",
    "                    is_used(vault),\n",
    "                )\n",
    "            )\n",
    "    return vaults"
   ]
  },
  {
   "cell_type": "code",
   "execution_count": 13,
   "id": "aa6d16b5-bacc-4663-8969-e388cc60fcf8",
   "metadata": {},
   "outputs": [
    {
     "name": "stdout",
     "output_type": "stream",
     "text": [
      "Found 639 vaults, 217 of them ominous, 54 of them used and 194 unused ominous\n",
      "CPU times: user 74.7 ms, sys: 63.2 ms, total: 138 ms\n",
      "Wall time: 11.1 s\n"
     ]
    }
   ],
   "source": [
    "%%time\n",
    "futures = []\n",
    "all_vaults = []\n",
    "with ProcessPoolExecutor(max_workers=24) as executor:\n",
    "    for path in region_files:\n",
    "        futures.append(executor.submit(find_vaults, path))\n",
    "\n",
    "for result in as_completed(futures):\n",
    "    all_vaults.extend(result.result())\n",
    "\n",
    "print(\n",
    "    f\"Found {len(all_vaults)} vaults\"\n",
    "    f\", {sum((vault[1] for vault in all_vaults))} of them ominous\"\n",
    "    f\", {sum((vault[2] for vault in all_vaults))} of them used\"\n",
    "    f\" and {sum((vault[1] and not vault[2] for vault in all_vaults))} unused ominous\"\n",
    ")"
   ]
  },
  {
   "cell_type": "markdown",
   "id": "01b09e70-2e31-40d6-98e8-7dea85ba23ff",
   "metadata": {},
   "source": [
    "This may sound like a lot, but that's because I've almost certainly generated chambers I haven't visited, so I want to narrow this down by just looking at unused vaults near used vaults."
   ]
  },
  {
   "cell_type": "code",
   "execution_count": 14,
   "id": "f712cc5d-1f0b-4bea-a58c-96179da9057e",
   "metadata": {},
   "outputs": [],
   "source": [
    "def calculate_distance(\n",
    "    loc_1: tuple[int, int, int], loc_2: tuple[int, int, int]\n",
    ") -> float:\n",
    "    \"\"\"Calculate the horizontal distance between two locations\n",
    "\n",
    "    Parameters\n",
    "    ----------\n",
    "    loc_1 : tuple of three ints\n",
    "        The first location\n",
    "    loc_2 : tule of three ints\n",
    "        The second location\n",
    "\n",
    "    Returns\n",
    "    -------\n",
    "    float\n",
    "        the horizontal distance between the two locations\n",
    "\n",
    "    Note\n",
    "    ----\n",
    "    I don't believe trial vaults can spawn _on top_ of each other,\n",
    "    but they definitely have a lot of verticality that I could\n",
    "    have missed in my exploration. Hence why I'm only using\n",
    "    horizontal distance.\n",
    "    \"\"\"\n",
    "    return ((loc_1[0] - loc_2[0]) ** 2 + (loc_1[2] - loc_2[2]) ** 2) ** 0.5"
   ]
  },
  {
   "cell_type": "markdown",
   "id": "8b002b65-e6e4-4c12-b785-88e61085e448",
   "metadata": {},
   "source": [
    "Now, there are smart ways I could optimize the following search, but for the scale of the problem (there are only 54 used vaults), doing it \"dumb\" is going to be good enough (and I'll throw in a `%%time` to prove it."
   ]
  },
  {
   "cell_type": "code",
   "execution_count": 15,
   "id": "56770868-f480-4991-8274-b648162873e1",
   "metadata": {},
   "outputs": [],
   "source": [
    "# this could also be optimized\n",
    "unused_vaults = [vault for vault in all_vaults if not vault[2]]\n",
    "used_vaults = [vault for vault in all_vaults if vault[2]]"
   ]
  },
  {
   "cell_type": "code",
   "execution_count": 16,
   "id": "5109ee8a-2624-4c05-beea-c842184fe63a",
   "metadata": {},
   "outputs": [],
   "source": [
    "def is_near_used_vault(\n",
    "    vault: tuple[tuple[int, int, int], bool, bool], threshold: float = 32.0\n",
    ") -> bool:\n",
    "    \"\"\"Determine if a vault is near a used vault\n",
    "\n",
    "    Parameters\n",
    "    ----------\n",
    "    vault : tuple\n",
    "        Extracted data on a vault\n",
    "    threshold : float, optional\n",
    "        The threshold to use to determine what qualifies as \"near.\"\n",
    "        Default is 32.\n",
    "\n",
    "    Returns\n",
    "    -------\n",
    "    bool\n",
    "        Whether that vault is near a used vault\n",
    "    \"\"\"\n",
    "    return any(\n",
    "        (\n",
    "            calculate_distance(vault[0], used_vault[0]) < threshold\n",
    "            for used_vault in used_vaults\n",
    "        )\n",
    "    )"
   ]
  },
  {
   "cell_type": "code",
   "execution_count": 17,
   "id": "03966282-a9b2-4236-9baf-12018c9b29ce",
   "metadata": {},
   "outputs": [
    {
     "name": "stdout",
     "output_type": "stream",
     "text": [
      "There are 20 unused vaults in proximity to used vaults\n",
      "CPU times: user 6.16 ms, sys: 0 ns, total: 6.16 ms\n",
      "Wall time: 6.12 ms\n"
     ]
    }
   ],
   "source": [
    "%%time\n",
    "near_used = [is_near_used_vault(vault) for vault in unused_vaults]\n",
    "print(f\"There are {sum(near_used)} unused vaults in proximity to used vaults\")"
   ]
  },
  {
   "cell_type": "markdown",
   "id": "7c8eabb6-3b4d-4991-8847-4563be348ea5",
   "metadata": {},
   "source": [
    "Let's make sure we chose a good threshold."
   ]
  },
  {
   "cell_type": "code",
   "execution_count": 18,
   "id": "2c7fcac6-6ea1-4b9a-960f-94bee4b72fe9",
   "metadata": {},
   "outputs": [
    {
     "data": {
      "image/png": "[encoded data removed]",
      "text/plain": [
       "<Figure size 640x480 with 1 Axes>"
      ]
     },
     "metadata": {},
     "output_type": "display_data"
    }
   ],
   "source": [
    "# again, we're performing **so many** unnessecary calculations\n",
    "# (we could have just computed _once_ the min distance from each vault\n",
    "# to a used vault), but we're not dealing at a scale where that level\n",
    "# of optimization makes sense\n",
    "threshold_data = []\n",
    "for threshold in range(5, 250, 5):\n",
    "    threshold_data.append(\n",
    "        (\n",
    "            threshold,\n",
    "            sum((is_near_used_vault(vault, threshold)) for vault in unused_vaults),\n",
    "        )\n",
    "    )\n",
    "\n",
    "fig, ax = plt.subplots()\n",
    "ax.plot(*zip(*threshold_data))\n",
    "ax.set_xlabel(\"Threshold distance\")\n",
    "ax.set_ylabel(\"# of unused vaults within threshold a used vault\")\n",
    "plt.show(fig)"
   ]
  },
  {
   "cell_type": "markdown",
   "id": "d9427395-14b1-41f2-a42c-ab90362fb472",
   "metadata": {},
   "source": [
    "Ohh that's interesting. That is, the vaults are a lot bigger than I was expecting, and the proper threshold (where the curve levels off) is probably more like 60 or 70."
   ]
  },
  {
   "cell_type": "code",
   "execution_count": 19,
   "id": "965d505f-048b-4635-a3c7-538988349f53",
   "metadata": {},
   "outputs": [
    {
     "data": {
      "text/html": [
       "<div>\n",
       "<style scoped>\n",
       "    .dataframe tbody tr th:only-of-type {\n",
       "        vertical-align: middle;\n",
       "    }\n",
       "\n",
       "    .dataframe tbody tr th {\n",
       "        vertical-align: top;\n",
       "    }\n",
       "\n",
       "    .dataframe thead th {\n",
       "        text-align: right;\n",
       "    }\n",
       "</style>\n",
       "<table border=\"1\" class=\"dataframe\">\n",
       "  <thead>\n",
       "    <tr style=\"text-align: right;\">\n",
       "      <th></th>\n",
       "      <th>Unused Explored Vaults</th>\n",
       "    </tr>\n",
       "    <tr>\n",
       "      <th>Threshold</th>\n",
       "      <th></th>\n",
       "    </tr>\n",
       "  </thead>\n",
       "  <tbody>\n",
       "    <tr>\n",
       "      <th>55</th>\n",
       "      <td>24</td>\n",
       "    </tr>\n",
       "    <tr>\n",
       "      <th>60</th>\n",
       "      <td>26</td>\n",
       "    </tr>\n",
       "    <tr>\n",
       "      <th>65</th>\n",
       "      <td>28</td>\n",
       "    </tr>\n",
       "    <tr>\n",
       "      <th>70</th>\n",
       "      <td>29</td>\n",
       "    </tr>\n",
       "    <tr>\n",
       "      <th>75</th>\n",
       "      <td>29</td>\n",
       "    </tr>\n",
       "    <tr>\n",
       "      <th>80</th>\n",
       "      <td>29</td>\n",
       "    </tr>\n",
       "    <tr>\n",
       "      <th>85</th>\n",
       "      <td>29</td>\n",
       "    </tr>\n",
       "    <tr>\n",
       "      <th>90</th>\n",
       "      <td>29</td>\n",
       "    </tr>\n",
       "    <tr>\n",
       "      <th>95</th>\n",
       "      <td>29</td>\n",
       "    </tr>\n",
       "  </tbody>\n",
       "</table>\n",
       "</div>"
      ],
      "text/plain": [
       "           Unused Explored Vaults\n",
       "Threshold                        \n",
       "55                             24\n",
       "60                             26\n",
       "65                             28\n",
       "70                             29\n",
       "75                             29\n",
       "80                             29\n",
       "85                             29\n",
       "90                             29\n",
       "95                             29"
      ]
     },
     "metadata": {},
     "output_type": "display_data"
    }
   ],
   "source": [
    "threshold_df = pd.DataFrame(\n",
    "    threshold_data, columns=[\"Threshold\", \"Unused Explored Vaults\"]\n",
    ")\n",
    "display(\n",
    "    threshold_df.loc[threshold_df.Threshold > 50]\n",
    "    .loc[threshold_df.Threshold < 100]\n",
    "    .set_index(\"Threshold\")\n",
    ")"
   ]
  },
  {
   "cell_type": "markdown",
   "id": "19bb8a5a-c4cb-4397-8ac5-411ace864546",
   "metadata": {},
   "source": [
    "Yeah, so the curve completely levels off after 70, which—wow! 70 blocks is _far away!_"
   ]
  },
  {
   "cell_type": "code",
   "execution_count": 20,
   "id": "13c26401-302d-4a2e-bc4a-cf07c9be296f",
   "metadata": {},
   "outputs": [
    {
     "name": "stdout",
     "output_type": "stream",
     "text": [
      "There is an unused regular vault at (97, -37, -3206)\n",
      "There is an unused regular vault at (107, -37, -3206)\n",
      "There is an unused regular vault at (102, -39, -3197)\n",
      "There is an unused regular vault at (106, -44, -3179)\n",
      "There is an unused ominous vault at (114, -33, -3189)\n",
      "There is an unused regular vault at (169, -25, -3212)\n",
      "There is an unused regular vault at (198, -32, -3221)\n",
      "There is an unused regular vault at (301, -23, -3540)\n",
      "There is an unused ominous vault at (313, 5, -3579)\n",
      "There is an unused regular vault at (-2043, -14, -3751)\n",
      "There is an unused ominous vault at (-2031, -23, -3738)\n",
      "There is an unused ominous vault at (-2007, -16, -3691)\n",
      "There is an unused regular vault at (-2012, -21, -3691)\n",
      "There is an unused regular vault at (-1982, -14, -3765)\n",
      "There is an unused ominous vault at (-1425, -25, -6259)\n",
      "There is an unused regular vault at (-1430, -30, -6259)\n",
      "There is an unused regular vault at (-1429, -30, -6268)\n",
      "There is an unused regular vault at (-1420, -30, -6267)\n",
      "There is an unused regular vault at (-1417, -30, -6263)\n",
      "There is an unused regular vault at (-1414, -30, -6253)\n",
      "There is an unused ominous vault at (-1408, -37, -6263)\n",
      "There is an unused regular vault at (-1401, -23, -6260)\n",
      "There is an unused ominous vault at (-1335, -33, -6262)\n",
      "There is an unused regular vault at (283, -16, -3623)\n",
      "There is an unused ominous vault at (286, 5, -3601)\n",
      "There is an unused regular vault at (278, 4, -3594)\n",
      "There is an unused ominous vault at (291, -15, -3630)\n",
      "There is an unused regular vault at (315, -11, -3586)\n",
      "There is an unused regular vault at (315, -11, -3596)\n"
     ]
    }
   ],
   "source": [
    "for vault in unused_vaults:\n",
    "    if not is_near_used_vault(vault, threshold=70):\n",
    "        continue\n",
    "    print(\n",
    "        \"There is an unused {} vault at ({}, {}, {})\".format(\n",
    "            \"ominous\" if vault[1] else \"regular\", *vault[0]\n",
    "        )\n",
    "    )"
   ]
  }
 ],
 "metadata": {
  "kernelspec": {
   "display_name": "Python 3 (ipykernel)",
   "language": "python",
   "name": "python3"
  },
  "language_info": {
   "codemirror_mode": {
    "name": "ipython",
    "version": 3
   },
   "file_extension": ".py",
   "mimetype": "text/x-python",
   "name": "python",
   "nbconvert_exporter": "python",
   "pygments_lexer": "ipython3",
   "version": "3.12.1"
  }
 },
 "nbformat": 4,
 "nbformat_minor": 5
}
