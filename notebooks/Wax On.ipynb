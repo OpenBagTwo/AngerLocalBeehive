{
 "cells": [
  {
   "cell_type": "markdown",
   "id": "d6499aed-34b1-4fe5-ad76-63a9de098693",
   "metadata": {},
   "source": [
    "# Hermits Need to Wax Their Signs\n",
    "\n",
    "Look—I don't know for sure that that waxing written (vs. unwritten) signs reduces lag, but I still think it's fair to say that it's **good practice** when it comes to preparing an archival world download. And the sheer number of unwaxed signs I've found throughout the world is making me cry.\n",
    "\n",
    "I could just go around with a bunch of honeycomb... or I could just write a script to fix that for everyone."
   ]
  },
  {
   "cell_type": "code",
   "execution_count": 1,
   "id": "676bdade-ab6a-4fe0-97ef-435ace2d6085",
   "metadata": {},
   "outputs": [],
   "source": [
    "import json\n",
    "import re\n",
    "from collections import Counter\n",
    "from collections.abc import Collection\n",
    "from concurrent.futures import ProcessPoolExecutor, as_completed\n",
    "from functools import partial\n",
    "from os import environ\n",
    "from pathlib import Path\n",
    "from typing import Any\n",
    "\n",
    "import mutf8\n",
    "import pandas as pd\n",
    "from IPython.display import Markdown, display\n",
    "from nbt import nbt, region"
   ]
  },
  {
   "cell_type": "code",
   "execution_count": 2,
   "id": "85666cd8-45c0-47b9-9f27-1605d5224fed",
   "metadata": {},
   "outputs": [],
   "source": [
    "def format_file_size(path: Path) -> str:\n",
    "    \"\"\"Print the size of the specified file in\n",
    "    human-readible form (KB / MB / GB)\n",
    "\n",
    "    Parameters\n",
    "    ----------\n",
    "    path : Path\n",
    "        The path to the file\n",
    "\n",
    "    Returns\n",
    "    -------\n",
    "    str\n",
    "        A prettily formatted file size\n",
    "\n",
    "    Notes\n",
    "    -----\n",
    "    I would be shocked if there isn't a utility already built\n",
    "    into the standard library to do this, but all I could find\n",
    "    via Googling was a bunch of recipes and examples\n",
    "    \"\"\"\n",
    "    size: float = path.stat().st_size  # in bytes\n",
    "    for unit in (\"B\", \"KB\", \"MB\", \"GB\"):\n",
    "        if size < 1024 / 2:\n",
    "            return f\"{size:.1f} {unit}\"\n",
    "        size /= 1024\n",
    "    return f\"{size} TB\""
   ]
  },
  {
   "cell_type": "code",
   "execution_count": 3,
   "id": "8a58cc52-fba1-47c7-a57b-038669a5fbca",
   "metadata": {},
   "outputs": [],
   "source": [
    "def summarize_keystore(keystore: dict[str, Any]) -> None:\n",
    "    \"\"\"Display a summary of the contents of a key-value store\n",
    "\n",
    "    Parameters\n",
    "    ----------\n",
    "    keystore : dict\n",
    "        The keystore to summarize\n",
    "\n",
    "    Returns\n",
    "    -------\n",
    "    None\n",
    "    \"\"\"\n",
    "\n",
    "    def _summarize_keystore(keystore: dict[str, Any]) -> str:\n",
    "        summary = \"\"\n",
    "        for k, v in keystore.items():\n",
    "            summary += f\"\\n - `{k}` : \"\n",
    "            if isinstance(v, (str, nbt.TAG_String)):\n",
    "                summary += f'`\"{v}\"`'\n",
    "            elif not isinstance(v, Collection):\n",
    "                summary += f\"`{str(v)}`\"\n",
    "            else:\n",
    "                length = len(v)\n",
    "                if 0 < length < 3:\n",
    "                    summary += \"\\n\"\n",
    "                    if not isinstance(v, dict):\n",
    "                        v = {i: item for i, item in enumerate(v)}\n",
    "                    summary += \"\\n\".join(\n",
    "                        (f\"\\t{line}\" for line in _summarize_keystore(v).split(\"\\n\"))\n",
    "                    )\n",
    "                else:\n",
    "                    summary += f\"({len(v)} items)\"\n",
    "        return summary\n",
    "\n",
    "    display(Markdown(_summarize_keystore(keystore)))"
   ]
  },
  {
   "cell_type": "code",
   "execution_count": 4,
   "id": "0e7404b0-66bb-42c2-abc6-b601105528c9",
   "metadata": {},
   "outputs": [
    {
     "name": "stdout",
     "output_type": "stream",
     "text": [
      "- .git (folder)\n",
      "- .gitignore (1.0 B)\n",
      "- .gsb_manifest (110.0 B)\n",
      "- DIM-1 (folder)\n",
      "- DIM1 (folder)\n",
      "- advancements (folder)\n",
      "- audio_player_data (folder)\n",
      "- carpet-fixes.conf (22.0 B)\n",
      "- carpet.conf (57.0 B)\n",
      "- data (folder)\n",
      "- datapacks (folder)\n",
      "- entities (folder)\n",
      "- icon.png (9.0 KB)\n",
      "- level.dat (25.8 KB)\n",
      "- level.dat_old (25.8 KB)\n",
      "- playerdata (folder)\n",
      "- poi (folder)\n",
      "- region (folder)\n",
      "- resources.zip (34.0 MB)\n",
      "- scripts (folder)\n",
      "- session.lock (3.0 B)\n",
      "- stats (folder)\n"
     ]
    }
   ],
   "source": [
    "save_folder = Path(environ[\"SAVE_PATH\"])\n",
    "\n",
    "# make sure this is set correctly\n",
    "for path in sorted(save_folder.glob(\"*\")):\n",
    "    print(f\"- {path.name} ({'folder' if path.is_dir() else format_file_size(path)})\")"
   ]
  },
  {
   "cell_type": "code",
   "execution_count": 5,
   "id": "e6f0dcc6-678b-44f7-ba5d-caa1e25d86d1",
   "metadata": {},
   "outputs": [
    {
     "name": "stdout",
     "output_type": "stream",
     "text": [
      "- r.-1.-1.mca (13.5 MB)\n",
      "- r.-2.-1.mca (13.3 MB)\n",
      "- r.2.-1.mca (13.3 MB)\n",
      "- r.-2.0.mca (12.8 MB)\n",
      "- r.-4.-1.mca (12.2 MB)\n",
      "- r.0.0.mca (12.1 MB)\n",
      "- r.0.-6.mca (12.0 MB)\n",
      "- r.-1.0.mca (11.9 MB)\n",
      "- r.-3.-1.mca (11.7 MB)\n",
      "- r.-3.0.mca (11.5 MB)\n",
      "... 309 more\n"
     ]
    }
   ],
   "source": [
    "all_overworld_regions = sorted(\n",
    "    (save_folder / \"region\").glob(\"*\"), key=lambda path: -path.stat().st_size\n",
    ")\n",
    "all_nether_regions = sorted(\n",
    "    (save_folder / \"DIM-1\" / \"region\").glob(\"*\"), key=lambda path: -path.stat().st_size\n",
    ")\n",
    "all_end_regions = sorted(\n",
    "    (save_folder / \"DIM1\" / \"region\").glob(\"*\"), key=lambda path: -path.stat().st_size\n",
    ")\n",
    "all_region_files = all_overworld_regions + all_nether_regions + all_end_regions\n",
    "for path in all_region_files[:10]:\n",
    "    print(f\"- {path.name} ({'folder' if path.is_dir() else format_file_size(path)})\")\n",
    "print(f\"... {len(all_region_files) - 10} more\")"
   ]
  },
  {
   "cell_type": "markdown",
   "id": "eaff89ba-f246-4ce8-9a5b-db61ce162666",
   "metadata": {},
   "source": [
    "## Find a Sign\n",
    "\n",
    "We did this [yesterday](There%27s%20Your%20Sign.ipynb)"
   ]
  },
  {
   "cell_type": "code",
   "execution_count": 6,
   "id": "0ad2d698-7d93-4c55-8efd-c46ca1e423a0",
   "metadata": {},
   "outputs": [
    {
     "data": {
      "text/markdown": [
       "\n",
       " - `z` : `-485`\n",
       " - `x` : `-506`\n",
       " - `is_waxed` : `0`\n",
       " - `id` : `\"minecraft:sign\"`\n",
       " - `y` : `113`\n",
       " - `front_text` : (3 items)\n",
       " - `keepPacked` : `0`\n",
       " - `components` : (0 items)\n",
       " - `back_text` : (3 items)"
      ],
      "text/plain": [
       "<IPython.core.display.Markdown object>"
      ]
     },
     "metadata": {},
     "output_type": "display_data"
    },
    {
     "name": "stdout",
     "output_type": "stream",
     "text": [
      "CPU times: user 19.9 ms, sys: 3.99 ms, total: 23.9 ms\n",
      "Wall time: 23.8 ms\n"
     ]
    }
   ],
   "source": [
    "%%time\n",
    "for path in all_region_files:\n",
    "    region_data = region.RegionFile(path)\n",
    "    for chunk in region_data.iter_chunks():\n",
    "        for entity in chunk[\"block_entities\"]:\n",
    "            if entity[\"id\"].value == \"minecraft:sign\":\n",
    "                break\n",
    "        else:\n",
    "            continue\n",
    "        break\n",
    "    else:\n",
    "        continue\n",
    "    break\n",
    "summarize_keystore(entity)"
   ]
  },
  {
   "cell_type": "code",
   "execution_count": 7,
   "id": "6dc4feda-8182-4b71-a577-c7b46b78723e",
   "metadata": {},
   "outputs": [
    {
     "data": {
      "text/plain": [
       "0"
      ]
     },
     "execution_count": 7,
     "metadata": {},
     "output_type": "execute_result"
    }
   ],
   "source": [
    "entity[\"is_waxed\"].value"
   ]
  },
  {
   "cell_type": "markdown",
   "id": "68ff687f-71b9-43a1-976e-80cb16103ec9",
   "metadata": {},
   "source": [
    "And now let's see if we can find a _waxed_ sign."
   ]
  },
  {
   "cell_type": "code",
   "execution_count": 8,
   "id": "e731f01b-7c70-4a75-9f09-3b99ae409a5d",
   "metadata": {},
   "outputs": [
    {
     "data": {
      "text/markdown": [
       "\n",
       " - `z` : `-470`\n",
       " - `x` : `-499`\n",
       " - `is_waxed` : `1`\n",
       " - `id` : `\"minecraft:sign\"`\n",
       " - `y` : `126`\n",
       " - `front_text` : (3 items)\n",
       " - `keepPacked` : `0`\n",
       " - `components` : (0 items)\n",
       " - `back_text` : (3 items)"
      ],
      "text/plain": [
       "<IPython.core.display.Markdown object>"
      ]
     },
     "metadata": {},
     "output_type": "display_data"
    },
    {
     "name": "stdout",
     "output_type": "stream",
     "text": [
      "CPU times: user 31.6 ms, sys: 1.09 ms, total: 32.7 ms\n",
      "Wall time: 32.6 ms\n"
     ]
    },
    {
     "data": {
      "text/plain": [
       "1"
      ]
     },
     "execution_count": 8,
     "metadata": {},
     "output_type": "execute_result"
    }
   ],
   "source": [
    "%%time\n",
    "for path in all_region_files:\n",
    "    region_data = region.RegionFile(path)\n",
    "    for chunk in region_data.iter_chunks():\n",
    "        for entity in chunk[\"block_entities\"]:\n",
    "            if entity[\"id\"].value == \"minecraft:sign\":\n",
    "                if entity[\"is_waxed\"].value != 0:\n",
    "                    break\n",
    "        else:\n",
    "            continue\n",
    "        break\n",
    "    else:\n",
    "        continue\n",
    "    break\n",
    "summarize_keystore(entity)\n",
    "entity[\"is_waxed\"].value"
   ]
  },
  {
   "cell_type": "markdown",
   "id": "63b00607-6fde-4b79-ad7a-fc1cdc2d4837",
   "metadata": {},
   "source": [
    "Cool, so it's just a matter of setting it from 0 to 1."
   ]
  },
  {
   "cell_type": "markdown",
   "id": "f7d3632d-b10c-430e-bffd-c8c5d54f2fbe",
   "metadata": {},
   "source": [
    "## Sizing the Damage\n",
    "\n",
    "I'm just curious what fraction of signs on HermitCraft were actually waxed"
   ]
  },
  {
   "cell_type": "code",
   "execution_count": 9,
   "id": "18059a5c-9c19-487f-a50f-e9cf8da1592b",
   "metadata": {},
   "outputs": [],
   "source": [
    "def count_waxed_and_unwaxed_signs(path: Path) -> Counter[int]:\n",
    "    \"\"\"Count and return the number of waxed and unwaxed signs in a given region\n",
    "\n",
    "    Parameters\n",
    "    ----------\n",
    "    path : Path\n",
    "        The path of the region file to scan\n",
    "\n",
    "    Returns\n",
    "    -------\n",
    "    dict of int to int\n",
    "        The counts of signs by their waxed state (0: unwaxed, 1: waxed)\n",
    "    \"\"\"\n",
    "    waxed_counts: Counter[int] = Counter()\n",
    "    region_data = region.RegionFile(path)\n",
    "    for chunk in region_data.iter_chunks():\n",
    "        for entity in chunk[\"block_entities\"]:\n",
    "            if entity[\"id\"].value not in (\"minecraft:sign\", \"minecraft:hanging_sign\"):\n",
    "                continue\n",
    "\n",
    "            waxed_counts[entity[\"is_waxed\"].value] += 1\n",
    "    return waxed_counts"
   ]
  },
  {
   "cell_type": "code",
   "execution_count": 10,
   "id": "f5f31ca4-6f08-4450-aec2-3cc1fbd426c7",
   "metadata": {},
   "outputs": [
    {
     "name": "stdout",
     "output_type": "stream",
     "text": [
      "CPU times: user 61.6 ms, sys: 75.2 ms, total: 137 ms\n",
      "Wall time: 10.7 s\n"
     ]
    },
    {
     "data": {
      "text/plain": [
       "Counter({0: 12892, 1: 4006})"
      ]
     },
     "execution_count": 10,
     "metadata": {},
     "output_type": "execute_result"
    }
   ],
   "source": [
    "%%time\n",
    "combined_waxed_counts: Counter[int] = Counter()\n",
    "with ProcessPoolExecutor(max_workers=24) as executor:\n",
    "    futures = []\n",
    "    for region_file_path in all_region_files:\n",
    "        futures.append(executor.submit(count_waxed_and_unwaxed_signs, region_file_path))\n",
    "    for result in as_completed(futures):\n",
    "        combined_waxed_counts += result.result()\n",
    "combined_waxed_counts"
   ]
  },
  {
   "cell_type": "markdown",
   "id": "38ea1d85-52d1-45ca-b940-486249f90690",
   "metadata": {},
   "source": [
    "... not even a **quarter** of the **almost 17000** signs on HermitCraft were waxed. 😭"
   ]
  },
  {
   "cell_type": "markdown",
   "id": "7eee91da-6eb4-433b-8f7c-41835f0de277",
   "metadata": {},
   "source": [
    "## Welp, let's fix that"
   ]
  },
  {
   "cell_type": "code",
   "execution_count": 11,
   "id": "5a766cc4-1c7e-433a-9509-0cacc4c74f92",
   "metadata": {},
   "outputs": [],
   "source": [
    "def wax_all_signs(path: Path) -> None:\n",
    "    \"\"\"Wax all signs in a given region\n",
    "\n",
    "    Parameters\n",
    "    ----------\n",
    "    path : Path\n",
    "        The path of the region file to scan\n",
    "\n",
    "    Returns\n",
    "    -------\n",
    "    None\n",
    "    \"\"\"\n",
    "    region_data = region.RegionFile(path)\n",
    "    for chunk in region_data.iter_chunks():\n",
    "        for entity in chunk[\"block_entities\"]:\n",
    "            if entity[\"id\"].value not in (\"minecraft:sign\", \"minecraft:hanging_sign\"):\n",
    "                continue\n",
    "\n",
    "            entity[\"is_waxed\"].value = 1\n",
    "\n",
    "        # TODO: technically only chunks that got updated needed to be rewritten\n",
    "        region_data.write_chunk(chunk.loc.x, chunk.loc.z, chunk)"
   ]
  },
  {
   "cell_type": "code",
   "execution_count": 12,
   "id": "6167a047-0042-4e09-8ad8-cec561ff4dff",
   "metadata": {},
   "outputs": [
    {
     "name": "stdout",
     "output_type": "stream",
     "text": [
      "CPU times: user 65.2 ms, sys: 78.8 ms, total: 144 ms\n",
      "Wall time: 25.1 s\n"
     ]
    }
   ],
   "source": [
    "%%time\n",
    "with ProcessPoolExecutor(max_workers=24) as executor:\n",
    "    futures = []\n",
    "    for region_file_path in all_region_files:\n",
    "        futures.append(executor.submit(wax_all_signs, region_file_path))  # type: ignore[arg-type]\n",
    "    for result in as_completed(futures):\n",
    "        pass"
   ]
  },
  {
   "cell_type": "markdown",
   "id": "95fa185b-1f47-4964-80bf-49567c28d4db",
   "metadata": {},
   "source": [
    "### Verify that it worked"
   ]
  },
  {
   "cell_type": "code",
   "execution_count": 13,
   "id": "ad7f4486-2842-4407-9095-7b62bd443a01",
   "metadata": {},
   "outputs": [
    {
     "name": "stdout",
     "output_type": "stream",
     "text": [
      "CPU times: user 69.8 ms, sys: 71.9 ms, total: 142 ms\n",
      "Wall time: 10.8 s\n"
     ]
    },
    {
     "data": {
      "text/plain": [
       "Counter({1: 16898})"
      ]
     },
     "execution_count": 13,
     "metadata": {},
     "output_type": "execute_result"
    }
   ],
   "source": [
    "%%time\n",
    "combined_waxed_counts = Counter()\n",
    "with ProcessPoolExecutor(max_workers=24) as executor:\n",
    "    futures = []\n",
    "    for region_file_path in all_region_files:\n",
    "        futures.append(executor.submit(count_waxed_and_unwaxed_signs, region_file_path))\n",
    "    for result in as_completed(futures):\n",
    "        combined_waxed_counts += result.result()\n",
    "combined_waxed_counts"
   ]
  }
 ],
 "metadata": {
  "kernelspec": {
   "display_name": "Python 3 (ipykernel)",
   "language": "python",
   "name": "python3"
  },
  "language_info": {
   "codemirror_mode": {
    "name": "ipython",
    "version": 3
   },
   "file_extension": ".py",
   "mimetype": "text/x-python",
   "name": "python",
   "nbconvert_exporter": "python",
   "pygments_lexer": "ipython3",
   "version": "3.13.1"
  }
 },
 "nbformat": 4,
 "nbformat_minor": 5
}
