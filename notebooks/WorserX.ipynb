{
 "cells": [
  {
   "cell_type": "markdown",
   "id": "2c6df8f0-62c0-4b79-8a3a-cba7e808e355",
   "metadata": {},
   "source": [
    "# Changing the World Type of One Dimension\n",
    "\n",
    "I have been having really bad luck finding Netherite. There are two possibilities:\n",
    "\n",
    "1. I have unrealistic expectations, given that before this world, I _literally cheated_ by creating a copy of my world and putting it into Creative mode, writing down all the Ancient Debris coordinates, and then mining straight to the best caches.\n",
    "2. [The BCLib mod](https://github.com/quiqueck/BCLib/) is messing with ore generation\n",
    "\n",
    "Even though I'm pretty sure I know which of the two theories is more likely, I'm still going to explore disabling the \"BetterX\" world generation settings for The Nether and _just_ the Nether, as, well, I don't actually _want_ any mods changing The Nether.\n",
    "\n",
    "[BetterEnd](https://github.com/quiqueck/BetterEnd) is easily my second favorite mod, after only [Iris](https://irisshaders.net/), but while I appreciate thee creativitiy they put into [the BetterNether mod](https://github.com/quiqueck/BetterNether), I don't generally use it, because IMO the Nether is better enough.\n",
    "\n",
    "But BCLib's default settings cause any world--old or new--to use the \"BetterX\" world type for both non-Overworld dimensions, and that's caused discrepancies when scouting out my world using tools like [chunkbase](https://www.chunkbase.com/), and the bottom line is, _I really don't want BCLib altering the Nether_, at least not any more than it already has.\n",
    "\n",
    "So the goal of this notebook is to open up`level.dat` and find out explicitly to what degree I can make it so that I continue using \"BetterX\" in the End but not in the Nether."
   ]
  },
  {
   "cell_type": "markdown",
   "id": "4303bd1f-70c5-4348-8759-7677172b5e13",
   "metadata": {},
   "source": [
    "## Changing Mod Settings\n",
    "\n",
    "The first thing to do is to go into the BCLib config and make sure that any settings I change here don't get reverted when I next open my world.\n",
    "\n",
    "Following my nose, I'm guessing the keys to change are:\n",
    "\n",
    "#### `server.json`\n",
    "- `auto_sync`\n",
    "  - `forceBetterXPreset`: `false`\n",
    "\n",
    "#### `generator.json`\n",
    "- `options`\n",
    "  - `biomeSource`\n",
    "    - `fixNetherBiomeSource`: `false`"
   ]
  },
  {
   "cell_type": "markdown",
   "id": "57ecaf74-0ab2-4a69-862b-d53bb1693c95",
   "metadata": {},
   "source": [
    "## Imports, Setup and Macros"
   ]
  },
  {
   "cell_type": "code",
   "execution_count": 1,
   "id": "3dbeedf9-e267-4562-8d6c-a8b8ce2e0f77",
   "metadata": {},
   "outputs": [],
   "source": [
    "import json\n",
    "from os import environ\n",
    "from pathlib import Path\n",
    "from typing import Any, Collection, Dict, Set\n",
    "\n",
    "import mutf8\n",
    "import pandas as pd\n",
    "from IPython.display import Markdown, display\n",
    "from nbt import nbt, region"
   ]
  },
  {
   "cell_type": "code",
   "execution_count": 2,
   "id": "ee10c14d-f3ff-4cb8-b575-1dd358e21197",
   "metadata": {},
   "outputs": [],
   "source": [
    "def format_file_size(path: Path) -> str:\n",
    "    \"\"\"Print the size of the specified file in\n",
    "    human-readible form (KB / MB / GB)\n",
    "\n",
    "    Parameters\n",
    "    ----------\n",
    "    path : Path\n",
    "        The path to the file\n",
    "\n",
    "    Returns\n",
    "    -------\n",
    "    str\n",
    "        A prettily formatted file size\n",
    "\n",
    "    Notes\n",
    "    -----\n",
    "    I would be shocked if there isn't a utility already built\n",
    "    into the standard library to do this, but all I could find\n",
    "    via Googling was a bunch of recipes and examples\n",
    "    \"\"\"\n",
    "    size: float = path.stat().st_size  # in bytes\n",
    "    for unit in (\"B\", \"KB\", \"MB\", \"GB\"):\n",
    "        if size < 1024 / 2:\n",
    "            return f\"{size:.1f} {unit}\"\n",
    "        size = size / 1024\n",
    "    return f\"{size} TB\""
   ]
  },
  {
   "cell_type": "code",
   "execution_count": 3,
   "id": "92ab6219-d4f0-41df-9862-dbed442465f0",
   "metadata": {},
   "outputs": [],
   "source": [
    "def summarize_keystore(keystore: Dict[str, Any]) -> None:\n",
    "    \"\"\"Display a summary of the contents of a key-value store\n",
    "\n",
    "    Parameters\n",
    "    ----------\n",
    "    keystore : dict\n",
    "        The keystore to summarize\n",
    "\n",
    "    Returns\n",
    "    -------\n",
    "    None\n",
    "    \"\"\"\n",
    "\n",
    "    def _summarize_keystore(keystore: Dict[str, Any]) -> str:\n",
    "        summary = \"\"\n",
    "        for k, v in keystore.items():\n",
    "            summary += f\"\\n - `{k}` : \"\n",
    "            if isinstance(v, (str, nbt.TAG_String)):\n",
    "                summary += f'`\"{v}\"`'\n",
    "            elif not isinstance(v, Collection):\n",
    "                summary += f\"`{str(v)}`\"\n",
    "            else:\n",
    "                length = len(v)\n",
    "                if 0 < length < 3:\n",
    "                    summary += \"\\n\"\n",
    "                    if not isinstance(v, Dict):\n",
    "                        v = {i: item for i, item in enumerate(v)}\n",
    "                    summary += \"\\n\".join(\n",
    "                        (f\"\\t{line}\" for line in _summarize_keystore(v).split(\"\\n\"))\n",
    "                    )\n",
    "                else:\n",
    "                    summary += f\"({len(v)} items)\"\n",
    "        return summary\n",
    "\n",
    "    display(Markdown(_summarize_keystore(keystore)))"
   ]
  },
  {
   "cell_type": "code",
   "execution_count": 4,
   "id": "78e4cacd-37c2-4b57-ab3c-73957879d4b3",
   "metadata": {},
   "outputs": [
    {
     "name": "stdout",
     "output_type": "stream",
     "text": [
      "- DIM-1 (folder)\n",
      "- DIM1 (folder)\n",
      "- advancements (folder)\n",
      "- data (folder)\n",
      "- datapacks (folder)\n",
      "- entities (folder)\n",
      "- icon.png (8.6 KB)\n",
      "- level.dat (20.0 KB)\n",
      "- level.dat_old (20.0 KB)\n",
      "- level11326231134829879582.dat (0.0 B)\n",
      "- level14927678268100607923.dat (0.0 B)\n",
      "- level1786655981796876926.dat (0.0 B)\n",
      "- level4463453738642305340.dat (0.0 B)\n",
      "- level6425531070021529407.dat (0.0 B)\n",
      "- level7443636089696258371.dat (0.0 B)\n",
      "- level8832581565660323154.dat (0.0 B)\n",
      "- playerdata (folder)\n",
      "- poi (folder)\n",
      "- region (folder)\n",
      "- serverconfig (folder)\n",
      "- session.lock (3.0 B)\n",
      "- stats (folder)\n",
      "- worldgen_settings_export.json (1.5 KB)\n"
     ]
    }
   ],
   "source": [
    "save_folder = Path(environ[\"SAVE_PATH\"])\n",
    "\n",
    "# make sure this is set correctly\n",
    "for path in sorted(save_folder.glob(\"*\")):\n",
    "    print(f\"- {path.name} ({'folder' if path.is_dir() else format_file_size(path)})\")"
   ]
  },
  {
   "cell_type": "markdown",
   "id": "aa89fd53-6816-4e0e-8bad-082249dfa928",
   "metadata": {},
   "source": [
    "## Load up the ole `level.dat`"
   ]
  },
  {
   "cell_type": "code",
   "execution_count": 5,
   "id": "3dddf808-9cb5-48ce-8068-4097555fd59e",
   "metadata": {},
   "outputs": [
    {
     "name": "stdout",
     "output_type": "stream",
     "text": [
      "CPU times: user 25.3 ms, sys: 0 ns, total: 25.3 ms\n",
      "Wall time: 24.6 ms\n"
     ]
    }
   ],
   "source": [
    "%%time\n",
    "level = nbt.NBTFile(save_folder / \"level.dat\")"
   ]
  },
  {
   "cell_type": "code",
   "execution_count": 6,
   "id": "bf403186-0987-48ff-91f0-ec096038df5f",
   "metadata": {},
   "outputs": [
    {
     "data": {
      "text/markdown": [
       "\n",
       " - `Difficulty` : `3`\n",
       " - `thunderTime` : `136444`\n",
       " - `BorderSize` : `59999968.0`\n",
       " - `LastPlayed` : `1667356546044`\n",
       " - `allowCommands` : `0`\n",
       " - `BorderCenterX` : `0.0`\n",
       " - `initialized` : `1`\n",
       " - `BorderWarningBlocks` : `5.0`\n",
       " - `hardcore` : `0`\n",
       " - `version` : `19133`\n",
       " - `ServerBrands` : \n",
       "\t\n",
       "\t - `0` : `\"forge\"`\n",
       "\t - `1` : `\"fabric\"`\n",
       " - `SpawnX` : `-592`\n",
       " - `GameType` : `0`\n",
       " - `BorderSafeZone` : `5.0`\n",
       " - `SpawnAngle` : `0.0`\n",
       " - `LevelName` : `\"Esha Ness\"`\n",
       " - `Time` : `63109557`\n",
       " - `ScheduledEvents` : (19 items)\n",
       " - `clearWeatherTime` : `0`\n",
       " - `WanderingTraderId` : (4 items)\n",
       " - `BorderDamagePerBlock` : `0.2`\n",
       " - `WanderingTraderSpawnDelay` : `7200`\n",
       " - `thundering` : `0`\n",
       " - `WasModded` : `1`\n",
       " - `BorderWarningTime` : `15.0`\n",
       " - `WanderingTraderSpawnChance` : `50`\n",
       " - `SpawnY` : `68`\n",
       " - `SpawnZ` : `144`\n",
       " - `BorderSizeLerpTime` : `0`\n",
       " - `raining` : `0`\n",
       " - `WorldGenSettings` : (4 items)\n",
       " - `rainTime` : `39986`\n",
       " - `DataPacks` : \n",
       "\t\n",
       "\t - `0` : `\"Disabled\"`\n",
       "\t - `1` : `\"Enabled\"`\n",
       " - `DataVersion` : `3120`\n",
       " - `GameRules` : (36 items)\n",
       " - `DragonFight` : (6 items)\n",
       " - `Player` : (46 items)\n",
       " - `DifficultyLocked` : `0`\n",
       " - `DayTime` : `87432669`\n",
       " - `BorderCenterZ` : `0.0`\n",
       " - `BorderSizeLerpTarget` : `59999968.0`\n",
       " - `Version` : (4 items)\n",
       " - `CustomBossEvents` : \n",
       "\t\n",
       "\t - `0` : `\"multiplayer_sleep:preview\"`\n",
       "\t - `1` : `\"multiplayer_sleep:progress\"`"
      ],
      "text/plain": [
       "<IPython.core.display.Markdown object>"
      ]
     },
     "metadata": {},
     "output_type": "display_data"
    }
   ],
   "source": [
    "summarize_keystore(level[\"Data\"])"
   ]
  },
  {
   "cell_type": "markdown",
   "id": "2780bb35-7234-4aa7-bbf5-53eb14075690",
   "metadata": {},
   "source": [
    "So indeed, I see a key for \"WorldGenSettings\""
   ]
  },
  {
   "cell_type": "code",
   "execution_count": 7,
   "id": "05e64770-664e-4551-ba96-389175b400ca",
   "metadata": {},
   "outputs": [
    {
     "data": {
      "text/markdown": [
       "\n",
       " - `bonus_chest` : `1`\n",
       " - `seed` : `5569739623460313880`\n",
       " - `generate_features` : `1`\n",
       " - `dimensions` : (3 items)"
      ],
      "text/plain": [
       "<IPython.core.display.Markdown object>"
      ]
     },
     "metadata": {},
     "output_type": "display_data"
    }
   ],
   "source": [
    "summarize_keystore(level[\"Data\"][\"WorldGenSettings\"])"
   ]
  },
  {
   "cell_type": "code",
   "execution_count": 8,
   "id": "f7526f06-0fec-4415-9e89-cff2d4ea452f",
   "metadata": {},
   "outputs": [
    {
     "data": {
      "text/markdown": [
       "\n",
       " - `minecraft:the_nether` : \n",
       "\t\n",
       "\t - `0` : `\"type\"`\n",
       "\t - `1` : `\"generator\"`\n",
       " - `minecraft:overworld` : \n",
       "\t\n",
       "\t - `0` : `\"type\"`\n",
       "\t - `1` : `\"generator\"`\n",
       " - `minecraft:the_end` : \n",
       "\t\n",
       "\t - `0` : `\"type\"`\n",
       "\t - `1` : `\"generator\"`"
      ],
      "text/plain": [
       "<IPython.core.display.Markdown object>"
      ]
     },
     "metadata": {},
     "output_type": "display_data"
    }
   ],
   "source": [
    "summarize_keystore(level[\"Data\"][\"WorldGenSettings\"][\"dimensions\"])"
   ]
  },
  {
   "cell_type": "code",
   "execution_count": 9,
   "id": "40df4bad-d8b6-4107-86f0-86f07305c4d6",
   "metadata": {},
   "outputs": [
    {
     "data": {
      "text/markdown": [
       "#### minecraft:the_nether"
      ],
      "text/plain": [
       "<IPython.core.display.Markdown object>"
      ]
     },
     "metadata": {},
     "output_type": "display_data"
    },
    {
     "data": {
      "text/markdown": [
       "Type: minecraft:the_nether"
      ],
      "text/plain": [
       "<IPython.core.display.Markdown object>"
      ]
     },
     "metadata": {},
     "output_type": "display_data"
    },
    {
     "data": {
      "text/markdown": [
       "\n",
       " - `type` : `\"bclib:betterx\"`\n",
       " - `biome_source` : (3 items)\n",
       " - `settings` : `\"minecraft:nether\"`"
      ],
      "text/plain": [
       "<IPython.core.display.Markdown object>"
      ]
     },
     "metadata": {},
     "output_type": "display_data"
    },
    {
     "data": {
      "text/markdown": [
       "#### minecraft:overworld"
      ],
      "text/plain": [
       "<IPython.core.display.Markdown object>"
      ]
     },
     "metadata": {},
     "output_type": "display_data"
    },
    {
     "data": {
      "text/markdown": [
       "Type: minecraft:overworld"
      ],
      "text/plain": [
       "<IPython.core.display.Markdown object>"
      ]
     },
     "metadata": {},
     "output_type": "display_data"
    },
    {
     "data": {
      "text/markdown": [
       "\n",
       " - `type` : `\"minecraft:noise\"`\n",
       " - `biome_source` : \n",
       "\t\n",
       "\t - `0` : `\"type\"`\n",
       "\t - `1` : `\"preset\"`\n",
       " - `settings` : `\"minecraft:overworld\"`"
      ],
      "text/plain": [
       "<IPython.core.display.Markdown object>"
      ]
     },
     "metadata": {},
     "output_type": "display_data"
    },
    {
     "data": {
      "text/markdown": [
       "#### minecraft:the_end"
      ],
      "text/plain": [
       "<IPython.core.display.Markdown object>"
      ]
     },
     "metadata": {},
     "output_type": "display_data"
    },
    {
     "data": {
      "text/markdown": [
       "Type: minecraft:the_end"
      ],
      "text/plain": [
       "<IPython.core.display.Markdown object>"
      ]
     },
     "metadata": {},
     "output_type": "display_data"
    },
    {
     "data": {
      "text/markdown": [
       "\n",
       " - `type` : `\"minecraft:noise\"`\n",
       " - `biome_source` : (3 items)\n",
       " - `settings` : `\"minecraft:end\"`"
      ],
      "text/plain": [
       "<IPython.core.display.Markdown object>"
      ]
     },
     "metadata": {},
     "output_type": "display_data"
    }
   ],
   "source": [
    "for dimension, settings in level[\"Data\"][\"WorldGenSettings\"][\"dimensions\"].items():\n",
    "    display(Markdown(f\"#### {dimension}\"))\n",
    "    display(Markdown(f\"Type: {str(settings['type'])}\"))\n",
    "    summarize_keystore(settings[\"generator\"])"
   ]
  },
  {
   "cell_type": "markdown",
   "id": "24280cc7-4679-49c5-ab56-a322e92b7a28",
   "metadata": {},
   "source": [
    "Huh."
   ]
  },
  {
   "cell_type": "code",
   "execution_count": 10,
   "id": "20b4b3e7-0d06-491d-9be5-04497961cb57",
   "metadata": {},
   "outputs": [
    {
     "data": {
      "text/markdown": [
       "#### nether"
      ],
      "text/plain": [
       "<IPython.core.display.Markdown object>"
      ]
     },
     "metadata": {},
     "output_type": "display_data"
    },
    {
     "data": {
      "text/markdown": [
       "\n",
       " - `type` : `\"bclib:nether_biome_source\"`\n",
       " - `seed` : `5569739623460313880`\n",
       " - `config` : (4 items)"
      ],
      "text/plain": [
       "<IPython.core.display.Markdown object>"
      ]
     },
     "metadata": {},
     "output_type": "display_data"
    },
    {
     "data": {
      "text/markdown": [
       "#### end"
      ],
      "text/plain": [
       "<IPython.core.display.Markdown object>"
      ]
     },
     "metadata": {},
     "output_type": "display_data"
    },
    {
     "data": {
      "text/markdown": [
       "\n",
       " - `type` : `\"bclib:end_biome_source\"`\n",
       " - `seed` : `5569739623460313880`\n",
       " - `config` : (8 items)"
      ],
      "text/plain": [
       "<IPython.core.display.Markdown object>"
      ]
     },
     "metadata": {},
     "output_type": "display_data"
    }
   ],
   "source": [
    "for dimension in (\"nether\", \"end\"):\n",
    "    display(Markdown(f\"#### {dimension}\"))\n",
    "    settings = level[\"Data\"][\"WorldGenSettings\"][\"dimensions\"][\n",
    "        f\"minecraft:the_{dimension}\"\n",
    "    ]\n",
    "    summarize_keystore(settings[\"generator\"][\"biome_source\"])"
   ]
  },
  {
   "cell_type": "markdown",
   "id": "9829da81-900f-47e2-befc-7c47c1080510",
   "metadata": {},
   "source": [
    "_We need to go deeper!_"
   ]
  },
  {
   "cell_type": "code",
   "execution_count": 11,
   "id": "b2438978-2825-4bb6-9906-ad38fcf7bff3",
   "metadata": {},
   "outputs": [
    {
     "data": {
      "text/markdown": [
       "#### nether"
      ],
      "text/plain": [
       "<IPython.core.display.Markdown object>"
      ]
     },
     "metadata": {},
     "output_type": "display_data"
    },
    {
     "data": {
      "text/markdown": [
       "\n",
       " - `biome_size_vertical` : `86`\n",
       " - `biome_size` : `256`\n",
       " - `use_vertical_biomes` : `1`\n",
       " - `map_type` : `\"hex\"`"
      ],
      "text/plain": [
       "<IPython.core.display.Markdown object>"
      ]
     },
     "metadata": {},
     "output_type": "display_data"
    },
    {
     "data": {
      "text/markdown": [
       "#### end"
      ],
      "text/plain": [
       "<IPython.core.display.Markdown object>"
      ]
     },
     "metadata": {},
     "output_type": "display_data"
    },
    {
     "data": {
      "text/markdown": [
       "\n",
       " - `with_void_biomes` : `1`\n",
       " - `generator_version` : `\"paulevs\"`\n",
       " - `land_biomes_size` : `256`\n",
       " - `barrens_biomes_size` : `256`\n",
       " - `inner_void_radius_squared` : `1048576`\n",
       " - `void_biomes_size` : `256`\n",
       " - `map_type` : `\"hex\"`\n",
       " - `center_biomes_size` : `256`"
      ],
      "text/plain": [
       "<IPython.core.display.Markdown object>"
      ]
     },
     "metadata": {},
     "output_type": "display_data"
    }
   ],
   "source": [
    "for dimension in (\"nether\", \"end\"):\n",
    "    display(Markdown(f\"#### {dimension}\"))\n",
    "    settings = level[\"Data\"][\"WorldGenSettings\"][\"dimensions\"][\n",
    "        f\"minecraft:the_{dimension}\"\n",
    "    ]\n",
    "    summarize_keystore(settings[\"generator\"][\"biome_source\"][\"config\"])"
   ]
  },
  {
   "cell_type": "markdown",
   "id": "d778bc6d-bf6e-4a55-b94b-9532217ad934",
   "metadata": {},
   "source": [
    "Okay, so this confirms that we are using a nonstandard generator for the Nether, and also that the generators can be set separately for each dimension. So _theoretically_ I should be able to overwrite the worldgen settings and be on my way for any new chunks (or any existing chunks I prune with MCASelector).\n",
    "\n",
    "To do this I'm gonna need a copy of a \"good\" config. Luckily, I have a vanilla world I can work with."
   ]
  },
  {
   "cell_type": "markdown",
   "id": "afb9d95b-4f9f-463f-a57a-b7b45bbb0aac",
   "metadata": {},
   "source": [
    "## Well, not quite \"vanilla\"\n",
    "\n",
    "You see, I was experimenting with my own custom world gen settings the other day to see if I could have a single save with multiple overworlds and nethers, thus allowing me to create a kind of \"parallel universe\" map.\n",
    "\n",
    "Results were mixed--you can _absolutely_ specify \"extra\" overworlds, nethers (and ends) using datapacks alone, and you can import the chunk data from another world save as these extra dimensions, but:\n",
    "- you won't be able to light portals in the extra dimensions\n",
    "- if you have an _already lit_ portal in those extra dimensions, they'll take you to the _original_ Nether / Overworld / End (that is, portal destination dimension is hard-coded).\n",
    "\n",
    "So that's an idea I'll come back to. But in the meantime, because I wanted to minimize the number of variables, this was done in an almost purely vanilla instance--I'm not even using Sodium. So that should be the perfect \"donor\" for the NBT data I need."
   ]
  },
  {
   "cell_type": "markdown",
   "id": "a29b0559-e71d-4cd7-ab04-f88dfc858768",
   "metadata": {},
   "source": [
    "<div class=\"alert alert-info\" >\n",
    "<h3>Quick note</h3>\n",
    "Yes, I'm aware I can <i>export</i> worldgen settings from another world. What I'm not clear on is whether I can then <i>import them back</i> into an existing world in a permanent way.\n",
    "</div>"
   ]
  },
  {
   "cell_type": "code",
   "execution_count": 12,
   "id": "0e0a1703-8996-464f-9498-b8448b0c6628",
   "metadata": {},
   "outputs": [
    {
     "name": "stdout",
     "output_type": "stream",
     "text": [
      "- DIM-1 (folder)\n",
      "- DIM1 (folder)\n",
      "- advancements (folder)\n",
      "- data (folder)\n",
      "- datapacks (folder)\n",
      "- dimensions (folder)\n",
      "- entities (folder)\n",
      "- icon.png (10.1 KB)\n",
      "- level.dat (2.3 KB)\n",
      "- level.dat_old (2.3 KB)\n",
      "- playerdata (folder)\n",
      "- poi (folder)\n",
      "- region (folder)\n",
      "- session.lock (3.0 B)\n",
      "- stats (folder)\n"
     ]
    }
   ],
   "source": [
    "donor_save_folder = Path(environ[\"SAVE_PATH\"]) / \"..\" / \"EverywhereAtOnce\"\n",
    "\n",
    "# make sure this is set correctly\n",
    "for path in sorted(donor_save_folder.glob(\"*\")):\n",
    "    print(f\"- {path.name} ({'folder' if path.is_dir() else format_file_size(path)})\")"
   ]
  },
  {
   "cell_type": "code",
   "execution_count": 13,
   "id": "cc18e0e6-833d-4377-9d1f-5de20bfd5c5e",
   "metadata": {},
   "outputs": [
    {
     "name": "stdout",
     "output_type": "stream",
     "text": [
      "CPU times: user 3.26 ms, sys: 0 ns, total: 3.26 ms\n",
      "Wall time: 2.74 ms\n"
     ]
    }
   ],
   "source": [
    "%%time\n",
    "donor_level = nbt.NBTFile(donor_save_folder / \"level.dat\")"
   ]
  },
  {
   "cell_type": "code",
   "execution_count": 14,
   "id": "8d49d216-85a5-42d1-88ae-b38d6be9fba0",
   "metadata": {},
   "outputs": [
    {
     "data": {
      "text/markdown": [
       "#### Nether Worldgen Settings"
      ],
      "text/plain": [
       "<IPython.core.display.Markdown object>"
      ]
     },
     "metadata": {},
     "output_type": "display_data"
    },
    {
     "data": {
      "text/markdown": [
       "\n",
       " - `generator` : (3 items)\n",
       " - `type` : `\"minecraft:the_nether\"`"
      ],
      "text/plain": [
       "<IPython.core.display.Markdown object>"
      ]
     },
     "metadata": {},
     "output_type": "display_data"
    },
    {
     "data": {
      "text/markdown": [
       "#### Nether Generator Settings"
      ],
      "text/plain": [
       "<IPython.core.display.Markdown object>"
      ]
     },
     "metadata": {},
     "output_type": "display_data"
    },
    {
     "data": {
      "text/markdown": [
       "\n",
       " - `settings` : `\"minecraft:nether\"`\n",
       " - `biome_source` : \n",
       "\t\n",
       "\t - `0` : `\"preset\"`\n",
       "\t - `1` : `\"type\"`\n",
       " - `type` : `\"minecraft:noise\"`"
      ],
      "text/plain": [
       "<IPython.core.display.Markdown object>"
      ]
     },
     "metadata": {},
     "output_type": "display_data"
    },
    {
     "data": {
      "text/markdown": [
       "#### Nether Biome Source Settings"
      ],
      "text/plain": [
       "<IPython.core.display.Markdown object>"
      ]
     },
     "metadata": {},
     "output_type": "display_data"
    },
    {
     "data": {
      "text/markdown": [
       "\n",
       " - `preset` : `\"minecraft:nether\"`\n",
       " - `type` : `\"minecraft:multi_noise\"`"
      ],
      "text/plain": [
       "<IPython.core.display.Markdown object>"
      ]
     },
     "metadata": {},
     "output_type": "display_data"
    }
   ],
   "source": [
    "display(Markdown(\"#### Nether Worldgen Settings\"))\n",
    "summarize_keystore(\n",
    "    settings := donor_level[\"Data\"][\"WorldGenSettings\"][\"dimensions\"][\n",
    "        \"minecraft:the_nether\"\n",
    "    ]\n",
    ")\n",
    "display(Markdown(\"#### Nether Generator Settings\"))\n",
    "summarize_keystore(settings := settings[\"generator\"])\n",
    "display(Markdown(\"#### Nether Biome Source Settings\"))\n",
    "summarize_keystore(settings := settings[\"biome_source\"])"
   ]
  },
  {
   "cell_type": "markdown",
   "id": "ba8fce1f-5c5b-4864-a978-b845c36a1698",
   "metadata": {},
   "source": [
    "And now for the transplant..."
   ]
  },
  {
   "cell_type": "code",
   "execution_count": 15,
   "id": "d867932a-6260-45e9-a1c5-45eb47d6c53f",
   "metadata": {},
   "outputs": [],
   "source": [
    "level[\"Data\"][\"WorldGenSettings\"][\"dimensions\"][\"minecraft:the_nether\"] = donor_level[\n",
    "    \"Data\"\n",
    "][\"WorldGenSettings\"][\"dimensions\"][\"minecraft:the_nether\"]"
   ]
  },
  {
   "cell_type": "code",
   "execution_count": 16,
   "id": "0d8b70b9-1db9-4fca-b01a-c96501035b1c",
   "metadata": {},
   "outputs": [],
   "source": [
    "level.write_file(save_folder / \"level.dat\")"
   ]
  },
  {
   "cell_type": "markdown",
   "id": "53cb2aff-14ca-4060-bcec-347c16c9cdcd",
   "metadata": {},
   "source": [
    "Let's see if that took."
   ]
  },
  {
   "cell_type": "code",
   "execution_count": 18,
   "id": "911ac545-6487-40f3-b179-005ef65540db",
   "metadata": {},
   "outputs": [
    {
     "data": {
      "text/markdown": [
       "\n",
       " - `generator` : (3 items)\n",
       " - `type` : `\"minecraft:the_nether\"`"
      ],
      "text/plain": [
       "<IPython.core.display.Markdown object>"
      ]
     },
     "metadata": {},
     "output_type": "display_data"
    },
    {
     "name": "stdout",
     "output_type": "stream",
     "text": [
      "CPU times: user 23.3 ms, sys: 0 ns, total: 23.3 ms\n",
      "Wall time: 22.7 ms\n"
     ]
    }
   ],
   "source": [
    "%%time\n",
    "level = nbt.NBTFile(save_folder / \"level.dat\")\n",
    "summarize_keystore(\n",
    "    level[\"Data\"][\"WorldGenSettings\"][\"dimensions\"][\"minecraft:the_nether\"]\n",
    ")"
   ]
  },
  {
   "cell_type": "code",
   "execution_count": 18,
   "id": "7955cb81-6f7d-4c78-ad12-9c5997ca2ef8",
   "metadata": {},
   "outputs": [
    {
     "data": {
      "text/markdown": [
       "\n",
       " - `settings` : `\"minecraft:nether\"`\n",
       " - `biome_source` : \n",
       "\t\n",
       "\t - `0` : `\"preset\"`\n",
       "\t - `1` : `\"type\"`\n",
       " - `type` : `\"minecraft:noise\"`"
      ],
      "text/plain": [
       "<IPython.core.display.Markdown object>"
      ]
     },
     "metadata": {},
     "output_type": "display_data"
    }
   ],
   "source": [
    "summarize_keystore(\n",
    "    level[\"Data\"][\"WorldGenSettings\"][\"dimensions\"][\"minecraft:the_nether\"][\"generator\"]\n",
    ")"
   ]
  },
  {
   "cell_type": "markdown",
   "id": "4ef50f01-e5e2-4edb-8dcd-87b0a0545b4f",
   "metadata": {},
   "source": [
    "Yep. Looks good. Now let's see if BCLib will behave itself..."
   ]
  },
  {
   "cell_type": "markdown",
   "id": "7d034a26-8759-4a6f-9fc6-17072eec5fe7",
   "metadata": {},
   "source": [
    "Nope. From the logs:"
   ]
  },
  {
   "cell_type": "markdown",
   "id": "25cb51dd-d449-4711-aca6-c81798e41448",
   "metadata": {},
   "source": [
    "```\n",
    "[22:29:54] [Render thread/INFO]: [bclib] Loading from builtin Registry\n",
    "[22:29:54] [Render thread/INFO]: [bclib] Running Pre Patchers on /home/openbagtwo/.minecraft/saves/Esha Ness/.\n",
    "[22:29:54] [Render thread/INFO]: [DataFixerAPI] Everything up to date\n",
    "[22:29:55] [Render thread/INFO]: [fabric-registry-sync] Loaded registry data [file 1/4]\n",
    "[22:29:55] [Render thread/INFO]: [bclib] Loading from datapack Registry\n",
    "[22:29:55] [Render thread/INFO]: [bclib] Enforcing Correct Generator for minecraft:the_nether.\n",
    "```"
   ]
  },
  {
   "cell_type": "markdown",
   "id": "ce0d8bf2-4559-4289-9b63-b20abe168c73",
   "metadata": {},
   "source": [
    "And indeed:"
   ]
  },
  {
   "cell_type": "code",
   "execution_count": 19,
   "id": "ab3e17a6-1c2e-4515-9cde-c4b8995c0e54",
   "metadata": {},
   "outputs": [
    {
     "data": {
      "text/markdown": [
       "\n",
       " - `type` : `\"minecraft:the_nether\"`\n",
       " - `generator` : (3 items)"
      ],
      "text/plain": [
       "<IPython.core.display.Markdown object>"
      ]
     },
     "metadata": {},
     "output_type": "display_data"
    },
    {
     "data": {
      "text/markdown": [
       "\n",
       " - `type` : `\"bclib:betterx\"`\n",
       " - `biome_source` : (3 items)\n",
       " - `settings` : `\"minecraft:nether\"`"
      ],
      "text/plain": [
       "<IPython.core.display.Markdown object>"
      ]
     },
     "metadata": {},
     "output_type": "display_data"
    },
    {
     "name": "stdout",
     "output_type": "stream",
     "text": [
      "CPU times: user 49.2 ms, sys: 0 ns, total: 49.2 ms\n",
      "Wall time: 47.8 ms\n"
     ]
    }
   ],
   "source": [
    "%%time\n",
    "level = nbt.NBTFile(save_folder / \"level.dat\")\n",
    "summarize_keystore(\n",
    "    level[\"Data\"][\"WorldGenSettings\"][\"dimensions\"][\"minecraft:the_nether\"]\n",
    ")\n",
    "summarize_keystore(\n",
    "    level[\"Data\"][\"WorldGenSettings\"][\"dimensions\"][\"minecraft:the_nether\"][\"generator\"]\n",
    ")"
   ]
  },
  {
   "cell_type": "markdown",
   "id": "3c3ac2f7-60d3-4b81-b08f-5641d06f22e9",
   "metadata": {},
   "source": [
    "Bug or an additional setting I need to flip? Luckily I've got logger messages to help me find out."
   ]
  }
 ],
 "metadata": {
  "kernelspec": {
   "display_name": "Python 3 (ipykernel)",
   "language": "python",
   "name": "python3"
  },
  "language_info": {
   "codemirror_mode": {
    "name": "ipython",
    "version": 3
   },
   "file_extension": ".py",
   "mimetype": "text/x-python",
   "name": "python",
   "nbconvert_exporter": "python",
   "pygments_lexer": "ipython3",
   "version": "3.10.6"
  }
 },
 "nbformat": 4,
 "nbformat_minor": 5
}
